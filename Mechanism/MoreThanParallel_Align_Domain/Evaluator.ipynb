{
 "cells": [
  {
   "cell_type": "code",
   "execution_count": 2,
   "metadata": {
    "collapsed": true,
    "ExecuteTime": {
     "end_time": "2023-12-08T05:22:45.064881400Z",
     "start_time": "2023-12-08T05:22:44.041431300Z"
    }
   },
   "outputs": [],
   "source": [
    "import matplotlib.pyplot as plt\n",
    "import numpy as np\n",
    "import pickle\n",
    "legend_properties = {'weight':'bold'}\n",
    "nus_blue = \"#003D7C\"\n",
    "nus_orange = \"#EF7C00\"\n",
    "# Nature three colors\n",
    "nature_orange = \"#F16C23\"\n",
    "nature_blue = \"#2B6A99\"\n",
    "nature_green = \"#1B7C3D\"\n",
    "# Morandi six colors\n",
    "morandi_blue = \"#046586\"\n",
    "morandi_green =  \"#28A9A1\"\n",
    "morandi_yellow = \"#C9A77C\"\n",
    "morandi_orange = \"#F4A016\"\n",
    "morandi_pink = \"#F6BBC6\"\n",
    "morandi_red = \"#E71F19\"\n",
    "morandi_purple = \"#B08BEB\"\n",
    "# Others\n",
    "shallow_grey = \"#D3D4D3\"\n",
    "deep_grey = \"#A6ABB6\"\n",
    "# Red and Blue\n",
    "strong_red = \"#A61C5D\"\n",
    "strong_blue = \"#1B64A4\"\n",
    "\n",
    "# Shallow-deep pair\n",
    "shallow_purple = \"#EAD7EA\"\n",
    "deep_purple = \"#BA9DB9\"\n",
    "shallow_cyan = \"#A9D5E0\"\n",
    "deep_cyan = \"#48C0BF\"\n",
    "shallow_blue = \"#B6DAEC\"\n",
    "deep_blue = \"#98CFE4\"\n",
    "shallow_pink = \"#F5E0E5\"\n",
    "deep_pink = \"#E5A7B6\"\n",
    "shallow_green = \"#C2DED0\"\n",
    "deep_green = \"#A5C6B1\"\n",
    "\n",
    "color_pairs = [[shallow_purple, deep_purple],  [shallow_green, deep_green],\n",
    "               [shallow_blue, deep_blue], [shallow_pink, deep_pink], [shallow_cyan, deep_cyan],\n",
    "               [shallow_grey, deep_grey]]\n",
    "morandi_colors = [morandi_blue, morandi_green, morandi_yellow, morandi_orange, morandi_pink, morandi_red, morandi_purple]"
   ]
  },
  {
   "cell_type": "code",
   "execution_count": 3,
   "outputs": [
    {
     "name": "stdout",
     "output_type": "stream",
     "text": [
      "[0.17652777777777778, 0.25625, 0.3209722222222222, 0.35305555555555557, 0.40222222222222226, 0.41986111111111113, 0.43972222222222224, 0.4454166666666667, 0.4511111111111111]\n",
      "[4.7475, 6.48, 8.0375, 9.3325, 9.645, 10.29, 9.95, 10.1025, 9.85]\n",
      "[5.895, 8.2425, 10.3075, 11.26, 11.8125, 12.6225, 12.0625, 12.0125, 11.5125]\n",
      "[7.385, 10.0025, 11.8775, 13.2225, 14.155, 14.4575, 14.08, 13.7275, 13.3175]\n"
     ]
    }
   ],
   "source": [
    "GG_data_folder = r\"E:\\data\\gst-0815-23\\Socialization_partial_solution\\MoreThanParallel_Align_Domain_1\"\n",
    "result_folder = GG_data_folder\n",
    "GS_data_folder = GG_data_folder\n",
    "SS_data_folder = GG_data_folder\n",
    "SG_data_folder = GG_data_folder\n",
    "# GS_data_folder = r\"E:\\data\\gst-0815-23\\Socialization_partial_solution\\MoreThanParallel\\MoreThanParallel_GS\"\n",
    "# SS_data_folder = r\"E:\\data\\gst-0815-23\\Socialization_partial_solution\\MoreThanParallel\\MoreThanParallel_SS\"\n",
    "# SG_data_folder = r\"E:\\data\\gst-0815-23\\Socialization_partial_solution\\MoreThanParallel\\MoreThanParallel_SG\"\n",
    "agent_num_list = np.arange(50, 600, step=50, dtype=int).tolist()\n",
    "gg_fitness_across_K_size, gg_best_across_K_size, gg_variance_across_K_size, gg_diversity_across_K_size = [], [], [], []\n",
    "gs_fitness_across_K_size, gs_best_across_K_size, gs_variance_across_K_size, gs_diversity_across_K_size = [], [], [], []\n",
    "ss_fitness_across_K_size, ss_best_across_K_size, ss_variance_across_K_size, ss_diversity_across_K_size = [], [], [], []\n",
    "sg_fitness_across_K_size, sg_best_across_K_size, sg_variance_across_K_size, sg_diversity_across_K_size = [], [], [], []\n",
    "for agent_num in agent_num_list:\n",
    "    gg_performance_file = GG_data_folder + r\"\\gg_performance_across_K_size_{0}\".format(agent_num)\n",
    "    gg_best_performance_file = GG_data_folder + r\"\\gg_best_performance_across_K_size_{0}\".format(agent_num)\n",
    "    gg_diversity_file = GG_data_folder + r\"\\gg_diversity_across_K_size_{0}\".format(agent_num)\n",
    "    gg_variance_file = GG_data_folder + r\"\\gg_variance_across_K_size_{0}\".format(agent_num)\n",
    "\n",
    "    gs_performance_file = GS_data_folder + r\"\\gs_performance_across_K_size_{0}\".format(agent_num)\n",
    "    gs_best_performance_file = GS_data_folder + r\"\\gs_best_performance_across_K_size_{0}\".format(agent_num)\n",
    "    gs_diversity_file = GS_data_folder + r\"\\gs_diversity_across_K_size_{0}\".format(agent_num)\n",
    "    gs_variance_file = GS_data_folder + r\"\\gs_variance_across_K_size_{0}\".format(agent_num)\n",
    "    \n",
    "    ss_performance_file = SS_data_folder + r\"\\ss_performance_across_K_size_{0}\".format(agent_num)\n",
    "    ss_best_performance_file = SS_data_folder + r\"\\ss_best_performance_across_K_size_{0}\".format(agent_num)\n",
    "    ss_diversity_file = SS_data_folder + r\"\\ss_diversity_across_K_size_{0}\".format(agent_num)\n",
    "    ss_variance_file = SS_data_folder + r\"\\ss_variance_across_K_size_{0}\".format(agent_num)\n",
    "    \n",
    "    sg_performance_file = SG_data_folder + r\"\\sg_performance_across_K_size_{0}\".format(agent_num)\n",
    "    sg_best_performance_file = SG_data_folder + r\"\\sg_best_performance_across_K_size_{0}\".format(agent_num)\n",
    "    sg_diversity_file = SG_data_folder + r\"\\sg_diversity_across_K_size_{0}\".format(agent_num)\n",
    "    sg_variance_file = SG_data_folder + r\"\\sg_variance_across_K_size_{0}\".format(agent_num)\n",
    "    \n",
    "    with open(gg_performance_file, 'rb') as infile:\n",
    "        gg_fitness = pickle.load(infile)\n",
    "    with open(gg_best_performance_file, 'rb') as infile:\n",
    "        gg_best_performance = pickle.load(infile)\n",
    "    with open(gg_variance_file, 'rb') as infile:\n",
    "        gg_variance = pickle.load(infile)\n",
    "    with open(gg_diversity_file, 'rb') as infile:\n",
    "        gg_diversity = pickle.load(infile)\n",
    "\n",
    "    with open(gs_performance_file, 'rb') as infile:\n",
    "        gs_fitness = pickle.load(infile)\n",
    "    with open(gs_best_performance_file, 'rb') as infile:\n",
    "        gs_best_performance = pickle.load(infile)\n",
    "    with open(gs_variance_file, 'rb') as infile:\n",
    "        gs_variance = pickle.load(infile)\n",
    "    with open(gs_diversity_file, 'rb') as infile:\n",
    "        gs_diversity = pickle.load(infile)\n",
    "\n",
    "    with open(ss_performance_file, 'rb') as infile:\n",
    "        ss_fitness = pickle.load(infile)\n",
    "    with open(ss_best_performance_file, 'rb') as infile:\n",
    "        ss_best_performance = pickle.load(infile)\n",
    "    with open(ss_variance_file, 'rb') as infile:\n",
    "        ss_variance = pickle.load(infile)\n",
    "    with open(ss_diversity_file, 'rb') as infile:\n",
    "        ss_diversity = pickle.load(infile)\n",
    "\n",
    "    with open(sg_performance_file, 'rb') as infile:\n",
    "        sg_fitness = pickle.load(infile)\n",
    "    with open(sg_best_performance_file, 'rb') as infile:\n",
    "        sg_best_performance = pickle.load(infile)\n",
    "    with open(sg_variance_file, 'rb') as infile:\n",
    "        sg_variance = pickle.load(infile)\n",
    "    with open(sg_diversity_file, 'rb') as infile:\n",
    "        sg_diversity = pickle.load(infile)\n",
    "    \n",
    "    gg_fitness_across_K_size.append(gg_fitness)\n",
    "    gg_best_across_K_size.append(gg_best_performance)\n",
    "    gg_variance_across_K_size.append(gg_variance)\n",
    "    gg_diversity_across_K_size.append(gg_diversity)\n",
    "    \n",
    "    gs_fitness_across_K_size.append(gs_fitness)\n",
    "    gs_best_across_K_size.append(gs_best_performance)\n",
    "    gs_variance_across_K_size.append(gs_variance)\n",
    "    gs_diversity_across_K_size.append(gs_diversity)\n",
    "    \n",
    "    ss_fitness_across_K_size.append(ss_fitness)\n",
    "    ss_best_across_K_size.append(ss_best_performance)\n",
    "    ss_variance_across_K_size.append(ss_variance)\n",
    "    ss_diversity_across_K_size.append(ss_diversity)\n",
    "    \n",
    "    sg_fitness_across_K_size.append(sg_fitness)\n",
    "    sg_best_across_K_size.append(sg_best_performance)\n",
    "    sg_variance_across_K_size.append(sg_variance)\n",
    "    sg_diversity_across_K_size.append(sg_diversity)\n",
    "    \n",
    "print([each / 18 for each in gg_diversity_across_K_size[0]])\n",
    "print(gg_diversity_across_K_size[1])\n",
    "print(gg_diversity_across_K_size[2])\n",
    "print(gg_diversity_across_K_size[3])"
   ],
   "metadata": {
    "collapsed": false,
    "ExecuteTime": {
     "end_time": "2023-12-08T05:22:45.170918200Z",
     "start_time": "2023-12-08T05:22:45.074912100Z"
    }
   }
  },
  {
   "cell_type": "code",
   "execution_count": 5,
   "outputs": [
    {
     "name": "stdout",
     "output_type": "stream",
     "text": [
      "[1.685, 14.1525, 31.37, 41.26, 45.8625, 47.765, 48.66, 49.1575, 49.3725]\n",
      "[2.31, 16.8075, 47.4075, 72.05, 85.1975, 91.6675, 94.9725, 96.4425, 97.2425]\n"
     ]
    }
   ],
   "source": [
    "# Baseline: independent search in reproducing parallel search\n",
    "baseline_folder = r\"E:\\data\\gst-0815-23\\Pre-Test\\Parallel_Search_Align_Domain_2\"\n",
    "g_diversity_across_K_size, s_diversity_across_K_size = [], []\n",
    "for agent_num in agent_num_list:\n",
    "    # g_best_performance_file = baseline_folder + r\"\\g_best_performance_across_K_size_{0}\".format(agent_num)\n",
    "    # s_best_performance_file = baseline_folder + r\"\\s_best_performance_across_K_size_{0}\".format(agent_num)\n",
    "\n",
    "    g_diversity_file = baseline_folder + r\"\\g_partial_unique_diversity_across_K_size_{0}\".format(agent_num)\n",
    "    s_diversity_file = baseline_folder + r\"\\s_partial_unique_diversity_across_K_size_{0}\".format(agent_num)\n",
    "\n",
    "    with open(g_diversity_file, 'rb') as infile:\n",
    "        g_diversity = pickle.load(infile)\n",
    "    with open(s_diversity_file, 'rb') as infile:\n",
    "        s_diversity = pickle.load(infile)\n",
    "    g_diversity_across_K_size.append(g_diversity)\n",
    "    s_diversity_across_K_size.append(s_diversity)\n",
    "print(s_diversity_across_K_size[0])\n",
    "print(s_diversity_across_K_size[1])"
   ],
   "metadata": {
    "collapsed": false,
    "ExecuteTime": {
     "end_time": "2023-12-08T05:23:07.434371100Z",
     "start_time": "2023-12-08T05:23:07.401389700Z"
    }
   }
  },
  {
   "cell_type": "code",
   "execution_count": null,
   "outputs": [],
   "source": [
    "# G Diversity\n",
    "for index in range(9):\n",
    "    g1_diversity_across_size, g2_diversity_across_size = [], []\n",
    "    for g1_diversity, g2_diversity in zip(gg_diversity_across_K_size, sg_diversity_across_K_size):\n",
    "        g1_diversity_across_size.append(g1_diversity[index])\n",
    "        g2_diversity_across_size.append(g2_diversity[index])\n",
    "    \n",
    "    s1_diversity_across_size, s2_diversity_across_size = [], []\n",
    "    for s1_diversity, s2_diversity in zip(ss_diversity_across_K_size, gs_diversity_across_K_size):\n",
    "        s1_diversity_across_size.append(s1_diversity[index])\n",
    "        s2_diversity_across_size.append(s2_diversity[index])\n",
    "        \n",
    "    g_diversity_baseline_across_size, s_diversity_baseline_across_size = [], []\n",
    "    for g_diversity_baseline, s_diversity_baseline in zip(g_diversity_across_K_size, s_diversity_across_K_size):\n",
    "        g_diversity_baseline_across_size.append(g_diversity_baseline[index])\n",
    "        s_diversity_baseline_across_size.append(s_diversity_baseline[index])\n",
    "    \n",
    "    # offset = 1.5\n",
    "    # g1_diversity_across_size = [a * b + offset for a, b in zip(agent_num_list, g1_diversity_across_size)]\n",
    "    # g2_diversity_across_size = [a * b - offset for a, b in zip(agent_num_list, g2_diversity_across_size)]\n",
    "    # s1_diversity_across_size = [a * b + offset for a, b in zip(agent_num_list, s1_diversity_across_size)]\n",
    "    # s2_diversity_across_size = [a * b - offset for a, b in zip(agent_num_list, s2_diversity_across_size)]\n",
    "    # g_diversity_baseline_across_size = [a * b + offset for a, b in zip(agent_num_list, g_diversity_baseline_across_size)]\n",
    "    # s_diversity_baseline_across_size = [a * b - offset for a, b in zip(agent_num_list, s_diversity_baseline_across_size)]\n",
    "    \n",
    "    x = agent_num_list\n",
    "    fig, ax = plt.subplots()\n",
    "    ax.spines[\"left\"].set_linewidth(1.5)\n",
    "    ax.spines[\"right\"].set_linewidth(1.5)\n",
    "    ax.spines[\"top\"].set_linewidth(1.5)\n",
    "    ax.spines[\"bottom\"].set_linewidth(1.5)\n",
    "    plt.plot(x, g1_diversity_across_size, \"-\", marker='v', label=\"GG\", color=nature_blue)\n",
    "    plt.plot(x, g2_diversity_across_size, \"-\", marker='s', label=\"SG\", color=nature_orange)\n",
    "    plt.plot(x, g_diversity_baseline_across_size, \"-\", marker='o', label=\"G\", color=\"grey\")\n",
    "    \n",
    "    # plt.plot(x, s1_diversity_across_size, \"-\", label=\"S1\", color=nature_orange)\n",
    "    # plt.plot(x, s2_diversity_across_size, \"--\", label=\"S2\", color=nature_orange)\n",
    "    # plt.plot(x, s_diversity_baseline_across_size, \":\", label=\"S\", color=nature_orange)\n",
    "    \n",
    "    plt.xlabel('Size', fontweight='bold', fontsize=12)\n",
    "    plt.ylabel('Diversity', fontweight='bold', fontsize=12)\n",
    "    # plt.xticks(x)\n",
    "    plt.title(\"$K={0}$\".format(index))\n",
    "    plt.legend(frameon=False, ncol=1, fontsize=12)\n",
    "    plt.savefig(result_folder + r\"\\Results\\G_diversity_K_{0}.png\".format(index), transparent=True, dpi=300)\n",
    "    plt.show()"
   ],
   "metadata": {
    "collapsed": false,
    "ExecuteTime": {
     "start_time": "2023-12-08T05:22:45.252042100Z"
    }
   }
  },
  {
   "cell_type": "code",
   "execution_count": null,
   "outputs": [],
   "source": [
    "# S Diversity\n",
    "for index in range(9):\n",
    "    ss_diversity_across_size, gs_diversity_across_size = [], []\n",
    "    for ss_diversity, gs_diversity in zip(ss_diversity_across_K_size, gs_diversity_across_K_size):\n",
    "        ss_diversity_across_size.append(ss_diversity[index])\n",
    "        gs_diversity_across_size.append(gs_diversity[index])\n",
    "        \n",
    "    g_diversity_baseline_across_size, s_diversity_baseline_across_size = [], []\n",
    "    for g_diversity_baseline, s_diversity_baseline in zip(g_diversity_across_K_size, s_diversity_across_K_size):\n",
    "        g_diversity_baseline_across_size.append(g_diversity_baseline[index])\n",
    "        s_diversity_baseline_across_size.append(s_diversity_baseline[index])\n",
    "    \n",
    "    # offset = 1.5\n",
    "    # g1_diversity_across_size = [a * b + offset for a, b in zip(agent_num_list, g1_diversity_across_size)]\n",
    "    # g2_diversity_across_size = [a * b - offset for a, b in zip(agent_num_list, g2_diversity_across_size)]\n",
    "    # s1_diversity_across_size = [a * b + offset for a, b in zip(agent_num_list, s1_diversity_across_size)]\n",
    "    # s2_diversity_across_size = [a * b - offset for a, b in zip(agent_num_list, s2_diversity_across_size)]\n",
    "    # g_diversity_baseline_across_size = [a * b + offset for a, b in zip(agent_num_list, g_diversity_baseline_across_size)]\n",
    "    # s_diversity_baseline_across_size = [a * b - offset for a, b in zip(agent_num_list, s_diversity_baseline_across_size)]\n",
    "    \n",
    "    x = agent_num_list\n",
    "    fig, ax = plt.subplots()\n",
    "    ax.spines[\"left\"].set_linewidth(1.5)\n",
    "    ax.spines[\"right\"].set_linewidth(1.5)\n",
    "    ax.spines[\"top\"].set_linewidth(1.5)\n",
    "    ax.spines[\"bottom\"].set_linewidth(1.5)\n",
    "    plt.plot(x, ss_diversity_across_size, \"-\", marker='v', label=\"SS\", color=nature_blue)\n",
    "    plt.plot(x, gs_diversity_across_size, \"-\", marker='s', label=\"GS\", color=nature_orange)\n",
    "    plt.plot(x, s_diversity_baseline_across_size, \"-\", marker='o', label=\"S\", color=\"grey\")\n",
    "    \n",
    "    # plt.plot(x, s1_diversity_across_size, \"-\", label=\"S1\", color=nature_orange)\n",
    "    # plt.plot(x, s2_diversity_across_size, \"--\", label=\"S2\", color=nature_orange)\n",
    "    # plt.plot(x, s_diversity_baseline_across_size, \":\", label=\"S\", color=nature_orange)\n",
    "    \n",
    "    plt.xlabel('Size', fontweight='bold', fontsize=12)\n",
    "    plt.ylabel('Diversity', fontweight='bold', fontsize=12)\n",
    "    # plt.xticks(x)\n",
    "    plt.title(\"$K={0}$\".format(index))\n",
    "    plt.legend(frameon=False, ncol=1, fontsize=12)\n",
    "    plt.savefig(result_folder + r\"\\Results\\S_diversity_K_{0}.png\".format(index), transparent=True, dpi=300)\n",
    "    plt.show()"
   ],
   "metadata": {
    "collapsed": false,
    "ExecuteTime": {
     "end_time": "2023-12-08T05:22:45.257041500Z",
     "start_time": "2023-12-08T05:22:45.254043200Z"
    }
   }
  },
  {
   "cell_type": "code",
   "execution_count": null,
   "outputs": [],
   "source": [],
   "metadata": {
    "collapsed": false,
    "ExecuteTime": {
     "start_time": "2023-12-08T05:22:45.257041500Z"
    }
   }
  },
  {
   "cell_type": "code",
   "execution_count": null,
   "outputs": [],
   "source": [],
   "metadata": {
    "collapsed": false,
    "ExecuteTime": {
     "end_time": "2023-12-08T05:22:45.275040800Z",
     "start_time": "2023-12-08T05:22:45.258043300Z"
    }
   }
  }
 ],
 "metadata": {
  "kernelspec": {
   "name": "python3",
   "language": "python",
   "display_name": "Python 3"
  },
  "language_info": {
   "codemirror_mode": {
    "name": "ipython",
    "version": 2
   },
   "file_extension": ".py",
   "mimetype": "text/x-python",
   "name": "python",
   "nbconvert_exporter": "python",
   "pygments_lexer": "ipython2",
   "version": "2.7.6"
  }
 },
 "nbformat": 4,
 "nbformat_minor": 0
}
