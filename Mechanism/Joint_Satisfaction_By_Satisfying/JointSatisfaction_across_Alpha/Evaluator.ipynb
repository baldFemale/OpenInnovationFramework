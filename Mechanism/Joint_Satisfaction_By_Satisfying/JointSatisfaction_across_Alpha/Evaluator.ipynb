{
 "cells": [
  {
   "cell_type": "code",
   "execution_count": 7,
   "metadata": {
    "collapsed": true,
    "ExecuteTime": {
     "end_time": "2024-01-01T18:40:51.133879400Z",
     "start_time": "2024-01-01T18:40:51.115926400Z"
    }
   },
   "outputs": [],
   "source": [
    "import matplotlib.pyplot as plt\n",
    "import numpy as np\n",
    "import pickle\n",
    "legend_properties = {'weight':'bold'}\n",
    "nus_blue = \"#003D7C\"\n",
    "nus_orange = \"#EF7C00\"\n",
    "# Nature three colors\n",
    "nature_orange = \"#F16C23\"\n",
    "nature_blue = \"#2B6A99\"\n",
    "nature_green = \"#1B7C3D\"\n",
    "# Morandi six colors\n",
    "morandi_blue = \"#046586\"\n",
    "morandi_green =  \"#28A9A1\"\n",
    "morandi_yellow = \"#C9A77C\"\n",
    "morandi_orange = \"#F4A016\"\n",
    "morandi_pink = \"#F6BBC6\"\n",
    "morandi_red = \"#E71F19\"\n",
    "morandi_purple = \"#B08BEB\"\n",
    "# Others\n",
    "shallow_grey = \"#D3D4D3\"\n",
    "deep_grey = \"#A6ABB6\"\n",
    "# Red and Blue\n",
    "strong_red = \"#A61C5D\"\n",
    "strong_blue = \"#1B64A4\"\n",
    "\n",
    "# Shallow-deep pair\n",
    "shallow_purple = \"#EAD7EA\"\n",
    "deep_purple = \"#BA9DB9\"\n",
    "shallow_cyan = \"#A9D5E0\"\n",
    "deep_cyan = \"#48C0BF\"\n",
    "shallow_blue = \"#B6DAEC\"\n",
    "deep_blue = \"#98CFE4\"\n",
    "shallow_pink = \"#F5E0E5\"\n",
    "deep_pink = \"#E5A7B6\"\n",
    "shallow_green = \"#C2DED0\"\n",
    "deep_green = \"#A5C6B1\"\n",
    "\n",
    "color_pairs = [[shallow_purple, deep_purple],  [shallow_green, deep_green],\n",
    "               [shallow_blue, deep_blue], [shallow_pink, deep_pink], [shallow_cyan, deep_cyan],\n",
    "               [shallow_grey, deep_grey]]\n",
    "morandi_colors = [morandi_blue, morandi_green, morandi_yellow, morandi_orange, morandi_pink, morandi_red, morandi_purple]\n"
   ]
  },
  {
   "cell_type": "code",
   "execution_count": 8,
   "outputs": [
    {
     "name": "stdout",
     "output_type": "stream",
     "text": [
      "(9, 9)\n"
     ]
    }
   ],
   "source": [
    "data_folder = r\"F:\\data\\gst-0815-23\\Mechanism_7_use_satisfying\\Joint_Satisfaction_By_Satisfying\\JointSatisfaction_across_Alpha\"\n",
    "alpha_list = [0.05, 0.10, 0.15, 0.20, 0.25, 0.30, 0.35, 0.40, 0.45]\n",
    "gg_satisfaction_across_K_alpha, gs_satisfaction_across_K_alpha, ss_satisfaction_across_K_alpha, sg_satisfaction_across_K_alpha = [], [], [], []\n",
    "for alpha in alpha_list:\n",
    "    gg_satisfaction_file = data_folder + r\"\\gg_joint_satisfaction_across_K_alpha_{0}\".format(alpha)\n",
    "    gs_satisfaction_file = data_folder + r\"\\gs_joint_satisfaction_across_K_alpha_{0}\".format(alpha)\n",
    "    ss_satisfaction_file = data_folder + r\"\\ss_joint_satisfaction_across_K_alpha_{0}\".format(alpha)\n",
    "    sg_satisfaction_file = data_folder + r\"\\sg_joint_satisfaction_across_K_alpha_{0}\".format(alpha)\n",
    "    \n",
    "    with open(gg_satisfaction_file, 'rb') as infile:\n",
    "        gg_satisfaction = pickle.load(infile)\n",
    "    with open(gs_satisfaction_file, 'rb') as infile:\n",
    "        gs_satisfaction = pickle.load(infile)\n",
    "    with open(ss_satisfaction_file, 'rb') as infile:\n",
    "        ss_satisfaction = pickle.load(infile)\n",
    "    with open(sg_satisfaction_file, 'rb') as infile:\n",
    "        sg_satisfaction = pickle.load(infile)\n",
    "        \n",
    "    gg_satisfaction_across_K_alpha.append(gg_satisfaction)\n",
    "    gs_satisfaction_across_K_alpha.append(gs_satisfaction)\n",
    "    ss_satisfaction_across_K_alpha.append(ss_satisfaction)\n",
    "    sg_satisfaction_across_K_alpha.append(sg_satisfaction)\n",
    "\n",
    "print(np.array(gg_satisfaction_across_K_alpha).shape)\n"
   ],
   "metadata": {
    "collapsed": false,
    "ExecuteTime": {
     "end_time": "2024-01-01T18:40:51.173772900Z",
     "start_time": "2024-01-01T18:40:51.130889600Z"
    }
   }
  },
  {
   "cell_type": "code",
   "execution_count": 9,
   "outputs": [],
   "source": [
    "# # GST Fitness\n",
    "# K_list = range(0, 9)\n",
    "# for K in K_list:\n",
    "#     gg_satisfaction_across_alpha, gs_satisfaction_across_alpha, ss_satisfaction_across_alpha, sg_satisfaction_across_alpha = [], [], [], []\n",
    "#     for gg_confusion, gs_confusion, ss_confusion, sg_confusion in zip(gg_satisfaction_across_K_alpha, gs_satisfaction_across_K_alpha, ss_satisfaction_across_K_alpha, sg_satisfaction_across_K_alpha):\n",
    "#         gg_satisfaction_across_alpha.append(gg_confusion[K])\n",
    "#         gs_satisfaction_across_alpha.append(gs_confusion[K])\n",
    "#         ss_satisfaction_across_alpha.append(ss_confusion[K])\n",
    "#         sg_satisfaction_across_alpha.append(sg_confusion[K])\n",
    "#     \n",
    "#     x = alpha_list\n",
    "#     fig, ax = plt.subplots()\n",
    "#     ax.spines[\"left\"].set_linewidth(1.5)\n",
    "#     ax.spines[\"right\"].set_linewidth(1.5)\n",
    "#     ax.spines[\"top\"].set_linewidth(1.5)\n",
    "#     ax.spines[\"bottom\"].set_linewidth(1.5)\n",
    "#     plt.plot(x, gg_satisfaction_across_alpha, \"-\", label=\"GG\", color=nature_blue)\n",
    "#     plt.plot(x, sg_satisfaction_across_alpha, \"--\", label=\"SG\", color=nature_blue)\n",
    "#     \n",
    "#     # plt.plot(x, ss_satisfaction_across_alpha, \"-\", label=\"SS\", color=nature_orange)\n",
    "#     # plt.plot(x, gs_satisfaction_across_alpha, \"--\", label=\"GS\", color=nature_orange)\n",
    "#     \n",
    "#     plt.xlabel('$\\\\alpha$', fontweight='bold', fontsize=12)\n",
    "#     plt.ylabel('Joint Satisfaction', fontweight='bold', fontsize=12)\n",
    "#     plt.title(\"K={0}\".format(K))\n",
    "#     plt.xticks(x)\n",
    "#     plt.legend(frameon=False, ncol=1, fontsize=12)\n",
    "#     plt.savefig(data_folder + r\"\\Joint_Satisfaction_across_Alpha_K_{0}.png\".format(K), transparent=True, dpi=300)\n",
    "#     plt.show()"
   ],
   "metadata": {
    "collapsed": false,
    "ExecuteTime": {
     "end_time": "2024-01-01T18:40:51.173772900Z",
     "start_time": "2024-01-01T18:40:51.139890800Z"
    }
   }
  },
  {
   "cell_type": "code",
   "execution_count": 10,
   "outputs": [],
   "source": [
    "# # GST Fitness\n",
    "# K_list = range(0, 9)\n",
    "# for K in K_list:\n",
    "#     gg_satisfaction_across_alpha, gs_satisfaction_across_alpha, ss_satisfaction_across_alpha, sg_satisfaction_across_alpha = [], [], [], []\n",
    "#     for gg_confusion, gs_confusion, ss_confusion, sg_confusion in zip(gg_satisfaction_across_K_alpha, gs_satisfaction_across_K_alpha, ss_satisfaction_across_K_alpha, sg_satisfaction_across_K_alpha):\n",
    "#         gg_satisfaction_across_alpha.append(gg_confusion[K])\n",
    "#         gs_satisfaction_across_alpha.append(gs_confusion[K])\n",
    "#         ss_satisfaction_across_alpha.append(ss_confusion[K])\n",
    "#         sg_satisfaction_across_alpha.append(sg_confusion[K])\n",
    "#     \n",
    "#     x = alpha_list\n",
    "#     fig, ax = plt.subplots()\n",
    "#     ax.spines[\"left\"].set_linewidth(1.5)\n",
    "#     ax.spines[\"right\"].set_linewidth(1.5)\n",
    "#     ax.spines[\"top\"].set_linewidth(1.5)\n",
    "#     ax.spines[\"bottom\"].set_linewidth(1.5)\n",
    "#     # plt.plot(x, gg_satisfaction_across_alpha, \"-\", label=\"GG\", color=nature_blue)\n",
    "#     # plt.plot(x, sg_satisfaction_across_alpha, \"--\", label=\"SG\", color=nature_blue)\n",
    "#     \n",
    "#     plt.plot(x, ss_satisfaction_across_alpha, \"-\", label=\"SS\", color=nature_orange)\n",
    "#     plt.plot(x, gs_satisfaction_across_alpha, \"--\", label=\"GS\", color=nature_orange)\n",
    "#     \n",
    "#     plt.xlabel('$\\\\alpha$', fontweight='bold', fontsize=12)\n",
    "#     plt.ylabel('Joint Satisfaction', fontweight='bold', fontsize=12)\n",
    "#     plt.title(\"K={0}\".format(K))\n",
    "#     plt.xticks(x)\n",
    "#     plt.legend(frameon=False, ncol=1, fontsize=12)\n",
    "#     plt.savefig(data_folder + r\"\\Joint_Satisfaction_across_Alpha_K_{0}.png\".format(K), transparent=True, dpi=300)\n",
    "#     plt.show()"
   ],
   "metadata": {
    "collapsed": false,
    "ExecuteTime": {
     "end_time": "2024-01-01T18:40:51.173772900Z",
     "start_time": "2024-01-01T18:40:51.156819500Z"
    }
   }
  },
  {
   "cell_type": "code",
   "outputs": [
    {
     "data": {
      "text/plain": "<Figure size 432x288 with 1 Axes>",
      "image/png": "[encoded data removed]"
     },
     "metadata": {
      "needs_background": "light"
     },
     "output_type": "display_data"
    }
   ],
   "source": [
    "# Integrate G and S\n",
    "K_list = range(0, 9)\n",
    "\n",
    "gg_satisfaction_across_alpha, gs_satisfaction_across_alpha, ss_satisfaction_across_alpha, sg_satisfaction_across_alpha = [], [], [], []\n",
    "for gg_satisfaction, gs_satisfaction, ss_satisfaction, sg_satisfaction in zip(gg_satisfaction_across_K_alpha, gs_satisfaction_across_K_alpha, ss_satisfaction_across_K_alpha, sg_satisfaction_across_K_alpha):\n",
    "    gg_satisfaction_across_alpha.append(sum(gg_satisfaction) / len(gg_satisfaction))  # take an average across K\n",
    "    gs_satisfaction_across_alpha.append(sum(gs_satisfaction) / len(gs_satisfaction))\n",
    "    ss_satisfaction_across_alpha.append(sum(ss_satisfaction) / len(ss_satisfaction))\n",
    "    sg_satisfaction_across_alpha.append(sum(sg_satisfaction) / len(sg_satisfaction))\n",
    "G_satisfaction_across_knowledge = []\n",
    "for gg, sg in zip(gg_satisfaction_across_alpha, sg_satisfaction_across_alpha):\n",
    "    new_g = 0.5 * (gg + sg)\n",
    "    G_satisfaction_across_knowledge.append(new_g)\n",
    "S_satisfaction_across_alpha = []\n",
    "for ss, gs in zip(ss_satisfaction_across_alpha, gs_satisfaction_across_alpha):\n",
    "    new_s = 0.5 * (ss + gs)\n",
    "    S_satisfaction_across_alpha.append(new_s)\n",
    "x = alpha_list\n",
    "fig, ax = plt.subplots()\n",
    "ax.spines[\"left\"].set_linewidth(1.5)\n",
    "ax.spines[\"right\"].set_linewidth(1.5)\n",
    "ax.spines[\"top\"].set_linewidth(1.5)\n",
    "ax.spines[\"bottom\"].set_linewidth(1.5)\n",
    "plt.plot(x, G_satisfaction_across_knowledge, marker='o', linestyle='-', label=\"Generalist\", color=nature_blue)\n",
    "plt.plot(x, S_satisfaction_across_alpha, \"-\", marker='v', linestyle='-', label=\"Specialist\", color=nature_orange)\n",
    "plt.xlabel('$\\\\alpha$', fontweight='bold', fontsize=12)\n",
    "plt.ylabel('Joint Satisfaction', fontweight='bold', fontsize=12)\n",
    "plt.xticks(x)\n",
    "plt.title(\"Intra-domain Complexity\")\n",
    "plt.legend(frameon=False, ncol=1, fontsize=12)\n",
    "plt.savefig(data_folder + r\"\\Joint_Satisfaction_across_Alpha.png\", transparent=True, dpi=300)\n",
    "plt.show()"
   ],
   "metadata": {
    "collapsed": false,
    "ExecuteTime": {
     "end_time": "2024-01-01T18:40:51.728448600Z",
     "start_time": "2024-01-01T18:40:51.182748600Z"
    }
   },
   "execution_count": 11
  },
  {
   "cell_type": "code",
   "outputs": [
    {
     "data": {
      "text/plain": "<Figure size 432x288 with 1 Axes>",
      "image/png": "[encoded data removed]"
     },
     "metadata": {
      "needs_background": "light"
     },
     "output_type": "display_data"
    }
   ],
   "source": [
    "# Integrate G and S; Specify the Recombination\n",
    "K_list = range(0, 9)\n",
    "\n",
    "gg_satisfaction_across_alpha, gs_satisfaction_across_alpha, ss_satisfaction_across_alpha, sg_satisfaction_across_alpha = [], [], [], []\n",
    "for gg_satisfaction, gs_satisfaction, ss_satisfaction, sg_satisfaction in zip(gg_satisfaction_across_K_alpha, gs_satisfaction_across_K_alpha, ss_satisfaction_across_K_alpha, sg_satisfaction_across_K_alpha):\n",
    "    gg_satisfaction_across_alpha.append(sum(gg_satisfaction) / len(gg_satisfaction))  # take an average across K\n",
    "    gs_satisfaction_across_alpha.append(sum(gs_satisfaction) / len(gs_satisfaction))\n",
    "    ss_satisfaction_across_alpha.append(sum(ss_satisfaction) / len(ss_satisfaction))\n",
    "    sg_satisfaction_across_alpha.append(sum(sg_satisfaction) / len(sg_satisfaction))\n",
    "x = alpha_list\n",
    "fig, ax = plt.subplots()\n",
    "ax.spines[\"left\"].set_linewidth(1.5)\n",
    "ax.spines[\"right\"].set_linewidth(1.5)\n",
    "ax.spines[\"top\"].set_linewidth(1.5)\n",
    "ax.spines[\"bottom\"].set_linewidth(1.5)\n",
    "plt.plot(x, gg_satisfaction_across_alpha, \"-\", label=\"GG\", color=nature_blue)\n",
    "plt.plot(x, sg_satisfaction_across_alpha, \"--\", label=\"SG\", color=nature_blue)\n",
    "plt.plot(x, ss_satisfaction_across_alpha, \"-\", label=\"SS\", color=nature_orange)\n",
    "plt.plot(x, gs_satisfaction_across_alpha, \"--\", label=\"GS\", color=nature_orange)\n",
    "plt.xlabel('$\\\\alpha$', fontweight='bold', fontsize=12)\n",
    "plt.ylabel('Joint Satisfaction', fontweight='bold', fontsize=12)\n",
    "plt.xticks(x)\n",
    "plt.legend(frameon=False, ncol=1, fontsize=12)\n",
    "plt.savefig(data_folder + r\"\\Joint_Satisfaction_across_Alpha_Recombined.png\", transparent=True, dpi=300)\n",
    "plt.show()"
   ],
   "metadata": {
    "collapsed": false,
    "ExecuteTime": {
     "end_time": "2024-01-01T18:40:51.729445800Z",
     "start_time": "2024-01-01T18:40:51.468144200Z"
    }
   },
   "execution_count": 12
  },
  {
   "cell_type": "code",
   "outputs": [],
   "source": [],
   "metadata": {
    "collapsed": false,
    "ExecuteTime": {
     "end_time": "2024-01-01T18:40:51.729445800Z",
     "start_time": "2024-01-01T18:40:51.705542400Z"
    }
   },
   "execution_count": 12
  }
 ],
 "metadata": {
  "kernelspec": {
   "display_name": "Python 3",
   "language": "python",
   "name": "python3"
  },
  "language_info": {
   "codemirror_mode": {
    "name": "ipython",
    "version": 2
   },
   "file_extension": ".py",
   "mimetype": "text/x-python",
   "name": "python",
   "nbconvert_exporter": "python",
   "pygments_lexer": "ipython2",
   "version": "2.7.6"
  }
 },
 "nbformat": 4,
 "nbformat_minor": 0
}
