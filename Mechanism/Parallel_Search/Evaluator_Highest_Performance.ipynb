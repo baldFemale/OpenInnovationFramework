{
 "cells": [
  {
   "cell_type": "code",
   "metadata": {
    "collapsed": true,
    "ExecuteTime": {
     "end_time": "2024-04-30T14:14:15.115020Z",
     "start_time": "2024-04-30T14:14:13.570267Z"
    }
   },
   "source": [
    "import matplotlib.pyplot as plt\n",
    "import numpy as np\n",
    "import pickle\n",
    "legend_properties = {'weight':'bold'}\n",
    "nus_blue = \"#003D7C\"\n",
    "nus_orange = \"#EF7C00\"\n",
    "# Nature three colors\n",
    "nature_orange = \"#F16C23\"\n",
    "nature_blue = \"#2B6A99\"\n",
    "nature_green = \"#1B7C3D\"\n",
    "# Morandi six colors\n",
    "morandi_blue = \"#046586\"\n",
    "morandi_green =  \"#28A9A1\"\n",
    "morandi_yellow = \"#C9A77C\"\n",
    "morandi_orange = \"#F4A016\"\n",
    "morandi_pink = \"#F6BBC6\"\n",
    "morandi_red = \"#E71F19\"\n",
    "morandi_purple = \"#B08BEB\"\n",
    "# Others\n",
    "shallow_grey = \"#D3D4D3\"\n",
    "deep_grey = \"#A6ABB6\"\n",
    "# Red and Blue\n",
    "strong_red = \"#A61C5D\"\n",
    "strong_blue = \"#1B64A4\"\n",
    "\n",
    "# Shallow-deep pair\n",
    "shallow_purple = \"#EAD7EA\"\n",
    "deep_purple = \"#BA9DB9\"\n",
    "shallow_cyan = \"#A9D5E0\"\n",
    "deep_cyan = \"#48C0BF\"\n",
    "shallow_blue = \"#B6DAEC\"\n",
    "deep_blue = \"#98CFE4\"\n",
    "shallow_pink = \"#F5E0E5\"\n",
    "deep_pink = \"#E5A7B6\"\n",
    "shallow_green = \"#C2DED0\"\n",
    "deep_green = \"#A5C6B1\"\n",
    "\n",
    "color_pairs = [[shallow_purple, deep_purple],  [shallow_green, deep_green],\n",
    "               [shallow_blue, deep_blue], [shallow_pink, deep_pink], [shallow_cyan, deep_cyan],\n",
    "               [shallow_grey, deep_grey]]\n",
    "morandi_colors = [morandi_blue, morandi_green, morandi_yellow, morandi_orange, morandi_pink, morandi_red, morandi_purple]"
   ],
   "outputs": [],
   "execution_count": 1
  },
  {
   "cell_type": "code",
   "source": [
    "data_folder = r\"E:\\data\\gst-0815-23\\Pre-Test\\Parallel_Search_9\"\n",
    "# agent_num_list = np.arange(50, 2400, step=50, dtype=int).tolist()  # for highest performance\n",
    "agent_num_list = np.arange(50, 850, step=50, dtype=int).tolist()  # for diversity\n",
    "g_fitness_across_K_size, s_fitness_across_K_size = [], []\n",
    "g_best_fitness_across_K_size, s_best_fitness_across_K_size = [], []\n",
    "g_diversity_across_K_size, s_diversity_across_K_size = [], []\n",
    "# g_worst_fitness_across_K_size, s_worst_fitness_across_K_size = [], []\n",
    "# g_unique_diversity_across_K_size, s_unique_diversity_across_K_size = [], []\n",
    "# g_pair_wise_diversity_across_K_size, s_pair_wise_diversity_across_K_size = [], []\n",
    "# g_partial_unique_across_K_size, s_partial_unique_across_K_size = [], []\n",
    "for agent_num in agent_num_list:\n",
    "    g_performance_file = data_folder + r\"\\g_performance_across_K_size_{0}\".format(agent_num)\n",
    "    s_performance_file = data_folder + r\"\\s_performance_across_K_size_{0}\".format(agent_num)\n",
    "    \n",
    "    g_variance_file = data_folder + r\"\\g_variance_across_K_size_{0}\".format(agent_num)\n",
    "    s_variance_file = data_folder + r\"\\s_variance_across_K_size_{0}\".format(agent_num)\n",
    "    \n",
    "    g_best_performance_file = data_folder + r\"\\g_best_performance_across_K_size_{0}\".format(agent_num)\n",
    "    s_best_performance_file = data_folder + r\"\\s_best_performance_across_K_size_{0}\".format(agent_num)\n",
    "    \n",
    "    g_diversity_file = data_folder + r\"\\g_partial_unique_diversity_across_K_size_{0}\".format(agent_num)\n",
    "    s_diversity_file = data_folder + r\"\\s_partial_unique_diversity_across_K_size_{0}\".format(agent_num)\n",
    "    # g_worst_performance_file = data_folder + r\"\\g_worst_performance_across_K_size_{0}\".format(agent_num)\n",
    "    # s_worst_performance_file = data_folder + r\"\\s_worst_performance_across_K_size_{0}\".format(agent_num)\n",
    "    # \n",
    "    # g_unique_diversity_file = data_folder + r\"\\g_unique_diversity_across_K_size_{0}\".format(agent_num)\n",
    "    # s_unique_diversity_file = data_folder + r\"\\s_unique_diversity_across_K_size_{0}\".format(agent_num)\n",
    "    # \n",
    "    # g_pair_wise_diversity_file = data_folder + r\"\\g_pair_wise_diversity_across_K_size_{0}\".format(agent_num)\n",
    "    # s_pair_wise_diversity_file = data_folder + r\"\\s_pair_wise_diversity_across_K_size_{0}\".format(agent_num)\n",
    "    # \n",
    "    # g_partial_unique_file = data_folder + r\"\\g_partial_unique_diversity_across_K_size_{0}\".format(agent_num)\n",
    "    # s_partial_unique_file = data_folder + r\"\\s_partial_unique_diversity_across_K_size_{0}\".format(agent_num)\n",
    "    \n",
    "    \n",
    "    with open(g_performance_file, 'rb') as infile:\n",
    "        g_fitness = pickle.load(infile)\n",
    "    with open(s_performance_file, 'rb') as infile:\n",
    "        s_fitness = pickle.load(infile)\n",
    "    \n",
    "    with open(g_variance_file, 'rb') as infile:\n",
    "        g_variance = pickle.load(infile)\n",
    "    with open(s_variance_file, 'rb') as infile:\n",
    "        s_variance = pickle.load(infile)\n",
    "        \n",
    "    with open(g_best_performance_file, 'rb') as infile:\n",
    "        g_best_fitness = pickle.load(infile)\n",
    "    with open(s_best_performance_file, 'rb') as infile:\n",
    "        s_best_fitness = pickle.load(infile)\n",
    "        \n",
    "    with open(g_diversity_file, 'rb') as infile:\n",
    "        g_diversity = pickle.load(infile)\n",
    "    with open(s_diversity_file, 'rb') as infile:\n",
    "        s_diversity = pickle.load(infile)\n",
    "        \n",
    "    # with open(g_worst_performance_file, 'rb') as infile:\n",
    "    #     g_worst_fitness = pickle.load(infile)\n",
    "    # with open(s_best_performance_file, 'rb') as infile:\n",
    "    #     s_worst_fitness = pickle.load(infile)\n",
    "    #     \n",
    "    # with open(g_unique_diversity_file, 'rb') as infile:\n",
    "    #     g_unique_diversity = pickle.load(infile)\n",
    "    # with open(s_unique_diversity_file, 'rb') as infile:\n",
    "    #     s_unique_diversity = pickle.load(infile)\n",
    "    #     \n",
    "    # with open(g_pair_wise_diversity_file, 'rb') as infile:\n",
    "    #     g_pair_wise_diversity = pickle.load(infile)\n",
    "    # with open(s_pair_wise_diversity_file, 'rb') as infile:\n",
    "    #     s_pair_wise_diversity = pickle.load(infile)\n",
    "    #     \n",
    "    # with open(g_partial_unique_file, 'rb') as infile:\n",
    "    #     g_partial_unique = pickle.load(infile)\n",
    "    # with open(s_partial_unique_file, 'rb') as infile:\n",
    "    #     s_partial_unique = pickle.load(infile)\n",
    "    \n",
    "        \n",
    "    g_fitness_across_K_size.append(g_fitness)\n",
    "    s_fitness_across_K_size.append(s_fitness)\n",
    "    \n",
    "    g_best_fitness_across_K_size.append(g_best_fitness)\n",
    "    s_best_fitness_across_K_size.append(s_best_fitness)\n",
    "    \n",
    "    g_diversity_across_K_size.append(g_diversity)\n",
    "    s_diversity_across_K_size.append(s_diversity)\n",
    "    \n",
    "    # g_unique_diversity_across_K_size.append(g_unique_diversity)\n",
    "    # s_unique_diversity_across_K_size.append(s_unique_diversity)\n",
    "    # \n",
    "    # g_pair_wise_diversity_across_K_size.append(g_pair_wise_diversity)\n",
    "    # s_pair_wise_diversity_across_K_size.append(s_pair_wise_diversity)\n",
    "    # \n",
    "    # g_partial_unique_across_K_size.append(g_partial_unique)\n",
    "    # s_partial_unique_across_K_size.append(s_partial_unique)\n",
    "\n",
    "print(np.array(g_fitness_across_K_size, dtype=object).shape)\n",
    "# print(np.array(g_fitness_across_K_size, dtype=object).shape)\n",
    "# print(len(g_best_fitness_across_K_size[0]))\n",
    "# print(len(g_best_fitness_across_K_size[1]))\n",
    "# print(len(g_best_fitness_across_K_size[2]))"
   ],
   "metadata": {
    "collapsed": false,
    "ExecuteTime": {
     "end_time": "2024-04-30T14:14:15.223892Z",
     "start_time": "2024-04-30T14:14:15.116020Z"
    }
   },
   "outputs": [
    {
     "name": "stdout",
     "output_type": "stream",
     "text": [
      "(16, 9)\n"
     ]
    }
   ],
   "execution_count": 2
  },
  {
   "cell_type": "code",
   "source": [
    "# # GS Fitness Given the Same K and Varying Agent Numbers\n",
    "# given_K_index = 5\n",
    "# g_fitness_across_size, s_fitness_across_size = [], []\n",
    "# for g_fitness, s_fitness in zip(g_fitness_across_K_size, s_fitness_across_K_size):\n",
    "#     g_fitness_across_size.append(g_fitness[given_K_index])\n",
    "#     s_fitness_across_size.append(s_fitness[given_K_index])\n",
    "# \n",
    "# x = agent_num_list\n",
    "# fig, ax = plt.subplots()\n",
    "# ax.spines[\"left\"].set_linewidth(1.5)\n",
    "# ax.spines[\"right\"].set_linewidth(1.5)\n",
    "# ax.spines[\"top\"].set_linewidth(1.5)\n",
    "# ax.spines[\"bottom\"].set_linewidth(1.5)\n",
    "# plt.plot(x, g_fitness_across_size, \"-\", label=\"Generalist\", color=nature_blue)\n",
    "# plt.plot(x, s_fitness_across_size, \"-\", label=\"Specialist\", color=nature_orange)\n",
    "# \n",
    "# plt.xlabel('Size', fontweight='bold', fontsize=12)\n",
    "# plt.ylabel('Performance', fontweight='bold', fontsize=12)\n",
    "# # plt.xticks(x)\n",
    "# plt.legend(frameon=False, ncol=1, fontsize=12)\n",
    "# plt.savefig(data_folder + r\"\\Results\\GS_performance.png\", transparent=True, dpi=300)\n",
    "# plt.show()"
   ],
   "metadata": {
    "collapsed": false,
    "ExecuteTime": {
     "end_time": "2024-04-30T14:14:15.238688Z",
     "start_time": "2024-04-30T14:14:15.225914Z"
    }
   },
   "outputs": [],
   "execution_count": 3
  },
  {
   "cell_type": "code",
   "source": [
    "# # GS Best Fitness Given the Same K and Varying Agent Numbers\n",
    "# for index in range(9):\n",
    "#     g_fitness_across_size, s_fitness_across_size = [], []\n",
    "#     for g_fitness, s_fitness in zip(g_best_fitness_across_K_size, s_best_fitness_across_K_size):\n",
    "#         g_fitness_across_size.append(g_fitness[index])\n",
    "#         s_fitness_across_size.append(s_fitness[index])\n",
    "#     \n",
    "#     x = agent_num_list\n",
    "#     fig, ax = plt.subplots()\n",
    "#     ax.spines[\"left\"].set_linewidth(1.5)\n",
    "#     ax.spines[\"right\"].set_linewidth(1.5)\n",
    "#     ax.spines[\"top\"].set_linewidth(1.5)\n",
    "#     ax.spines[\"bottom\"].set_linewidth(1.5)\n",
    "#     plt.plot(x, g_fitness_across_size, \"-\", label=\"Generalist\", color=nature_blue)\n",
    "#     plt.plot(x, s_fitness_across_size, \"-\", label=\"Specialist\", color=nature_orange)\n",
    "#     \n",
    "#     plt.xlabel('Size', fontweight='bold', fontsize=12)\n",
    "#     plt.ylabel('Best Performance', fontweight='bold', fontsize=12)\n",
    "#     plt.ylim(0.86, 1.00)\n",
    "#     plt.title(\"$K={0}$\".format(index))\n",
    "#     plt.legend(frameon=False, ncol=1, fontsize=12)\n",
    "#     plt.savefig(data_folder + r\"\\Results\\GS_best_performance_K_{0}.png\".format(index), transparent=True, dpi=300)\n",
    "#     plt.show()"
   ],
   "metadata": {
    "collapsed": false,
    "ExecuteTime": {
     "end_time": "2024-04-30T14:14:15.254692Z",
     "start_time": "2024-04-30T14:14:15.240671Z"
    }
   },
   "outputs": [],
   "execution_count": 4
  },
  {
   "cell_type": "code",
   "source": [
    "# GS Best Fitness Given the Same K and Varying Agent Numbers\n",
    "g_fitness_across_size_K = []\n",
    "s_fitness_across_size_K = []\n",
    "for index in range(9):\n",
    "    g_fitness_across_size, s_fitness_across_size = [], []\n",
    "    for g_fitness, s_fitness in zip(g_best_fitness_across_K_size, s_best_fitness_across_K_size):\n",
    "        g_fitness_across_size.append(g_fitness[index])\n",
    "        s_fitness_across_size.append(s_fitness[index])\n",
    "    g_fitness_across_size_K.append(g_fitness_across_size)\n",
    "    s_fitness_across_size_K.append(s_fitness_across_size)\n",
    "\n",
    "x = agent_num_list\n",
    "fig, ax = plt.subplots()\n",
    "ax.spines[\"left\"].set_linewidth(1.5)\n",
    "ax.spines[\"right\"].set_linewidth(1.5)\n",
    "ax.spines[\"top\"].set_linewidth(1.5)\n",
    "ax.spines[\"bottom\"].set_linewidth(1.5)\n",
    "plt.plot(x, g_fitness_across_size_K[2], marker='o', linestyle='-', label=\"Generalist, K=2\", color=nature_blue)\n",
    "plt.plot(x, s_fitness_across_size_K[2], marker='v', linestyle='-', label=\"Specialist, K=2\", color=nature_orange)  \n",
    "\n",
    "plt.plot(x, g_fitness_across_size_K[8], marker='o', linestyle='--', label=\"Generalist, K=8\", color=nature_blue)\n",
    "plt.plot(x, s_fitness_across_size_K[8], marker='v', linestyle='--', label=\"Specialist, K=8\", color=nature_orange)  \n",
    "\n",
    "plt.xlabel('Crowd Size', fontweight='bold', fontsize=12)\n",
    "plt.ylabel('Maximum Fitness', fontweight='bold', fontsize=12)\n",
    "plt.ylim(0.85, 1.00)\n",
    "plt.title(\"(a) Maximum Fitness \\n $N=9, \\\\alpha=0.25, |\\mathbb{D}|=12$\")\n",
    "plt.legend(frameon=False, ncol=2, fontsize=12)\n",
    "plt.savefig(data_folder + r\"\\Results\\GS_best_performance.png\".format(index), transparent=True, dpi=300)\n",
    "plt.show()"
   ],
   "metadata": {
    "collapsed": false,
    "ExecuteTime": {
     "end_time": "2024-04-30T14:42:44.317229Z",
     "start_time": "2024-04-30T14:42:43.881412Z"
    }
   },
   "outputs": [
    {
     "data": {
      "text/plain": [
       "<Figure size 432x288 with 1 Axes>"
      ],
      "image/png": "[encoded data removed]"
     },
     "metadata": {
      "needs_background": "light"
     },
     "output_type": "display_data"
    }
   ],
   "execution_count": 11
  },
  {
   "cell_type": "code",
   "source": [
    "# GS Best Fitness Given the Same K and Varying Agent Numbers\n",
    "# print(g_diversity_across_K_size)\n",
    "g_diversity_across_size_K = []\n",
    "s_diversity_across_size_K = []\n",
    "for index in range(9):\n",
    "    g_diversity_across_size, s_diversity_across_size = [], []\n",
    "    for g_diversity, s_diversity in zip(g_diversity_across_K_size, s_diversity_across_K_size):\n",
    "        g_diversity_across_size.append(g_diversity[index])\n",
    "        s_diversity_across_size.append(s_diversity[index])\n",
    "    g_diversity_across_size_K.append(g_diversity_across_size)\n",
    "    s_diversity_across_size_K.append(s_diversity_across_size)\n",
    "# print(g_diversity_across_size_K)\n",
    "x = agent_num_list\n",
    "fig, ax = plt.subplots()\n",
    "ax.spines[\"left\"].set_linewidth(1.5)\n",
    "ax.spines[\"right\"].set_linewidth(1.5)\n",
    "ax.spines[\"top\"].set_linewidth(1.5)\n",
    "ax.spines[\"bottom\"].set_linewidth(1.5)\n",
    "plt.plot(x, g_diversity_across_size_K[1], marker='o', linestyle='-', label=\"Generalist, K=2\", color=nature_blue)\n",
    "plt.plot(x, s_diversity_across_size_K[1], marker='v', linestyle='-', label=\"Specialist, K=2\", color=nature_orange)  \n",
    "\n",
    "plt.plot(x, g_diversity_across_size_K[8], marker='o', linestyle='--', label=\"Generalist, K=8\", color=nature_blue)\n",
    "plt.plot(x, s_diversity_across_size_K[8], marker='v', linestyle='--', label=\"Specialist, K=8\", color=nature_orange)  \n",
    "\n",
    "plt.xlabel('Crowd Size', fontweight='bold', fontsize=12)\n",
    "plt.ylabel('Solution Diversity', fontweight='bold', fontsize=12)\n",
    "plt.ylim(0, 800)\n",
    "plt.title(\"(b) Solution Diversity \\n $N=9, \\\\alpha=0.25, |\\mathbb{D}|=12$\")\n",
    "plt.legend(frameon=False, ncol=2, fontsize=12)\n",
    "plt.savefig(data_folder + r\"\\Results\\GS_diversity.png\".format(index), transparent=True, dpi=300)\n",
    "plt.show()"
   ],
   "metadata": {
    "collapsed": false,
    "ExecuteTime": {
     "end_time": "2024-04-30T14:14:16.567970Z",
     "start_time": "2024-04-30T14:14:16.125764Z"
    }
   },
   "outputs": [
    {
     "data": {
      "text/plain": [
       "<Figure size 432x288 with 1 Axes>"
      ],
      "image/png": "[encoded data removed]"
     },
     "metadata": {
      "needs_background": "light"
     },
     "output_type": "display_data"
    }
   ],
   "execution_count": 6
  },
  {
   "cell_type": "code",
   "source": [
    "# # GS Diversity Given the Same K and Varying Agent Numbers\n",
    "# for index in range(9):\n",
    "#     g_diversity_across_size, s_diversity_across_size = [], []\n",
    "#     for g_diversity, s_diversity in zip(g_diversity_across_K_size, s_diversity_across_K_size):\n",
    "#         g_diversity_across_size.append(g_diversity[index])\n",
    "#         s_diversity_across_size.append(s_diversity[index])\n",
    "#     g_diversity_across_size = [each / agent_num_list[j] for j, each in enumerate(g_diversity_across_size)]\n",
    "#     s_diversity_across_size = [each / agent_num_list[j] for j, each in enumerate(s_diversity_across_size)]\n",
    "#     x = agent_num_list\n",
    "#     fig, ax = plt.subplots()\n",
    "#     ax.spines[\"left\"].set_linewidth(1.5)\n",
    "#     ax.spines[\"right\"].set_linewidth(1.5)\n",
    "#     ax.spines[\"top\"].set_linewidth(1.5)\n",
    "#     ax.spines[\"bottom\"].set_linewidth(1.5)\n",
    "#     plt.plot(x, g_diversity_across_size, marker='o', linestyle='-', label=\"Generalist\", color=nature_blue)\n",
    "#     plt.plot(x, s_diversity_across_size, marker='s', linestyle='-', label=\"Specialist\", color=nature_orange)\n",
    "#     \n",
    "#     plt.xlabel('Size', fontweight='bold', fontsize=12)\n",
    "#     plt.ylabel('Uniqueness Proportion', fontweight='bold', fontsize=12)\n",
    "#     # plt.ylim(0, 600)\n",
    "#     plt.title(\"$K={0}$\".format(index))\n",
    "#     plt.legend(frameon=False, ncol=1, fontsize=12)\n",
    "#     plt.savefig(data_folder + r\"\\GS_diversity_ratio_K_{0}.png\".format(index), transparent=True, dpi=300)\n",
    "#     plt.show()"
   ],
   "metadata": {
    "collapsed": false,
    "ExecuteTime": {
     "end_time": "2024-04-30T14:14:16.583972Z",
     "start_time": "2024-04-30T14:14:16.568962Z"
    }
   },
   "outputs": [],
   "execution_count": 7
  },
  {
   "cell_type": "code",
   "source": [
    "# # Pair Wise Diversity Given the Same K and Varying Agent Numbers\n",
    "# for index in range(9):\n",
    "#     g_diversity_across_size, s_diversity_across_size = [], []\n",
    "#     for g_diversity, s_diversity in zip(g_pair_wise_diversity_across_K_size, s_pair_wise_diversity_across_K_size):\n",
    "#         g_diversity_across_size.append(g_diversity[index])\n",
    "#         s_diversity_across_size.append(s_diversity[index])\n",
    "#     x = agent_num_list\n",
    "#     g_diversity_across_size = [a * b for a, b in zip(agent_num_list, g_diversity_across_size)]\n",
    "#     s_diversity_across_size = [a * b for a, b in zip(agent_num_list, s_diversity_across_size)]\n",
    "#     fig, ax = plt.subplots()\n",
    "#     ax.spines[\"left\"].set_linewidth(1.5)\n",
    "#     ax.spines[\"right\"].set_linewidth(1.5)\n",
    "#     ax.spines[\"top\"].set_linewidth(1.5)\n",
    "#     ax.spines[\"bottom\"].set_linewidth(1.5)\n",
    "#     plt.plot(x, g_diversity_across_size, \"v-\", label=\"Generalist\", color=nature_blue)\n",
    "#     plt.plot(x, s_diversity_across_size, \"s-\", label=\"Specialist\", color=nature_orange)\n",
    "# \n",
    "#     plt.xlabel('Size', fontweight='bold', fontsize=12)\n",
    "#     plt.ylabel('Diversity', fontweight='bold', fontsize=12)\n",
    "#     # plt.xticks(x)\n",
    "#     plt.title(\"$K={0}$\".format(index))\n",
    "#     plt.legend(frameon=False, ncol=1, fontsize=12)\n",
    "#     plt.savefig(data_folder + r\"\\GS_pair_wise_diversity_K_{0}.png\".format(index), transparent=True, dpi=300)\n",
    "#     plt.show()"
   ],
   "metadata": {
    "collapsed": false,
    "ExecuteTime": {
     "end_time": "2024-04-30T14:14:16.599992Z",
     "start_time": "2024-04-30T14:14:16.584963Z"
    }
   },
   "outputs": [],
   "execution_count": 8
  },
  {
   "cell_type": "code",
   "source": [
    "# # Partial Unique Diversity Given the Same K and Varying Agent Numbers\n",
    "# for index in range(9):\n",
    "#     g_diversity_across_size, s_diversity_across_size = [], []\n",
    "#     for g_diversity, s_diversity in zip(g_diversity_across_K_size, s_diversity_across_K_size):\n",
    "#         g_diversity_across_size.append(g_diversity[index])\n",
    "#         s_diversity_across_size.append(s_diversity[index])\n",
    "#     x = agent_num_list\n",
    "#     print(g_diversity_across_size)\n",
    "#     # g_diversity_across_size = [b / a for a, b in zip(agent_num_list, g_diversity_across_size)]\n",
    "#     # s_diversity_across_size = [b / a for a, b in zip(agent_num_list, s_diversity_across_size)]\n",
    "#     fig, ax = plt.subplots()\n",
    "#     ax.spines[\"left\"].set_linewidth(1.5)\n",
    "#     ax.spines[\"right\"].set_linewidth(1.5)\n",
    "#     ax.spines[\"top\"].set_linewidth(1.5)\n",
    "#     ax.spines[\"bottom\"].set_linewidth(1.5)\n",
    "#     plt.plot(x, g_diversity_across_size, \"v-\", label=\"Generalist\", color=nature_blue)\n",
    "#     plt.plot(x, s_diversity_across_size, \"s-\", label=\"Specialist\", color=nature_orange)\n",
    "# \n",
    "#     plt.xlabel('Size', fontweight='bold', fontsize=12)\n",
    "#     plt.ylabel('Diversity', fontweight='bold', fontsize=12)\n",
    "#     # plt.xticks(x)\n",
    "#     plt.title(\"$K={0}$\".format(index))\n",
    "#     plt.legend(frameon=False, ncol=1, fontsize=12)\n",
    "#     # plt.savefig(data_folder + r\"\\GS_partial_unique_diversity_K_{0}.png\".format(index), transparent=True, dpi=300)\n",
    "#     plt.show()"
   ],
   "metadata": {
    "collapsed": false,
    "ExecuteTime": {
     "end_time": "2024-04-30T14:14:16.616040Z",
     "start_time": "2024-04-30T14:14:16.601965Z"
    }
   },
   "outputs": [],
   "execution_count": 9
  },
  {
   "cell_type": "code",
   "source": [
    "# def get_unique_diversity(belief_pool: list):\n",
    "#     unique_solutions = []\n",
    "#     for belief in belief_pool:\n",
    "#         string_belief = \"\".join(belief)\n",
    "#         unique_solutions.append(string_belief)\n",
    "#     unique_solutions = set(unique_solutions)\n",
    "#     print(unique_solutions)\n",
    "#     return len(unique_solutions)\n",
    "# \n",
    "# solution_list = [[\"0\", \"1\", \"2\", \"3\"], [\"0\", \"1\", \"2\", \"3\"], [\"0\", \"1\", \"2\", \"3\"], [\"0\", \"1\", \"2\", \"2\"]]\n",
    "# uniqueness = get_unique_diversity(belief_pool=solution_list)\n",
    "# print(uniqueness)"
   ],
   "metadata": {
    "collapsed": false,
    "ExecuteTime": {
     "end_time": "2024-04-30T14:14:16.632008Z",
     "start_time": "2024-04-30T14:14:16.618007Z"
    }
   },
   "outputs": [],
   "execution_count": 10
  },
  {
   "cell_type": "code",
   "source": [],
   "metadata": {
    "collapsed": false,
    "ExecuteTime": {
     "end_time": "2024-04-30T14:14:16.648038Z",
     "start_time": "2024-04-30T14:14:16.634019Z"
    }
   },
   "outputs": [],
   "execution_count": 10
  }
 ],
 "metadata": {
  "kernelspec": {
   "display_name": "Python 3",
   "language": "python",
   "name": "python3"
  },
  "language_info": {
   "codemirror_mode": {
    "name": "ipython",
    "version": 2
   },
   "file_extension": ".py",
   "mimetype": "text/x-python",
   "name": "python",
   "nbconvert_exporter": "python",
   "pygments_lexer": "ipython2",
   "version": "2.7.6"
  }
 },
 "nbformat": 4,
 "nbformat_minor": 0
}
