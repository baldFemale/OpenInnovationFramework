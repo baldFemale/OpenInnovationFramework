{
 "cells": [
  {
   "cell_type": "code",
   "execution_count": 4,
   "metadata": {
    "collapsed": true,
    "ExecuteTime": {
     "end_time": "2023-10-26T08:13:41.161861900Z",
     "start_time": "2023-10-26T08:13:41.149857500Z"
    }
   },
   "outputs": [],
   "source": [
    "import matplotlib.pyplot as plt\n",
    "import numpy as np\n",
    "import pickle\n",
    "legend_properties = {'weight':'bold'}\n",
    "nus_blue = \"#003D7C\"\n",
    "nus_orange = \"#EF7C00\"\n",
    "# Nature three colors\n",
    "nature_orange = \"#F16C23\"\n",
    "nature_blue = \"#2B6A99\"\n",
    "nature_green = \"#1B7C3D\"\n",
    "# Morandi six colors\n",
    "morandi_blue = \"#046586\"\n",
    "morandi_green =  \"#28A9A1\"\n",
    "morandi_yellow = \"#C9A77C\"\n",
    "morandi_orange = \"#F4A016\"\n",
    "morandi_pink = \"#F6BBC6\"\n",
    "morandi_red = \"#E71F19\"\n",
    "morandi_purple = \"#B08BEB\"\n",
    "# Others\n",
    "shallow_grey = \"#D3D4D3\"\n",
    "deep_grey = \"#A6ABB6\"\n",
    "# Red and Blue\n",
    "strong_red = \"#A61C5D\"\n",
    "strong_blue = \"#1B64A4\"\n",
    "\n",
    "# Shallow-deep pair\n",
    "shallow_purple = \"#EAD7EA\"\n",
    "deep_purple = \"#BA9DB9\"\n",
    "shallow_cyan = \"#A9D5E0\"\n",
    "deep_cyan = \"#48C0BF\"\n",
    "shallow_blue = \"#B6DAEC\"\n",
    "deep_blue = \"#98CFE4\"\n",
    "shallow_pink = \"#F5E0E5\"\n",
    "deep_pink = \"#E5A7B6\"\n",
    "shallow_green = \"#C2DED0\"\n",
    "deep_green = \"#A5C6B1\"\n",
    "\n",
    "color_pairs = [[shallow_purple, deep_purple],  [shallow_green, deep_green],\n",
    "               [shallow_blue, deep_blue], [shallow_pink, deep_pink], [shallow_cyan, deep_cyan],\n",
    "               [shallow_grey, deep_grey]]\n",
    "morandi_colors = [morandi_blue, morandi_green, morandi_yellow, morandi_orange, morandi_pink, morandi_red, morandi_purple]\n"
   ]
  },
  {
   "cell_type": "code",
   "execution_count": 5,
   "outputs": [
    {
     "name": "stdout",
     "output_type": "stream",
     "text": [
      "(9,)\n",
      "[0.0, 0.41806347999999977, 0.5260346199999999, 0.5738683600000003, 0.5799226600000003, 0.5701122400000003, 0.5593950199999997, 0.5400391400000002, 0.52367362]\n"
     ]
    }
   ],
   "source": [
    "data_folder = r\"E:\\data\\gst-0815-23\\Mechanism_2\\MutualClimb_across_K_alpha_0.25\"\n",
    "gg_climb_file = data_folder + r\"\\gg_mutual_climb_across_K\"\n",
    "gs_climb_file = data_folder + r\"\\gs_mutual_climb_across_K\"\n",
    "ss_climb_file = data_folder + r\"\\ss_mutual_climb_across_K\"\n",
    "sg_climb_file = data_folder + r\"\\sg_mutual_climb_across_K\"\n",
    "\n",
    "with open(gg_climb_file, 'rb') as infile:\n",
    "    gg_climb = pickle.load(infile)\n",
    "with open(gs_climb_file, 'rb') as infile:\n",
    "    gs_climb = pickle.load(infile)\n",
    "with open(ss_climb_file, 'rb') as infile:\n",
    "    ss_climb = pickle.load(infile)\n",
    "with open(sg_climb_file, 'rb') as infile:\n",
    "    sg_climb = pickle.load(infile)\n",
    "print(np.array(gg_climb).shape)\n",
    "print(gg_climb)"
   ],
   "metadata": {
    "collapsed": false,
    "ExecuteTime": {
     "end_time": "2023-10-26T08:13:41.188859500Z",
     "start_time": "2023-10-26T08:13:41.164920Z"
    }
   }
  },
  {
   "cell_type": "code",
   "execution_count": 6,
   "outputs": [
    {
     "data": {
      "text/plain": "<Figure size 432x288 with 1 Axes>",
      "image/png": "[encoded data removed]"
     },
     "metadata": {
      "needs_background": "light"
     },
     "output_type": "display_data"
    }
   ],
   "source": [
    "# GST Fitness\n",
    "x = range(len(gg_climb))\n",
    "fig, ax = plt.subplots()\n",
    "ax.spines[\"left\"].set_linewidth(1.5)\n",
    "ax.spines[\"right\"].set_linewidth(1.5)\n",
    "ax.spines[\"top\"].set_linewidth(1.5)\n",
    "ax.spines[\"bottom\"].set_linewidth(1.5)\n",
    "plt.plot(x, gg_climb, \"-\", label=\"GG\", color=nature_blue)\n",
    "plt.plot(x, sg_climb, \"--\", label=\"SG\", color=nature_blue)\n",
    "\n",
    "plt.plot(x, ss_climb, \"-\", label=\"SS\", color=nature_orange)\n",
    "plt.plot(x, gs_climb, \"--\", label=\"GS\", color=nature_orange)\n",
    "\n",
    "# The solid line is for homogeneous components, so basically it is consistent with the independent perspective (without fitness and only by chance)\n",
    "# However, when they are exposed to difference resource. They behave in totally different directions\n",
    "# For S: S gains more when it searches upon the established solution from G\n",
    "# For G: G gains less when it searches upon the established solutions from S. In other words, G also cannot get rid of the partial attractiveness established by S\n",
    "\n",
    "plt.xlabel('K', fontweight='bold', fontsize=12)\n",
    "plt.ylabel('Mutual Climb', fontweight='bold', fontsize=12)\n",
    "plt.xticks(x)\n",
    "plt.legend(frameon=False, ncol=1, fontsize=12)\n",
    "plt.savefig(data_folder + r\"\\mutual_climb_alpha_0.25.png\", transparent=True, dpi=300)\n",
    "plt.show()"
   ],
   "metadata": {
    "collapsed": false,
    "ExecuteTime": {
     "end_time": "2023-10-26T08:13:41.524625700Z",
     "start_time": "2023-10-26T08:13:41.194859Z"
    }
   }
  },
  {
   "cell_type": "code",
   "execution_count": 6,
   "outputs": [],
   "source": [],
   "metadata": {
    "collapsed": false,
    "ExecuteTime": {
     "end_time": "2023-10-26T08:13:41.542656400Z",
     "start_time": "2023-10-26T08:13:41.524625700Z"
    }
   }
  }
 ],
 "metadata": {
  "kernelspec": {
   "display_name": "Python 3",
   "language": "python",
   "name": "python3"
  },
  "language_info": {
   "codemirror_mode": {
    "name": "ipython",
    "version": 2
   },
   "file_extension": ".py",
   "mimetype": "text/x-python",
   "name": "python",
   "nbconvert_exporter": "python",
   "pygments_lexer": "ipython2",
   "version": "2.7.6"
  }
 },
 "nbformat": 4,
 "nbformat_minor": 0
}
