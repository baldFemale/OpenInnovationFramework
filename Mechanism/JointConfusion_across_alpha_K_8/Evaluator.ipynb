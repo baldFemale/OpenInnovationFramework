{
 "cells": [
  {
   "cell_type": "code",
   "execution_count": 1,
   "metadata": {
    "collapsed": true,
    "ExecuteTime": {
     "end_time": "2023-10-26T07:20:08.033291900Z",
     "start_time": "2023-10-26T07:20:07.643560700Z"
    }
   },
   "outputs": [],
   "source": [
    "import matplotlib.pyplot as plt\n",
    "import numpy as np\n",
    "import pickle\n",
    "legend_properties = {'weight':'bold'}\n",
    "nus_blue = \"#003D7C\"\n",
    "nus_orange = \"#EF7C00\"\n",
    "# Nature three colors\n",
    "nature_orange = \"#F16C23\"\n",
    "nature_blue = \"#2B6A99\"\n",
    "nature_green = \"#1B7C3D\"\n",
    "# Morandi six colors\n",
    "morandi_blue = \"#046586\"\n",
    "morandi_green =  \"#28A9A1\"\n",
    "morandi_yellow = \"#C9A77C\"\n",
    "morandi_orange = \"#F4A016\"\n",
    "morandi_pink = \"#F6BBC6\"\n",
    "morandi_red = \"#E71F19\"\n",
    "morandi_purple = \"#B08BEB\"\n",
    "# Others\n",
    "shallow_grey = \"#D3D4D3\"\n",
    "deep_grey = \"#A6ABB6\"\n",
    "# Red and Blue\n",
    "strong_red = \"#A61C5D\"\n",
    "strong_blue = \"#1B64A4\"\n",
    "\n",
    "# Shallow-deep pair\n",
    "shallow_purple = \"#EAD7EA\"\n",
    "deep_purple = \"#BA9DB9\"\n",
    "shallow_cyan = \"#A9D5E0\"\n",
    "deep_cyan = \"#48C0BF\"\n",
    "shallow_blue = \"#B6DAEC\"\n",
    "deep_blue = \"#98CFE4\"\n",
    "shallow_pink = \"#F5E0E5\"\n",
    "deep_pink = \"#E5A7B6\"\n",
    "shallow_green = \"#C2DED0\"\n",
    "deep_green = \"#A5C6B1\"\n",
    "\n",
    "color_pairs = [[shallow_purple, deep_purple],  [shallow_green, deep_green],\n",
    "               [shallow_blue, deep_blue], [shallow_pink, deep_pink], [shallow_cyan, deep_cyan],\n",
    "               [shallow_grey, deep_grey]]\n",
    "morandi_colors = [morandi_blue, morandi_green, morandi_yellow, morandi_orange, morandi_pink, morandi_red, morandi_purple]\n"
   ]
  },
  {
   "cell_type": "code",
   "execution_count": 2,
   "outputs": [
    {
     "name": "stdout",
     "output_type": "stream",
     "text": [
      "(9,)\n",
      "[0.34954932000000033, 0.35239764000000023, 0.3491598000000002, 0.34939970000000015, 0.3531732600000001, 0.35347378, 0.34964904, 0.34755334000000004, 0.35365596000000016]\n"
     ]
    }
   ],
   "source": [
    "data_folder = r\"E:\\data\\gst-0815-23\\Mechanism_2\\JointConfusion_across_alpha_K_8\"\n",
    "gg_confusion_file = data_folder + r\"\\gg_joint_confusion_across_alpha\"\n",
    "gs_confusion_file = data_folder + r\"\\gs_joint_confusion_across_alpha\"\n",
    "ss_confusion_file = data_folder + r\"\\ss_joint_confusion_across_alpha\"\n",
    "sg_confusion_file = data_folder + r\"\\sg_joint_confusion_across_alpha\"\n",
    "\n",
    "with open(gg_confusion_file, 'rb') as infile:\n",
    "    gg_confusion = pickle.load(infile)\n",
    "with open(gs_confusion_file, 'rb') as infile:\n",
    "    gs_confusion = pickle.load(infile)\n",
    "with open(ss_confusion_file, 'rb') as infile:\n",
    "    ss_confusion = pickle.load(infile)\n",
    "with open(sg_confusion_file, 'rb') as infile:\n",
    "    sg_confusion = pickle.load(infile)\n",
    "print(np.array(gg_confusion).shape)\n",
    "print(gg_confusion)"
   ],
   "metadata": {
    "collapsed": false,
    "ExecuteTime": {
     "end_time": "2023-10-26T07:20:08.049291400Z",
     "start_time": "2023-10-26T07:20:08.037290800Z"
    }
   }
  },
  {
   "cell_type": "code",
   "execution_count": 3,
   "outputs": [
    {
     "data": {
      "text/plain": "<Figure size 432x288 with 1 Axes>",
      "image/png": "[encoded data removed]"
     },
     "metadata": {
      "needs_background": "light"
     },
     "output_type": "display_data"
    }
   ],
   "source": [
    "# GST Fitness\n",
    "# Heterogeneous component will reduce the likelihood of joint confusion\n",
    "# K increases the likelihood of joint confusion (across-domain interdependency)\n",
    "# Seems like K also increases the likelihood of mutual climb\n",
    "# How about (within-domain complexity)?\n",
    "alpha_list = [0.05, 0.10, 0.15, 0.20, 0.25, 0.30, 0.35, 0.40, 0.45]\n",
    "fig, ax = plt.subplots()\n",
    "ax.spines[\"left\"].set_linewidth(1.5)\n",
    "ax.spines[\"right\"].set_linewidth(1.5)\n",
    "ax.spines[\"top\"].set_linewidth(1.5)\n",
    "ax.spines[\"bottom\"].set_linewidth(1.5)\n",
    "plt.plot(alpha_list, gg_confusion, \"-\", label=\"GG\", color=nature_blue)\n",
    "plt.plot(alpha_list, gs_confusion, \"--\", label=\"GS\", color=nature_blue)\n",
    "\n",
    "plt.plot(alpha_list, sg_confusion, \"--\", label=\"SG\", color=nature_orange)\n",
    "plt.plot(alpha_list, ss_confusion, \"-\", label=\"SS\", color=nature_orange)\n",
    "\n",
    "plt.xlabel('$\\\\alpha$', fontweight='bold', fontsize=12)\n",
    "plt.ylabel('Joint Confusion', fontweight='bold', fontsize=12)\n",
    "plt.xticks(alpha_list)\n",
    "plt.legend(frameon=False, ncol=1, fontsize=12)\n",
    "plt.savefig(data_folder + r\"\\joint_confusion_K_8.png\", transparent=True, dpi=300)\n",
    "plt.show()"
   ],
   "metadata": {
    "collapsed": false,
    "ExecuteTime": {
     "end_time": "2023-10-26T07:20:08.590246600Z",
     "start_time": "2023-10-26T07:20:08.052291100Z"
    }
   }
  },
  {
   "cell_type": "code",
   "execution_count": 3,
   "outputs": [],
   "source": [],
   "metadata": {
    "collapsed": false,
    "ExecuteTime": {
     "end_time": "2023-10-26T07:20:08.607248100Z",
     "start_time": "2023-10-26T07:20:08.590246600Z"
    }
   }
  }
 ],
 "metadata": {
  "kernelspec": {
   "display_name": "Python 3",
   "language": "python",
   "name": "python3"
  },
  "language_info": {
   "codemirror_mode": {
    "name": "ipython",
    "version": 2
   },
   "file_extension": ".py",
   "mimetype": "text/x-python",
   "name": "python",
   "nbconvert_exporter": "python",
   "pygments_lexer": "ipython2",
   "version": "2.7.6"
  }
 },
 "nbformat": 4,
 "nbformat_minor": 0
}
