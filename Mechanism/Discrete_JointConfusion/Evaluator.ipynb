{
 "cells": [
  {
   "cell_type": "code",
   "execution_count": 6,
   "metadata": {
    "collapsed": true,
    "ExecuteTime": {
     "end_time": "2023-10-06T10:00:18.818038900Z",
     "start_time": "2023-10-06T10:00:18.805038200Z"
    }
   },
   "outputs": [],
   "source": [
    "import matplotlib.pyplot as plt\n",
    "import numpy as np\n",
    "import pickle\n",
    "legend_properties = {'weight':'bold'}\n",
    "nus_blue = \"#003D7C\"\n",
    "nus_orange = \"#EF7C00\"\n",
    "# Nature three colors\n",
    "nature_orange = \"#F16C23\"\n",
    "nature_blue = \"#2B6A99\"\n",
    "nature_green = \"#1B7C3D\"\n",
    "# Morandi six colors\n",
    "morandi_blue = \"#046586\"\n",
    "morandi_green =  \"#28A9A1\"\n",
    "morandi_yellow = \"#C9A77C\"\n",
    "morandi_orange = \"#F4A016\"\n",
    "morandi_pink = \"#F6BBC6\"\n",
    "morandi_red = \"#E71F19\"\n",
    "morandi_purple = \"#B08BEB\"\n",
    "# Others\n",
    "shallow_grey = \"#D3D4D3\"\n",
    "deep_grey = \"#A6ABB6\"\n",
    "# Red and Blue\n",
    "strong_red = \"#A61C5D\"\n",
    "strong_blue = \"#1B64A4\"\n",
    "\n",
    "# Shallow-deep pair\n",
    "shallow_purple = \"#EAD7EA\"\n",
    "deep_purple = \"#BA9DB9\"\n",
    "shallow_cyan = \"#A9D5E0\"\n",
    "deep_cyan = \"#48C0BF\"\n",
    "shallow_blue = \"#B6DAEC\"\n",
    "deep_blue = \"#98CFE4\"\n",
    "shallow_pink = \"#F5E0E5\"\n",
    "deep_pink = \"#E5A7B6\"\n",
    "shallow_green = \"#C2DED0\"\n",
    "deep_green = \"#A5C6B1\"\n",
    "\n",
    "color_pairs = [[shallow_purple, deep_purple],  [shallow_green, deep_green],\n",
    "               [shallow_blue, deep_blue], [shallow_pink, deep_pink], [shallow_cyan, deep_cyan],\n",
    "               [shallow_grey, deep_grey]]\n",
    "morandi_colors = [morandi_blue, morandi_green, morandi_yellow, morandi_orange, morandi_pink, morandi_red, morandi_purple]\n"
   ]
  },
  {
   "cell_type": "code",
   "execution_count": 7,
   "outputs": [
    {
     "name": "stdout",
     "output_type": "stream",
     "text": [
      "(9,)\n",
      "[0.28228699999999973, 0.16048650000000006, 0.14798349999999996, 0.16863599999999995, 0.19956849999999993, 0.23426199999999991, 0.27611950000000024, 0.31108549999999985, 0.3547380000000001]\n"
     ]
    }
   ],
   "source": [
    "data_folder = r\"E:\\data\\gst-0815-23\\Mechanism\\Discrete_JointConfusion_2\"\n",
    "gg_confusion_file = data_folder + r\"\\gg_joint_confusion_across_K\"\n",
    "gs_confusion_file = data_folder + r\"\\gs_joint_confusion_across_K\"\n",
    "ss_confusion_file = data_folder + r\"\\ss_joint_confusion_across_K\"\n",
    "sg_confusion_file = data_folder + r\"\\sg_joint_confusion_across_K\"\n",
    "\n",
    "with open(gg_confusion_file, 'rb') as infile:\n",
    "    gg_confusion = pickle.load(infile)\n",
    "with open(gs_confusion_file, 'rb') as infile:\n",
    "    gs_confusion = pickle.load(infile)\n",
    "with open(ss_confusion_file, 'rb') as infile:\n",
    "    ss_confusion = pickle.load(infile)\n",
    "with open(sg_confusion_file, 'rb') as infile:\n",
    "    sg_confusion = pickle.load(infile)\n",
    "print(np.array(gg_confusion).shape)\n",
    "print(gg_confusion)"
   ],
   "metadata": {
    "collapsed": false,
    "ExecuteTime": {
     "end_time": "2023-10-06T10:00:21.561461500Z",
     "start_time": "2023-10-06T10:00:21.542435800Z"
    }
   }
  },
  {
   "cell_type": "code",
   "execution_count": 14,
   "outputs": [
    {
     "data": {
      "text/plain": "<Figure size 432x288 with 1 Axes>",
      "image/png": "[encoded data removed]"
     },
     "metadata": {
      "needs_background": "light"
     },
     "output_type": "display_data"
    }
   ],
   "source": [
    "# GST Fitness\n",
    "x = range(1, 9)\n",
    "fig, ax = plt.subplots()\n",
    "ax.spines[\"left\"].set_linewidth(1.5)\n",
    "ax.spines[\"right\"].set_linewidth(1.5)\n",
    "ax.spines[\"top\"].set_linewidth(1.5)\n",
    "ax.spines[\"bottom\"].set_linewidth(1.5)\n",
    "plt.plot(x, gg_confusion[1:], \"-\", label=\"GG\", color=nature_blue)\n",
    "plt.plot(x, gs_confusion[1:], \"--\", label=\"GS\", color=nature_blue)\n",
    "\n",
    "plt.plot(x, sg_confusion[1:], \"--\", label=\"SG\", color=nature_orange)\n",
    "plt.plot(x, ss_confusion[1:], \"-\", label=\"SS\", color=nature_orange)\n",
    "\n",
    "plt.xlabel('K', fontweight='bold', fontsize=12)\n",
    "plt.ylabel('Joint Confusion', fontweight='bold', fontsize=12)\n",
    "plt.xticks(x)\n",
    "plt.legend(frameon=False, ncol=1, fontsize=12)\n",
    "plt.savefig(data_folder + r\"\\joint_confusion.png\", transparent=True, dpi=300)\n",
    "plt.show()"
   ],
   "metadata": {
    "collapsed": false,
    "ExecuteTime": {
     "end_time": "2023-10-06T10:02:44.019960700Z",
     "start_time": "2023-10-06T10:02:43.698877400Z"
    }
   }
  },
  {
   "cell_type": "code",
   "execution_count": null,
   "outputs": [],
   "source": [],
   "metadata": {
    "collapsed": false
   }
  }
 ],
 "metadata": {
  "kernelspec": {
   "display_name": "Python 3",
   "language": "python",
   "name": "python3"
  },
  "language_info": {
   "codemirror_mode": {
    "name": "ipython",
    "version": 2
   },
   "file_extension": ".py",
   "mimetype": "text/x-python",
   "name": "python",
   "nbconvert_exporter": "python",
   "pygments_lexer": "ipython2",
   "version": "2.7.6"
  }
 },
 "nbformat": 4,
 "nbformat_minor": 0
}
