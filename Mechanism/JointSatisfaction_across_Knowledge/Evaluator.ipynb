{
 "cells": [
  {
   "cell_type": "code",
   "execution_count": 6,
   "metadata": {
    "collapsed": true,
    "ExecuteTime": {
     "end_time": "2023-12-07T13:57:54.514523500Z",
     "start_time": "2023-12-07T13:57:54.473464200Z"
    }
   },
   "outputs": [],
   "source": [
    "import matplotlib.pyplot as plt\n",
    "import numpy as np\n",
    "import pickle\n",
    "legend_properties = {'weight':'bold'}\n",
    "nus_blue = \"#003D7C\"\n",
    "nus_orange = \"#EF7C00\"\n",
    "# Nature three colors\n",
    "nature_orange = \"#F16C23\"\n",
    "nature_blue = \"#2B6A99\"\n",
    "nature_green = \"#1B7C3D\"\n",
    "# Morandi six colors\n",
    "morandi_blue = \"#046586\"\n",
    "morandi_green =  \"#28A9A1\"\n",
    "morandi_yellow = \"#C9A77C\"\n",
    "morandi_orange = \"#F4A016\"\n",
    "morandi_pink = \"#F6BBC6\"\n",
    "morandi_red = \"#E71F19\"\n",
    "morandi_purple = \"#B08BEB\"\n",
    "# Others\n",
    "shallow_grey = \"#D3D4D3\"\n",
    "deep_grey = \"#A6ABB6\"\n",
    "# Red and Blue\n",
    "strong_red = \"#A61C5D\"\n",
    "strong_blue = \"#1B64A4\"\n",
    "\n",
    "# Shallow-deep pair\n",
    "shallow_purple = \"#EAD7EA\"\n",
    "deep_purple = \"#BA9DB9\"\n",
    "shallow_cyan = \"#A9D5E0\"\n",
    "deep_cyan = \"#48C0BF\"\n",
    "shallow_blue = \"#B6DAEC\"\n",
    "deep_blue = \"#98CFE4\"\n",
    "shallow_pink = \"#F5E0E5\"\n",
    "deep_pink = \"#E5A7B6\"\n",
    "shallow_green = \"#C2DED0\"\n",
    "deep_green = \"#A5C6B1\"\n",
    "\n",
    "color_pairs = [[shallow_purple, deep_purple],  [shallow_green, deep_green],\n",
    "               [shallow_blue, deep_blue], [shallow_pink, deep_pink], [shallow_cyan, deep_cyan],\n",
    "               [shallow_grey, deep_grey]]\n",
    "morandi_colors = [morandi_blue, morandi_green, morandi_yellow, morandi_orange, morandi_pink, morandi_red, morandi_purple]\n"
   ]
  },
  {
   "cell_type": "code",
   "execution_count": 8,
   "outputs": [
    {
     "ename": "FileNotFoundError",
     "evalue": "[Errno 2] No such file or directory: 'E:\\\\data\\\\gst-0815-23\\\\Mechanism_4\\\\JointSatisfaction_across_knowledge_2\\\\sg_joint_satisfaction_across_K_G_10'",
     "output_type": "error",
     "traceback": [
      "\u001B[1;31m---------------------------------------------------------------------------\u001B[0m",
      "\u001B[1;31mFileNotFoundError\u001B[0m                         Traceback (most recent call last)",
      "\u001B[1;32m<ipython-input-8-3fc7e1e97206>\u001B[0m in \u001B[0;36m<module>\u001B[1;34m\u001B[0m\n\u001B[0;32m      8\u001B[0m     \u001B[1;32mwith\u001B[0m \u001B[0mopen\u001B[0m\u001B[1;33m(\u001B[0m\u001B[0mgg_confusion_file\u001B[0m\u001B[1;33m,\u001B[0m \u001B[1;34m'rb'\u001B[0m\u001B[1;33m)\u001B[0m \u001B[1;32mas\u001B[0m \u001B[0minfile\u001B[0m\u001B[1;33m:\u001B[0m\u001B[1;33m\u001B[0m\u001B[1;33m\u001B[0m\u001B[0m\n\u001B[0;32m      9\u001B[0m         \u001B[0mgg_confusion\u001B[0m \u001B[1;33m=\u001B[0m \u001B[0mpickle\u001B[0m\u001B[1;33m.\u001B[0m\u001B[0mload\u001B[0m\u001B[1;33m(\u001B[0m\u001B[0minfile\u001B[0m\u001B[1;33m)\u001B[0m\u001B[1;33m\u001B[0m\u001B[1;33m\u001B[0m\u001B[0m\n\u001B[1;32m---> 10\u001B[1;33m     \u001B[1;32mwith\u001B[0m \u001B[0mopen\u001B[0m\u001B[1;33m(\u001B[0m\u001B[0msg_confusion_file\u001B[0m\u001B[1;33m,\u001B[0m \u001B[1;34m'rb'\u001B[0m\u001B[1;33m)\u001B[0m \u001B[1;32mas\u001B[0m \u001B[0minfile\u001B[0m\u001B[1;33m:\u001B[0m\u001B[1;33m\u001B[0m\u001B[1;33m\u001B[0m\u001B[0m\n\u001B[0m\u001B[0;32m     11\u001B[0m         \u001B[0msg_confusion\u001B[0m \u001B[1;33m=\u001B[0m \u001B[0mpickle\u001B[0m\u001B[1;33m.\u001B[0m\u001B[0mload\u001B[0m\u001B[1;33m(\u001B[0m\u001B[0minfile\u001B[0m\u001B[1;33m)\u001B[0m\u001B[1;33m\u001B[0m\u001B[1;33m\u001B[0m\u001B[0m\n\u001B[0;32m     12\u001B[0m     \u001B[0mprint\u001B[0m\u001B[1;33m(\u001B[0m\u001B[0mg_expertise\u001B[0m\u001B[1;33m,\u001B[0m \u001B[0mgg_confusion\u001B[0m\u001B[1;33m)\u001B[0m\u001B[1;33m\u001B[0m\u001B[1;33m\u001B[0m\u001B[0m\n",
      "\u001B[1;31mFileNotFoundError\u001B[0m: [Errno 2] No such file or directory: 'E:\\\\data\\\\gst-0815-23\\\\Mechanism_4\\\\JointSatisfaction_across_knowledge_2\\\\sg_joint_satisfaction_across_K_G_10'"
     ]
    }
   ],
   "source": [
    "data_folder = r\"E:\\data\\gst-0815-23\\Mechanism_4\\JointSatisfaction_across_knowledge_2\"\n",
    "# GG\n",
    "generalist_expertise_list = [10, 12, 14, 16, 18]\n",
    "gg_satisfaction_across_knowledge, sg_satisfaction_across_knowledge = [], []\n",
    "for g_expertise in generalist_expertise_list:\n",
    "    gg_confusion_file = data_folder + r\"\\gg_joint_satisfaction_across_K_G_{0}\".format(g_expertise)\n",
    "    sg_confusion_file = data_folder + r\"\\sg_joint_satisfaction_across_K_G_{0}\".format(g_expertise)\n",
    "    with open(gg_confusion_file, 'rb') as infile:\n",
    "        gg_confusion = pickle.load(infile)\n",
    "    with open(sg_confusion_file, 'rb') as infile:\n",
    "        sg_confusion = pickle.load(infile)\n",
    "    print(g_expertise, gg_confusion)\n",
    "    gg_satisfaction_across_knowledge.append(gg_confusion)\n",
    "    sg_satisfaction_across_knowledge.append(gg_confusion)\n",
    "\n",
    "x = range(9)\n",
    "fig, ax = plt.subplots()\n",
    "ax.spines[\"left\"].set_linewidth(1.5)\n",
    "ax.spines[\"right\"].set_linewidth(1.5)\n",
    "ax.spines[\"top\"].set_linewidth(1.5)\n",
    "ax.spines[\"bottom\"].set_linewidth(1.5)\n",
    "plt.plot(x, gg_satisfaction_across_knowledge[0], \"-\", label=\"G10\", color=morandi_colors[0])\n",
    "plt.plot(x, gg_satisfaction_across_knowledge[1], \"-\", label=\"G12\", color=morandi_colors[1])\n",
    "plt.plot(x, gg_satisfaction_across_knowledge[2], \"-\", label=\"G14\", color=morandi_colors[2])\n",
    "plt.plot(x, gg_satisfaction_across_knowledge[3], \"-\", label=\"G16\", color=morandi_colors[3])\n",
    "plt.xlabel('K', fontweight='bold', fontsize=12)\n",
    "plt.ylabel('Joint Satisfaction', fontweight='bold', fontsize=12)\n",
    "plt.title(\"GG\")\n",
    "plt.xticks(x)\n",
    "plt.legend(frameon=False, ncol=1, fontsize=12)\n",
    "plt.savefig(data_folder + r\"\\gg_joint_satisfaction_across_knowledge.png\", transparent=True, dpi=300)\n",
    "plt.show()"
   ],
   "metadata": {
    "collapsed": false,
    "ExecuteTime": {
     "end_time": "2023-12-07T13:58:17.073607500Z",
     "start_time": "2023-12-07T13:58:17.050020200Z"
    }
   }
  },
  {
   "cell_type": "code",
   "execution_count": null,
   "outputs": [],
   "source": [
    "# SG\n",
    "x = range(9)\n",
    "fig, ax = plt.subplots()\n",
    "ax.spines[\"left\"].set_linewidth(1.5)\n",
    "ax.spines[\"right\"].set_linewidth(1.5)\n",
    "ax.spines[\"top\"].set_linewidth(1.5)\n",
    "ax.spines[\"bottom\"].set_linewidth(1.5)\n",
    "plt.plot(x, sg_satisfaction_across_knowledge[0], \"-\", label=\"G10\", color=morandi_colors[0])\n",
    "plt.plot(x, sg_satisfaction_across_knowledge[1], \"-\", label=\"G12\", color=morandi_colors[1])\n",
    "plt.plot(x, sg_satisfaction_across_knowledge[2], \"-\", label=\"G14\", color=morandi_colors[2])\n",
    "plt.plot(x, sg_satisfaction_across_knowledge[3], \"-\", label=\"G16\", color=morandi_colors[3])\n",
    "plt.xlabel('K', fontweight='bold', fontsize=12)\n",
    "plt.ylabel('Joint Satisfaction', fontweight='bold', fontsize=12)\n",
    "plt.title(\"SG\")\n",
    "plt.xticks(x)\n",
    "plt.legend(frameon=False, ncol=1, fontsize=12)\n",
    "plt.savefig(data_folder + r\"\\sg_joint_satisfaction_across_knowledge.png\", transparent=True, dpi=300)\n",
    "plt.show()"
   ],
   "metadata": {
    "collapsed": false,
    "ExecuteTime": {
     "start_time": "2023-12-07T13:57:54.508468300Z"
    }
   }
  },
  {
   "cell_type": "code",
   "execution_count": null,
   "outputs": [],
   "source": [
    "# GS\n",
    "specialist_expertise_list = [8, 12, 16, 20, 24, 32, 36]\n",
    "gs_satisfaction_across_knowledge, ss_satisfaction_across_knowledge = [], []\n",
    "for s_expertise in specialist_expertise_list:\n",
    "    ss_confusion_file = data_folder + r\"\\ss_joint_satisfaction_across_K_S_{0}\".format(s_expertise)\n",
    "    gs_confusion_file = data_folder + r\"\\gs_joint_satisfaction_across_K_S_{0}\".format(s_expertise)\n",
    "    with open(gs_confusion_file, 'rb') as infile:\n",
    "        gs_confusion = pickle.load(infile)\n",
    "    with open(gs_confusion_file, 'rb') as infile:\n",
    "        ss_confusion = pickle.load(infile)\n",
    "    gs_satisfaction_across_knowledge.append(gs_confusion)\n",
    "    ss_satisfaction_across_knowledge.append(ss_confusion)\n",
    "\n",
    "x = range(9)\n",
    "fig, ax = plt.subplots()\n",
    "ax.spines[\"left\"].set_linewidth(1.5)\n",
    "ax.spines[\"right\"].set_linewidth(1.5)\n",
    "ax.spines[\"top\"].set_linewidth(1.5)\n",
    "ax.spines[\"bottom\"].set_linewidth(1.5)\n",
    "plt.plot(x, gs_satisfaction_across_knowledge[0], \"-\", label=\"S8\", color=morandi_colors[0])\n",
    "plt.plot(x, gs_satisfaction_across_knowledge[1], \"-\", label=\"S12\", color=morandi_colors[1])\n",
    "plt.plot(x, gs_satisfaction_across_knowledge[2], \"-\", label=\"S16\", color=morandi_colors[2])\n",
    "plt.plot(x, gs_satisfaction_across_knowledge[3], \"-\", label=\"S20\", color=morandi_colors[3])\n",
    "plt.plot(x, gs_satisfaction_across_knowledge[4], \"-\", label=\"S24\", color=morandi_colors[4])\n",
    "plt.plot(x, gs_satisfaction_across_knowledge[5], \"-\", label=\"S32\", color=morandi_colors[5])\n",
    "plt.plot(x, gs_satisfaction_across_knowledge[6], \"-\", label=\"S36\", color=morandi_colors[6])\n",
    "plt.xlabel('K', fontweight='bold', fontsize=12)\n",
    "plt.ylabel('Joint Satisfaction', fontweight='bold', fontsize=12)\n",
    "plt.title(\"GS\")\n",
    "plt.xticks(x)\n",
    "plt.legend(frameon=False, ncol=1, fontsize=12)\n",
    "plt.savefig(data_folder + r\"\\gs_joint_satisfaction_across_knowledge.png\", transparent=True, dpi=300)\n",
    "plt.show()"
   ],
   "metadata": {
    "collapsed": false,
    "ExecuteTime": {
     "start_time": "2023-12-07T13:57:54.510518200Z"
    }
   }
  },
  {
   "cell_type": "code",
   "execution_count": null,
   "outputs": [],
   "source": [
    "# SS\n",
    "x = range(9)\n",
    "fig, ax = plt.subplots()\n",
    "ax.spines[\"left\"].set_linewidth(1.5)\n",
    "ax.spines[\"right\"].set_linewidth(1.5)\n",
    "ax.spines[\"top\"].set_linewidth(1.5)\n",
    "ax.spines[\"bottom\"].set_linewidth(1.5)\n",
    "plt.plot(x, ss_satisfaction_across_knowledge[0], \"-\", label=\"S8\", color=morandi_colors[0])\n",
    "plt.plot(x, ss_satisfaction_across_knowledge[1], \"-\", label=\"S12\", color=morandi_colors[1])\n",
    "plt.plot(x, ss_satisfaction_across_knowledge[2], \"-\", label=\"S16\", color=morandi_colors[2])\n",
    "plt.plot(x, ss_satisfaction_across_knowledge[3], \"-\", label=\"S20\", color=morandi_colors[3])\n",
    "plt.plot(x, ss_satisfaction_across_knowledge[4], \"-\", label=\"S24\", color=morandi_colors[4])\n",
    "plt.plot(x, ss_satisfaction_across_knowledge[5], \"-\", label=\"S32\", color=morandi_colors[5])\n",
    "plt.plot(x, ss_satisfaction_across_knowledge[6], \"-\", label=\"S36\", color=morandi_colors[6])\n",
    "plt.xlabel('K', fontweight='bold', fontsize=12)\n",
    "plt.ylabel('Joint Satisfaction', fontweight='bold', fontsize=12)\n",
    "plt.title(\"SS\")\n",
    "plt.xticks(x)\n",
    "plt.legend(frameon=False, ncol=1, fontsize=12)\n",
    "plt.savefig(data_folder + r\"\\ss_joint_satisfaction_across_knowledge.png\", transparent=True, dpi=300)\n",
    "plt.show()"
   ],
   "metadata": {
    "collapsed": false,
    "ExecuteTime": {
     "start_time": "2023-12-07T13:57:54.511503Z"
    }
   }
  },
  {
   "cell_type": "code",
   "execution_count": null,
   "outputs": [],
   "source": [],
   "metadata": {
    "collapsed": false,
    "ExecuteTime": {
     "start_time": "2023-12-07T13:57:54.513505200Z"
    }
   }
  }
 ],
 "metadata": {
  "kernelspec": {
   "display_name": "Python 3",
   "language": "python",
   "name": "python3"
  },
  "language_info": {
   "codemirror_mode": {
    "name": "ipython",
    "version": 2
   },
   "file_extension": ".py",
   "mimetype": "text/x-python",
   "name": "python",
   "nbconvert_exporter": "python",
   "pygments_lexer": "ipython2",
   "version": "2.7.6"
  }
 },
 "nbformat": 4,
 "nbformat_minor": 0
}
