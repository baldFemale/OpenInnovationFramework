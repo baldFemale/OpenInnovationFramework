{
 "cells": [
  {
   "cell_type": "code",
   "execution_count": null,
   "metadata": {
    "collapsed": true
   },
   "outputs": [],
   "source": [
    "import matplotlib.pyplot as plt\n",
    "import numpy as np\n",
    "import pickle\n",
    "legend_properties = {'weight':'bold'}\n",
    "nus_blue = \"#003D7C\"\n",
    "nus_orange = \"#EF7C00\"\n",
    "# Nature three colors\n",
    "nature_orange = \"#F16C23\"\n",
    "nature_blue = \"#2B6A99\"\n",
    "nature_green = \"#1B7C3D\"\n",
    "# Morandi six colors\n",
    "morandi_blue = \"#046586\"\n",
    "morandi_green =  \"#28A9A1\"\n",
    "morandi_yellow = \"#C9A77C\"\n",
    "morandi_orange = \"#F4A016\"\n",
    "morandi_pink = \"#F6BBC6\"\n",
    "morandi_red = \"#E71F19\"\n",
    "morandi_purple = \"#B08BEB\"\n",
    "# Others\n",
    "shallow_grey = \"#D3D4D3\"\n",
    "deep_grey = \"#A6ABB6\"\n",
    "# Red and Blue\n",
    "strong_red = \"#A61C5D\"\n",
    "strong_blue = \"#1B64A4\"\n",
    "\n",
    "# Shallow-deep pair\n",
    "shallow_purple = \"#EAD7EA\"\n",
    "deep_purple = \"#BA9DB9\"\n",
    "shallow_cyan = \"#A9D5E0\"\n",
    "deep_cyan = \"#48C0BF\"\n",
    "shallow_blue = \"#B6DAEC\"\n",
    "deep_blue = \"#98CFE4\"\n",
    "shallow_pink = \"#F5E0E5\"\n",
    "deep_pink = \"#E5A7B6\"\n",
    "shallow_green = \"#C2DED0\"\n",
    "deep_green = \"#A5C6B1\"\n",
    "\n",
    "color_pairs = [[shallow_purple, deep_purple],  [shallow_green, deep_green],\n",
    "               [shallow_blue, deep_blue], [shallow_pink, deep_pink], [shallow_cyan, deep_cyan],\n",
    "               [shallow_grey, deep_grey]]\n",
    "morandi_colors = [morandi_blue, morandi_green, morandi_yellow, morandi_orange, morandi_pink, morandi_red, morandi_purple]\n"
   ]
  },
  {
   "cell_type": "code",
   "execution_count": 14,
   "outputs": [
    {
     "name": "stdout",
     "output_type": "stream",
     "text": [
      "[1.0, 1.0, 1.0, 1.0, 1.0, 1.0, 1.0, 1.0, 1.0]\n",
      "[1.0, 1.0, 1.0, 1.0, 1.0, 1.0, 1.0, 1.0, 1.0]\n",
      "[1.0, 1.0, 1.0, 1.0, 1.0, 1.0, 1.0, 1.0, 1.0]\n",
      "[1.0, 1.0, 1.0, 1.0, 1.0, 1.0, 1.0, 1.0, 1.0]\n",
      "[1.0, 1.0, 1.0, 1.0, 1.0, 1.0, 1.0, 1.0, 1.0]\n",
      "[1.0, 1.0, 1.0, 1.0, 1.0, 1.0, 1.0, 1.0, 1.0]\n",
      "[1.0, 1.0, 1.0, 1.0, 1.0, 1.0, 1.0, 1.0, 1.0]\n",
      "[1.0, 1.0, 1.0, 1.0, 1.0, 1.0, 1.0, 1.0, 1.0]\n",
      "[1.0, 1.0, 1.0, 1.0, 1.0, 1.0, 1.0, 1.0, 1.0]\n"
     ]
    }
   ],
   "source": [
    "data_folder = r\"E:\\data\\gst-0815-23\\Mechanism_3\\JointSatisfaction_across_alpha\"\n",
    "alpha_list = [0.05, 0.10, 0.15, 0.20, 0.25, 0.30, 0.35, 0.40, 0.45]\n",
    "gg_satisfaction_across_K_alpha, gs_satisfaction_across_K_alpha, ss_satisfaction_across_K_alpha, sg_satisfaction_across_K_alpha = [], [], [], []\n",
    "for alpha in alpha_list:\n",
    "    gg_confusion_file = data_folder + r\"\\gg_joint_satisfaction_across_K_alpha_{0}\".format(alpha)\n",
    "    gs_confusion_file = data_folder + r\"\\gs_joint_satisfaction_across_K_alpha_{0}\".format(alpha)\n",
    "    ss_confusion_file = data_folder + r\"\\ss_joint_satisfaction_across_K_alpha_{0}\".format(alpha)\n",
    "    sg_confusion_file = data_folder + r\"\\sg_joint_satisfaction_across_K_alpha_{0}\".format(alpha)\n",
    "    \n",
    "    with open(gg_confusion_file, 'rb') as infile:\n",
    "        gg_confusion = pickle.load(infile)\n",
    "    with open(gs_confusion_file, 'rb') as infile:\n",
    "        gs_confusion = pickle.load(infile)\n",
    "    with open(ss_confusion_file, 'rb') as infile:\n",
    "        ss_confusion = pickle.load(infile)\n",
    "    with open(sg_confusion_file, 'rb') as infile:\n",
    "        sg_confusion = pickle.load(infile)\n",
    "        \n",
    "    gg_satisfaction_across_K_alpha.append(gg_confusion)\n",
    "    gs_satisfaction_across_K_alpha.append(gs_confusion)\n",
    "    ss_satisfaction_across_K_alpha.append(ss_confusion)\n",
    "    sg_satisfaction_across_K_alpha.append(sg_confusion)\n",
    "    print(sg_confusion)\n",
    "# print(np.array(ss_satisfaction_across_K_alpha).shape)\n",
    "# print(gs_satisfaction_across_K_alpha)\n",
    "# print(sg_satisfaction_across_K_alpha)"
   ],
   "metadata": {
    "collapsed": false,
    "ExecuteTime": {
     "end_time": "2023-11-11T14:04:22.837743400Z",
     "start_time": "2023-11-11T14:04:22.807673700Z"
    }
   }
  },
  {
   "cell_type": "code",
   "execution_count": 10,
   "outputs": [
    {
     "data": {
      "text/plain": "<Figure size 432x288 with 2 Axes>",
      "image/png": "[encoded data removed]"
     },
     "metadata": {
      "needs_background": "light"
     },
     "output_type": "display_data"
    }
   ],
   "source": [
    "# heatmap figure to replace the 3D surface\n",
    "import numpy as np\n",
    "import matplotlib.pyplot as plt\n",
    "K_list = [0, 1, 2, 3, 4, 5, 6, 7, 8]\n",
    "# Generate some sample data\n",
    "x = K_list\n",
    "y = alpha_list\n",
    "X, Y = np.meshgrid(x, y)     # Create a grid of x and y values\n",
    "gg_fitness_across_alpha = np.array(gg_satisfaction_across_K_alpha)\n",
    "z = gg_fitness_across_alpha\n",
    "# Create the 2D color plot\n",
    "plt.pcolormesh(x, y, z, cmap='jet')\n",
    "plt.colorbar()  # Add a colorbar for reference\n",
    "\n",
    "# Set the axis labels and title\n",
    "plt.xlabel('K')\n",
    "plt.xticks(x)\n",
    "# plt.yticks(y)\n",
    "plt.ylabel('$\\\\alpha$')\n",
    "plt.title('GG Joint Satisfaction across $K$ and $\\\\alpha$')\n",
    "plt.savefig(data_folder + r\"\\GG_satisfaction.png\", transparent=True, dpi=300)\n",
    "# Display the plot\n",
    "plt.show()\n"
   ],
   "metadata": {
    "collapsed": false,
    "ExecuteTime": {
     "end_time": "2023-11-11T13:38:29.600133100Z",
     "start_time": "2023-11-11T13:38:29.120122300Z"
    }
   }
  },
  {
   "cell_type": "code",
   "execution_count": 5,
   "outputs": [
    {
     "data": {
      "text/plain": "<Figure size 432x288 with 2 Axes>",
      "image/png": "[encoded data removed]"
     },
     "metadata": {
      "needs_background": "light"
     },
     "output_type": "display_data"
    }
   ],
   "source": [
    "# heatmap figure to replace the 3D surface\n",
    "import numpy as np\n",
    "import matplotlib.pyplot as plt\n",
    "K_list = [0, 1, 2, 3, 4, 5, 6, 7, 8]\n",
    "# Generate some sample data\n",
    "x = K_list\n",
    "y = alpha_list\n",
    "X, Y = np.meshgrid(x, y)     # Create a grid of x and y values\n",
    "gs_fitness_across_alpha = np.array(gs_satisfaction_across_K_alpha)\n",
    "z = gs_fitness_across_alpha\n",
    "# Create the 2D color plot\n",
    "plt.pcolormesh(x, y, z, cmap='jet')\n",
    "plt.colorbar()  # Add a colorbar for reference\n",
    "\n",
    "# Set the axis labels and title\n",
    "plt.xlabel('K')\n",
    "plt.xticks(x)\n",
    "# plt.yticks(y)\n",
    "plt.ylabel('$\\\\alpha$')\n",
    "plt.title('GS Joint Satisfaction across $K$ and $\\\\alpha$')\n",
    "plt.savefig(data_folder + r\"\\GS_satisfaction.png\", transparent=True, dpi=300)\n",
    "# Display the plot\n",
    "plt.show()"
   ],
   "metadata": {
    "collapsed": false,
    "ExecuteTime": {
     "end_time": "2023-11-11T13:37:14.482952200Z",
     "start_time": "2023-11-11T13:37:14.080500200Z"
    }
   }
  },
  {
   "cell_type": "code",
   "execution_count": 11,
   "outputs": [
    {
     "data": {
      "text/plain": "<Figure size 432x288 with 2 Axes>",
      "image/png": "[encoded data removed]"
     },
     "metadata": {
      "needs_background": "light"
     },
     "output_type": "display_data"
    }
   ],
   "source": [
    "# heatmap figure to replace the 3D surface\n",
    "import numpy as np\n",
    "import matplotlib.pyplot as plt\n",
    "K_list = [0, 1, 2, 3, 4, 5, 6, 7, 8]\n",
    "# Generate some sample data\n",
    "x = K_list\n",
    "y = alpha_list\n",
    "X, Y = np.meshgrid(x, y)     # Create a grid of x and y values\n",
    "ss_fitness_across_alpha = np.array(ss_satisfaction_across_K_alpha)\n",
    "z = ss_fitness_across_alpha\n",
    "# Create the 2D color plot\n",
    "plt.pcolormesh(x, y, z, cmap='jet')\n",
    "plt.colorbar()  # Add a colorbar for reference\n",
    "\n",
    "# Set the axis labels and title\n",
    "plt.xlabel('K')\n",
    "plt.xticks(x)\n",
    "# plt.yticks(y)\n",
    "plt.ylabel('$\\\\alpha$')\n",
    "plt.title('SS Joint Satisfaction across $K$ and $\\\\alpha$')\n",
    "plt.savefig(data_folder + r\"\\SS_satisfaction.png\", transparent=True, dpi=300)\n",
    "# Display the plot\n",
    "plt.show()\n"
   ],
   "metadata": {
    "collapsed": false,
    "ExecuteTime": {
     "end_time": "2023-11-11T13:39:03.448857900Z",
     "start_time": "2023-11-11T13:39:03.075159Z"
    }
   }
  },
  {
   "cell_type": "code",
   "execution_count": 12,
   "outputs": [
    {
     "data": {
      "text/plain": "<Figure size 432x288 with 2 Axes>",
      "image/png": "[encoded data removed]"
     },
     "metadata": {
      "needs_background": "light"
     },
     "output_type": "display_data"
    }
   ],
   "source": [
    "# heatmap figure to replace the 3D surface\n",
    "import numpy as np\n",
    "import matplotlib.pyplot as plt\n",
    "K_list = [0, 1, 2, 3, 4, 5, 6, 7, 8]\n",
    "# Generate some sample data\n",
    "x = K_list\n",
    "y = alpha_list\n",
    "X, Y = np.meshgrid(x, y)     # Create a grid of x and y values\n",
    "sg_fitness_across_alpha = np.array(sg_satisfaction_across_K_alpha)\n",
    "z = sg_fitness_across_alpha\n",
    "# Create the 2D color plot\n",
    "plt.pcolormesh(x, y, z, cmap='jet')\n",
    "plt.colorbar()  # Add a colorbar for reference\n",
    "\n",
    "# Set the axis labels and title\n",
    "plt.xlabel('K')\n",
    "plt.xticks(x)\n",
    "# plt.yticks(y)\n",
    "plt.ylabel('$\\\\alpha$')\n",
    "plt.title('SG Joint Satisfaction across $K$ and $\\\\alpha$')\n",
    "plt.savefig(data_folder + r\"\\SG_satisfaction.png\", transparent=True, dpi=300)\n",
    "# Display the plot\n",
    "plt.show()\n"
   ],
   "metadata": {
    "collapsed": false,
    "ExecuteTime": {
     "end_time": "2023-11-11T13:39:36.895904100Z",
     "start_time": "2023-11-11T13:39:36.479353800Z"
    }
   }
  },
  {
   "cell_type": "code",
   "execution_count": null,
   "outputs": [],
   "source": [
    "# GST Fitness\n",
    "# Heterogeneous component will reduce the likelihood of joint confusion\n",
    "# K increases the likelihood of joint confusion (across-domain interdependency)\n",
    "# Seems like K also increases the likelihood of mutual climb\n",
    "# How about (within-domain complexity)?\n",
    "x = range(9)\n",
    "fig, ax = plt.subplots()\n",
    "ax.spines[\"left\"].set_linewidth(1.5)\n",
    "ax.spines[\"right\"].set_linewidth(1.5)\n",
    "ax.spines[\"top\"].set_linewidth(1.5)\n",
    "ax.spines[\"bottom\"].set_linewidth(1.5)\n",
    "plt.plot(x, gg_confusion[0], \"-\", label=\"GG\", color=nature_blue)\n",
    "plt.plot(x, gs_confusion[], \"--\", label=\"GS\", color=nature_blue)\n",
    "\n",
    "plt.plot(x, sg_confusion, \"--\", label=\"SG\", color=nature_orange)\n",
    "plt.plot(x, ss_confusion, \"-\", label=\"SS\", color=nature_orange)\n",
    "\n",
    "plt.xlabel('K', fontweight='bold', fontsize=12)\n",
    "plt.ylabel('Joint Confusion', fontweight='bold', fontsize=12)\n",
    "plt.xticks(x)\n",
    "plt.legend(frameon=False, ncol=1, fontsize=12)\n",
    "plt.savefig(data_folder + r\"\\joint_confusion.png\", transparent=True, dpi=300)\n",
    "plt.show()"
   ],
   "metadata": {
    "collapsed": false
   }
  },
  {
   "cell_type": "code",
   "outputs": [],
   "source": [],
   "metadata": {
    "collapsed": false
   }
  }
 ],
 "metadata": {
  "kernelspec": {
   "display_name": "Python 3",
   "language": "python",
   "name": "python3"
  },
  "language_info": {
   "codemirror_mode": {
    "name": "ipython",
    "version": 2
   },
   "file_extension": ".py",
   "mimetype": "text/x-python",
   "name": "python",
   "nbconvert_exporter": "python",
   "pygments_lexer": "ipython2",
   "version": "2.7.6"
  }
 },
 "nbformat": 4,
 "nbformat_minor": 0
}
