{
 "cells": [
  {
   "cell_type": "code",
   "execution_count": 1,
   "metadata": {
    "collapsed": true
   },
   "outputs": [],
   "source": [
    "import matplotlib.pyplot as plt\n",
    "import pickle\n",
    "import numpy as np"
   ]
  },
  {
   "cell_type": "code",
   "execution_count": 3,
   "outputs": [],
   "source": [
    "data_folder = r\"E:\\data\\gst-1112\\Coupling\\ss\"\n",
    "\n",
    "s1_performance_0_file = data_folder + r\"\\s1_performance_across_K_0\"\n",
    "s1_performance_1_file = data_folder + r\"\\s1_performance_across_K_1\"\n",
    "s1_performance_2_file = data_folder + r\"\\s1_performance_across_K_2\"\n",
    "s1_performance_3_file = data_folder + r\"\\s1_performance_across_K_3\"\n",
    "with open(s1_performance_0_file, 'rb') as infile:\n",
    "    s1_performance_0 = pickle.load(infile)\n",
    "with open(s1_performance_1_file, 'rb') as infile:\n",
    "    s1_performance_1 = pickle.load(infile)\n",
    "with open(s1_performance_2_file, 'rb') as infile:\n",
    "    s1_performance_2 = pickle.load(infile)\n",
    "with open(s1_performance_3_file, 'rb') as infile:\n",
    "    s1_performance_3 = pickle.load(infile)\n",
    "\n",
    "s2_performance_0_file = data_folder + r\"\\s2_performance_across_K_0\"\n",
    "s2_performance_1_file = data_folder + r\"\\s2_performance_across_K_1\"\n",
    "s2_performance_2_file = data_folder + r\"\\s2_performance_across_K_2\"\n",
    "s2_performance_3_file = data_folder + r\"\\s2_performance_across_K_3\"\n",
    "with open(s2_performance_0_file, 'rb') as infile:\n",
    "    s2_performance_0 = pickle.load(infile)\n",
    "with open(s2_performance_1_file, 'rb') as infile:\n",
    "    s2_performance_1 = pickle.load(infile)\n",
    "with open(s2_performance_2_file, 'rb') as infile:\n",
    "    s2_performance_2 = pickle.load(infile)\n",
    "with open(s2_performance_3_file, 'rb') as infile:\n",
    "    s2_performance_3 = pickle.load(infile)"
   ],
   "metadata": {
    "collapsed": false
   }
  },
  {
   "cell_type": "code",
   "execution_count": 8,
   "outputs": [
    {
     "name": "stdout",
     "output_type": "stream",
     "text": [
      "(36,)\n",
      "(27,)\n",
      "(18,)\n",
      "(9,)\n"
     ]
    },
    {
     "data": {
      "text/plain": "<Figure size 432x288 with 1 Axes>",
      "image/png": "[encoded data removed]"
     },
     "metadata": {
      "needs_background": "light"
     },
     "output_type": "display_data"
    },
    {
     "name": "stdout",
     "output_type": "stream",
     "text": [
      "END\n"
     ]
    },
    {
     "data": {
      "text/plain": "<Figure size 432x288 with 0 Axes>"
     },
     "metadata": {},
     "output_type": "display_data"
    }
   ],
   "source": [
    "# Performance\n",
    "x = [0, 1, 2, 3, 4, 5, 6, 7, 8]\n",
    "print(np.array(s2_performance_0).shape)\n",
    "print(np.array(s2_performance_1).shape)\n",
    "print(np.array(s2_performance_2).shape)\n",
    "print(np.array(s2_performance_3).shape)\n",
    "# G1\n",
    "plt.plot(x, s2_performance_0[27::], \"r-\", label=\"Zero\")\n",
    "plt.plot(x, s2_performance_1[18:27], \"b-\", label=\"Low\")\n",
    "plt.plot(x, s2_performance_2[9:18], \"g-\", label=\"Middle\")\n",
    "plt.plot(x, s2_performance_3, \"k-\", label=\"High\")\n",
    "plt.xlabel('K', fontweight='bold', fontsize=10)\n",
    "plt.ylabel('Performance', fontweight='bold', fontsize=10)\n",
    "plt.xticks(x)\n",
    "plt.title(\"S2 Coupling across Overlap\")\n",
    "plt.legend(frameon=False, ncol=3, fontsize=10)\n",
    "plt.savefig(data_folder + r\"\\SS_Performance_K.png\", transparent=False, dpi=200)\n",
    "plt.show()\n",
    "plt.clf()\n",
    "print(\"END\")"
   ],
   "metadata": {
    "collapsed": false
   }
  },
  {
   "cell_type": "code",
   "execution_count": null,
   "outputs": [],
   "source": [],
   "metadata": {
    "collapsed": false
   }
  },
  {
   "cell_type": "code",
   "execution_count": null,
   "outputs": [],
   "source": [],
   "metadata": {
    "collapsed": false
   }
  },
  {
   "cell_type": "code",
   "execution_count": null,
   "outputs": [],
   "source": [],
   "metadata": {
    "collapsed": false
   }
  },
  {
   "cell_type": "code",
   "execution_count": null,
   "outputs": [],
   "source": [],
   "metadata": {
    "collapsed": false
   }
  }
 ],
 "metadata": {
  "kernelspec": {
   "display_name": "Python 3",
   "language": "python",
   "name": "python3"
  },
  "language_info": {
   "codemirror_mode": {
    "name": "ipython",
    "version": 2
   },
   "file_extension": ".py",
   "mimetype": "text/x-python",
   "name": "python",
   "nbconvert_exporter": "python",
   "pygments_lexer": "ipython2",
   "version": "2.7.6"
  }
 },
 "nbformat": 4,
 "nbformat_minor": 0
}
