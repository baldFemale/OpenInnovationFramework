{
 "cells": [
  {
   "cell_type": "code",
   "execution_count": 3,
   "metadata": {
    "collapsed": true,
    "ExecuteTime": {
     "end_time": "2023-05-27T07:25:08.499157200Z",
     "start_time": "2023-05-27T07:25:08.488034Z"
    }
   },
   "outputs": [],
   "source": [
    "import matplotlib.pyplot as plt\n",
    "# plt.interactive(False)\n",
    "from scipy.stats import gaussian_kde\n",
    "from scipy.special import kl_div\n",
    "import numpy as np\n",
    "import pickle\n",
    "legend_properties = {'weight':'bold'}\n",
    "nus_blue = \"#003D7C\"\n",
    "nus_orange = \"#EF7C00\"\n",
    "# Nature three colors\n",
    "nature_orange = \"#F16C23\"\n",
    "nature_blue = \"#2B6A99\"\n",
    "nature_green = \"#1B7C3D\"\n",
    "# Morandi six colors\n",
    "morandi_blue = \"#046586\"\n",
    "morandi_green =  \"#28A9A1\"\n",
    "morandi_yellow = \"#C9A77C\"\n",
    "morandi_orange = \"#F4A016\"\n",
    "morandi_pink = \"#F6BBC6\"\n",
    "morandi_red = \"#E71F19\"\n",
    "morandi_purple = \"#B08BEB\"\n",
    "# Others\n",
    "shallow_grey = \"#D3D4D3\"\n",
    "deep_grey = \"#A6ABB6\"\n",
    "# Red and Blue\n",
    "strong_red = \"#A61C5D\"\n",
    "strong_blue = \"#1B64A4\"\n",
    "\n",
    "# Shallow-deep pair\n",
    "shallow_purple = \"#EAD7EA\"\n",
    "deep_purple = \"#BA9DB9\"\n",
    "shallow_cyan = \"#A9D5E0\"\n",
    "deep_cyan = \"#48C0BF\"\n",
    "shallow_blue = \"#B6DAEC\"\n",
    "deep_blue = \"#98CFE4\"\n",
    "shallow_pink = \"#F5E0E5\"\n",
    "deep_pink = \"#E5A7B6\"\n",
    "shallow_green = \"#C2DED0\"\n",
    "deep_green = \"#A5C6B1\"\n",
    "\n",
    "color_pairs = [[shallow_purple, deep_purple],  [shallow_green, deep_green],\n",
    "               [shallow_blue, deep_blue], [shallow_pink, deep_pink], [shallow_cyan, deep_cyan],\n",
    "               [shallow_grey, deep_grey]]\n",
    "morandi_colors = [morandi_blue, morandi_green, morandi_yellow, morandi_orange, morandi_pink, morandi_red, morandi_purple]\n"
   ]
  },
  {
   "cell_type": "code",
   "execution_count": 4,
   "outputs": [
    {
     "ename": "FileNotFoundError",
     "evalue": "[Errno 2] No such file or directory: 'E:\\\\data\\\\gst-0525\\\\Independent_default\\\\partial_20\\\\g_performance_across_K'",
     "output_type": "error",
     "traceback": [
      "\u001B[1;31m---------------------------------------------------------------------------\u001B[0m",
      "\u001B[1;31mFileNotFoundError\u001B[0m                         Traceback (most recent call last)",
      "\u001B[1;32m<ipython-input-4-83e9cdb15604>\u001B[0m in \u001B[0;36m<module>\u001B[1;34m\u001B[0m\n\u001B[0;32m     16\u001B[0m \u001B[0mt_performance_time_file\u001B[0m \u001B[1;33m=\u001B[0m \u001B[0mdata_folder\u001B[0m \u001B[1;33m+\u001B[0m \u001B[1;34mr\"\\t_performance_across_K_time\"\u001B[0m\u001B[1;33m\u001B[0m\u001B[1;33m\u001B[0m\u001B[0m\n\u001B[0;32m     17\u001B[0m \u001B[1;33m\u001B[0m\u001B[0m\n\u001B[1;32m---> 18\u001B[1;33m \u001B[1;32mwith\u001B[0m \u001B[0mopen\u001B[0m\u001B[1;33m(\u001B[0m\u001B[0mg_performance_file\u001B[0m\u001B[1;33m,\u001B[0m \u001B[1;34m'rb'\u001B[0m\u001B[1;33m)\u001B[0m \u001B[1;32mas\u001B[0m \u001B[0minfile\u001B[0m\u001B[1;33m:\u001B[0m\u001B[1;33m\u001B[0m\u001B[1;33m\u001B[0m\u001B[0m\n\u001B[0m\u001B[0;32m     19\u001B[0m     \u001B[0mg_fitness\u001B[0m \u001B[1;33m=\u001B[0m \u001B[0mpickle\u001B[0m\u001B[1;33m.\u001B[0m\u001B[0mload\u001B[0m\u001B[1;33m(\u001B[0m\u001B[0minfile\u001B[0m\u001B[1;33m)\u001B[0m\u001B[1;33m\u001B[0m\u001B[1;33m\u001B[0m\u001B[0m\n\u001B[0;32m     20\u001B[0m \u001B[1;32mwith\u001B[0m \u001B[0mopen\u001B[0m\u001B[1;33m(\u001B[0m\u001B[0ms_performance_file\u001B[0m\u001B[1;33m,\u001B[0m \u001B[1;34m'rb'\u001B[0m\u001B[1;33m)\u001B[0m \u001B[1;32mas\u001B[0m \u001B[0minfile\u001B[0m\u001B[1;33m:\u001B[0m\u001B[1;33m\u001B[0m\u001B[1;33m\u001B[0m\u001B[0m\n",
      "\u001B[1;31mFileNotFoundError\u001B[0m: [Errno 2] No such file or directory: 'E:\\\\data\\\\gst-0525\\\\Independent_default\\\\partial_20\\\\g_performance_across_K'"
     ]
    }
   ],
   "source": [
    "data_folder = r\"E:\\data\\gst-0525\\Independent_default\\partial_20\"\n",
    "g_performance_file = data_folder + r\"\\g_performance_across_K\"\n",
    "s_performance_file = data_folder + r\"\\s_performance_across_K\"\n",
    "t_performance_file = data_folder + r\"\\t_performance_across_K\"\n",
    "\n",
    "g_cog_performance_file = data_folder + r\"\\g_cog_performance_across_K_time\"\n",
    "s_cog_performance_file = data_folder + r\"\\s_cog_performance_across_K_time\"\n",
    "t_cog_performance_file = data_folder + r\"\\t_cog_performance_across_K_time\"\n",
    "\n",
    "g_variance_file = data_folder + r\"\\g_variance_across_K\"\n",
    "s_variance_file = data_folder + r\"\\s_variance_across_K\"\n",
    "t_variance_file = data_folder + r\"\\t_variance_across_K\"\n",
    "\n",
    "g_performance_time_file = data_folder + r\"\\g_performance_across_K_time\"\n",
    "s_performance_time_file = data_folder + r\"\\s_performance_across_K_time\"\n",
    "t_performance_time_file = data_folder + r\"\\t_performance_across_K_time\"\n",
    "\n",
    "with open(g_performance_file, 'rb') as infile:\n",
    "    g_fitness = pickle.load(infile)\n",
    "with open(s_performance_file, 'rb') as infile:\n",
    "    s_fitness = pickle.load(infile)\n",
    "with open(t_performance_file, 'rb') as infile:\n",
    "    t_fitness = pickle.load(infile)\n",
    "\n",
    "with open(g_cog_performance_file, 'rb') as infile:\n",
    "    g_cog_fitness = pickle.load(infile)\n",
    "with open(s_cog_performance_file, 'rb') as infile:\n",
    "    s_cog_fitness = pickle.load(infile)\n",
    "with open(t_performance_file, 'rb') as infile:\n",
    "    t_cog_fitness = pickle.load(infile)\n",
    "\n",
    "with open(g_variance_file, 'rb') as infile:\n",
    "    g_variance = pickle.load(infile)\n",
    "with open(s_variance_file, 'rb') as infile:\n",
    "    s_variance = pickle.load(infile)\n",
    "with open(t_variance_file, 'rb') as infile:\n",
    "    t_variance = pickle.load(infile)\n",
    "\n",
    "with open(g_performance_time_file, 'rb') as infile:\n",
    "    g_performance_time = pickle.load(infile)\n",
    "with open(s_performance_time_file, 'rb') as infile:\n",
    "    s_performance_time = pickle.load(infile)\n",
    "with open(t_performance_time_file, 'rb') as infile:\n",
    "    t_performance_time = pickle.load(infile)\n",
    "print(np.array(g_performance_time).shape)"
   ],
   "metadata": {
    "collapsed": false,
    "ExecuteTime": {
     "end_time": "2023-05-27T07:25:08.590682100Z",
     "start_time": "2023-05-27T07:25:08.506315700Z"
    }
   }
  },
  {
   "cell_type": "code",
   "execution_count": null,
   "outputs": [],
   "source": [
    "# GST Fitness\n",
    "x = range(len(g_fitness))\n",
    "fig, ax = plt.subplots()\n",
    "ax.spines[\"left\"].set_linewidth(1.5)\n",
    "ax.spines[\"right\"].set_linewidth(1.5)\n",
    "ax.spines[\"top\"].set_linewidth(1.5)\n",
    "ax.spines[\"bottom\"].set_linewidth(1.5)\n",
    "plt.plot(x, g_fitness, \"k-\", label=\"G\", color=nature_blue)\n",
    "plt.plot(x, s_fitness, \"k-\", label=\"S\", color=nature_green)\n",
    "plt.plot(x, t_fitness, \"k-\", label=\"T\", color=nature_orange)\n",
    "\n",
    "plt.xlabel('K', fontweight='bold', fontsize=12)\n",
    "plt.ylabel('Performance', fontweight='bold', fontsize=12)\n",
    "plt.xticks(x)\n",
    "plt.legend(frameon=False, ncol=1, fontsize=12)\n",
    "plt.savefig(data_folder + r\"\\GST_performance.png\", transparent=True, dpi=300)\n",
    "plt.show()\n",
    "# plt.clf()"
   ],
   "metadata": {
    "collapsed": false
   }
  },
  {
   "cell_type": "code",
   "execution_count": null,
   "outputs": [],
   "source": [
    "# GST Variance\n",
    "x = range(len(g_variance))\n",
    "fig, ax = plt.subplots()\n",
    "ax.spines[\"left\"].set_linewidth(1.5)\n",
    "ax.spines[\"right\"].set_linewidth(1.5)\n",
    "ax.spines[\"top\"].set_linewidth(1.5)\n",
    "ax.spines[\"bottom\"].set_linewidth(1.5)\n",
    "plt.plot(x, g_variance, \"k-\", label=\"G\", color=nature_blue)\n",
    "plt.plot(x, s_variance, \"k-\", label=\"S\", color=nature_green)\n",
    "plt.plot(x, t_variance, \"k-\", label=\"T\", color=nature_orange)\n",
    "\n",
    "plt.xlabel('K', fontweight='bold', fontsize=12)\n",
    "plt.ylabel('Variance', fontweight='bold', fontsize=12)\n",
    "plt.xticks(x)\n",
    "plt.legend(frameon=False, ncol=1, fontsize=12)\n",
    "plt.savefig(data_folder + r\"\\GST_variance.png\", transparent=True, dpi=300)\n",
    "plt.show()\n",
    "# plt.clf()"
   ],
   "metadata": {
    "collapsed": false
   }
  },
  {
   "cell_type": "code",
   "execution_count": null,
   "outputs": [],
   "source": [
    "# Assess the time dimension\n",
    "x = range(len(g_performance_time[0]))\n",
    "fig, ax = plt.subplots()\n",
    "ax.spines[\"left\"].set_linewidth(1.5)\n",
    "ax.spines[\"right\"].set_linewidth(1.5)\n",
    "ax.spines[\"top\"].set_linewidth(1.5)\n",
    "ax.spines[\"bottom\"].set_linewidth(1.5)\n",
    "plt.plot(x, g_performance_time[0], \"k-\", label=\"K=0\", color=morandi_green)\n",
    "plt.plot(x, g_performance_time[1], \"k-\", label=\"K=1\", color=morandi_orange)\n",
    "plt.plot(x, g_performance_time[2], \"k-\", label=\"K=2\", color=morandi_red)\n",
    "plt.plot(x, g_performance_time[3], \"k-\", label=\"K=3\", color=morandi_purple)\n",
    "plt.xlabel('K', fontweight='bold', fontsize=12)\n",
    "plt.ylabel('Performance', fontweight='bold', fontsize=12)\n",
    "# plt.xticks(x)\n",
    "plt.legend(frameon=False, ncol=1, fontsize=12)\n",
    "plt.savefig(data_folder + r\"\\G_performance.png\", transparent=True, dpi=300)\n",
    "plt.show()\n",
    "# plt.clf()"
   ],
   "metadata": {
    "collapsed": false
   }
  },
  {
   "cell_type": "code",
   "execution_count": null,
   "outputs": [],
   "source": [
    "# Assess the time dimension\n",
    "x = range(len(s_performance_time[0]))\n",
    "fig, ax = plt.subplots()\n",
    "ax.spines[\"left\"].set_linewidth(1.5)\n",
    "ax.spines[\"right\"].set_linewidth(1.5)\n",
    "ax.spines[\"top\"].set_linewidth(1.5)\n",
    "ax.spines[\"bottom\"].set_linewidth(1.5)\n",
    "plt.plot(x, s_performance_time[0], \"k-\", label=\"K=0\", color=morandi_green)\n",
    "plt.plot(x, s_performance_time[1], \"k-\", label=\"K=1\", color=morandi_orange)\n",
    "plt.plot(x, s_performance_time[2], \"k-\", label=\"K=2\", color=morandi_red)\n",
    "plt.plot(x, s_performance_time[3], \"k-\", label=\"K=3\", color=morandi_purple)\n",
    "plt.xlabel('K', fontweight='bold', fontsize=12)\n",
    "plt.ylabel('Performance', fontweight='bold', fontsize=12)\n",
    "# plt.xticks(x)\n",
    "plt.legend(frameon=False, ncol=1, fontsize=12)\n",
    "plt.savefig(data_folder + r\"\\S_performance.png\", transparent=True, dpi=300)\n",
    "plt.show()\n",
    "# plt.clf()"
   ],
   "metadata": {
    "collapsed": false
   }
  },
  {
   "cell_type": "code",
   "execution_count": null,
   "outputs": [],
   "source": [
    "# Assess the time dimension\n",
    "x = range(len(s_performance_time[0]))\n",
    "fig, ax = plt.subplots()\n",
    "ax.spines[\"left\"].set_linewidth(1.5)\n",
    "ax.spines[\"right\"].set_linewidth(1.5)\n",
    "ax.spines[\"top\"].set_linewidth(1.5)\n",
    "ax.spines[\"bottom\"].set_linewidth(1.5)\n",
    "plt.plot(x, t_performance_time[0], \"k-\", label=\"K=0\", color=morandi_green)\n",
    "plt.plot(x, t_performance_time[1], \"k-\", label=\"K=1\", color=morandi_orange)\n",
    "plt.plot(x, t_performance_time[2], \"k-\", label=\"K=2\", color=morandi_red)\n",
    "plt.plot(x, t_performance_time[3], \"k-\", label=\"K=3\", color=morandi_purple)\n",
    "plt.xlabel('K', fontweight='bold', fontsize=12)\n",
    "plt.ylabel('Performance', fontweight='bold', fontsize=12)\n",
    "# plt.xticks(x)\n",
    "plt.legend(frameon=False, ncol=1, fontsize=12)\n",
    "plt.savefig(data_folder + r\"\\T_performance.png\", transparent=True, dpi=300)\n",
    "plt.show()\n",
    "# plt.clf()"
   ],
   "metadata": {
    "collapsed": false
   }
  },
  {
   "cell_type": "code",
   "execution_count": null,
   "outputs": [],
   "source": [],
   "metadata": {
    "collapsed": false
   }
  }
 ],
 "metadata": {
  "kernelspec": {
   "display_name": "Python 3",
   "language": "python",
   "name": "python3"
  },
  "language_info": {
   "codemirror_mode": {
    "name": "ipython",
    "version": 2
   },
   "file_extension": ".py",
   "mimetype": "text/x-python",
   "name": "python",
   "nbconvert_exporter": "python",
   "pygments_lexer": "ipython2",
   "version": "2.7.6"
  }
 },
 "nbformat": 4,
 "nbformat_minor": 0
}
