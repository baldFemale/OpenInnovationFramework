{
 "cells": [
  {
   "cell_type": "code",
   "execution_count": 1,
   "outputs": [],
   "source": [
    "import matplotlib.pyplot as plt\n",
    "import numpy as np\n",
    "import pickle\n",
    "legend_properties = {'weight':'bold'}\n",
    "nus_blue = \"#003D7C\"\n",
    "nus_orange = \"#EF7C00\"\n",
    "# Nature three colors\n",
    "nature_orange = \"#F16C23\"\n",
    "nature_blue = \"#2B6A99\"\n",
    "nature_green = \"#1B7C3D\"\n",
    "# Morandi six colors\n",
    "morandi_blue = \"#046586\"\n",
    "morandi_green =  \"#28A9A1\"\n",
    "morandi_yellow = \"#C9A77C\"\n",
    "morandi_orange = \"#F4A016\"\n",
    "morandi_pink = \"#F6BBC6\"\n",
    "morandi_red = \"#E71F19\"\n",
    "morandi_purple = \"#B08BEB\"\n",
    "# Others\n",
    "shallow_grey = \"#D3D4D3\"\n",
    "deep_grey = \"#A6ABB6\"\n",
    "# Red and Blue\n",
    "strong_red = \"#A61C5D\"\n",
    "strong_blue = \"#1B64A4\"\n",
    "\n",
    "# Shallow-deep pair\n",
    "shallow_purple = \"#EAD7EA\"\n",
    "deep_purple = \"#BA9DB9\"\n",
    "shallow_cyan = \"#A9D5E0\"\n",
    "deep_cyan = \"#48C0BF\"\n",
    "shallow_blue = \"#B6DAEC\"\n",
    "deep_blue = \"#98CFE4\"\n",
    "shallow_pink = \"#F5E0E5\"\n",
    "deep_pink = \"#E5A7B6\"\n",
    "shallow_green = \"#C2DED0\"\n",
    "deep_green = \"#A5C6B1\"\n",
    "\n",
    "color_pairs = [[shallow_purple, deep_purple],  [shallow_green, deep_green],\n",
    "               [shallow_blue, deep_blue], [shallow_pink, deep_pink], [shallow_cyan, deep_cyan],\n",
    "               [shallow_grey, deep_grey]]\n",
    "morandi_colors = [morandi_blue, morandi_green, morandi_yellow, morandi_orange, morandi_pink, morandi_red, morandi_purple]"
   ],
   "metadata": {
    "collapsed": false,
    "ExecuteTime": {
     "end_time": "2023-11-07T07:38:23.037913900Z",
     "start_time": "2023-11-07T07:38:21.458109800Z"
    }
   },
   "id": "2d3c9a049f1c39eb"
  },
  {
   "cell_type": "code",
   "execution_count": 3,
   "outputs": [],
   "source": [
    "# Need a heatmap; X: K; Y: Alpha\n",
    "# Together: Complexity in depth vs. Complexity in breadth\n",
    "K_list = [0, 1, 2, 3, 4, 5, 6, 7, 8]\n",
    "alpha_list = np.arange(0.10, 0.475, step=0.025, dtype=float).tolist()\n",
    "alpha_list = [f'{num:.3f}'.rstrip('0').rstrip('.') for num in alpha_list]\n",
    "data_folder = r\"E:\\data\\gst-0815-23\\Socialization_partial_solution\\Independent_Heatmap_2\"\n",
    "g_fitness_across_alpha, s_fitness_across_alpha = [], []\n",
    "for alpha in alpha_list:\n",
    "    g_file = data_folder + r\"\\g_ave_performance_across_K_alpha_{0}\".format(alpha)\n",
    "    s_file = data_folder + r\"\\s_ave_performance_across_K_alpha_{0}\".format(alpha)\n",
    "    \n",
    "    with open(g_file, 'rb') as infile:\n",
    "        g_fitness = pickle.load(infile)\n",
    "    with open(s_file, 'rb') as infile:\n",
    "        s_fitness = pickle.load(infile)\n",
    "    g_fitness_across_alpha.append(g_fitness)\n",
    "    s_fitness_across_alpha.append(s_fitness)\n",
    "\n",
    "# print(np.array(g_fitness_across_alpha).shape)\n",
    "# print(g_fitness_across_alpha)\n",
    "# print(s_fitness_across_alpha)"
   ],
   "metadata": {
    "collapsed": false,
    "ExecuteTime": {
     "end_time": "2023-11-07T07:39:17.481659200Z",
     "start_time": "2023-11-07T07:39:17.433207Z"
    }
   },
   "id": "4c293bed0f3a44ee"
  },
  {
   "cell_type": "code",
   "execution_count": 4,
   "outputs": [
    {
     "data": {
      "text/plain": "<Figure size 432x288 with 2 Axes>",
      "image/png": "[encoded data removed]"
     },
     "metadata": {
      "needs_background": "light"
     },
     "output_type": "display_data"
    }
   ],
   "source": [
    "# heatmap figure to replace the 3D surface\n",
    "import numpy as np\n",
    "import matplotlib.pyplot as plt\n",
    "\n",
    "# Generate some sample data\n",
    "x = K_list\n",
    "y = alpha_list\n",
    "X, Y = np.meshgrid(x, y)     # Create a grid of x and y values\n",
    "g_fitness_across_alpha = np.array(g_fitness_across_alpha)\n",
    "z = g_fitness_across_alpha\n",
    "# Create the 2D color plot\n",
    "plt.pcolormesh(x, y, z, cmap='jet')\n",
    "plt.colorbar()  # Add a colorbar for reference\n",
    "\n",
    "# Set the axis labels and title\n",
    "plt.xlabel('K')\n",
    "plt.xticks(x)\n",
    "# plt.yticks(y)\n",
    "plt.ylabel('$\\\\alpha$')\n",
    "plt.title('Generalist Performance across $K$ and $\\\\alpha$')\n",
    "plt.savefig(data_folder + r\"\\G_performance_colored.png\", transparent=True, dpi=300)\n",
    "# Display the plot\n",
    "plt.show()\n"
   ],
   "metadata": {
    "collapsed": false,
    "ExecuteTime": {
     "end_time": "2023-11-07T07:39:24.834565400Z",
     "start_time": "2023-11-07T07:39:23.955971800Z"
    }
   },
   "id": "c7d13165312772b7"
  },
  {
   "cell_type": "code",
   "execution_count": 5,
   "outputs": [
    {
     "data": {
      "text/plain": "<Figure size 432x288 with 2 Axes>",
      "image/png": "[encoded data removed]"
     },
     "metadata": {
      "needs_background": "light"
     },
     "output_type": "display_data"
    }
   ],
   "source": [
    "# heatmap figure to replace the 3D surface\n",
    "import numpy as np\n",
    "import matplotlib.pyplot as plt\n",
    "\n",
    "# Generate some sample data\n",
    "x = K_list\n",
    "y = alpha_list\n",
    "X, Y = np.meshgrid(x, y)     # Create a grid of x and y values\n",
    "s_fitness_across_alpha = np.array(s_fitness_across_alpha)\n",
    "z = s_fitness_across_alpha\n",
    "# Create the 2D color plot\n",
    "plt.pcolormesh(x, y, z, cmap='jet')\n",
    "plt.colorbar()  # Add a colorbar for reference\n",
    "\n",
    "# Set the axis labels and title\n",
    "plt.xlabel('K')\n",
    "plt.xticks(x)\n",
    "# plt.yticks(y)\n",
    "plt.ylabel('$\\\\alpha$')\n",
    "plt.title('Specialist Performance across $K$ and $\\\\alpha$')\n",
    "plt.savefig(data_folder + r\"\\S_performance_colored.png\", transparent=True, dpi=300)\n",
    "# Display the plot\n",
    "plt.show()"
   ],
   "metadata": {
    "collapsed": false,
    "ExecuteTime": {
     "end_time": "2023-11-07T07:39:47.726156900Z",
     "start_time": "2023-11-07T07:39:47.320152900Z"
    }
   },
   "id": "475df137e667201"
  },
  {
   "cell_type": "code",
   "execution_count": null,
   "outputs": [],
   "source": [],
   "metadata": {
    "collapsed": false
   },
   "id": "39909c705db4ca7d"
  }
 ],
 "metadata": {
  "kernelspec": {
   "display_name": "Python 3",
   "language": "python",
   "name": "python3"
  },
  "language_info": {
   "codemirror_mode": {
    "name": "ipython",
    "version": 2
   },
   "file_extension": ".py",
   "mimetype": "text/x-python",
   "name": "python",
   "nbconvert_exporter": "python",
   "pygments_lexer": "ipython2",
   "version": "2.7.6"
  }
 },
 "nbformat": 4,
 "nbformat_minor": 5
}
