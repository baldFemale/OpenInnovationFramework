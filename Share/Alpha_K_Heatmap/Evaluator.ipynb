{
 "cells": [
  {
   "cell_type": "code",
   "execution_count": 18,
   "metadata": {
    "collapsed": true,
    "ExecuteTime": {
     "end_time": "2023-11-24T12:08:38.537059700Z",
     "start_time": "2023-11-24T12:08:38.463061Z"
    }
   },
   "outputs": [],
   "source": [
    "import matplotlib.pyplot as plt\n",
    "import numpy as np\n",
    "import pickle\n",
    "legend_properties = {'weight':'bold'}\n",
    "nus_blue = \"#003D7C\"\n",
    "nus_orange = \"#EF7C00\"\n",
    "# Nature three colors\n",
    "nature_orange = \"#F16C23\"\n",
    "nature_blue = \"#2B6A99\"\n",
    "nature_green = \"#1B7C3D\"\n",
    "# Morandi six colors\n",
    "morandi_blue = \"#046586\"\n",
    "morandi_green =  \"#28A9A1\"\n",
    "morandi_yellow = \"#C9A77C\"\n",
    "morandi_orange = \"#F4A016\"\n",
    "morandi_pink = \"#F6BBC6\"\n",
    "morandi_red = \"#E71F19\"\n",
    "morandi_purple = \"#B08BEB\"\n",
    "# Others\n",
    "shallow_grey = \"#D3D4D3\"\n",
    "deep_grey = \"#A6ABB6\"\n",
    "# Red and Blue\n",
    "strong_red = \"#A61C5D\"\n",
    "strong_blue = \"#1B64A4\"\n",
    "\n",
    "# Shallow-deep pair\n",
    "shallow_purple = \"#EAD7EA\"\n",
    "deep_purple = \"#BA9DB9\"\n",
    "shallow_cyan = \"#A9D5E0\"\n",
    "deep_cyan = \"#48C0BF\"\n",
    "shallow_blue = \"#B6DAEC\"\n",
    "deep_blue = \"#98CFE4\"\n",
    "shallow_pink = \"#F5E0E5\"\n",
    "deep_pink = \"#E5A7B6\"\n",
    "shallow_green = \"#C2DED0\"\n",
    "deep_green = \"#A5C6B1\"\n",
    "\n",
    "color_pairs = [[shallow_purple, deep_purple],  [shallow_green, deep_green],\n",
    "               [shallow_blue, deep_blue], [shallow_pink, deep_pink], [shallow_cyan, deep_cyan],\n",
    "               [shallow_grey, deep_grey]]\n",
    "morandi_colors = [morandi_blue, morandi_green, morandi_yellow, morandi_orange, morandi_pink, morandi_red, morandi_purple]"
   ]
  },
  {
   "cell_type": "code",
   "execution_count": 19,
   "outputs": [],
   "source": [
    "data_folder = r\"E:\\data\\gst-0815-23\\Socialization_partial_solution\\Alpha_K_Heatmap_junyi\"\n",
    "alpha_list = [0.05, 0.10, 0.15, 0.20, 0.25, 0.30, 0.35, 0.40]\n",
    "gg_ave_performance_across_K_alpha, gg_best_performance_across_K_alpha, gg_variance_across_K_alpha = [], [], []\n",
    "exchange_ave_performance_across_K_alpha, exchange_best_performance_across_K_alpha, exchange_variance_across_K_alpha = [], [], []\n",
    "for alpha in alpha_list:\n",
    "    # GG\n",
    "    gg_performance_file = data_folder + r\"\\gg_ave_performance_across_K_alpha_{0}\".format(alpha)\n",
    "    gg_best_performance_file = data_folder + r\"\\gg_best_performance_across_K_alpha_{0}\".format(alpha)\n",
    "    gg_variance_file = data_folder + r\"\\gg_variance_across_K_alpha_{0}\".format(alpha)\n",
    "    # GS Exchange\n",
    "    exchange_performance_file = data_folder + r\"\\exchange_gs_ave_performance_across_K_alpha_{0}\".format(alpha)\n",
    "    exchange_best_performance_file = data_folder + r\"\\exchange_gs_best_performance_across_K_alpha_{0}\".format(alpha)\n",
    "    exchange_variance_file = data_folder + r\"\\exchange_gs_variance_across_K_alpha_{0}\".format(alpha)\n",
    "    \n",
    "    # GG\n",
    "    with open(gg_performance_file, 'rb') as infile:\n",
    "        gg_performance = pickle.load(infile)\n",
    "    with open(gg_best_performance_file, 'rb') as infile:\n",
    "        gg_best_performance = pickle.load(infile)\n",
    "    with open(gg_variance_file, 'rb') as infile:\n",
    "        gg_variance = pickle.load(infile)\n",
    "    gg_ave_performance_across_K_alpha.append(gg_performance)\n",
    "    gg_best_performance_across_K_alpha.append(gg_best_performance)\n",
    "    gg_variance_across_K_alpha.append(gg_variance)\n",
    "    \n",
    "    # Exchange\n",
    "    with open(gg_performance_file, 'rb') as infile:\n",
    "        exchange_performance = pickle.load(infile)\n",
    "    with open(gg_best_performance_file, 'rb') as infile:\n",
    "        exchange_best_performance = pickle.load(infile)\n",
    "    with open(gg_variance_file, 'rb') as infile:\n",
    "        exchange_variance = pickle.load(infile)\n",
    "    exchange_ave_performance_across_K_alpha.append(exchange_performance)\n",
    "    exchange_best_performance_across_K_alpha.append(exchange_best_performance)\n",
    "    exchange_variance_across_K_alpha.append(exchange_variance)"
   ],
   "metadata": {
    "collapsed": false,
    "ExecuteTime": {
     "end_time": "2023-11-24T12:08:38.537059700Z",
     "start_time": "2023-11-24T12:08:38.486061600Z"
    }
   }
  },
  {
   "cell_type": "code",
   "execution_count": 20,
   "outputs": [],
   "source": [
    "data_folder = r\"E:\\data\\gst-0815-23\\Socialization_partial_solution\\Alpha_K_Heatmap_haoyan\"\n",
    "alpha_list = [0.05, 0.10, 0.15, 0.20, 0.25, 0.30, 0.35, 0.40]\n",
    "gs_ave_performance_across_K_alpha, gs_best_performance_across_K_alpha, gs_variance_across_K_alpha = [], [], []\n",
    "# mixed_ave_performance_across_K_alpha, mixed_best_performance_across_K_alpha, mixed_variance_across_K_alpha = [], [], []\n",
    "for alpha in alpha_list:\n",
    "    # GS\n",
    "    gs_performance_file = data_folder + r\"\\gs_ave_performance_across_K_alpha_{0}\".format(alpha)\n",
    "    gs_best_performance_file = data_folder + r\"\\gs_best_performance_across_K_alpha_{0}\".format(alpha)\n",
    "    gs_variance_file = data_folder + r\"\\gs_variance_across_K_alpha_{0}\".format(alpha)\n",
    "    # GS mixed\n",
    "    # mixed_performance_file = data_folder + r\"\\mixed_gs_ave_performance_across_K_alpha_{0}\".format(alpha)\n",
    "    # mixed_best_performance_file = data_folder + r\"\\mixed_gs_best_performance_across_K_alpha_{0}\".format(alpha)\n",
    "    # mixed_variance_file = data_folder + r\"\\mixed_gs_variance_across_K_alpha_{0}\".format(alpha)\n",
    "    \n",
    "    # GS\n",
    "    with open(gs_performance_file, 'rb') as infile:\n",
    "        gs_performance = pickle.load(infile)\n",
    "    with open(gs_best_performance_file, 'rb') as infile:\n",
    "        gs_best_performance = pickle.load(infile)\n",
    "    with open(gs_variance_file, 'rb') as infile:\n",
    "        gs_variance = pickle.load(infile)\n",
    "    gs_ave_performance_across_K_alpha.append(gs_performance)\n",
    "    gs_best_performance_across_K_alpha.append(gs_best_performance)\n",
    "    gs_variance_across_K_alpha.append(gs_variance)\n",
    "    \n",
    "    # # Mixed\n",
    "    # with open(mixed_performance_file, 'rb') as infile:\n",
    "    #     mixed_performance = pickle.load(infile)\n",
    "    # with open(mixed_best_performance_file, 'rb') as infile:\n",
    "    #     mixed_best_performance = pickle.load(infile)\n",
    "    # with open(mixed_variance_file, 'rb') as infile:\n",
    "    #     mixed_variance = pickle.load(infile)\n",
    "    # mixed_ave_performance_across_K_alpha.append(exchange_performance)\n",
    "    # mixed_best_performance_across_K_alpha.append(exchange_best_performance)\n",
    "    # mixed_variance_across_K_alpha.append(exchange_variance)"
   ],
   "metadata": {
    "collapsed": false,
    "ExecuteTime": {
     "end_time": "2023-11-24T12:08:38.538060300Z",
     "start_time": "2023-11-24T12:08:38.500059600Z"
    }
   }
  },
  {
   "cell_type": "code",
   "execution_count": 21,
   "outputs": [],
   "source": [
    "data_folder = r\"E:\\data\\gst-0815-23\\Socialization_partial_solution\\Alpha_K_Heatmap-taojngq\"\n",
    "alpha_list = [0.05, 0.10, 0.15, 0.20, 0.25, 0.30, 0.35, 0.40]\n",
    "sg_ave_performance_across_K_alpha, sg_best_performance_across_K_alpha, sg_variance_across_K_alpha = [], [], []\n",
    "ss_ave_performance_across_K_alpha, ss_best_performance_across_K_alpha, ss_variance_across_K_alpha = [], [], []\n",
    "for alpha in alpha_list:\n",
    "    # SG\n",
    "    sg_performance_file = data_folder + r\"\\sg_ave_performance_across_K_alpha_{0}\".format(alpha)\n",
    "    sg_best_performance_file = data_folder + r\"\\sg_best_performance_across_K_alpha_{0}\".format(alpha)\n",
    "    sg_variance_file = data_folder + r\"\\sg_variance_across_K_alpha_{0}\".format(alpha)\n",
    "    # SS\n",
    "    ss_performance_file = data_folder + r\"\\ss_ave_performance_across_K_alpha_{0}\".format(alpha)\n",
    "    ss_best_performance_file = data_folder + r\"\\ss_best_performance_across_K_alpha_{0}\".format(alpha)\n",
    "    ss_variance_file = data_folder + r\"\\ss_variance_across_K_alpha_{0}\".format(alpha)\n",
    "    \n",
    "    # SG\n",
    "    with open(sg_performance_file, 'rb') as infile:\n",
    "        sg_performance = pickle.load(infile)\n",
    "    with open(sg_best_performance_file, 'rb') as infile:\n",
    "        sg_best_performance = pickle.load(infile)\n",
    "    with open(sg_variance_file, 'rb') as infile:\n",
    "        sg_variance = pickle.load(infile)\n",
    "    sg_ave_performance_across_K_alpha.append(sg_performance)\n",
    "    sg_best_performance_across_K_alpha.append(sg_best_performance)\n",
    "    sg_variance_across_K_alpha.append(sg_variance)\n",
    "    \n",
    "    # SS\n",
    "    with open(ss_performance_file, 'rb') as infile:\n",
    "        ss_performance = pickle.load(infile)\n",
    "    with open(ss_best_performance_file, 'rb') as infile:\n",
    "        ss_best_performance = pickle.load(infile)\n",
    "    with open(ss_variance_file, 'rb') as infile:\n",
    "        ss_variance = pickle.load(infile)\n",
    "    ss_ave_performance_across_K_alpha.append(ss_performance)\n",
    "    ss_best_performance_across_K_alpha.append(ss_best_performance)\n",
    "    ss_variance_across_K_alpha.append(ss_variance)"
   ],
   "metadata": {
    "collapsed": false,
    "ExecuteTime": {
     "end_time": "2023-11-24T12:08:38.538060300Z",
     "start_time": "2023-11-24T12:08:38.517059400Z"
    }
   }
  },
  {
   "cell_type": "code",
   "execution_count": 22,
   "outputs": [
    {
     "name": "stdout",
     "output_type": "stream",
     "text": [
      "(8, 9)\n",
      "[[0.6663503738148785, 0.6351208987335185, 0.6197647139363422, 0.6151562682926993, 0.613069349343407, 0.6125547184829802, 0.6130912464730685, 0.6122467794081515, 0.6145920167561097], [0.6665555622536681, 0.6331879930987226, 0.6188432789863705, 0.6119891866424312, 0.6173918887275979, 0.6138008195436919, 0.6144667172692663, 0.6145118575323503, 0.6125383515754425], [0.6678586098262559, 0.6364856131693678, 0.6235971615404403, 0.6100965640731935, 0.6125797251912083, 0.6165995038889359, 0.6093380516008449, 0.6134991069323195, 0.6141779929275457], [0.66380693301158, 0.6363919498541449, 0.6197612466050477, 0.6177218777650793, 0.6134504531186594, 0.6122176161700041, 0.6126933096590782, 0.6095423445198996, 0.6109896511300832], [0.6671774425707245, 0.6322634026889357, 0.6202836136347909, 0.6153626189852857, 0.6171184918137278, 0.6151871197398396, 0.6127856534798034, 0.6129440176733509, 0.6122172556269565], [0.665748482604341, 0.6323624295355309, 0.6219532621808008, 0.6173651222117464, 0.6128718024640049, 0.6143589235894094, 0.6141894428257455, 0.6130877737681559, 0.6110858679121143], [0.6684813931975715, 0.6352787909991641, 0.6232177541567945, 0.6156754464671457, 0.6120740981910009, 0.6140068847410862, 0.6118665361550121, 0.6122214230728673, 0.6104407285302975], [0.6656786369739756, 0.6351721563024565, 0.6256574358778425, 0.6179807979264511, 0.6158288240651122, 0.6135649511065585, 0.6141298667853539, 0.6137341154803494, 0.6100551527446402]]\n"
     ]
    }
   ],
   "source": [
    "# Baseline: independent search\n",
    "baseline_folder = r\"E:\\data\\gst-0815-23\\Socialization_partial_solution\\Independent_Heatmap_2\"\n",
    "alpha_list = [0.05, 0.10, 0.15, 0.20, 0.25, 0.30, 0.35, 0.40]\n",
    "g_ave_performance_across_K_alpha, g_best_performance_across_K_alpha, g_variance_across_K_alpha = [], [], []\n",
    "s_ave_performance_across_K_alpha, s_best_performance_across_K_alpha, s_variance_across_K_alpha = [], [], []\n",
    "for alpha in alpha_list:\n",
    "    g_ave_performance_file = baseline_folder + r\"\\g_ave_performance_across_K_alpha_{0}\".format(alpha)\n",
    "    g_best_performance_file = baseline_folder + r\"\\g_best_performance_across_K_alpha_{0}\".format(alpha)\n",
    "    g_variance_file = baseline_folder + r\"\\g_variance_across_K_alpha_{0}\".format(alpha)\n",
    "    \n",
    "    s_ave_performance_file = baseline_folder + r\"\\s_ave_performance_across_K_alpha_{0}\".format(alpha)\n",
    "    s_best_performance_file = baseline_folder + r\"\\s_best_performance_across_K_alpha_{0}\".format(alpha)\n",
    "    s_variance_file = baseline_folder + r\"\\s_variance_across_K_alpha_{0}\".format(alpha)\n",
    "\n",
    "    with open(g_ave_performance_file, 'rb') as infile:\n",
    "        g_ave_performance = pickle.load(infile)\n",
    "    with open(g_best_performance_file, 'rb') as infile:\n",
    "        g_best_performance = pickle.load(infile)\n",
    "    with open(g_variance_file, 'rb') as infile:\n",
    "        g_variance = pickle.load(infile)\n",
    "    g_ave_performance_across_K_alpha.append(g_ave_performance)\n",
    "    g_best_performance_across_K_alpha.append(g_best_performance)\n",
    "    g_variance_across_K_alpha.append(g_variance)\n",
    "    \n",
    "    with open(s_ave_performance_file, 'rb') as infile:\n",
    "        s_ave_performance = pickle.load(infile)\n",
    "    with open(s_best_performance_file, 'rb') as infile:\n",
    "        s_best_performance = pickle.load(infile)\n",
    "    with open(s_variance_file, 'rb') as infile:\n",
    "        s_variance = pickle.load(infile)\n",
    "    s_ave_performance_across_K_alpha.append(s_ave_performance)\n",
    "    s_best_performance_across_K_alpha.append(s_best_performance)\n",
    "    s_variance_across_K_alpha.append(s_variance)\n",
    "\n",
    "print(np.array(s_ave_performance_across_K_alpha).shape)\n",
    "print(s_ave_performance_across_K_alpha)"
   ],
   "metadata": {
    "collapsed": false,
    "ExecuteTime": {
     "end_time": "2023-11-24T12:08:38.542060800Z",
     "start_time": "2023-11-24T12:08:38.531060600Z"
    }
   }
  },
  {
   "cell_type": "code",
   "execution_count": 23,
   "outputs": [
    {
     "data": {
      "text/plain": "<Figure size 432x288 with 2 Axes>",
      "image/png": "[encoded data removed]"
     },
     "metadata": {
      "needs_background": "light"
     },
     "output_type": "display_data"
    }
   ],
   "source": [
    "# heatmap figure to replace the 3D surface\n",
    "result_folder = r\"E:\\data\\gst-0815-23\\Socialization_partial_solution\\Independent_Heatmap_2\\Ave_Results\"\n",
    "import numpy as np\n",
    "import matplotlib.pyplot as plt\n",
    "K_list = [0, 1, 2, 3, 4, 5, 6, 7, 8]\n",
    "# Generate some sample data\n",
    "x = K_list\n",
    "y = alpha_list\n",
    "X, Y = np.meshgrid(x, y)     # Create a grid of x and y values\n",
    "gg_fitness_across_alpha = np.array(gg_ave_performance_across_K_alpha)\n",
    "z = gg_fitness_across_alpha\n",
    "# Create the 2D color plot\n",
    "plt.pcolormesh(x, y, z, cmap='jet')\n",
    "plt.colorbar()  # Add a colorbar for reference\n",
    "\n",
    "# Set the axis labels and title\n",
    "plt.xlabel('K')\n",
    "plt.xticks(x)\n",
    "# plt.yticks(y)\n",
    "plt.ylabel('$\\\\alpha$')\n",
    "plt.title('GG Performance across $K$ and $\\\\alpha$')\n",
    "plt.savefig(result_folder + r\"\\GG_performance.png\", transparent=True, dpi=300)\n",
    "# Display the plot\n",
    "plt.show()\n"
   ],
   "metadata": {
    "collapsed": false,
    "ExecuteTime": {
     "end_time": "2023-11-24T12:08:38.969174200Z",
     "start_time": "2023-11-24T12:08:38.551061Z"
    }
   }
  },
  {
   "cell_type": "code",
   "execution_count": 24,
   "outputs": [
    {
     "data": {
      "text/plain": "<Figure size 432x288 with 2 Axes>",
      "image/png": "[encoded data removed]"
     },
     "metadata": {
      "needs_background": "light"
     },
     "output_type": "display_data"
    }
   ],
   "source": [
    "# heatmap figure to replace the 3D surface\n",
    "import numpy as np\n",
    "import matplotlib.pyplot as plt\n",
    "K_list = [0, 1, 2, 3, 4, 5, 6, 7, 8]\n",
    "# Generate some sample data\n",
    "x = K_list\n",
    "y = alpha_list\n",
    "X, Y = np.meshgrid(x, y)     # Create a grid of x and y values\n",
    "gs_fitness_across_alpha = np.array(gs_ave_performance_across_K_alpha)\n",
    "z = gs_fitness_across_alpha\n",
    "# Create the 2D color plot\n",
    "plt.pcolormesh(x, y, z, cmap='jet')\n",
    "plt.colorbar()  # Add a colorbar for reference\n",
    "\n",
    "# Set the axis labels and title\n",
    "plt.xlabel('K')\n",
    "plt.xticks(x)\n",
    "# plt.yticks(y)\n",
    "plt.ylabel('$\\\\alpha$')\n",
    "plt.title('GS Performance across $K$ and $\\\\alpha$')\n",
    "plt.savefig(result_folder + r\"\\GS_performance.png\", transparent=True, dpi=300)\n",
    "# Display the plot\n",
    "plt.show()"
   ],
   "metadata": {
    "collapsed": false,
    "ExecuteTime": {
     "end_time": "2023-11-24T12:08:39.366174900Z",
     "start_time": "2023-11-24T12:08:39.005172900Z"
    }
   }
  },
  {
   "cell_type": "code",
   "execution_count": 25,
   "outputs": [
    {
     "data": {
      "text/plain": "<Figure size 432x288 with 2 Axes>",
      "image/png": "[encoded data removed]"
     },
     "metadata": {
      "needs_background": "light"
     },
     "output_type": "display_data"
    }
   ],
   "source": [
    "# heatmap figure to replace the 3D surface\n",
    "import numpy as np\n",
    "import matplotlib.pyplot as plt\n",
    "K_list = [0, 1, 2, 3, 4, 5, 6, 7, 8]\n",
    "# Generate some sample data\n",
    "x = K_list\n",
    "y = alpha_list\n",
    "X, Y = np.meshgrid(x, y)     # Create a grid of x and y values\n",
    "ss_fitness_across_alpha = np.array(ss_ave_performance_across_K_alpha)\n",
    "z = ss_fitness_across_alpha\n",
    "# Create the 2D color plot\n",
    "plt.pcolormesh(x, y, z, cmap='jet')\n",
    "plt.colorbar()  # Add a colorbar for reference\n",
    "\n",
    "# Set the axis labels and title\n",
    "plt.xlabel('K')\n",
    "plt.xticks(x)\n",
    "# plt.yticks(y)\n",
    "plt.ylabel('$\\\\alpha$')\n",
    "plt.title('SS Performance across $K$ and $\\\\alpha$')\n",
    "plt.savefig(result_folder + r\"\\SS_performance.png\", transparent=True, dpi=300)\n",
    "# Display the plot\n",
    "plt.show()\n"
   ],
   "metadata": {
    "collapsed": false,
    "ExecuteTime": {
     "end_time": "2023-11-24T12:08:39.775183800Z",
     "start_time": "2023-11-24T12:08:39.382174300Z"
    }
   }
  },
  {
   "cell_type": "code",
   "execution_count": 26,
   "outputs": [
    {
     "data": {
      "text/plain": "<Figure size 432x288 with 2 Axes>",
      "image/png": "[encoded data removed]"
     },
     "metadata": {
      "needs_background": "light"
     },
     "output_type": "display_data"
    }
   ],
   "source": [
    "# heatmap figure to replace the 3D surface\n",
    "import numpy as np\n",
    "import matplotlib.pyplot as plt\n",
    "K_list = [0, 1, 2, 3, 4, 5, 6, 7, 8]\n",
    "# Generate some sample data\n",
    "x = K_list\n",
    "y = alpha_list\n",
    "X, Y = np.meshgrid(x, y)     # Create a grid of x and y values\n",
    "sg_fitness_across_alpha = np.array(sg_ave_performance_across_K_alpha)\n",
    "z = sg_fitness_across_alpha\n",
    "# Create the 2D color plot\n",
    "plt.pcolormesh(x, y, z, cmap='jet')\n",
    "plt.colorbar()  # Add a colorbar for reference\n",
    "\n",
    "# Set the axis labels and title\n",
    "plt.xlabel('K')\n",
    "plt.xticks(x)\n",
    "# plt.yticks(y)\n",
    "plt.ylabel('$\\\\alpha$')\n",
    "plt.title('SG Performance across $K$ and $\\\\alpha$')\n",
    "plt.savefig(result_folder + r\"\\SG_performance.png\", transparent=True, dpi=300)\n",
    "# Display the plot\n",
    "plt.show()\n"
   ],
   "metadata": {
    "collapsed": false,
    "ExecuteTime": {
     "end_time": "2023-11-24T12:08:40.242180600Z",
     "start_time": "2023-11-24T12:08:39.869207600Z"
    }
   }
  },
  {
   "cell_type": "code",
   "execution_count": 27,
   "outputs": [
    {
     "data": {
      "text/plain": "<Figure size 432x288 with 2 Axes>",
      "image/png": "[encoded data removed]"
     },
     "metadata": {
      "needs_background": "light"
     },
     "output_type": "display_data"
    }
   ],
   "source": [
    "# heatmap figure to replace the 3D surface\n",
    "import numpy as np\n",
    "import matplotlib.pyplot as plt\n",
    "K_list = [0, 1, 2, 3, 4, 5, 6, 7, 8]\n",
    "# Generate some sample data\n",
    "x = K_list\n",
    "y = alpha_list\n",
    "X, Y = np.meshgrid(x, y)     # Create a grid of x and y values\n",
    "g_fitness_across_alpha = np.array(g_ave_performance_across_K_alpha)\n",
    "z = g_fitness_across_alpha\n",
    "# Create the 2D color plot\n",
    "plt.pcolormesh(x, y, z, cmap='jet')\n",
    "plt.colorbar()  # Add a colorbar for reference\n",
    "\n",
    "# Set the axis labels and title\n",
    "plt.xlabel('K')\n",
    "plt.xticks(x)\n",
    "# plt.yticks(y)\n",
    "plt.ylabel('$\\\\alpha$')\n",
    "plt.title('G Performance across $K$ and $\\\\alpha$')\n",
    "plt.savefig(result_folder + r\"\\G_performance.png\", transparent=True, dpi=300)\n",
    "# Display the plot\n",
    "plt.show()"
   ],
   "metadata": {
    "collapsed": false,
    "ExecuteTime": {
     "end_time": "2023-11-24T12:08:40.650423800Z",
     "start_time": "2023-11-24T12:08:40.247237Z"
    }
   }
  },
  {
   "cell_type": "code",
   "execution_count": 28,
   "outputs": [
    {
     "data": {
      "text/plain": "<Figure size 432x288 with 2 Axes>",
      "image/png": "[encoded data removed]"
     },
     "metadata": {
      "needs_background": "light"
     },
     "output_type": "display_data"
    }
   ],
   "source": [
    "# heatmap figure to replace the 3D surface\n",
    "import numpy as np\n",
    "import matplotlib.pyplot as plt\n",
    "K_list = [0, 1, 2, 3, 4, 5, 6, 7, 8]\n",
    "# Generate some sample data\n",
    "x = K_list\n",
    "y = alpha_list\n",
    "X, Y = np.meshgrid(x, y)     # Create a grid of x and y values\n",
    "s_fitness_across_alpha = np.array(s_ave_performance_across_K_alpha)\n",
    "z = s_fitness_across_alpha\n",
    "# Create the 2D color plot\n",
    "plt.pcolormesh(x, y, z, cmap='jet')\n",
    "plt.colorbar()  # Add a colorbar for reference\n",
    "\n",
    "# Set the axis labels and title\n",
    "plt.xlabel('K')\n",
    "plt.xticks(x)\n",
    "# plt.yticks(y)\n",
    "plt.ylabel('$\\\\alpha$')\n",
    "plt.title('S Performance across $K$ and $\\\\alpha$')\n",
    "plt.savefig(result_folder + r\"\\S_performance.png\", transparent=True, dpi=300)\n",
    "# Display the plot\n",
    "plt.show()"
   ],
   "metadata": {
    "collapsed": false,
    "ExecuteTime": {
     "end_time": "2023-11-24T12:08:41.078424600Z",
     "start_time": "2023-11-24T12:08:40.665396600Z"
    }
   }
  },
  {
   "cell_type": "code",
   "execution_count": 29,
   "outputs": [
    {
     "data": {
      "text/plain": "<Figure size 432x288 with 2 Axes>",
      "image/png": "[encoded data removed]"
     },
     "metadata": {
      "needs_background": "light"
     },
     "output_type": "display_data"
    }
   ],
   "source": [
    "# GG - G\n",
    "import numpy as np\n",
    "import matplotlib.pyplot as plt\n",
    "K_list = [0, 1, 2, 3, 4, 5, 6, 7, 8]\n",
    "# Generate some sample data\n",
    "x = K_list\n",
    "y = alpha_list\n",
    "X, Y = np.meshgrid(x, y)     # Create a grid of x and y values\n",
    "g_fitness_across_alpha = np.array(g_ave_performance_across_K_alpha)\n",
    "gg_fitness_across_alpha = np.array(gg_ave_performance_across_K_alpha)\n",
    "diff_gg_g_fitness = gg_fitness_across_alpha - g_fitness_across_alpha\n",
    "z = diff_gg_g_fitness\n",
    "# print(g_fitness_across_alpha[0])\n",
    "# print(gg_fitness_across_alpha[0])\n",
    "# print(diff_gg_g_fitness[0])\n",
    "# Create the 2D color plot\n",
    "plt.pcolormesh(x, y, z, cmap='jet')\n",
    "plt.colorbar()  # Add a colorbar for reference\n",
    "\n",
    "# Set the axis labels and title\n",
    "plt.xlabel('K')\n",
    "plt.xticks(x)\n",
    "# plt.yticks(y)\n",
    "plt.ylabel('$\\\\alpha$')\n",
    "plt.title('(GG - G) Performance across $K$ and $\\\\alpha$')\n",
    "plt.savefig(result_folder + r\"\\Diff_GG_G_performance.png\", transparent=True, dpi=300)\n",
    "# Display the plot\n",
    "plt.show()"
   ],
   "metadata": {
    "collapsed": false,
    "ExecuteTime": {
     "end_time": "2023-11-24T12:08:41.509398700Z",
     "start_time": "2023-11-24T12:08:41.076444600Z"
    }
   }
  },
  {
   "cell_type": "code",
   "execution_count": 30,
   "outputs": [
    {
     "data": {
      "text/plain": "<Figure size 432x288 with 2 Axes>",
      "image/png": "[encoded data removed]"
     },
     "metadata": {
      "needs_background": "light"
     },
     "output_type": "display_data"
    },
    {
     "name": "stdout",
     "output_type": "stream",
     "text": [
      "E:\\data\\gst-0815-23\\Socialization_partial_solution\\Alpha_K_Heatmap-taojngq\n"
     ]
    }
   ],
   "source": [
    "# SG - G\n",
    "import numpy as np\n",
    "import matplotlib.pyplot as plt\n",
    "K_list = [0, 1, 2, 3, 4, 5, 6, 7, 8]\n",
    "# Generate some sample data\n",
    "x = K_list\n",
    "y = alpha_list\n",
    "X, Y = np.meshgrid(x, y)     # Create a grid of x and y values\n",
    "g_fitness_across_alpha = np.array(g_ave_performance_across_K_alpha)\n",
    "sg_fitness_across_alpha = np.array(sg_ave_performance_across_K_alpha)\n",
    "diff_sg_g_fitness = sg_fitness_across_alpha - g_fitness_across_alpha\n",
    "z = diff_sg_g_fitness\n",
    "# print(g_fitness_across_alpha[0])\n",
    "# print(gg_fitness_across_alpha[0])\n",
    "# print(diff_gg_g_fitness[0])\n",
    "# Create the 2D color plot\n",
    "plt.pcolormesh(x, y, z, cmap='jet')\n",
    "plt.colorbar()  # Add a colorbar for reference\n",
    "\n",
    "# Set the axis labels and title\n",
    "plt.xlabel('K')\n",
    "plt.xticks(x)\n",
    "# plt.yticks(y)\n",
    "plt.ylabel('$\\\\alpha$')\n",
    "plt.title('(SG - G) Performance across $K$ and $\\\\alpha$')\n",
    "plt.savefig(data_folder + r\"\\Diff_SG_G_performance.png\", transparent=True, dpi=300)\n",
    "# Display the plot\n",
    "plt.show()\n",
    "print(data_folder)"
   ],
   "metadata": {
    "collapsed": false,
    "ExecuteTime": {
     "end_time": "2023-11-24T12:08:41.901631Z",
     "start_time": "2023-11-24T12:08:41.517398600Z"
    }
   }
  },
  {
   "cell_type": "code",
   "execution_count": 31,
   "outputs": [
    {
     "data": {
      "text/plain": "<Figure size 432x288 with 2 Axes>",
      "image/png": "[encoded data removed]"
     },
     "metadata": {
      "needs_background": "light"
     },
     "output_type": "display_data"
    }
   ],
   "source": [
    "# heatmap figure to replace the 3D surface\n",
    "import numpy as np\n",
    "import matplotlib.pyplot as plt\n",
    "K_list = [0, 1, 2, 3, 4, 5, 6, 7, 8]\n",
    "# Generate some sample data\n",
    "x = K_list\n",
    "y = alpha_list\n",
    "X, Y = np.meshgrid(x, y)     # Create a grid of x and y values\n",
    "s_fitness_across_alpha = np.array(s_ave_performance_across_K_alpha)\n",
    "ss_fitness_across_alpha = np.array(ss_ave_performance_across_K_alpha)\n",
    "diff_ss_s_fitness = ss_fitness_across_alpha - s_fitness_across_alpha\n",
    "z = diff_ss_s_fitness\n",
    "# print(g_fitness_across_alpha[0])\n",
    "# print(gg_fitness_across_alpha[0])\n",
    "# print(diff_gg_g_fitness[0])\n",
    "# Create the 2D color plot\n",
    "plt.pcolormesh(x, y, z, cmap='jet')\n",
    "plt.colorbar()  # Add a colorbar for reference\n",
    "\n",
    "# Set the axis labels and title\n",
    "plt.xlabel('K')\n",
    "plt.xticks(x)\n",
    "# plt.yticks(y)\n",
    "plt.ylabel('$\\\\alpha$')\n",
    "plt.title('(SS - S) Performance across $K$ and $\\\\alpha$')\n",
    "plt.savefig(result_folder + r\"\\Diff_SS_S_performance.png\", transparent=True, dpi=300)\n",
    "# Display the plot\n",
    "plt.show()"
   ],
   "metadata": {
    "collapsed": false,
    "ExecuteTime": {
     "end_time": "2023-11-24T12:08:42.327636500Z",
     "start_time": "2023-11-24T12:08:41.936630800Z"
    }
   }
  },
  {
   "cell_type": "code",
   "execution_count": 32,
   "outputs": [
    {
     "data": {
      "text/plain": "<Figure size 432x288 with 2 Axes>",
      "image/png": "[encoded data removed]"
     },
     "metadata": {
      "needs_background": "light"
     },
     "output_type": "display_data"
    }
   ],
   "source": [
    "# heatmap figure to replace the 3D surface\n",
    "import numpy as np\n",
    "import matplotlib.pyplot as plt\n",
    "K_list = [0, 1, 2, 3, 4, 5, 6, 7, 8]\n",
    "# Generate some sample data\n",
    "x = K_list\n",
    "y = alpha_list\n",
    "X, Y = np.meshgrid(x, y)     # Create a grid of x and y values\n",
    "s_fitness_across_alpha = np.array(s_ave_performance_across_K_alpha)\n",
    "gs_fitness_across_alpha = np.array(gs_ave_performance_across_K_alpha)\n",
    "diff_gs_s_fitness = gs_fitness_across_alpha - s_fitness_across_alpha\n",
    "z = diff_gs_s_fitness\n",
    "# print(g_fitness_across_alpha[0])\n",
    "# print(gg_fitness_across_alpha[0])\n",
    "# print(diff_gg_g_fitness[0])\n",
    "# Create the 2D color plot\n",
    "plt.pcolormesh(x, y, z, cmap='jet')\n",
    "plt.colorbar()  # Add a colorbar for reference\n",
    "\n",
    "# Set the axis labels and title\n",
    "plt.xlabel('K')\n",
    "plt.xticks(x)\n",
    "# plt.yticks(y)\n",
    "plt.ylabel('$\\\\alpha$')\n",
    "plt.title('(GS - S) Performance across $K$ and $\\\\alpha$')\n",
    "plt.savefig(result_folder + r\"\\Diff_GS_S_performance.png\", transparent=True, dpi=300)\n",
    "# Display the plot\n",
    "plt.show()"
   ],
   "metadata": {
    "collapsed": false,
    "ExecuteTime": {
     "end_time": "2023-11-24T12:08:42.733789Z",
     "start_time": "2023-11-24T12:08:42.337640Z"
    }
   }
  }
 ],
 "metadata": {
  "kernelspec": {
   "display_name": "Python 3",
   "language": "python",
   "name": "python3"
  },
  "language_info": {
   "codemirror_mode": {
    "name": "ipython",
    "version": 2
   },
   "file_extension": ".py",
   "mimetype": "text/x-python",
   "name": "python",
   "nbconvert_exporter": "python",
   "pygments_lexer": "ipython2",
   "version": "2.7.6"
  }
 },
 "nbformat": 4,
 "nbformat_minor": 0
}
