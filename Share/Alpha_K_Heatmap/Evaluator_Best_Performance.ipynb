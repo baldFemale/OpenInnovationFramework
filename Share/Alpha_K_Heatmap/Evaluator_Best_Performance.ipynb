{
 "cells": [
  {
   "cell_type": "code",
   "execution_count": 2,
   "metadata": {
    "collapsed": true,
    "ExecuteTime": {
     "end_time": "2023-11-03T12:49:50.057692500Z",
     "start_time": "2023-11-03T12:49:49.581689400Z"
    }
   },
   "outputs": [],
   "source": [
    "import matplotlib.pyplot as plt\n",
    "import numpy as np\n",
    "import pickle\n",
    "legend_properties = {'weight':'bold'}\n",
    "nus_blue = \"#003D7C\"\n",
    "nus_orange = \"#EF7C00\"\n",
    "# Nature three colors\n",
    "nature_orange = \"#F16C23\"\n",
    "nature_blue = \"#2B6A99\"\n",
    "nature_green = \"#1B7C3D\"\n",
    "# Morandi six colors\n",
    "morandi_blue = \"#046586\"\n",
    "morandi_green =  \"#28A9A1\"\n",
    "morandi_yellow = \"#C9A77C\"\n",
    "morandi_orange = \"#F4A016\"\n",
    "morandi_pink = \"#F6BBC6\"\n",
    "morandi_red = \"#E71F19\"\n",
    "morandi_purple = \"#B08BEB\"\n",
    "# Others\n",
    "shallow_grey = \"#D3D4D3\"\n",
    "deep_grey = \"#A6ABB6\"\n",
    "# Red and Blue\n",
    "strong_red = \"#A61C5D\"\n",
    "strong_blue = \"#1B64A4\"\n",
    "\n",
    "# Shallow-deep pair\n",
    "shallow_purple = \"#EAD7EA\"\n",
    "deep_purple = \"#BA9DB9\"\n",
    "shallow_cyan = \"#A9D5E0\"\n",
    "deep_cyan = \"#48C0BF\"\n",
    "shallow_blue = \"#B6DAEC\"\n",
    "deep_blue = \"#98CFE4\"\n",
    "shallow_pink = \"#F5E0E5\"\n",
    "deep_pink = \"#E5A7B6\"\n",
    "shallow_green = \"#C2DED0\"\n",
    "deep_green = \"#A5C6B1\"\n",
    "\n",
    "color_pairs = [[shallow_purple, deep_purple],  [shallow_green, deep_green],\n",
    "               [shallow_blue, deep_blue], [shallow_pink, deep_pink], [shallow_cyan, deep_cyan],\n",
    "               [shallow_grey, deep_grey]]\n",
    "morandi_colors = [morandi_blue, morandi_green, morandi_yellow, morandi_orange, morandi_pink, morandi_red, morandi_purple]"
   ]
  },
  {
   "cell_type": "code",
   "execution_count": 3,
   "outputs": [],
   "source": [
    "data_folder = r\"E:\\data\\gst-0815-23\\Socialization_partial_solution\\Alpha_K_Heatmap_junyi\"\n",
    "alpha_list = [0.05, 0.10, 0.15, 0.20, 0.25, 0.30, 0.35, 0.40]\n",
    "gg_ave_performance_across_K_alpha, gg_best_performance_across_K_alpha, gg_variance_across_K_alpha = [], [], []\n",
    "exchange_ave_performance_across_K_alpha, exchange_best_performance_across_K_alpha, exchange_variance_across_K_alpha = [], [], []\n",
    "for alpha in alpha_list:\n",
    "    # GG\n",
    "    gg_performance_file = data_folder + r\"\\gg_ave_performance_across_K_alpha_{0}\".format(alpha)\n",
    "    gg_best_performance_file = data_folder + r\"\\gg_best_performance_across_K_alpha_{0}\".format(alpha)\n",
    "    gg_variance_file = data_folder + r\"\\gg_variance_across_K_alpha_{0}\".format(alpha)\n",
    "    # GS Exchange\n",
    "    exchange_performance_file = data_folder + r\"\\exchange_gs_ave_performance_across_K_alpha_{0}\".format(alpha)\n",
    "    exchange_best_performance_file = data_folder + r\"\\exchange_gs_best_performance_across_K_alpha_{0}\".format(alpha)\n",
    "    exchange_variance_file = data_folder + r\"\\exchange_gs_variance_across_K_alpha_{0}\".format(alpha)\n",
    "    \n",
    "    # GG\n",
    "    with open(gg_performance_file, 'rb') as infile:\n",
    "        gg_performance = pickle.load(infile)\n",
    "    with open(gg_best_performance_file, 'rb') as infile:\n",
    "        gg_best_performance = pickle.load(infile)\n",
    "    with open(gg_variance_file, 'rb') as infile:\n",
    "        gg_variance = pickle.load(infile)\n",
    "    gg_ave_performance_across_K_alpha.append(gg_performance)\n",
    "    gg_best_performance_across_K_alpha.append(gg_best_performance)\n",
    "    gg_variance_across_K_alpha.append(gg_variance)\n",
    "    \n",
    "    # Exchange\n",
    "    with open(gg_performance_file, 'rb') as infile:\n",
    "        exchange_performance = pickle.load(infile)\n",
    "    with open(gg_best_performance_file, 'rb') as infile:\n",
    "        exchange_best_performance = pickle.load(infile)\n",
    "    with open(gg_variance_file, 'rb') as infile:\n",
    "        exchange_variance = pickle.load(infile)\n",
    "    exchange_ave_performance_across_K_alpha.append(exchange_performance)\n",
    "    exchange_best_performance_across_K_alpha.append(exchange_best_performance)\n",
    "    exchange_variance_across_K_alpha.append(exchange_variance)"
   ],
   "metadata": {
    "collapsed": false,
    "ExecuteTime": {
     "end_time": "2023-11-03T12:49:50.117851100Z",
     "start_time": "2023-11-03T12:49:50.064691900Z"
    }
   }
  },
  {
   "cell_type": "code",
   "execution_count": 4,
   "outputs": [],
   "source": [
    "data_folder = r\"E:\\data\\gst-0815-23\\Socialization_partial_solution\\Alpha_K_Heatmap_haoyan\"\n",
    "alpha_list = [0.05, 0.10, 0.15, 0.20, 0.25, 0.30, 0.35, 0.40]\n",
    "gs_ave_performance_across_K_alpha, gs_best_performance_across_K_alpha, gs_variance_across_K_alpha = [], [], []\n",
    "# mixed_ave_performance_across_K_alpha, mixed_best_performance_across_K_alpha, mixed_variance_across_K_alpha = [], [], []\n",
    "for alpha in alpha_list:\n",
    "    # GS\n",
    "    gs_performance_file = data_folder + r\"\\gs_ave_performance_across_K_alpha_{0}\".format(alpha)\n",
    "    gs_best_performance_file = data_folder + r\"\\gs_best_performance_across_K_alpha_{0}\".format(alpha)\n",
    "    gs_variance_file = data_folder + r\"\\gs_variance_across_K_alpha_{0}\".format(alpha)\n",
    "    # GS mixed\n",
    "    # mixed_performance_file = data_folder + r\"\\mixed_gs_ave_performance_across_K_alpha_{0}\".format(alpha)\n",
    "    # mixed_best_performance_file = data_folder + r\"\\mixed_gs_best_performance_across_K_alpha_{0}\".format(alpha)\n",
    "    # mixed_variance_file = data_folder + r\"\\mixed_gs_variance_across_K_alpha_{0}\".format(alpha)\n",
    "    \n",
    "    # GS\n",
    "    with open(gs_performance_file, 'rb') as infile:\n",
    "        gs_performance = pickle.load(infile)\n",
    "    with open(gs_best_performance_file, 'rb') as infile:\n",
    "        gs_best_performance = pickle.load(infile)\n",
    "    with open(gs_variance_file, 'rb') as infile:\n",
    "        gs_variance = pickle.load(infile)\n",
    "    gs_ave_performance_across_K_alpha.append(gs_performance)\n",
    "    gs_best_performance_across_K_alpha.append(gs_best_performance)\n",
    "    gs_variance_across_K_alpha.append(gs_variance)\n",
    "    \n",
    "    # # Mixed\n",
    "    # with open(mixed_performance_file, 'rb') as infile:\n",
    "    #     mixed_performance = pickle.load(infile)\n",
    "    # with open(mixed_best_performance_file, 'rb') as infile:\n",
    "    #     mixed_best_performance = pickle.load(infile)\n",
    "    # with open(mixed_variance_file, 'rb') as infile:\n",
    "    #     mixed_variance = pickle.load(infile)\n",
    "    # mixed_ave_performance_across_K_alpha.append(exchange_performance)\n",
    "    # mixed_best_performance_across_K_alpha.append(exchange_best_performance)\n",
    "    # mixed_variance_across_K_alpha.append(exchange_variance)"
   ],
   "metadata": {
    "collapsed": false,
    "ExecuteTime": {
     "end_time": "2023-11-03T12:49:50.159701800Z",
     "start_time": "2023-11-03T12:49:50.123838600Z"
    }
   }
  },
  {
   "cell_type": "code",
   "execution_count": 5,
   "outputs": [],
   "source": [
    "data_folder = r\"E:\\data\\gst-0815-23\\Socialization_partial_solution\\Alpha_K_Heatmap-taojngq\"\n",
    "alpha_list = [0.05, 0.10, 0.15, 0.20, 0.25, 0.30, 0.35, 0.40]\n",
    "sg_ave_performance_across_K_alpha, sg_best_performance_across_K_alpha, sg_variance_across_K_alpha = [], [], []\n",
    "ss_ave_performance_across_K_alpha, ss_best_performance_across_K_alpha, ss_variance_across_K_alpha = [], [], []\n",
    "for alpha in alpha_list:\n",
    "    # SG\n",
    "    sg_performance_file = data_folder + r\"\\sg_ave_performance_across_K_alpha_{0}\".format(alpha)\n",
    "    sg_best_performance_file = data_folder + r\"\\sg_best_performance_across_K_alpha_{0}\".format(alpha)\n",
    "    sg_variance_file = data_folder + r\"\\sg_variance_across_K_alpha_{0}\".format(alpha)\n",
    "    # SS\n",
    "    ss_performance_file = data_folder + r\"\\ss_ave_performance_across_K_alpha_{0}\".format(alpha)\n",
    "    ss_best_performance_file = data_folder + r\"\\ss_best_performance_across_K_alpha_{0}\".format(alpha)\n",
    "    ss_variance_file = data_folder + r\"\\ss_variance_across_K_alpha_{0}\".format(alpha)\n",
    "    \n",
    "    # SG\n",
    "    with open(sg_performance_file, 'rb') as infile:\n",
    "        sg_performance = pickle.load(infile)\n",
    "    with open(sg_best_performance_file, 'rb') as infile:\n",
    "        sg_best_performance = pickle.load(infile)\n",
    "    with open(sg_variance_file, 'rb') as infile:\n",
    "        sg_variance = pickle.load(infile)\n",
    "    sg_ave_performance_across_K_alpha.append(sg_performance)\n",
    "    sg_best_performance_across_K_alpha.append(sg_best_performance)\n",
    "    sg_variance_across_K_alpha.append(sg_variance)\n",
    "    \n",
    "    # SS\n",
    "    with open(ss_performance_file, 'rb') as infile:\n",
    "        ss_performance = pickle.load(infile)\n",
    "    with open(ss_best_performance_file, 'rb') as infile:\n",
    "        ss_best_performance = pickle.load(infile)\n",
    "    with open(ss_variance_file, 'rb') as infile:\n",
    "        ss_variance = pickle.load(infile)\n",
    "    ss_ave_performance_across_K_alpha.append(ss_performance)\n",
    "    ss_best_performance_across_K_alpha.append(ss_best_performance)\n",
    "    ss_variance_across_K_alpha.append(ss_variance)"
   ],
   "metadata": {
    "collapsed": false,
    "ExecuteTime": {
     "end_time": "2023-11-03T12:49:50.209741200Z",
     "start_time": "2023-11-03T12:49:50.154702800Z"
    }
   }
  },
  {
   "cell_type": "code",
   "execution_count": 6,
   "outputs": [
    {
     "name": "stdout",
     "output_type": "stream",
     "text": [
      "(8, 9)\n",
      "[[0.6670407469886238, 0.6387715180038627, 0.6204352949901927, 0.6123844095397959, 0.6158914077163998, 0.6146525765250732, 0.616661231705051, 0.6114957611353511, 0.6115244688369643], [0.6675564119328244, 0.6340565354441023, 0.6185432396775091, 0.6194101820980166, 0.6119477214974905, 0.6169602502140976, 0.6135578463052692, 0.6147186737947439, 0.6125493508265023], [0.6660210164990586, 0.6346177197420145, 0.6184619072704785, 0.621462903351353, 0.6145599399095745, 0.6155608028550238, 0.6114383101445717, 0.6108570805013308, 0.6134937596731371], [0.6677024927829645, 0.6382641389235636, 0.6245709257515517, 0.6142953677494684, 0.6142917042277594, 0.6137973107314871, 0.6117458752868316, 0.6093972520080383, 0.6137083447758196], [0.6648981387699128, 0.6346424801452654, 0.6235832839565317, 0.6135114277818581, 0.6176700220552711, 0.6136954372994766, 0.6131276370994804, 0.6135743977596342, 0.6099868956606126], [0.6681858364249265, 0.6361154906156774, 0.6215573837588455, 0.6200626727296512, 0.6173161137578694, 0.6145665522297897, 0.6112214130366154, 0.612409078322218, 0.6139399368090155], [0.6667229419301473, 0.6360308940829354, 0.6222830996018933, 0.6171658197646841, 0.6145786265689116, 0.6148394907057974, 0.6158449049545132, 0.6136284307516945, 0.6132760011282433], [0.6658026841062126, 0.6343682642808607, 0.623026621230373, 0.6195397381672878, 0.6128961635471636, 0.614823019386703, 0.6149128227357025, 0.6133473951720141, 0.6135220790606468]]\n"
     ]
    }
   ],
   "source": [
    "# Baseline: independent search\n",
    "baseline_folder = r\"E:\\data\\gst-0815-23\\Socialization_partial_solution\\Independent_Heatmap\"\n",
    "alpha_list = [0.05, 0.10, 0.15, 0.20, 0.25, 0.30, 0.35, 0.40]\n",
    "g_ave_performance_across_K_alpha, g_best_performance_across_K_alpha, g_variance_across_K_alpha = [], [], []\n",
    "s_ave_performance_across_K_alpha, s_best_performance_across_K_alpha, s_variance_across_K_alpha = [], [], []\n",
    "for alpha in alpha_list:\n",
    "    g_ave_performance_file = baseline_folder + r\"\\g_ave_performance_across_K_alpha_{0}\".format(alpha)\n",
    "    g_best_performance_file = baseline_folder + r\"\\g_best_performance_across_K_alpha_{0}\".format(alpha)\n",
    "    g_variance_file = baseline_folder + r\"\\g_variance_across_K_alpha_{0}\".format(alpha)\n",
    "    \n",
    "    s_ave_performance_file = baseline_folder + r\"\\s_ave_performance_across_K_alpha_{0}\".format(alpha)\n",
    "    s_best_performance_file = baseline_folder + r\"\\s_best_performance_across_K_alpha_{0}\".format(alpha)\n",
    "    s_variance_file = baseline_folder + r\"\\s_variance_across_K_alpha_{0}\".format(alpha)\n",
    "\n",
    "    with open(g_ave_performance_file, 'rb') as infile:\n",
    "        g_ave_performance = pickle.load(infile)\n",
    "    with open(g_best_performance_file, 'rb') as infile:\n",
    "        g_best_performance = pickle.load(infile)\n",
    "    with open(g_variance_file, 'rb') as infile:\n",
    "        g_variance = pickle.load(infile)\n",
    "    g_ave_performance_across_K_alpha.append(g_ave_performance)\n",
    "    g_best_performance_across_K_alpha.append(g_best_performance)\n",
    "    g_variance_across_K_alpha.append(g_variance)\n",
    "    \n",
    "    with open(s_ave_performance_file, 'rb') as infile:\n",
    "        s_ave_performance = pickle.load(infile)\n",
    "    with open(s_best_performance_file, 'rb') as infile:\n",
    "        s_best_performance = pickle.load(infile)\n",
    "    with open(s_variance_file, 'rb') as infile:\n",
    "        s_variance = pickle.load(infile)\n",
    "    s_ave_performance_across_K_alpha.append(s_ave_performance)\n",
    "    s_best_performance_across_K_alpha.append(s_best_performance)\n",
    "    s_variance_across_K_alpha.append(s_variance)\n",
    "\n",
    "print(np.array(s_ave_performance_across_K_alpha).shape)\n",
    "print(s_ave_performance_across_K_alpha)"
   ],
   "metadata": {
    "collapsed": false,
    "ExecuteTime": {
     "end_time": "2023-11-03T12:49:50.270918300Z",
     "start_time": "2023-11-03T12:49:50.213733100Z"
    }
   }
  },
  {
   "cell_type": "code",
   "execution_count": 7,
   "outputs": [
    {
     "data": {
      "text/plain": "<Figure size 432x288 with 2 Axes>",
      "image/png": "[encoded data removed]"
     },
     "metadata": {
      "needs_background": "light"
     },
     "output_type": "display_data"
    }
   ],
   "source": [
    "# heatmap figure to replace the 3D surface\n",
    "import numpy as np\n",
    "import matplotlib.pyplot as plt\n",
    "K_list = [0, 1, 2, 3, 4, 5, 6, 7, 8]\n",
    "# Generate some sample data\n",
    "x = K_list\n",
    "y = alpha_list\n",
    "X, Y = np.meshgrid(x, y)     # Create a grid of x and y values\n",
    "gg_fitness_across_alpha = np.array(gg_ave_performance_across_K_alpha)\n",
    "z = gg_fitness_across_alpha\n",
    "# Create the 2D color plot\n",
    "plt.pcolormesh(x, y, z, cmap='jet')\n",
    "plt.colorbar()  # Add a colorbar for reference\n",
    "\n",
    "# Set the axis labels and title\n",
    "plt.xlabel('K')\n",
    "plt.xticks(x)\n",
    "# plt.yticks(y)\n",
    "plt.ylabel('$\\\\alpha$')\n",
    "plt.title('Generalist Performance across $K$ and $\\\\alpha$')\n",
    "plt.savefig(data_folder + r\"\\GG_performance.png\", transparent=True, dpi=300)\n",
    "# Display the plot\n",
    "plt.show()\n"
   ],
   "metadata": {
    "collapsed": false,
    "ExecuteTime": {
     "end_time": "2023-11-03T12:49:50.928924400Z",
     "start_time": "2023-11-03T12:49:50.268917700Z"
    }
   }
  },
  {
   "cell_type": "code",
   "execution_count": 8,
   "outputs": [
    {
     "data": {
      "text/plain": "<Figure size 432x288 with 2 Axes>",
      "image/png": "[encoded data removed]"
     },
     "metadata": {
      "needs_background": "light"
     },
     "output_type": "display_data"
    }
   ],
   "source": [
    "# heatmap figure to replace the 3D surface\n",
    "import numpy as np\n",
    "import matplotlib.pyplot as plt\n",
    "K_list = [0, 1, 2, 3, 4, 5, 6, 7, 8]\n",
    "# Generate some sample data\n",
    "x = K_list\n",
    "y = alpha_list\n",
    "X, Y = np.meshgrid(x, y)     # Create a grid of x and y values\n",
    "gs_fitness_across_alpha = np.array(gs_ave_performance_across_K_alpha)\n",
    "z = gs_fitness_across_alpha\n",
    "# Create the 2D color plot\n",
    "plt.pcolormesh(x, y, z, cmap='jet')\n",
    "plt.colorbar()  # Add a colorbar for reference\n",
    "\n",
    "# Set the axis labels and title\n",
    "plt.xlabel('K')\n",
    "plt.xticks(x)\n",
    "# plt.yticks(y)\n",
    "plt.ylabel('$\\\\alpha$')\n",
    "plt.title('GS Performance across $K$ and $\\\\alpha$')\n",
    "plt.savefig(data_folder + r\"\\GS_performance.png\", transparent=True, dpi=300)\n",
    "# Display the plot\n",
    "plt.show()"
   ],
   "metadata": {
    "collapsed": false,
    "ExecuteTime": {
     "end_time": "2023-11-03T12:49:51.352930600Z",
     "start_time": "2023-11-03T12:49:50.953922500Z"
    }
   }
  },
  {
   "cell_type": "code",
   "execution_count": 9,
   "outputs": [
    {
     "data": {
      "text/plain": "<Figure size 432x288 with 2 Axes>",
      "image/png": "[encoded data removed]"
     },
     "metadata": {
      "needs_background": "light"
     },
     "output_type": "display_data"
    }
   ],
   "source": [
    "# heatmap figure to replace the 3D surface\n",
    "import numpy as np\n",
    "import matplotlib.pyplot as plt\n",
    "K_list = [0, 1, 2, 3, 4, 5, 6, 7, 8]\n",
    "# Generate some sample data\n",
    "x = K_list\n",
    "y = alpha_list\n",
    "X, Y = np.meshgrid(x, y)     # Create a grid of x and y values\n",
    "ss_fitness_across_alpha = np.array(ss_ave_performance_across_K_alpha)\n",
    "z = ss_fitness_across_alpha\n",
    "# Create the 2D color plot\n",
    "plt.pcolormesh(x, y, z, cmap='jet')\n",
    "plt.colorbar()  # Add a colorbar for reference\n",
    "\n",
    "# Set the axis labels and title\n",
    "plt.xlabel('K')\n",
    "plt.xticks(x)\n",
    "# plt.yticks(y)\n",
    "plt.ylabel('$\\\\alpha$')\n",
    "plt.title('SS Performance across $K$ and $\\\\alpha$')\n",
    "plt.savefig(data_folder + r\"\\SS_performance.png\", transparent=True, dpi=300)\n",
    "# Display the plot\n",
    "plt.show()\n"
   ],
   "metadata": {
    "collapsed": false,
    "ExecuteTime": {
     "end_time": "2023-11-03T12:49:51.768929100Z",
     "start_time": "2023-11-03T12:49:51.383924900Z"
    }
   }
  },
  {
   "cell_type": "code",
   "execution_count": 10,
   "outputs": [
    {
     "data": {
      "text/plain": "<Figure size 432x288 with 2 Axes>",
      "image/png": "[encoded data removed]"
     },
     "metadata": {
      "needs_background": "light"
     },
     "output_type": "display_data"
    }
   ],
   "source": [
    "# heatmap figure to replace the 3D surface\n",
    "import numpy as np\n",
    "import matplotlib.pyplot as plt\n",
    "K_list = [0, 1, 2, 3, 4, 5, 6, 7, 8]\n",
    "# Generate some sample data\n",
    "x = K_list\n",
    "y = alpha_list\n",
    "X, Y = np.meshgrid(x, y)     # Create a grid of x and y values\n",
    "sg_fitness_across_alpha = np.array(sg_ave_performance_across_K_alpha)\n",
    "z = sg_fitness_across_alpha\n",
    "# Create the 2D color plot\n",
    "plt.pcolormesh(x, y, z, cmap='jet')\n",
    "plt.colorbar()  # Add a colorbar for reference\n",
    "\n",
    "# Set the axis labels and title\n",
    "plt.xlabel('K')\n",
    "plt.xticks(x)\n",
    "# plt.yticks(y)\n",
    "plt.ylabel('$\\\\alpha$')\n",
    "plt.title('SG Performance across $K$ and $\\\\alpha$')\n",
    "plt.savefig(data_folder + r\"\\SG_performance.png\", transparent=True, dpi=300)\n",
    "# Display the plot\n",
    "plt.show()\n"
   ],
   "metadata": {
    "collapsed": false,
    "ExecuteTime": {
     "end_time": "2023-11-03T12:49:52.174962100Z",
     "start_time": "2023-11-03T12:49:51.772953Z"
    }
   }
  },
  {
   "cell_type": "code",
   "execution_count": 11,
   "outputs": [
    {
     "data": {
      "text/plain": "<Figure size 432x288 with 2 Axes>",
      "image/png": "[encoded data removed]"
     },
     "metadata": {
      "needs_background": "light"
     },
     "output_type": "display_data"
    },
    {
     "name": "stdout",
     "output_type": "stream",
     "text": [
      "E:\\data\\gst-0815-23\\Socialization_partial_solution\\Alpha_K_Heatmap-taojngq\n"
     ]
    }
   ],
   "source": [
    "# heatmap figure to replace the 3D surface\n",
    "import numpy as np\n",
    "import matplotlib.pyplot as plt\n",
    "K_list = [0, 1, 2, 3, 4, 5, 6, 7, 8]\n",
    "# Generate some sample data\n",
    "x = K_list\n",
    "y = alpha_list\n",
    "X, Y = np.meshgrid(x, y)     # Create a grid of x and y values\n",
    "g_fitness_across_alpha = np.array(g_ave_performance_across_K_alpha)\n",
    "z = g_fitness_across_alpha\n",
    "# Create the 2D color plot\n",
    "plt.pcolormesh(x, y, z, cmap='jet')\n",
    "plt.colorbar()  # Add a colorbar for reference\n",
    "\n",
    "# Set the axis labels and title\n",
    "plt.xlabel('K')\n",
    "plt.xticks(x)\n",
    "# plt.yticks(y)\n",
    "plt.ylabel('$\\\\alpha$')\n",
    "plt.title('G Performance across $K$ and $\\\\alpha$')\n",
    "plt.savefig(data_folder + r\"\\G_performance.png\", transparent=True, dpi=300)\n",
    "# Display the plot\n",
    "plt.show()\n",
    "print(data_folder)"
   ],
   "metadata": {
    "collapsed": false,
    "ExecuteTime": {
     "end_time": "2023-11-03T12:49:52.579523300Z",
     "start_time": "2023-11-03T12:49:52.186930Z"
    }
   }
  },
  {
   "cell_type": "code",
   "execution_count": 12,
   "outputs": [
    {
     "data": {
      "text/plain": "<Figure size 432x288 with 2 Axes>",
      "image/png": "[encoded data removed]"
     },
     "metadata": {
      "needs_background": "light"
     },
     "output_type": "display_data"
    },
    {
     "name": "stdout",
     "output_type": "stream",
     "text": [
      "E:\\data\\gst-0815-23\\Socialization_partial_solution\\Alpha_K_Heatmap-taojngq\n"
     ]
    }
   ],
   "source": [
    "# heatmap figure to replace the 3D surface\n",
    "import numpy as np\n",
    "import matplotlib.pyplot as plt\n",
    "K_list = [0, 1, 2, 3, 4, 5, 6, 7, 8]\n",
    "# Generate some sample data\n",
    "x = K_list\n",
    "y = alpha_list\n",
    "X, Y = np.meshgrid(x, y)     # Create a grid of x and y values\n",
    "s_fitness_across_alpha = np.array(s_ave_performance_across_K_alpha)\n",
    "z = s_fitness_across_alpha\n",
    "# Create the 2D color plot\n",
    "plt.pcolormesh(x, y, z, cmap='jet')\n",
    "plt.colorbar()  # Add a colorbar for reference\n",
    "\n",
    "# Set the axis labels and title\n",
    "plt.xlabel('K')\n",
    "plt.xticks(x)\n",
    "# plt.yticks(y)\n",
    "plt.ylabel('$\\\\alpha$')\n",
    "plt.title('S Performance across $K$ and $\\\\alpha$')\n",
    "plt.savefig(data_folder + r\"\\S_performance.png\", transparent=True, dpi=300)\n",
    "# Display the plot\n",
    "plt.show()\n",
    "print(data_folder)"
   ],
   "metadata": {
    "collapsed": false,
    "ExecuteTime": {
     "end_time": "2023-11-03T12:49:53.023809700Z",
     "start_time": "2023-11-03T12:49:52.598502600Z"
    }
   }
  },
  {
   "cell_type": "code",
   "execution_count": 13,
   "outputs": [
    {
     "data": {
      "text/plain": "<Figure size 432x288 with 2 Axes>",
      "image/png": "[encoded data removed]"
     },
     "metadata": {
      "needs_background": "light"
     },
     "output_type": "display_data"
    },
    {
     "name": "stdout",
     "output_type": "stream",
     "text": [
      "E:\\data\\gst-0815-23\\Socialization_partial_solution\\Alpha_K_Heatmap-taojngq\n"
     ]
    }
   ],
   "source": [
    "# GG - G\n",
    "import numpy as np\n",
    "import matplotlib.pyplot as plt\n",
    "K_list = [0, 1, 2, 3, 4, 5, 6, 7, 8]\n",
    "# Generate some sample data\n",
    "x = K_list\n",
    "y = alpha_list\n",
    "X, Y = np.meshgrid(x, y)     # Create a grid of x and y values\n",
    "g_fitness_across_alpha = np.array(g_ave_performance_across_K_alpha)\n",
    "gg_fitness_across_alpha = np.array(gg_ave_performance_across_K_alpha)\n",
    "diff_gg_g_fitness = gg_fitness_across_alpha - g_fitness_across_alpha\n",
    "z = diff_gg_g_fitness\n",
    "# print(g_fitness_across_alpha[0])\n",
    "# print(gg_fitness_across_alpha[0])\n",
    "# print(diff_gg_g_fitness[0])\n",
    "# Create the 2D color plot\n",
    "plt.pcolormesh(x, y, z, cmap='jet')\n",
    "plt.colorbar()  # Add a colorbar for reference\n",
    "\n",
    "# Set the axis labels and title\n",
    "plt.xlabel('K')\n",
    "plt.xticks(x)\n",
    "# plt.yticks(y)\n",
    "plt.ylabel('$\\\\alpha$')\n",
    "plt.title('GG - G Performance across $K$ and $\\\\alpha$')\n",
    "plt.savefig(data_folder + r\"\\Diff_GG_G_performance.png\", transparent=True, dpi=300)\n",
    "# Display the plot\n",
    "plt.show()\n",
    "print(data_folder)"
   ],
   "metadata": {
    "collapsed": false,
    "ExecuteTime": {
     "end_time": "2023-11-03T12:49:53.467811500Z",
     "start_time": "2023-11-03T12:49:53.022808100Z"
    }
   }
  },
  {
   "cell_type": "code",
   "execution_count": 14,
   "outputs": [
    {
     "data": {
      "text/plain": "<Figure size 432x288 with 2 Axes>",
      "image/png": "[encoded data removed]"
     },
     "metadata": {
      "needs_background": "light"
     },
     "output_type": "display_data"
    },
    {
     "name": "stdout",
     "output_type": "stream",
     "text": [
      "E:\\data\\gst-0815-23\\Socialization_partial_solution\\Alpha_K_Heatmap-taojngq\n"
     ]
    }
   ],
   "source": [
    "# SG - G\n",
    "import numpy as np\n",
    "import matplotlib.pyplot as plt\n",
    "K_list = [0, 1, 2, 3, 4, 5, 6, 7, 8]\n",
    "# Generate some sample data\n",
    "x = K_list\n",
    "y = alpha_list\n",
    "X, Y = np.meshgrid(x, y)     # Create a grid of x and y values\n",
    "g_fitness_across_alpha = np.array(g_ave_performance_across_K_alpha)\n",
    "sg_fitness_across_alpha = np.array(sg_ave_performance_across_K_alpha)\n",
    "diff_sg_g_fitness = sg_fitness_across_alpha - g_fitness_across_alpha\n",
    "z = diff_sg_g_fitness\n",
    "# print(g_fitness_across_alpha[0])\n",
    "# print(gg_fitness_across_alpha[0])\n",
    "# print(diff_gg_g_fitness[0])\n",
    "# Create the 2D color plot\n",
    "plt.pcolormesh(x, y, z, cmap='jet')\n",
    "plt.colorbar()  # Add a colorbar for reference\n",
    "\n",
    "# Set the axis labels and title\n",
    "plt.xlabel('K')\n",
    "plt.xticks(x)\n",
    "# plt.yticks(y)\n",
    "plt.ylabel('$\\\\alpha$')\n",
    "plt.title('SG - G Performance across $K$ and $\\\\alpha$')\n",
    "plt.savefig(data_folder + r\"\\Diff_SG_G_performance.png\", transparent=True, dpi=300)\n",
    "# Display the plot\n",
    "plt.show()\n",
    "print(data_folder)"
   ],
   "metadata": {
    "collapsed": false,
    "ExecuteTime": {
     "end_time": "2023-11-03T12:49:53.871816900Z",
     "start_time": "2023-11-03T12:49:53.500827800Z"
    }
   }
  },
  {
   "cell_type": "code",
   "execution_count": 15,
   "outputs": [
    {
     "data": {
      "text/plain": "<Figure size 432x288 with 2 Axes>",
      "image/png": "[encoded data removed]"
     },
     "metadata": {
      "needs_background": "light"
     },
     "output_type": "display_data"
    },
    {
     "name": "stdout",
     "output_type": "stream",
     "text": [
      "E:\\data\\gst-0815-23\\Socialization_partial_solution\\Alpha_K_Heatmap-taojngq\n"
     ]
    }
   ],
   "source": [
    "# heatmap figure to replace the 3D surface\n",
    "import numpy as np\n",
    "import matplotlib.pyplot as plt\n",
    "K_list = [0, 1, 2, 3, 4, 5, 6, 7, 8]\n",
    "# Generate some sample data\n",
    "x = K_list\n",
    "y = alpha_list\n",
    "X, Y = np.meshgrid(x, y)     # Create a grid of x and y values\n",
    "s_fitness_across_alpha = np.array(s_ave_performance_across_K_alpha)\n",
    "ss_fitness_across_alpha = np.array(ss_ave_performance_across_K_alpha)\n",
    "diff_ss_s_fitness = ss_fitness_across_alpha - s_fitness_across_alpha\n",
    "z = diff_ss_s_fitness\n",
    "# print(g_fitness_across_alpha[0])\n",
    "# print(gg_fitness_across_alpha[0])\n",
    "# print(diff_gg_g_fitness[0])\n",
    "# Create the 2D color plot\n",
    "plt.pcolormesh(x, y, z, cmap='jet')\n",
    "plt.colorbar()  # Add a colorbar for reference\n",
    "\n",
    "# Set the axis labels and title\n",
    "plt.xlabel('K')\n",
    "plt.xticks(x)\n",
    "# plt.yticks(y)\n",
    "plt.ylabel('$\\\\alpha$')\n",
    "plt.title('SS - S Performance across $K$ and $\\\\alpha$')\n",
    "plt.savefig(data_folder + r\"\\Diff_SS_S_performance.png\", transparent=True, dpi=300)\n",
    "# Display the plot\n",
    "plt.show()\n",
    "print(data_folder)"
   ],
   "metadata": {
    "collapsed": false,
    "ExecuteTime": {
     "end_time": "2023-11-03T12:49:54.260881700Z",
     "start_time": "2023-11-03T12:49:53.883821300Z"
    }
   }
  },
  {
   "cell_type": "code",
   "execution_count": 16,
   "outputs": [
    {
     "data": {
      "text/plain": "<Figure size 432x288 with 2 Axes>",
      "image/png": "[encoded data removed]"
     },
     "metadata": {
      "needs_background": "light"
     },
     "output_type": "display_data"
    },
    {
     "name": "stdout",
     "output_type": "stream",
     "text": [
      "E:\\data\\gst-0815-23\\Socialization_partial_solution\\Alpha_K_Heatmap-taojngq\n"
     ]
    }
   ],
   "source": [
    "# heatmap figure to replace the 3D surface\n",
    "import numpy as np\n",
    "import matplotlib.pyplot as plt\n",
    "K_list = [0, 1, 2, 3, 4, 5, 6, 7, 8]\n",
    "# Generate some sample data\n",
    "x = K_list\n",
    "y = alpha_list\n",
    "X, Y = np.meshgrid(x, y)     # Create a grid of x and y values\n",
    "s_fitness_across_alpha = np.array(s_ave_performance_across_K_alpha)\n",
    "gs_fitness_across_alpha = np.array(gs_ave_performance_across_K_alpha)\n",
    "diff_gs_s_fitness = gs_fitness_across_alpha - s_fitness_across_alpha\n",
    "z = diff_gs_s_fitness\n",
    "# print(g_fitness_across_alpha[0])\n",
    "# print(gg_fitness_across_alpha[0])\n",
    "# print(diff_gg_g_fitness[0])\n",
    "# Create the 2D color plot\n",
    "plt.pcolormesh(x, y, z, cmap='jet')\n",
    "plt.colorbar()  # Add a colorbar for reference\n",
    "\n",
    "# Set the axis labels and title\n",
    "plt.xlabel('K')\n",
    "plt.xticks(x)\n",
    "# plt.yticks(y)\n",
    "plt.ylabel('$\\\\alpha$')\n",
    "plt.title('GS - S Performance across $K$ and $\\\\alpha$')\n",
    "plt.savefig(data_folder + r\"\\Diff_GS_S_performance.png\", transparent=True, dpi=300)\n",
    "# Display the plot\n",
    "plt.show()\n",
    "print(data_folder)"
   ],
   "metadata": {
    "collapsed": false,
    "ExecuteTime": {
     "end_time": "2023-11-03T12:49:54.666858700Z",
     "start_time": "2023-11-03T12:49:54.274855700Z"
    }
   }
  },
  {
   "cell_type": "code",
   "execution_count": 17,
   "outputs": [
    {
     "data": {
      "text/plain": "<Figure size 432x288 with 2 Axes>",
      "image/png": "[encoded data removed]"
     },
     "metadata": {
      "needs_background": "light"
     },
     "output_type": "display_data"
    },
    {
     "name": "stdout",
     "output_type": "stream",
     "text": [
      "E:\\data\\gst-0815-23\\Socialization_partial_solution\\Alpha_K_Heatmap-taojngq\n"
     ]
    }
   ],
   "source": [
    "# GG - G Best Performance\n",
    "import numpy as np\n",
    "import matplotlib.pyplot as plt\n",
    "K_list = [0, 1, 2, 3, 4, 5, 6, 7, 8]\n",
    "# Generate some sample data\n",
    "x = K_list\n",
    "y = alpha_list\n",
    "X, Y = np.meshgrid(x, y)     # Create a grid of x and y values\n",
    "g_fitness_across_alpha = np.array(g_best_performance_across_K_alpha)\n",
    "gg_fitness_across_alpha = np.array(gg_best_performance_across_K_alpha)\n",
    "diff_gg_g_fitness = gg_fitness_across_alpha - g_fitness_across_alpha\n",
    "z = diff_gg_g_fitness\n",
    "# print(g_fitness_across_alpha[0])\n",
    "# print(gg_fitness_across_alpha[0])\n",
    "# print(diff_gg_g_fitness[0])\n",
    "# Create the 2D color plot\n",
    "plt.pcolormesh(x, y, z, cmap='jet')\n",
    "plt.colorbar()  # Add a colorbar for reference\n",
    "\n",
    "# Set the axis labels and title\n",
    "plt.xlabel('K')\n",
    "plt.xticks(x)\n",
    "# plt.yticks(y)\n",
    "plt.ylabel('$\\\\alpha$')\n",
    "plt.title('GG - G Best Performance across $K$ and $\\\\alpha$')\n",
    "plt.savefig(data_folder + r\"\\Diff_GG_G__best_performance.png\", transparent=True, dpi=300)\n",
    "# Display the plot\n",
    "plt.show()\n",
    "print(data_folder)"
   ],
   "metadata": {
    "collapsed": false,
    "ExecuteTime": {
     "end_time": "2023-11-03T12:50:57.311317300Z",
     "start_time": "2023-11-03T12:50:56.900314100Z"
    }
   }
  },
  {
   "cell_type": "code",
   "execution_count": 16,
   "outputs": [],
   "source": [],
   "metadata": {
    "collapsed": false,
    "ExecuteTime": {
     "end_time": "2023-11-03T12:49:54.737919900Z",
     "start_time": "2023-11-03T12:49:54.681859400Z"
    }
   }
  }
 ],
 "metadata": {
  "kernelspec": {
   "display_name": "Python 3",
   "language": "python",
   "name": "python3"
  },
  "language_info": {
   "codemirror_mode": {
    "name": "ipython",
    "version": 2
   },
   "file_extension": ".py",
   "mimetype": "text/x-python",
   "name": "python",
   "nbconvert_exporter": "python",
   "pygments_lexer": "ipython2",
   "version": "2.7.6"
  }
 },
 "nbformat": 4,
 "nbformat_minor": 0
}
