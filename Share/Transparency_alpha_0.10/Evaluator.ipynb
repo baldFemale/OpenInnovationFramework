{
 "cells": [
  {
   "cell_type": "code",
   "execution_count": 12,
   "metadata": {
    "collapsed": true,
    "ExecuteTime": {
     "end_time": "2023-10-26T11:12:34.304610900Z",
     "start_time": "2023-10-26T11:12:34.213610Z"
    }
   },
   "outputs": [],
   "source": [
    "import matplotlib.pyplot as plt\n",
    "import numpy as np\n",
    "import pickle\n",
    "legend_properties = {'weight':'bold'}\n",
    "nus_blue = \"#003D7C\"\n",
    "nus_orange = \"#EF7C00\"\n",
    "# Nature three colors\n",
    "nature_orange = \"#F16C23\"\n",
    "nature_blue = \"#2B6A99\"\n",
    "nature_green = \"#1B7C3D\"\n",
    "# Morandi six colors\n",
    "morandi_blue = \"#046586\"\n",
    "morandi_green =  \"#28A9A1\"\n",
    "morandi_yellow = \"#C9A77C\"\n",
    "morandi_orange = \"#F4A016\"\n",
    "morandi_pink = \"#F6BBC6\"\n",
    "morandi_red = \"#E71F19\"\n",
    "morandi_purple = \"#B08BEB\"\n",
    "# Others\n",
    "shallow_grey = \"#D3D4D3\"\n",
    "deep_grey = \"#A6ABB6\"\n",
    "# Red and Blue\n",
    "strong_red = \"#A61C5D\"\n",
    "strong_blue = \"#1B64A4\"\n",
    "\n",
    "# Shallow-deep pair\n",
    "shallow_purple = \"#EAD7EA\"\n",
    "deep_purple = \"#BA9DB9\"\n",
    "shallow_cyan = \"#A9D5E0\"\n",
    "deep_cyan = \"#48C0BF\"\n",
    "shallow_blue = \"#B6DAEC\"\n",
    "deep_blue = \"#98CFE4\"\n",
    "shallow_pink = \"#F5E0E5\"\n",
    "deep_pink = \"#E5A7B6\"\n",
    "shallow_green = \"#C2DED0\"\n",
    "deep_green = \"#A5C6B1\"\n",
    "\n",
    "color_pairs = [[shallow_purple, deep_purple],  [shallow_green, deep_green],\n",
    "               [shallow_blue, deep_blue], [shallow_pink, deep_pink], [shallow_cyan, deep_cyan],\n",
    "               [shallow_grey, deep_grey]]\n",
    "morandi_colors = [morandi_blue, morandi_green, morandi_yellow, morandi_orange, morandi_pink, morandi_red, morandi_purple]"
   ]
  },
  {
   "cell_type": "code",
   "execution_count": 13,
   "outputs": [],
   "source": [
    "data_folder = r\"E:\\data\\gst-0815-23\\Socialization_full_solution\\Transparency_alpha_0.10\"\n",
    "# GG\n",
    "gg_performance_file = data_folder + r\"\\gg_ave_performance_across_K\"\n",
    "gg_best_performance_file = data_folder + r\"\\gg_best_performance_across_K\"\n",
    "gg_variance_file = data_folder + r\"\\gg_variance_across_K\"\n",
    "gg_diversity_file = data_folder + r\"\\gg_diversity_across_K\"\n",
    "# GS\n",
    "gs_performance_file = data_folder + r\"\\gs_ave_performance_across_K\"\n",
    "gs_best_performance_file = data_folder + r\"\\gs_best_performance_across_K\"\n",
    "gs_variance_file = data_folder + r\"\\gs_variance_across_K\"\n",
    "gs_diversity_file = data_folder + r\"\\gs_diversity_across_K\"\n",
    "# SS\n",
    "ss_performance_file = data_folder + r\"\\ss_ave_performance_across_K\"\n",
    "ss_best_performance_file = data_folder + r\"\\ss_best_performance_across_K\"\n",
    "ss_variance_file = data_folder + r\"\\ss_variance_across_K\"\n",
    "ss_diversity_file = data_folder + r\"\\ss_diversity_across_K\"\n",
    "# SG\n",
    "sg_performance_file = data_folder + r\"\\sg_ave_performance_across_K\"\n",
    "sg_best_performance_file = data_folder + r\"\\sg_best_performance_across_K\"\n",
    "sg_variance_file = data_folder + r\"\\sg_variance_across_K\"\n",
    "sg_diversity_file = data_folder + r\"\\sg_diversity_across_K\"\n",
    "\n",
    "# GG\n",
    "with open(gg_performance_file, 'rb') as infile:\n",
    "    gg_performance = pickle.load(infile)\n",
    "with open(gg_best_performance_file, 'rb') as infile:\n",
    "    gg_best_performance = pickle.load(infile)\n",
    "with open(gg_variance_file, 'rb') as infile:\n",
    "    gg_variance = pickle.load(infile)\n",
    "with open(gg_diversity_file, 'rb') as infile:\n",
    "    gg_diversity = pickle.load(infile)\n",
    "# GS\n",
    "with open(gs_performance_file, 'rb') as infile:\n",
    "    gs_performance = pickle.load(infile)\n",
    "with open(gs_best_performance_file, 'rb') as infile:\n",
    "    gs_best_performance = pickle.load(infile)\n",
    "with open(gs_variance_file, 'rb') as infile:\n",
    "    gs_variance = pickle.load(infile)\n",
    "with open(gs_diversity_file, 'rb') as infile:\n",
    "    gs_diversity = pickle.load(infile)\n",
    "# SS\n",
    "with open(ss_performance_file, 'rb') as infile:\n",
    "    ss_performance = pickle.load(infile)\n",
    "with open(ss_best_performance_file, 'rb') as infile:\n",
    "    ss_best_performance = pickle.load(infile)\n",
    "with open(ss_variance_file, 'rb') as infile:\n",
    "    ss_variance = pickle.load(infile)\n",
    "with open(ss_diversity_file, 'rb') as infile:\n",
    "    ss_diversity = pickle.load(infile)\n",
    "# SG\n",
    "with open(sg_performance_file, 'rb') as infile:\n",
    "    sg_performance = pickle.load(infile)\n",
    "with open(sg_best_performance_file, 'rb') as infile:\n",
    "    sg_best_performance = pickle.load(infile)\n",
    "with open(sg_variance_file, 'rb') as infile:\n",
    "    sg_variance = pickle.load(infile)\n",
    "with open(sg_diversity_file, 'rb') as infile:\n",
    "    sg_diversity = pickle.load(infile)"
   ],
   "metadata": {
    "collapsed": false,
    "ExecuteTime": {
     "end_time": "2023-10-26T11:12:34.305614300Z",
     "start_time": "2023-10-26T11:12:34.285610200Z"
    }
   }
  },
  {
   "cell_type": "code",
   "execution_count": 14,
   "outputs": [
    {
     "name": "stdout",
     "output_type": "stream",
     "text": [
      "(9,)\n",
      "[0.7087391744783414, 0.6818302522701976, 0.667462716964246, 0.6622424758036091, 0.6598886288072313, 0.6543102009940652, 0.6487736382719886, 0.6438660866525113, 0.6410078290893351]\n"
     ]
    }
   ],
   "source": [
    "# Baseline: independent search\n",
    "baseline_folder = r\"E:\\data\\gst-0815-23\\N9E12\\Baseline\"\n",
    "g_performance_file = baseline_folder + r\"\\g_performance_across_K\"\n",
    "s_performance_file = baseline_folder + r\"\\s_performance_across_K\"\n",
    "\n",
    "g_variance_file = baseline_folder + r\"\\g_variance_across_K\"\n",
    "s_variance_file = baseline_folder + r\"\\s_variance_across_K\"\n",
    "\n",
    "with open(g_performance_file, 'rb') as infile:\n",
    "    g_fitness = pickle.load(infile)\n",
    "with open(s_performance_file, 'rb') as infile:\n",
    "    s_fitness = pickle.load(infile)\n",
    "\n",
    "with open(g_variance_file, 'rb') as infile:\n",
    "    g_variance = pickle.load(infile)\n",
    "with open(s_variance_file, 'rb') as infile:\n",
    "    s_variance = pickle.load(infile)\n",
    "\n",
    "print(np.array(g_fitness).shape)\n",
    "print(g_fitness)"
   ],
   "metadata": {
    "collapsed": false,
    "ExecuteTime": {
     "end_time": "2023-10-26T11:12:34.305614300Z",
     "start_time": "2023-10-26T11:12:34.285610200Z"
    }
   }
  },
  {
   "cell_type": "code",
   "execution_count": 15,
   "outputs": [
    {
     "data": {
      "text/plain": "<Figure size 432x288 with 1 Axes>",
      "image/png": "[encoded data removed]"
     },
     "metadata": {
      "needs_background": "light"
     },
     "output_type": "display_data"
    }
   ],
   "source": [
    "# S Fitness\n",
    "K_list = [0, 1, 2, 3, 4, 5, 6, 7, 8]\n",
    "fig, ax = plt.subplots()\n",
    "ax.spines[\"left\"].set_linewidth(1.5)\n",
    "ax.spines[\"right\"].set_linewidth(1.5)\n",
    "ax.spines[\"top\"].set_linewidth(1.5)\n",
    "ax.spines[\"bottom\"].set_linewidth(1.5)\n",
    "plt.plot(K_list, ss_performance, \"s-\", label=\"SS Ave\", color=nature_green)\n",
    "plt.plot(K_list, gs_performance, \"d-\", label=\"GS Ave\", color=nature_orange)\n",
    "\n",
    "plt.plot(K_list, ss_best_performance, \"--\", label=\"SS Best\", color=nature_green)\n",
    "plt.plot(K_list, gs_best_performance, \"--\", label=\"GS Best\", color=nature_orange)\n",
    "\n",
    "plt.xlabel(\"K\", fontweight='bold', fontsize=12)\n",
    "plt.ylabel('Performance', fontweight='bold', fontsize=12)\n",
    "plt.xticks(K_list)\n",
    "plt.title(\"Specialist\")\n",
    "plt.legend(frameon=False, ncol=4, fontsize=10)\n",
    "plt.savefig(data_folder + r\"\\S_performance_alpha_0.10.png\", transparent=True, dpi=300)\n",
    "plt.show()\n",
    "# plt.clf()"
   ],
   "metadata": {
    "collapsed": false,
    "ExecuteTime": {
     "end_time": "2023-10-26T11:12:34.667632800Z",
     "start_time": "2023-10-26T11:12:34.296615800Z"
    }
   }
  },
  {
   "cell_type": "code",
   "execution_count": 16,
   "outputs": [
    {
     "data": {
      "text/plain": "<Figure size 432x288 with 1 Axes>",
      "image/png": "[encoded data removed]"
     },
     "metadata": {
      "needs_background": "light"
     },
     "output_type": "display_data"
    }
   ],
   "source": [
    "# G Fitness\n",
    "K_list = [0, 1, 2, 3, 4, 5, 6, 7, 8]\n",
    "fig, ax = plt.subplots()\n",
    "ax.spines[\"left\"].set_linewidth(1.5)\n",
    "ax.spines[\"right\"].set_linewidth(1.5)\n",
    "ax.spines[\"top\"].set_linewidth(1.5)\n",
    "ax.spines[\"bottom\"].set_linewidth(1.5)\n",
    "plt.plot(K_list, gg_performance, \"s-\", label=\"GG\", color=nature_green)\n",
    "plt.plot(K_list, sg_performance, \"d-\", label=\"SG\", color=nature_orange)\n",
    "\n",
    "plt.plot(K_list, gg_best_performance, \"--\", label=\"GG Best\", color=nature_green)\n",
    "plt.plot(K_list, sg_best_performance, \"--\", label=\"SG Best\", color=nature_orange)\n",
    "plt.xlabel('K', fontweight='bold', fontsize=12)\n",
    "plt.ylabel('Performance', fontweight='bold', fontsize=12)\n",
    "plt.xticks(K_list)\n",
    "plt.title(\"Generalist\")\n",
    "plt.legend(frameon=False, ncol=4, fontsize=10)\n",
    "plt.savefig(data_folder + r\"\\G_performance_alpha_0.10.png\", transparent=True, dpi=300)\n",
    "plt.show()\n",
    "# plt.clf()"
   ],
   "metadata": {
    "collapsed": false,
    "ExecuteTime": {
     "end_time": "2023-10-26T11:12:35.105189900Z",
     "start_time": "2023-10-26T11:12:34.686612900Z"
    }
   }
  },
  {
   "cell_type": "code",
   "execution_count": 18,
   "outputs": [
    {
     "name": "stdout",
     "output_type": "stream",
     "text": [
      "0 1\n",
      "0 1\n"
     ]
    }
   ],
   "source": [],
   "metadata": {
    "collapsed": false,
    "ExecuteTime": {
     "end_time": "2023-10-26T13:07:04.567462900Z",
     "start_time": "2023-10-26T13:07:04.542432300Z"
    }
   }
  },
  {
   "cell_type": "code",
   "execution_count": null,
   "outputs": [],
   "source": [],
   "metadata": {
    "collapsed": false
   }
  }
 ],
 "metadata": {
  "kernelspec": {
   "display_name": "Python 3",
   "language": "python",
   "name": "python3"
  },
  "language_info": {
   "codemirror_mode": {
    "name": "ipython",
    "version": 2
   },
   "file_extension": ".py",
   "mimetype": "text/x-python",
   "name": "python",
   "nbconvert_exporter": "python",
   "pygments_lexer": "ipython2",
   "version": "2.7.6"
  }
 },
 "nbformat": 4,
 "nbformat_minor": 0
}
