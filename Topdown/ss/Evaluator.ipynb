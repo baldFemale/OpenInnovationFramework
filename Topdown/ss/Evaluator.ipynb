{
 "cells": [
  {
   "cell_type": "code",
   "execution_count": 1,
   "metadata": {
    "collapsed": true
   },
   "outputs": [],
   "source": [
    "import matplotlib.pyplot as plt\n",
    "import pickle\n",
    "import numpy as np"
   ]
  },
  {
   "cell_type": "code",
   "execution_count": 2,
   "outputs": [],
   "source": [
    "data_folder = r\"E:\\data\\gst-1112\\Coupling_2\\ss\"\n",
    "\n",
    "s1_performance_0_file = data_folder + r\"\\s1_performance_across_K_0\"\n",
    "s1_performance_1_file = data_folder + r\"\\s1_performance_across_K_1\"\n",
    "s1_performance_2_file = data_folder + r\"\\s1_performance_across_K_2\"\n",
    "s1_performance_3_file = data_folder + r\"\\s1_performance_across_K_3\"\n",
    "with open(s1_performance_0_file, 'rb') as infile:\n",
    "    s1_performance_0 = pickle.load(infile)\n",
    "with open(s1_performance_1_file, 'rb') as infile:\n",
    "    s1_performance_1 = pickle.load(infile)\n",
    "with open(s1_performance_2_file, 'rb') as infile:\n",
    "    s1_performance_2 = pickle.load(infile)\n",
    "with open(s1_performance_3_file, 'rb') as infile:\n",
    "    s1_performance_3 = pickle.load(infile)\n",
    "\n",
    "s2_performance_0_file = data_folder + r\"\\s2_performance_across_K_0\"\n",
    "s2_performance_1_file = data_folder + r\"\\s2_performance_across_K_1\"\n",
    "s2_performance_2_file = data_folder + r\"\\s2_performance_across_K_2\"\n",
    "s2_performance_3_file = data_folder + r\"\\s2_performance_across_K_3\"\n",
    "with open(s2_performance_0_file, 'rb') as infile:\n",
    "    s2_performance_0 = pickle.load(infile)\n",
    "with open(s2_performance_1_file, 'rb') as infile:\n",
    "    s2_performance_1 = pickle.load(infile)\n",
    "with open(s2_performance_2_file, 'rb') as infile:\n",
    "    s2_performance_2 = pickle.load(infile)\n",
    "with open(s2_performance_3_file, 'rb') as infile:\n",
    "    s2_performance_3 = pickle.load(infile)"
   ],
   "metadata": {
    "collapsed": false
   }
  },
  {
   "cell_type": "code",
   "execution_count": 7,
   "outputs": [],
   "source": [
    "# Original Performance Data\n",
    "data_folder = r\"E:\\data\\gst-1112\\Coupling_2\\ss\"\n",
    "s1_original_performance_0_file = data_folder + r\"\\s1_original_performance_across_K_0\"\n",
    "s1_original_performance_1_file = data_folder + r\"\\s1_original_performance_across_K_1\"\n",
    "s1_original_performance_2_file = data_folder + r\"\\s1_original_performance_across_K_2\"\n",
    "s1_original_performance_3_file = data_folder + r\"\\s1_original_performance_across_K_3\"\n",
    "with open(s1_original_performance_0_file, 'rb') as infile:\n",
    "    s1_original_performance_0 = pickle.load(infile)\n",
    "with open(s1_original_performance_1_file, 'rb') as infile:\n",
    "    s1_original_performance_1 = pickle.load(infile)\n",
    "with open(s1_original_performance_2_file, 'rb') as infile:\n",
    "    s1_original_performance_2 = pickle.load(infile)\n",
    "with open(s1_original_performance_3_file, 'rb') as infile:\n",
    "    s1_original_performance_3 = pickle.load(infile)\n",
    "\n",
    "s2_original_performance_0_file = data_folder + r\"\\s2_original_performance_across_K_0\"\n",
    "s2_original_performance_1_file = data_folder + r\"\\s2_original_performance_across_K_1\"\n",
    "s2_original_performance_2_file = data_folder + r\"\\s2_original_performance_across_K_2\"\n",
    "s2_original_performance_3_file = data_folder + r\"\\s2_original_performance_across_K_3\"\n",
    "with open(s2_original_performance_0_file, 'rb') as infile:\n",
    "    s2_original_performance_0 = pickle.load(infile)\n",
    "with open(s2_original_performance_1_file, 'rb') as infile:\n",
    "    s2_original_performance_1 = pickle.load(infile)\n",
    "with open(s2_original_performance_2_file, 'rb') as infile:\n",
    "    s2_original_performance_2 = pickle.load(infile)\n",
    "with open(s2_original_performance_3_file, 'rb') as infile:\n",
    "    s2_original_performance_3 = pickle.load(infile)"
   ],
   "metadata": {
    "collapsed": false
   }
  },
  {
   "cell_type": "code",
   "execution_count": 18,
   "outputs": [
    {
     "name": "stdout",
     "output_type": "stream",
     "text": [
      "------------------\n",
      "(9, 50000)\n",
      "0.6244144428697473 0.6938079164376723\n",
      "0.8135835646013456 0.7205226597780943\n",
      "Zero 0.7516736742962867 0.7516736742962857\n",
      "Low 0.7485806747332261 0.7485806747332323\n",
      "Middle 0.7469479536256449 0.7469479536256443\n",
      "High 0.748055955095359 0.7480559550953559\n"
     ]
    }
   ],
   "source": [
    "# print(np.array(s2_performance_0).shape)\n",
    "# print(np.array(s2_performance_1).shape)\n",
    "# print(np.array(s2_performance_2).shape)\n",
    "# print(np.array(s2_performance_3).shape)\n",
    "# print(s2_performance_0)\n",
    "# print(s2_performance_1)\n",
    "# print(s2_performance_2)\n",
    "# print(s2_performance_3)\n",
    "\n",
    "print(\"------------------\")\n",
    "print(np.array(s1_original_performance_0).shape)\n",
    "print(s1_original_performance_0[0][0], s1_original_performance_0[0][2])\n",
    "print(s1_original_performance_1[0][100], s1_original_performance_1[0][200])\n",
    "print(\"Zero\", np.mean(s1_original_performance_0[0]), s1_performance_0[0])\n",
    "print(\"Low\", np.mean(s1_original_performance_1[0]), s1_performance_1[0])\n",
    "print(\"Middle\", np.mean(s1_original_performance_2[0]), s1_performance_2[0])\n",
    "print(\"High\", np.mean(s1_original_performance_3[0]), s1_performance_3[0])\n",
    "# print(s1_original_performance_1)\n",
    "# print(s1_original_performance_2)\n",
    "# print(s1_original_performance_3)"
   ],
   "metadata": {
    "collapsed": false
   }
  },
  {
   "cell_type": "code",
   "execution_count": 4,
   "outputs": [
    {
     "name": "stdout",
     "output_type": "stream",
     "text": [
      "(9,)\n",
      "(9,)\n",
      "(9,)\n",
      "(9,)\n"
     ]
    },
    {
     "data": {
      "text/plain": "<Figure size 432x288 with 1 Axes>",
      "image/png": "[encoded data removed]"
     },
     "metadata": {
      "needs_background": "light"
     },
     "output_type": "display_data"
    },
    {
     "name": "stdout",
     "output_type": "stream",
     "text": [
      "END\n"
     ]
    },
    {
     "data": {
      "text/plain": "<Figure size 432x288 with 0 Axes>"
     },
     "metadata": {},
     "output_type": "display_data"
    }
   ],
   "source": [
    "# Performance\n",
    "x = [0, 1, 2, 3, 4, 5, 6, 7, 8]\n",
    "# G1\n",
    "plt.plot(x, s2_performance_0, \"r-\", label=\"Zero\")\n",
    "plt.plot(x, s2_performance_1, \"b-\", label=\"Low\")\n",
    "plt.plot(x, s2_performance_2, \"g-\", label=\"Middle\")\n",
    "plt.plot(x, s2_performance_3, \"k-\", label=\"High\")\n",
    "plt.xlabel('K', fontweight='bold', fontsize=10)\n",
    "plt.ylabel('Performance', fontweight='bold', fontsize=10)\n",
    "plt.xticks(x)\n",
    "plt.title(\"S2 Coupling across Overlap\")\n",
    "plt.legend(frameon=False, ncol=3, fontsize=10)\n",
    "plt.savefig(data_folder + r\"\\SS_Performance_K.png\", transparent=False, dpi=200)\n",
    "plt.show()\n",
    "plt.clf()\n",
    "print(\"END\")"
   ],
   "metadata": {
    "collapsed": false
   }
  },
  {
   "cell_type": "code",
   "execution_count": null,
   "outputs": [],
   "source": [],
   "metadata": {
    "collapsed": false
   }
  },
  {
   "cell_type": "code",
   "execution_count": null,
   "outputs": [],
   "source": [],
   "metadata": {
    "collapsed": false
   }
  },
  {
   "cell_type": "code",
   "execution_count": null,
   "outputs": [],
   "source": [],
   "metadata": {
    "collapsed": false
   }
  },
  {
   "cell_type": "code",
   "execution_count": null,
   "outputs": [],
   "source": [],
   "metadata": {
    "collapsed": false
   }
  }
 ],
 "metadata": {
  "kernelspec": {
   "display_name": "Python 3",
   "language": "python",
   "name": "python3"
  },
  "language_info": {
   "codemirror_mode": {
    "name": "ipython",
    "version": 2
   },
   "file_extension": ".py",
   "mimetype": "text/x-python",
   "name": "python",
   "nbconvert_exporter": "python",
   "pygments_lexer": "ipython2",
   "version": "2.7.6"
  }
 },
 "nbformat": 4,
 "nbformat_minor": 0
}
