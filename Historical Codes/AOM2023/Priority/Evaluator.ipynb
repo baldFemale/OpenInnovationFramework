{
 "cells": [
  {
   "cell_type": "code",
   "execution_count": 3,
   "metadata": {
    "collapsed": true
   },
   "outputs": [],
   "source": [
    "import matplotlib.pyplot as plt\n",
    "import pickle\n",
    "import numpy as np\n",
    "from matplotlib import container"
   ]
  },
  {
   "cell_type": "code",
   "execution_count": 4,
   "outputs": [
    {
     "name": "stdout",
     "output_type": "stream",
     "text": [
      "gg_average:  0.5977939906808348\n",
      "gg_average_across_K:  [0.7232222534003214, 0.6530786319626289, 0.6163757990814929, 0.5962817040772985, 0.5873704547888835, 0.5808242661935629, 0.5755912100960378, 0.5730352786847109, 0.5695310634613122, 0.5676035979579578, 0.5665452136082632, 0.5640684148575482]\n"
     ]
    }
   ],
   "source": [
    "data_folder = r\"E:\\data\\gst-1112\\Priority_3\"\n",
    "# g1_performance_0_file = data_folder + r\"\\gg\\g1_performance_across_K_0\"\n",
    "# g1_performance_2_file = data_folder + r\"\\gg\\g1_performance_across_K_2\"\n",
    "# g1_performance_4_file = data_folder + r\"\\gg\\g1_performance_across_K_4\"\n",
    "# g1_performance_6_file = data_folder + r\"\\gg\\g1_performance_across_K_6\"\n",
    "# with open(g1_performance_0_file, 'rb') as infile:\n",
    "#     g1_performance_0 = pickle.load(infile)\n",
    "# with open(g1_performance_2_file, 'rb') as infile:\n",
    "#     g1_performance_2 = pickle.load(infile)\n",
    "# with open(g1_performance_4_file, 'rb') as infile:\n",
    "#     g1_performance_4 = pickle.load(infile)\n",
    "# with open(g1_performance_6_file, 'rb') as infile:\n",
    "#     g1_performance_6 = pickle.load(infile)\n",
    "# For priority setting, only calculate the second agent who benefits from the teaming-up\n",
    "g2_performance_0_file = data_folder + r\"\\gg\\g2_performance_across_K_0\"\n",
    "g2_performance_2_file = data_folder + r\"\\gg\\g2_performance_across_K_2\"\n",
    "g2_performance_4_file = data_folder + r\"\\gg\\g2_performance_across_K_4\"\n",
    "g2_performance_6_file = data_folder + r\"\\gg\\g2_performance_across_K_6\"\n",
    "with open(g2_performance_0_file, 'rb') as infile:\n",
    "    g2_performance_0 = pickle.load(infile)\n",
    "with open(g2_performance_2_file, 'rb') as infile:\n",
    "    g2_performance_2 = pickle.load(infile)\n",
    "with open(g2_performance_4_file, 'rb') as infile:\n",
    "    g2_performance_4 = pickle.load(infile)\n",
    "with open(g2_performance_6_file, 'rb') as infile:\n",
    "    g2_performance_6 = pickle.load(infile)\n",
    "\n",
    "# GG - take an average\n",
    "gg_average = (sum(g2_performance_0) + sum(g2_performance_2) + sum(g2_performance_4) + sum(g2_performance_6)) / len(g2_performance_0) / 4\n",
    "print(\"gg_average: \", gg_average)\n",
    "gg_performance_data = [g2_performance_0, g2_performance_2, g2_performance_4, g2_performance_6]\n",
    "K_list = [0, 1, 2, 3, 4, 5, 6, 7, 8, 9, 10, 11]\n",
    "gg_average_across_K = []\n",
    "for index, K in enumerate(K_list):\n",
    "    temp = [performance_list[index] for performance_list in gg_performance_data]\n",
    "    gg_average_across_K.append(sum(temp) / len(temp))\n",
    "print(\"gg_average_across_K: \", gg_average_across_K)"
   ],
   "metadata": {
    "collapsed": false
   }
  },
  {
   "cell_type": "code",
   "execution_count": 5,
   "outputs": [
    {
     "name": "stdout",
     "output_type": "stream",
     "text": [
      "gs_s_average:  0.6171047460076428\n",
      "gs_s_average_across_K:  [0.7483805311198665, 0.6721922806084025, 0.6320607631824146, 0.613974048493981, 0.604705516186621, 0.5988856740262135, 0.5956191249025573, 0.5922822703276691, 0.5890537075963196, 0.58790025652254, 0.585659048938726, 0.5845437301864016]\n"
     ]
    }
   ],
   "source": [
    "# GS - take an average\n",
    "# g_performance_0_file = data_folder + r\"\\gs\\g_performance_across_K_0\"\n",
    "# g_performance_1_file = data_folder + r\"\\gs\\g_performance_across_K_1\"\n",
    "# g_performance_2_file = data_folder + r\"\\gs\\g_performance_across_K_2\"\n",
    "# g_performance_3_file = data_folder + r\"\\gs\\g_performance_across_K_3\"\n",
    "# with open(g_performance_0_file, 'rb') as infile:\n",
    "#     g_performance_0 = pickle.load(infile)\n",
    "# with open(g_performance_1_file, 'rb') as infile:\n",
    "#     g_performance_1 = pickle.load(infile)\n",
    "# with open(g_performance_2_file, 'rb') as infile:\n",
    "#     g_performance_2 = pickle.load(infile)\n",
    "# with open(g_performance_3_file, 'rb') as infile:\n",
    "#     g_performance_3 = pickle.load(infile)\n",
    "\n",
    "s_performance_0_file = data_folder + r\"\\gs\\s_performance_across_K_0\"\n",
    "s_performance_1_file = data_folder + r\"\\gs\\s_performance_across_K_1\"\n",
    "s_performance_2_file = data_folder + r\"\\gs\\s_performance_across_K_2\"\n",
    "s_performance_3_file = data_folder + r\"\\gs\\s_performance_across_K_3\"\n",
    "with open(s_performance_0_file, 'rb') as infile:\n",
    "    s_performance_0 = pickle.load(infile)\n",
    "with open(s_performance_1_file, 'rb') as infile:\n",
    "    s_performance_1 = pickle.load(infile)\n",
    "with open(s_performance_2_file, 'rb') as infile:\n",
    "    s_performance_2 = pickle.load(infile)\n",
    "with open(s_performance_3_file, 'rb') as infile:\n",
    "    s_performance_3 = pickle.load(infile)\n",
    "\n",
    "# GS - take an average\n",
    "gs_s_average = (sum(s_performance_0) + sum(s_performance_1) + sum(s_performance_2) +\n",
    "              sum(s_performance_3)) / len(s_performance_0) / 4\n",
    "print(\"gs_s_average: \", gs_s_average)\n",
    "gs_s_performance_data = [s_performance_0, s_performance_1, s_performance_2, s_performance_3]\n",
    "K_list = [0, 1, 2, 3, 4, 5, 6, 7, 8, 9, 10, 11]\n",
    "gs_s_average_across_K = []\n",
    "for index, K in enumerate(K_list):\n",
    "    temp = [performance_list[index] for performance_list in gs_s_performance_data]\n",
    "    gs_s_average_across_K.append(sum(temp) / len(temp))\n",
    "print(\"gs_s_average_across_K: \", gs_s_average_across_K)"
   ],
   "metadata": {
    "collapsed": false
   }
  },
  {
   "cell_type": "code",
   "execution_count": 6,
   "outputs": [
    {
     "name": "stdout",
     "output_type": "stream",
     "text": [
      "sg_g_average:  0.6220359324678412\n",
      "sg_s_average_across_K:  [0.7646755806820573, 0.6754975629909554, 0.6368316933864455, 0.6207697992021739, 0.6129879974804547, 0.6066384840023443, 0.6024700812434534, 0.5970210876503403, 0.5931021303863022, 0.5887922720747069, 0.5855814662530524, 0.5800630342618066]\n"
     ]
    }
   ],
   "source": [
    "# SG - take an average\n",
    "g_performance_0_file = data_folder + r\"\\sg\\g_performance_across_K_0\"\n",
    "g_performance_1_file = data_folder + r\"\\sg\\g_performance_across_K_1\"\n",
    "g_performance_2_file = data_folder + r\"\\sg\\g_performance_across_K_2\"\n",
    "g_performance_3_file = data_folder + r\"\\sg\\g_performance_across_K_3\"\n",
    "with open(g_performance_0_file, 'rb') as infile:\n",
    "    g_performance_0 = pickle.load(infile)\n",
    "with open(g_performance_1_file, 'rb') as infile:\n",
    "    g_performance_1 = pickle.load(infile)\n",
    "with open(g_performance_2_file, 'rb') as infile:\n",
    "    g_performance_2 = pickle.load(infile)\n",
    "with open(g_performance_3_file, 'rb') as infile:\n",
    "    g_performance_3 = pickle.load(infile)\n",
    "\n",
    "# s_performance_0_file = data_folder + r\"\\sg\\s_performance_across_K_0\"\n",
    "# s_performance_1_file = data_folder + r\"\\sg\\s_performance_across_K_1\"\n",
    "# s_performance_2_file = data_folder + r\"\\sg\\s_performance_across_K_2\"\n",
    "# s_performance_3_file = data_folder + r\"\\sg\\s_performance_across_K_3\"\n",
    "# with open(s_performance_0_file, 'rb') as infile:\n",
    "#     s_performance_0 = pickle.load(infile)\n",
    "# with open(s_performance_1_file, 'rb') as infile:\n",
    "#     s_performance_1 = pickle.load(infile)\n",
    "# with open(s_performance_2_file, 'rb') as infile:\n",
    "#     s_performance_2 = pickle.load(infile)\n",
    "# with open(s_performance_3_file, 'rb') as infile:\n",
    "#     s_performance_3 = pickle.load(infile)\n",
    "\n",
    "# SG - take an average\n",
    "sg_g_average = (sum(g_performance_0) + sum(g_performance_1) + sum(g_performance_2) +\n",
    "              sum(g_performance_3)) / len(g_performance_0) / 4\n",
    "print(\"sg_g_average: \", sg_g_average)\n",
    "sg_g_performance_data = [g_performance_0, g_performance_1, g_performance_2,\n",
    "                       g_performance_3]\n",
    "K_list = [0, 1, 2, 3, 4, 5, 6, 7, 8, 9, 10, 11]\n",
    "sg_g_average_across_K = []\n",
    "for index, K in enumerate(K_list):\n",
    "    temp = [performance_list[index] for performance_list in sg_g_performance_data]\n",
    "    sg_g_average_across_K.append(sum(temp) / len(temp))\n",
    "print(\"sg_s_average_across_K: \", sg_g_average_across_K)"
   ],
   "metadata": {
    "collapsed": false
   }
  },
  {
   "cell_type": "code",
   "execution_count": 7,
   "outputs": [
    {
     "name": "stdout",
     "output_type": "stream",
     "text": [
      "ss_average:  0.3267266123373033\n",
      "ss_average_across_K:  [0.7524946929180649, 0.6827025275362029, 0.6519120410239698, 0.6406818406231796, 0.6397575835746679, 0.6377994799031446, 0.638694299704207, 0.6394578258239039, 0.6395126543011115, 0.6384160397449721, 0.6385680404561135, 0.6414416704857415]\n"
     ]
    }
   ],
   "source": [
    "# SS\n",
    "# ss_s1_performance_0_file = data_folder + r\"\\ss\\s1_performance_across_K_0\"\n",
    "# ss_s1_performance_1_file = data_folder + r\"\\ss\\s1_performance_across_K_1\"\n",
    "# ss_s1_performance_2_file = data_folder + r\"\\ss\\s1_performance_across_K_2\"\n",
    "# ss_s1_performance_3_file = data_folder + r\"\\ss\\s1_performance_across_K_3\"\n",
    "# with open(ss_s1_performance_0_file, 'rb') as infile:\n",
    "#     ss_s1_performance_0 = pickle.load(infile)\n",
    "# with open(ss_s1_performance_1_file, 'rb') as infile:\n",
    "#     ss_s1_performance_1 = pickle.load(infile)\n",
    "# with open(ss_s1_performance_2_file, 'rb') as infile:\n",
    "#     ss_s1_performance_2 = pickle.load(infile)\n",
    "# with open(ss_s1_performance_3_file, 'rb') as infile:\n",
    "#     ss_s1_performance_3 = pickle.load(infile)\n",
    "\n",
    "ss_s2_performance_0_file = data_folder + r\"\\ss\\s2_performance_across_K_0\"\n",
    "ss_s2_performance_1_file = data_folder + r\"\\ss\\s2_performance_across_K_1\"\n",
    "ss_s2_performance_2_file = data_folder + r\"\\ss\\s2_performance_across_K_2\"\n",
    "ss_s2_performance_3_file = data_folder + r\"\\ss\\s2_performance_across_K_3\"\n",
    "with open(ss_s2_performance_0_file, 'rb') as infile:\n",
    "    ss_s2_performance_0 = pickle.load(infile)\n",
    "with open(ss_s2_performance_1_file, 'rb') as infile:\n",
    "    ss_s2_performance_1 = pickle.load(infile)\n",
    "with open(ss_s2_performance_2_file, 'rb') as infile:\n",
    "    ss_s2_performance_2 = pickle.load(infile)\n",
    "with open(ss_s2_performance_3_file, 'rb') as infile:\n",
    "    ss_s2_performance_3 = pickle.load(infile)\n",
    "\n",
    "# SS - take an average\n",
    "ss_average = (sum(ss_s2_performance_0) + sum(ss_s2_performance_1) + sum(ss_s2_performance_2) + sum(ss_s2_performance_3)) / len(ss_s2_performance_0) / 8\n",
    "print(\"ss_average: \", ss_average)\n",
    "ss_performance_data = [ss_s2_performance_0, ss_s2_performance_1, ss_s2_performance_2, ss_s2_performance_3]\n",
    "K_list = [0, 1, 2, 3, 4, 5, 6, 7, 8, 9, 10, 11]\n",
    "ss_average_across_K = []\n",
    "for index, K in enumerate(K_list):\n",
    "    temp = [performance_list[index] for performance_list in ss_performance_data]\n",
    "    ss_average_across_K.append(sum(temp) / len(temp))\n",
    "print(\"ss_average_across_K: \", ss_average_across_K)"
   ],
   "metadata": {
    "collapsed": false
   }
  },
  {
   "cell_type": "code",
   "execution_count": 8,
   "outputs": [
    {
     "data": {
      "text/plain": "<Figure size 432x288 with 1 Axes>",
      "image/png": "[encoded data removed]"
     },
     "metadata": {
      "needs_background": "light"
     },
     "output_type": "display_data"
    },
    {
     "data": {
      "text/plain": "<Figure size 432x288 with 1 Axes>",
      "image/png": "[encoded data removed]"
     },
     "metadata": {
      "needs_background": "light"
     },
     "output_type": "display_data"
    },
    {
     "data": {
      "text/plain": "<Figure size 432x288 with 0 Axes>"
     },
     "metadata": {},
     "output_type": "display_data"
    }
   ],
   "source": [
    "# The baseline of N12\n",
    "baseline_folder = r\"E:\\data\\gst-1112\\N12\\GST_mid\"\n",
    "g_baseline_file = baseline_folder + r\"\\g_performance_across_K\"\n",
    "s_baseline_file = baseline_folder + r\"\\s_performance_across_K\"\n",
    "with open(g_baseline_file, 'rb') as infile:\n",
    "    g_baseline = pickle.load(infile)\n",
    "with open(s_baseline_file, 'rb') as infile:\n",
    "    s_baseline = pickle.load(infile)\n",
    "\n",
    "# The marginal benefit from teaming-up: G\n",
    "x = [0, 1, 2, 3, 4, 5, 6, 7, 8, 9, 10, 11]\n",
    "plt.plot(x, g_baseline, \"k:\", label=\"G alone\")\n",
    "plt.plot(x, gg_average_across_K, \"k--\", label=\"G in GG\")\n",
    "plt.plot(x, sg_g_average_across_K, \"k-\", label=\"G in GS\")\n",
    "plt.xlabel('K', fontweight='bold', fontsize=10)\n",
    "plt.ylabel('Performance', fontweight='bold', fontsize=10)\n",
    "plt.xticks(x)\n",
    "plt.yticks(np.arange(0.55, 0.85, step=0.05))\n",
    "plt.title(\"(g) Generalists under Circulation\", fontweight=\"bold\")\n",
    "plt.legend(frameon=False, fontsize=10)\n",
    "plt.savefig(data_folder + r\"\\G_under_circulation.png\", transparent=True, dpi=400)\n",
    "plt.show()\n",
    "plt.clf()\n",
    "# The marginal benefit from teaming-up: S\n",
    "x = [0, 1, 2, 3, 4, 5, 6, 7, 8, 9, 10, 11]\n",
    "plt.plot(x, s_baseline, \"k:\", label=\"S alone\")\n",
    "plt.plot(x, ss_average_across_K, \"k--\", label=\"S in SS\")\n",
    "plt.plot(x, gs_s_average_across_K, \"k-\", label=\"S in GS\")\n",
    "plt.xlabel('K', fontweight='bold', fontsize=10)\n",
    "plt.ylabel('Performance', fontweight='bold', fontsize=10)\n",
    "plt.xticks(x)\n",
    "plt.yticks(np.arange(0.55, 0.85, step=0.05))\n",
    "plt.title(\"(h) Specialists under Circulation\", fontweight=\"bold\")\n",
    "plt.legend(frameon=False, fontsize=10)\n",
    "plt.savefig(data_folder + r\"\\S_under_circulation.png\", transparent=True, dpi=400)\n",
    "plt.show()\n",
    "plt.clf()"
   ],
   "metadata": {
    "collapsed": false
   }
  },
  {
   "cell_type": "code",
   "execution_count": 8,
   "outputs": [],
   "source": [],
   "metadata": {
    "collapsed": false
   }
  }
 ],
 "metadata": {
  "kernelspec": {
   "display_name": "Python 3",
   "language": "python",
   "name": "python3"
  },
  "language_info": {
   "codemirror_mode": {
    "name": "ipython",
    "version": 2
   },
   "file_extension": ".py",
   "mimetype": "text/x-python",
   "name": "python",
   "nbconvert_exporter": "python",
   "pygments_lexer": "ipython2",
   "version": "2.7.6"
  }
 },
 "nbformat": 4,
 "nbformat_minor": 0
}
