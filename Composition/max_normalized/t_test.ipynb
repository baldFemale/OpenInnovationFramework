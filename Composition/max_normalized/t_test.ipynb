{
 "cells": [
  {
   "cell_type": "code",
   "execution_count": 7,
   "metadata": {
    "collapsed": true
   },
   "outputs": [],
   "source": [
    "from scipy import stats\n",
    "import pickle\n",
    "import matplotlib.pyplot as plt\n",
    "import numpy as np\n",
    "import seaborn as sns\n",
    "import warnings\n",
    "warnings.filterwarnings(\"ignore\")"
   ]
  },
  {
   "cell_type": "code",
   "execution_count": 2,
   "outputs": [],
   "source": [
    "data_folder = r\"E:\\data\\gst-1102\\max_normalized_3\"\n",
    "g_original_cog_performance_file = data_folder + r\"\\g_original_cog_performance_data_across_K\"\n",
    "g_original_performance_file = data_folder + r\"\\g_original_performance_data_across_K\"\n",
    "s_original_cog_performance_file = data_folder + r\"\\s_original_cog_performance_data_across_K\"\n",
    "s_original_performance_file = data_folder + r\"\\s_original_performance_data_across_K\"\n",
    "t_original_cog_performance_file = data_folder + r\"\\t_original_cog_performance_data_across_K\"\n",
    "t_original_performance_file = data_folder + r\"\\t_original_performance_data_across_K\"\n",
    "\n",
    "with open(g_original_performance_file, 'rb') as infile:\n",
    "    g_original_performance = pickle.load(infile)\n",
    "with open(g_original_cog_performance_file, 'rb') as infile:\n",
    "    g_original_cog_performance = pickle.load(infile)\n",
    "with open(s_original_performance_file, 'rb') as infile:\n",
    "    s_original_performance = pickle.load(infile)\n",
    "with open(s_original_cog_performance_file, 'rb') as infile:\n",
    "    s_original_cog_performance = pickle.load(infile)\n",
    "with open(t_original_performance_file, 'rb') as infile:\n",
    "    t_original_performance = pickle.load(infile)\n",
    "with open(t_original_cog_performance_file, 'rb') as infile:\n",
    "    t_original_cog_performance = pickle.load(infile)"
   ],
   "metadata": {
    "collapsed": false
   }
  },
  {
   "cell_type": "code",
   "execution_count": 3,
   "outputs": [
    {
     "name": "stdout",
     "output_type": "stream",
     "text": [
      "sample_size:  20\n",
      "a-b=-0.017932342006987456 (p-value=0.35391713289447224)\n",
      "b-c=-0.017244818594310263 (p-value=0.3623349712758649)\n",
      "sample_size:  50\n",
      "a-b=-0.0329069638276166 (p-value=0.004100166095332089)\n",
      "b-c=-0.02807716320888376 (p-value=0.011727269451446722)\n",
      "sample_size:  100\n",
      "a-b=-0.02700480184641696 (p-value=0.002065014156607966)\n",
      "b-c=-0.009796181780360347 (p-value=0.21924572335508924)\n",
      "sample_size:  200\n",
      "a-b=-0.02099679611337879 (p-value=0.0002396190795460387)\n",
      "b-c=-0.017088760328298203 (p-value=0.0031778052754507257)\n",
      "sample_size:  500\n",
      "a-b=-0.01873546473493659 (p-value=1.4875304839234182e-07)\n",
      "b-c=-0.021864982749858375 (p-value=4.931983160425323e-10)\n",
      "sample_size:  1000\n",
      "a-b=-0.016868502689621923 (p-value=1.3697270263489682e-11)\n",
      "b-c=-0.021502790538420635 (p-value=3.1377106901830985e-18)\n"
     ]
    }
   ],
   "source": [
    "K_list = [0, 1, 2, 3, 4, 5, 6, 7, 8]\n",
    "# distribution comparison\n",
    "K = 0\n",
    "list_a = g_original_performance[K]\n",
    "list_b = s_original_performance[K]\n",
    "list_c = t_original_performance[K]\n",
    "for sample_size in [20, 50, 100, 200, 500, 1000]:\n",
    "    list_a_2 = np.random.choice(list_a, sample_size, replace=False)\n",
    "    list_b_2 = np.random.choice(list_b, sample_size, replace=False)\n",
    "    list_c_2 = np.random.choice(list_c, sample_size, replace=False)\n",
    "    t_value_1, p_value_1 = stats.ttest_ind(list_a_2, list_b_2)\n",
    "    t_value_2, p_value_2 = stats.ttest_ind(list_b_2, list_c_2)\n",
    "    print(\"sample_size: \", sample_size)\n",
    "    print(\"a-b={0} (p-value={1})\".format(np.mean(list_a_2)-np.mean(list_b_2), p_value_1))\n",
    "    print(\"b-c={0} (p-value={1})\".format(np.mean(list_b_2)-np.mean(list_c_2), p_value_2))\n"
   ],
   "metadata": {
    "collapsed": false
   }
  },
  {
   "cell_type": "code",
   "execution_count": 4,
   "outputs": [
    {
     "name": "stdout",
     "output_type": "stream",
     "text": [
      "========G vs. S=========\n",
      "K=0: -0.018501622904708803 Sig. p-value=0.0\n",
      "K=1: -0.05392566184915826 Sig. p-value=0.0\n",
      "K=2: -0.05337846719518968 Sig. p-value=0.0\n",
      "K=3: -0.07986831359096225 Sig. p-value=0.0\n",
      "K=4: -0.059673066498557636 Sig. p-value=0.0\n",
      "K=5: -0.06300991896846486 Sig. p-value=0.0\n",
      "K=6: -0.13607323247010195 Sig. p-value=0.0\n",
      "K=7: -0.11617789403490597 Sig. p-value=0.0\n",
      "K=8: -0.11508631367341071 Sig. p-value=0.0\n",
      "========G vs. T=========\n",
      "K=0: -0.03923062851743464 Sig. p-value=0.0\n",
      "K=1: -0.029889325904866038 Sig. p-value=0.0\n",
      "K=2: -0.025964501211675928 Sig. p-value=0.0\n",
      "K=3: -0.04275227105231427 Sig. p-value=0.0\n",
      "K=4: -0.032880746629390445 Sig. p-value=0.0\n",
      "K=5: -0.03613795720075885 Sig. p-value=0.0\n",
      "K=6: -0.04698877856215433 Sig. p-value=0.0\n",
      "K=7: -0.05185849341428683 Sig. p-value=0.0\n",
      "K=8: -0.04604430643526514 Sig. p-value=0.0\n",
      "========S vs. T=========\n",
      "K=0: -0.020729005612725837 Sig. p-value=0.0\n",
      "K=1: 0.02403633594429222 Sig. p-value=0.0\n",
      "K=2: 0.027413965983513755 Sig. p-value=0.0\n",
      "K=3: 0.037116042538647975 Sig. p-value=0.0\n",
      "K=4: 0.02679231986916719 Sig. p-value=0.0\n",
      "K=5: 0.02687196176770601 Sig. p-value=0.0\n",
      "K=6: 0.08908445390794761 Sig. p-value=0.0\n",
      "K=7: 0.06431940062061914 Sig. p-value=0.0\n",
      "K=8: 0.06904200723814558 Sig. p-value=0.0\n",
      "========G across K=========\n",
      "K=0: -0.04668647125262748 Sig. p-value=0.0\n",
      "K=1: 0.004520289710137071 Sig. p-value=6.930304480591949e-296\n",
      "K=2: 0.08122695087524079 Sig. p-value=0.0\n",
      "K=3: -0.0044976848758058185 Sig. p-value=0.0\n",
      "K=4: 0.02145003374122212 Sig. p-value=0.0\n",
      "K=5: -0.01058756759766466 Sig. p-value=0.0\n",
      "K=6: 0.02028389994901658 Sig. p-value=0.0\n",
      "K=7: -0.0022365505834035515 Sig. p-value=0.0\n",
      "========S across K=========\n",
      "K=0: -0.08211051019707694 Sig. p-value=0.0\n",
      "K=1: 0.0050674843641056455 Sig. p-value=1.9084732559509648e-166\n",
      "K=2: 0.054737104479468224 Sig. p-value=0.0\n",
      "K=3: 0.015697562216598793 Sig. p-value=0.0\n",
      "K=4: 0.018113181271314893 Sig. p-value=0.0\n",
      "K=5: -0.08365088109930174 Sig. p-value=0.0\n",
      "K=6: 0.04017923838421256 Sig. p-value=0.0\n",
      "K=7: -0.0011449702219082925 Sig. p-value=2.708553716037859e-13\n",
      "========T across K=========\n",
      "K=0: -0.03734516864005888 Sig. p-value=0.0\n",
      "K=1: 0.00844511440332718 Sig. p-value=0.0\n",
      "K=2: 0.06443918103460244 Sig. p-value=0.0\n",
      "K=3: 0.005373839547118009 Sig. p-value=5.08810543240886e-244\n",
      "K=4: 0.01819282316985371 Sig. p-value=0.0\n",
      "K=5: -0.02143838895906014 Sig. p-value=0.0\n",
      "K=6: 0.015414185096884081 Sig. p-value=0.0\n",
      "K=7: 0.0035776363956181445 Sig. p-value=5.9093171518373744e-245\n"
     ]
    }
   ],
   "source": [
    "print(\"========G vs. S=========\")\n",
    "for index, K in enumerate(K_list):\n",
    "    list_a = g_original_performance[index]\n",
    "    list_b = s_original_performance[index]\n",
    "    t_value, p_value = stats.ttest_ind(list_a, list_b)\n",
    "    # print('Test statistic is %f'%float(\"{:.6f}\".format(t_value)))\n",
    "    # print('p-value for two tailed test is %f' % p_value)\n",
    "    alpha = 0.05\n",
    "    if p_value <= alpha:\n",
    "        print(\"K={0}: {1} Sig. p-value={2}\".format(K, sum(list_a) / len(list_a) - sum(list_b) / len(list_b), p_value))\n",
    "    else:\n",
    "        print(\"K={0}: {1} Not Sig.\".format(K, sum(list_a) / len(list_a) - sum(list_b / len(list_b)), p_value))\n",
    "\n",
    "print(\"========G vs. T=========\")\n",
    "for index, K in enumerate(K_list):\n",
    "    list_a = g_original_performance[index]\n",
    "    list_b = t_original_performance[index]\n",
    "    t_value, p_value = stats.ttest_ind(list_a, list_b)\n",
    "    # print('Test statistic is %f'%float(\"{:.6f}\".format(t_value)))\n",
    "    # print('p-value for two tailed test is %f' % p_value)\n",
    "    alpha = 0.05\n",
    "    if p_value <= alpha:\n",
    "        print(\"K={0}: {1} Sig. p-value={2}\".format(K, sum(list_a) / len(list_a) - sum(list_b) / len(list_b), p_value))\n",
    "    else:\n",
    "        print(\"K={0}: {1} Not Sig.\".format(K, sum(list_a) / len(list_a) - sum(list_b / len(list_b)), p_value))\n",
    "\n",
    "print(\"========S vs. T=========\")\n",
    "for index, K in enumerate(K_list):\n",
    "    list_a = s_original_performance[index]\n",
    "    list_b = t_original_performance[index]\n",
    "    t_value, p_value = stats.ttest_ind(list_a, list_b)\n",
    "    # print('Test statistic is %f'%float(\"{:.6f}\".format(t_value)))\n",
    "    # print('p-value for two tailed test is %f' % p_value)\n",
    "    alpha = 0.05\n",
    "    if p_value <= alpha:\n",
    "        print(\"K={0}: {1} Sig. p-value={2}\".format(K, sum(list_a) / len(list_a) - sum(list_b) / len(list_b), p_value))\n",
    "    else:\n",
    "        print(\"K={0}: {1} Not Sig.\".format(K, sum(list_a) / len(list_a) - sum(list_b / len(list_b)), p_value))\n",
    "\n",
    "\n",
    "print(\"========G across K=========\")\n",
    "for index, K in enumerate(K_list):\n",
    "    if index == len(K_list) - 1:\n",
    "        break\n",
    "    list_a = g_original_performance[index]\n",
    "    list_b = g_original_performance[index+1]\n",
    "    t_value, p_value = stats.ttest_ind(list_a, list_b)\n",
    "    # print('Test statistic is %f'%float(\"{:.6f}\".format(t_value)))\n",
    "    # print('p-value for two tailed test is %f' % p_value)\n",
    "    alpha = 0.05\n",
    "    if p_value <= alpha:\n",
    "        print(\"K={0}: {1} Sig. p-value={2}\".format(K, sum(list_a) / len(list_a) - sum(list_b) / len(list_b), p_value))\n",
    "    else:\n",
    "        print(\"K={0}: {1} Not Sig.\".format(K, sum(list_a) / len(list_a) - sum(list_b / len(list_b)), p_value))\n",
    "\n",
    "print(\"========S across K=========\")\n",
    "for index, K in enumerate(K_list):\n",
    "    if index == len(K_list) - 1:\n",
    "        break\n",
    "    list_a = s_original_performance[index]\n",
    "    list_b = s_original_performance[index+1]\n",
    "    t_value, p_value = stats.ttest_ind(list_a, list_b)\n",
    "    # print('Test statistic is %f'%float(\"{:.6f}\".format(t_value)))\n",
    "    # print('p-value for two tailed test is %f' % p_value)\n",
    "    alpha = 0.05\n",
    "    if p_value <= alpha:\n",
    "        print(\"K={0}: {1} Sig. p-value={2}\".format(K, sum(list_a) / len(list_a) - sum(list_b) / len(list_b), p_value))\n",
    "    else:\n",
    "        print(\"K={0}: {1} Not Sig.\".format(K, sum(list_a) / len(list_a) - sum(list_b / len(list_b)), p_value))\n",
    "\n",
    "print(\"========T across K=========\")\n",
    "for index, K in enumerate(K_list):\n",
    "    if index == len(K_list) - 1:\n",
    "        break\n",
    "    list_a = t_original_performance[index]\n",
    "    list_b = t_original_performance[index+1]\n",
    "    t_value, p_value = stats.ttest_ind(list_a, list_b)\n",
    "    alpha = 0.05\n",
    "    if p_value <= alpha:\n",
    "        print(\"K={0}: {1} Sig. p-value={2}\".format(K, sum(list_a) / len(list_a) - sum(list_b) / len(list_b), p_value))\n",
    "    else:\n",
    "        print(\"K={0}: {1} Not Sig.\".format(K, sum(list_a) / len(list_a) - sum(list_b / len(list_b)), p_value))"
   ],
   "metadata": {
    "collapsed": false
   }
  },
  {
   "cell_type": "code",
   "execution_count": 8,
   "outputs": [
    {
     "data": {
      "text/plain": "<Figure size 432x288 with 1 Axes>",
      "image/png": "[encoded data removed]"
     },
     "metadata": {},
     "output_type": "display_data"
    }
   ],
   "source": [
    "K = 0\n",
    "list_a = g_original_performance[K]\n",
    "list_b = s_original_performance[K]\n",
    "list_c = t_original_performance[K]\n",
    "# visualizing plot using matplotlib.pyplot library\n",
    "sns.distplot(list_a, hist=False)\n",
    "sns.distplot(list_b, hist=False)\n",
    "sns.distplot(list_c, hist=False)\n",
    "plt.show()"
   ],
   "metadata": {
    "collapsed": false
   }
  },
  {
   "cell_type": "code",
   "execution_count": null,
   "outputs": [],
   "source": [],
   "metadata": {
    "collapsed": false
   }
  }
 ],
 "metadata": {
  "kernelspec": {
   "display_name": "Python 3",
   "language": "python",
   "name": "python3"
  },
  "language_info": {
   "codemirror_mode": {
    "name": "ipython",
    "version": 2
   },
   "file_extension": ".py",
   "mimetype": "text/x-python",
   "name": "python",
   "nbconvert_exporter": "python",
   "pygments_lexer": "ipython2",
   "version": "2.7.6"
  }
 },
 "nbformat": 4,
 "nbformat_minor": 0
}
