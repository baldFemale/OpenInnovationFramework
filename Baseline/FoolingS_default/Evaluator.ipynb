{
 "cells": [
  {
   "cell_type": "code",
   "execution_count": 1,
   "metadata": {
    "collapsed": true,
    "ExecuteTime": {
     "end_time": "2023-07-23T09:19:22.154341300Z",
     "start_time": "2023-07-23T09:19:20.529372Z"
    }
   },
   "outputs": [],
   "source": [
    "import matplotlib.pyplot as plt\n",
    "# plt.interactive(False)\n",
    "from scipy.stats import gaussian_kde\n",
    "from scipy.special import kl_div\n",
    "import numpy as np\n",
    "import pickle\n",
    "legend_properties = {'weight':'bold'}\n",
    "nus_blue = \"#003D7C\"\n",
    "nus_orange = \"#EF7C00\"\n",
    "# Nature three colors\n",
    "nature_orange = \"#F16C23\"\n",
    "nature_blue = \"#2B6A99\"\n",
    "nature_green = \"#1B7C3D\"\n",
    "# Morandi six colors\n",
    "morandi_blue = \"#046586\"\n",
    "morandi_green =  \"#28A9A1\"\n",
    "morandi_yellow = \"#C9A77C\"\n",
    "morandi_orange = \"#F4A016\"\n",
    "morandi_pink = \"#F6BBC6\"\n",
    "morandi_red = \"#E71F19\"\n",
    "morandi_purple = \"#B08BEB\"\n",
    "# Others\n",
    "shallow_grey = \"#D3D4D3\"\n",
    "deep_grey = \"#A6ABB6\"\n",
    "# Red and Blue\n",
    "strong_red = \"#A61C5D\"\n",
    "strong_blue = \"#1B64A4\"\n",
    "\n",
    "# Shallow-deep pair\n",
    "shallow_purple = \"#EAD7EA\"\n",
    "deep_purple = \"#BA9DB9\"\n",
    "shallow_cyan = \"#A9D5E0\"\n",
    "deep_cyan = \"#48C0BF\"\n",
    "shallow_blue = \"#B6DAEC\"\n",
    "deep_blue = \"#98CFE4\"\n",
    "shallow_pink = \"#F5E0E5\"\n",
    "deep_pink = \"#E5A7B6\"\n",
    "shallow_green = \"#C2DED0\"\n",
    "deep_green = \"#A5C6B1\"\n",
    "\n",
    "color_pairs = [[shallow_purple, deep_purple],  [shallow_green, deep_green],\n",
    "               [shallow_blue, deep_blue], [shallow_pink, deep_pink], [shallow_cyan, deep_cyan],\n",
    "               [shallow_grey, deep_grey]]\n",
    "morandi_colors = [morandi_blue, morandi_green, morandi_yellow, morandi_orange, morandi_pink, morandi_red, morandi_purple]\n"
   ]
  },
  {
   "cell_type": "code",
   "execution_count": 2,
   "outputs": [
    {
     "name": "stdout",
     "output_type": "stream",
     "text": [
      "(3, 9)\n"
     ]
    }
   ],
   "source": [
    "data_folder = r\"E:\\data\\gst-0723-23\\Baseline\\FoolingS_default\"\n",
    "\n",
    "expertise_list = [12, 24, 36]\n",
    "s_performance_list = []\n",
    "s_variance_list = []\n",
    "for expertise in expertise_list:\n",
    "    s_performance_file = data_folder + r\"\\s_performance_across_K_{0}\".format(expertise)\n",
    "    s_cog_performance_file = data_folder + r\"\\s_cog_performance_across_K_time_{0}\".format(expertise)\n",
    "    s_variance_file = data_folder + r\"\\s_variance_across_K_{0}\".format(expertise)\n",
    "    s_performance_time_file = data_folder + r\"\\s_performance_across_K_time_{0}\".format(expertise)\n",
    "    s_first_quantile_file = data_folder + r\"\\s_first_quantile_across_K_{0}\".format(expertise)\n",
    "    s_last_quantile_file = data_folder + r\"\\s_last_quantile_across_K_{0}\".format(expertise)\n",
    "\n",
    "    with open(s_performance_file, 'rb') as infile:\n",
    "        s_fitness = pickle.load(infile)\n",
    "    with open(s_cog_performance_file, 'rb') as infile:\n",
    "        s_cog_fitness = pickle.load(infile)\n",
    "    with open(s_variance_file, 'rb') as infile:\n",
    "        s_variance = pickle.load(infile)\n",
    "    with open(s_performance_time_file, 'rb') as infile:\n",
    "        s_performance_time = pickle.load(infile)\n",
    "    with open(s_first_quantile_file, 'rb') as infile:\n",
    "        s_first = pickle.load(infile)\n",
    "    with open(s_last_quantile_file, 'rb') as infile:\n",
    "        s_last = pickle.load(infile)\n",
    "\n",
    "    s_performance_list.append(s_fitness)\n",
    "    s_variance_list.append(s_variance)\n",
    "print(np.array(s_performance_list).shape)"
   ],
   "metadata": {
    "collapsed": false,
    "ExecuteTime": {
     "end_time": "2023-07-23T09:19:23.079412600Z",
     "start_time": "2023-07-23T09:19:23.046382200Z"
    }
   }
  },
  {
   "cell_type": "code",
   "execution_count": 8,
   "outputs": [
    {
     "data": {
      "text/plain": "<Figure size 432x288 with 1 Axes>",
      "image/png": "[encoded data removed]"
     },
     "metadata": {
      "needs_background": "light"
     },
     "output_type": "display_data"
    }
   ],
   "source": [
    "# S Fitness\n",
    "x = range(len(s_performance_list[0]))\n",
    "fig, ax = plt.subplots()\n",
    "ax.spines[\"left\"].set_linewidth(1.5)\n",
    "ax.spines[\"right\"].set_linewidth(1.5)\n",
    "ax.spines[\"top\"].set_linewidth(1.5)\n",
    "ax.spines[\"bottom\"].set_linewidth(1.5)\n",
    "colors = [nature_blue, nature_green, nature_orange]\n",
    "for index, value in enumerate(expertise_list):\n",
    "    plt.plot(x, g_performance_list[index], \"-\", label=\"G_{0}\".format(value), color=colors[index])\n",
    "\n",
    "plt.xlabel('K', fontweight='bold', fontsize=12)\n",
    "plt.ylabel('Performance', fontweight='bold', fontsize=12)\n",
    "# plt.xticks(x)\n",
    "plt.legend(frameon=False, ncol=1, fontsize=12)\n",
    "plt.savefig(data_folder + r\"\\Gs_performance.png\", transparent=True, dpi=300)\n",
    "plt.show()\n",
    "# plt.clf()"
   ],
   "metadata": {
    "collapsed": false,
    "ExecuteTime": {
     "end_time": "2023-07-23T08:28:38.367588300Z",
     "start_time": "2023-07-23T08:28:38.058950700Z"
    }
   }
  },
  {
   "cell_type": "code",
   "execution_count": 15,
   "outputs": [],
   "source": [
    "# # GST Variance\n",
    "# x = range(len(s1_variance))\n",
    "# fig, ax = plt.subplots()\n",
    "# ax.spines[\"left\"].set_linewidth(1.5)\n",
    "# ax.spines[\"right\"].set_linewidth(1.5)\n",
    "# ax.spines[\"top\"].set_linewidth(1.5)\n",
    "# ax.spines[\"bottom\"].set_linewidth(1.5)\n",
    "# plt.plot(x, s1_variance, \"k-\", label=\"S28\", color=nature_blue)\n",
    "# plt.plot(x, s2_variance, \"k-\", label=\"S32\", color=nature_green)\n",
    "# plt.plot(x, s3_variance, \"k-\", label=\"S36\", color=nature_orange)\n",
    "# plt.plot(x, s4_variance, \"k-\", label=\"S40\", color=morandi_pink)\n",
    "#\n",
    "# plt.xlabel('K', fontweight='bold', fontsize=12)\n",
    "# plt.ylabel('Variance', fontweight='bold', fontsize=12)\n",
    "# # plt.xticks(x)\n",
    "# plt.legend(frameon=False, ncol=1, fontsize=12)\n",
    "# plt.savefig(data_folder + r\"\\Ss_variance.png\", transparent=True, dpi=300)\n",
    "# plt.show()\n",
    "# # plt.clf()"
   ],
   "metadata": {
    "collapsed": false,
    "ExecuteTime": {
     "end_time": "2023-07-11T09:23:56.369289300Z",
     "start_time": "2023-07-11T09:23:56.355217600Z"
    }
   }
  },
  {
   "cell_type": "code",
   "execution_count": 16,
   "outputs": [],
   "source": [
    "# # GST First Quantile Fitness\n",
    "# x = range(len(s1_first))\n",
    "# fig, ax = plt.subplots()\n",
    "# ax.spines[\"left\"].set_linewidth(1.5)\n",
    "# ax.spines[\"right\"].set_linewidth(1.5)\n",
    "# ax.spines[\"top\"].set_linewidth(1.5)\n",
    "# ax.spines[\"bottom\"].set_linewidth(1.5)\n",
    "# plt.plot(x, s1_first, \"k--\", label=\"S16_first\", color=nature_blue)\n",
    "# plt.plot(x, s1_fitness, \"k-\", label=\"S16_mean\", color=nature_blue)\n",
    "# plt.plot(x, s1_last, \"k:\", label=\"S16_last\", color=nature_blue)\n",
    "# plt.plot(x, s2_first, \"k-\", label=\"S24\", color=nature_green)\n",
    "# plt.plot(x, s3_first, \"k-\", label=\"S32\", color=nature_orange)\n",
    "# plt.plot(x, s4_first, \"k-\", label=\"S40\", color=morandi_pink)\n",
    "#\n",
    "# plt.xlabel('K', fontweight='bold', fontsize=12)\n",
    "# plt.ylabel('Performance', fontweight='bold', fontsize=12)\n",
    "# # plt.xticks(x)\n",
    "# plt.legend(frameon=False, ncol=1, fontsize=12)\n",
    "# plt.savefig(data_folder + r\"\\Ss_first_quantile.png\", transparent=True, dpi=300)\n",
    "# plt.show()\n",
    "# # plt.clf()"
   ],
   "metadata": {
    "collapsed": false,
    "ExecuteTime": {
     "end_time": "2023-07-11T09:23:56.423480500Z",
     "start_time": "2023-07-11T09:23:56.370289500Z"
    }
   }
  },
  {
   "cell_type": "code",
   "execution_count": 17,
   "outputs": [],
   "source": [
    "# # GST Last Quantile Fitness\n",
    "# x = range(len(s1_last))\n",
    "# fig, ax = plt.subplots()\n",
    "# ax.spines[\"left\"].set_linewidth(1.5)\n",
    "# ax.spines[\"right\"].set_linewidth(1.5)\n",
    "# ax.spines[\"top\"].set_linewidth(1.5)\n",
    "# ax.spines[\"bottom\"].set_linewidth(1.5)\n",
    "# plt.plot(x, s1_last, \"k-\", label=\"S16\", color=nature_blue)\n",
    "# plt.plot(x, s2_last, \"k-\", label=\"S24\", color=nature_green)\n",
    "# plt.plot(x, s3_last, \"k-\", label=\"S32\", color=nature_orange)\n",
    "# plt.plot(x, s4_last, \"k-\", label=\"S40\", color=morandi_pink)\n",
    "#\n",
    "# plt.xlabel('K', fontweight='bold', fontsize=12)\n",
    "# plt.ylabel('Performance', fontweight='bold', fontsize=12)\n",
    "# # plt.xticks(x)\n",
    "# plt.legend(frameon=False, ncol=1, fontsize=12)\n",
    "# plt.savefig(data_folder + r\"\\Ss_last_quantile.png\", transparent=True, dpi=300)\n",
    "# plt.show()\n",
    "# # plt.clf()"
   ],
   "metadata": {
    "collapsed": false,
    "ExecuteTime": {
     "end_time": "2023-07-11T09:23:56.423480500Z",
     "start_time": "2023-07-11T09:23:56.395459Z"
    }
   }
  },
  {
   "cell_type": "code",
   "execution_count": 17,
   "outputs": [],
   "source": [],
   "metadata": {
    "collapsed": false,
    "ExecuteTime": {
     "end_time": "2023-07-11T09:23:56.423480500Z",
     "start_time": "2023-07-11T09:23:56.405479700Z"
    }
   }
  }
 ],
 "metadata": {
  "kernelspec": {
   "display_name": "Python 3",
   "language": "python",
   "name": "python3"
  },
  "language_info": {
   "codemirror_mode": {
    "name": "ipython",
    "version": 2
   },
   "file_extension": ".py",
   "mimetype": "text/x-python",
   "name": "python",
   "nbconvert_exporter": "python",
   "pygments_lexer": "ipython2",
   "version": "2.7.6"
  }
 },
 "nbformat": 4,
 "nbformat_minor": 0
}
