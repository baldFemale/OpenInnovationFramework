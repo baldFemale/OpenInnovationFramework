{
 "cells": [
  {
   "cell_type": "code",
   "execution_count": 1,
   "metadata": {
    "collapsed": true,
    "ExecuteTime": {
     "end_time": "2023-07-11T09:26:32.051281400Z",
     "start_time": "2023-07-11T09:26:30.241272400Z"
    }
   },
   "outputs": [],
   "source": [
    "import matplotlib.pyplot as plt\n",
    "# plt.interactive(False)\n",
    "from scipy.stats import gaussian_kde\n",
    "from scipy.special import kl_div\n",
    "import numpy as np\n",
    "import pickle\n",
    "legend_properties = {'weight':'bold'}\n",
    "nus_blue = \"#003D7C\"\n",
    "nus_orange = \"#EF7C00\"\n",
    "# Nature three colors\n",
    "nature_orange = \"#F16C23\"\n",
    "nature_blue = \"#2B6A99\"\n",
    "nature_green = \"#1B7C3D\"\n",
    "# Morandi six colors\n",
    "morandi_blue = \"#046586\"\n",
    "morandi_green =  \"#28A9A1\"\n",
    "morandi_yellow = \"#C9A77C\"\n",
    "morandi_orange = \"#F4A016\"\n",
    "morandi_pink = \"#F6BBC6\"\n",
    "morandi_red = \"#E71F19\"\n",
    "morandi_purple = \"#B08BEB\"\n",
    "# Others\n",
    "shallow_grey = \"#D3D4D3\"\n",
    "deep_grey = \"#A6ABB6\"\n",
    "# Red and Blue\n",
    "strong_red = \"#A61C5D\"\n",
    "strong_blue = \"#1B64A4\"\n",
    "\n",
    "# Shallow-deep pair\n",
    "shallow_purple = \"#EAD7EA\"\n",
    "deep_purple = \"#BA9DB9\"\n",
    "shallow_cyan = \"#A9D5E0\"\n",
    "deep_cyan = \"#48C0BF\"\n",
    "shallow_blue = \"#B6DAEC\"\n",
    "deep_blue = \"#98CFE4\"\n",
    "shallow_pink = \"#F5E0E5\"\n",
    "deep_pink = \"#E5A7B6\"\n",
    "shallow_green = \"#C2DED0\"\n",
    "deep_green = \"#A5C6B1\"\n",
    "\n",
    "color_pairs = [[shallow_purple, deep_purple],  [shallow_green, deep_green],\n",
    "               [shallow_blue, deep_blue], [shallow_pink, deep_pink], [shallow_cyan, deep_cyan],\n",
    "               [shallow_grey, deep_grey]]\n",
    "morandi_colors = [morandi_blue, morandi_green, morandi_yellow, morandi_orange, morandi_pink, morandi_red, morandi_purple]\n"
   ]
  },
  {
   "cell_type": "code",
   "execution_count": 3,
   "outputs": [],
   "source": [
    "data_folder = r\"E:\\data\\gst-0610-23\\GST\\FoolingS_default\"\n",
    "\n",
    "s1_performance_file = data_folder + r\"\\s_performance_across_K_16\"\n",
    "# s1_cog_performance_file = data_folder + r\"\\s_cog_performance_across_K_time_14\"\n",
    "# s1_variance_file = data_folder + r\"\\g_variance_across_K_14\"\n",
    "# s1_performance_time_file = data_folder + r\"\\g_performance_across_K_time_14\"\n",
    "# s1_first_quantile_file = data_folder + r\"\\g_first_quantile_across_K_14\"\n",
    "# s1_last_quantile_file = data_folder + r\"\\g_last_quantile_across_K_14\"\n",
    "\n",
    "s2_performance_file = data_folder + r\"\\s_performance_across_K_24\"\n",
    "# s2_cog_performance_file = data_folder + r\"\\g_cog_performance_across_K_time_16\"\n",
    "# s2_variance_file = data_folder + r\"\\g_variance_across_K_16\"\n",
    "# s2_performance_time_file = data_folder + r\"\\g_performance_across_K_time_16\"\n",
    "# s2_first_quantile_file = data_folder + r\"\\g_first_quantile_across_K_16\"\n",
    "# s2_last_quantile_file = data_folder + r\"\\g_last_quantile_across_K_16\"\n",
    "\n",
    "s3_performance_file = data_folder + r\"\\s_performance_across_K_32\"\n",
    "# s3_cog_performance_file = data_folder + r\"\\g_cog_performance_across_K_time_18\"\n",
    "# s3_variance_file = data_folder + r\"\\g_variance_across_K_18\"\n",
    "# s3_performance_time_file = data_folder + r\"\\g_performance_across_K_time_18\"\n",
    "# s3_first_quantile_file = data_folder + r\"\\g_first_quantile_across_K_18\"\n",
    "# s3_last_quantile_file = data_folder + r\"\\g_last_quantile_across_K_18\"\n",
    "\n",
    "s4_performance_file = data_folder + r\"\\s_performance_across_K_40\"\n",
    "# s4_cog_performance_file = data_folder + r\"\\g_cog_performance_across_K_time_20\"\n",
    "# s4_variance_file = data_folder + r\"\\g_variance_across_K_20\"\n",
    "# s4_performance_time_file = data_folder + r\"\\g_performance_across_K_time_20\"\n",
    "# s4_first_quantile_file = data_folder + r\"\\g_first_quantile_across_K_20\"\n",
    "# s4_last_quantile_file = data_folder + r\"\\g_last_quantile_across_K_20\"\n",
    "\n",
    "with open(s1_performance_file, 'rb') as infile:\n",
    "    s1_fitness = pickle.load(infile)\n",
    "# with open(s1_cog_performance_file, 'rb') as infile:\n",
    "#     s1_cog_fitness = pickle.load(infile)\n",
    "# with open(s1_variance_file, 'rb') as infile:\n",
    "#     s1_variance = pickle.load(infile)\n",
    "# with open(s1_performance_time_file, 'rb') as infile:\n",
    "#     s1_performance_time = pickle.load(infile)\n",
    "# with open(s1_first_quantile_file, 'rb') as infile:\n",
    "#     s1_first = pickle.load(infile)\n",
    "# with open(s1_last_quantile_file, 'rb') as infile:\n",
    "#     s1_last = pickle.load(infile)\n",
    "\n",
    "with open(s2_performance_file, 'rb') as infile:\n",
    "    s2_fitness = pickle.load(infile)\n",
    "# with open(s2_cog_performance_file, 'rb') as infile:\n",
    "#     s2_cog_fitness = pickle.load(infile)\n",
    "# with open(s2_variance_file, 'rb') as infile:\n",
    "#     s2_variance = pickle.load(infile)\n",
    "# with open(s2_performance_time_file, 'rb') as infile:\n",
    "#     s2_performance_time = pickle.load(infile)\n",
    "# with open(s2_first_quantile_file, 'rb') as infile:\n",
    "#     s2_first = pickle.load(infile)\n",
    "# with open(s2_last_quantile_file, 'rb') as infile:\n",
    "#     s2_last = pickle.load(infile)\n",
    "\n",
    "with open(s3_performance_file, 'rb') as infile:\n",
    "    s3_fitness = pickle.load(infile)\n",
    "# with open(s3_cog_performance_file, 'rb') as infile:\n",
    "#     s3_cog_fitness = pickle.load(infile)\n",
    "# with open(s3_variance_file, 'rb') as infile:\n",
    "#     s3_variance = pickle.load(infile)\n",
    "# with open(s3_performance_time_file, 'rb') as infile:\n",
    "#     s3_performance_time = pickle.load(infile)\n",
    "# with open(s3_first_quantile_file, 'rb') as infile:\n",
    "#     s3_first = pickle.load(infile)\n",
    "# with open(s3_last_quantile_file, 'rb') as infile:\n",
    "#     s3_last = pickle.load(infile)\n",
    "\n",
    "with open(s4_performance_file, 'rb') as infile:\n",
    "    s4_fitness = pickle.load(infile)\n",
    "# with open(s4_cog_performance_file, 'rb') as infile:\n",
    "#     s4_cog_fitness = pickle.load(infile)\n",
    "# with open(s4_variance_file, 'rb') as infile:\n",
    "#     s4_variance = pickle.load(infile)\n",
    "# with open(s4_performance_time_file, 'rb') as infile:\n",
    "#     s4_performance_time = pickle.load(infile)\n",
    "# with open(s4_first_quantile_file, 'rb') as infile:\n",
    "#     s4_first = pickle.load(infile)\n",
    "# with open(s4_last_quantile_file, 'rb') as infile:\n",
    "#     s4_last = pickle.load(infile)"
   ],
   "metadata": {
    "collapsed": false,
    "ExecuteTime": {
     "end_time": "2023-07-11T09:26:40.569435500Z",
     "start_time": "2023-07-11T09:26:40.553249900Z"
    }
   }
  },
  {
   "cell_type": "code",
   "execution_count": 5,
   "outputs": [
    {
     "name": "stderr",
     "output_type": "stream",
     "text": [
      "<ipython-input-5-9c1daec0897d>:8: UserWarning: color is redundantly defined by the 'color' keyword argument and the fmt string \"k-\" (-> color='k'). The keyword argument will take precedence.\n",
      "  plt.plot(x, s1_fitness, \"k-\", label=\"S16\", color=nature_blue)\n",
      "<ipython-input-5-9c1daec0897d>:9: UserWarning: color is redundantly defined by the 'color' keyword argument and the fmt string \"k-\" (-> color='k'). The keyword argument will take precedence.\n",
      "  plt.plot(x, s2_fitness, \"k-\", label=\"S24\", color=nature_green)\n",
      "<ipython-input-5-9c1daec0897d>:10: UserWarning: color is redundantly defined by the 'color' keyword argument and the fmt string \"k-\" (-> color='k'). The keyword argument will take precedence.\n",
      "  plt.plot(x, s3_fitness, \"k-\", label=\"S32\", color=nature_orange)\n",
      "<ipython-input-5-9c1daec0897d>:11: UserWarning: color is redundantly defined by the 'color' keyword argument and the fmt string \"k-\" (-> color='k'). The keyword argument will take precedence.\n",
      "  plt.plot(x, s4_fitness, \"k-\", label=\"S40\", color=morandi_pink)\n"
     ]
    },
    {
     "data": {
      "text/plain": "<Figure size 432x288 with 1 Axes>",
      "image/png": "[encoded data removed]"
     },
     "metadata": {
      "needs_background": "light"
     },
     "output_type": "display_data"
    }
   ],
   "source": [
    "# S Fitness\n",
    "x = range(len(s1_fitness))\n",
    "fig, ax = plt.subplots()\n",
    "ax.spines[\"left\"].set_linewidth(1.5)\n",
    "ax.spines[\"right\"].set_linewidth(1.5)\n",
    "ax.spines[\"top\"].set_linewidth(1.5)\n",
    "ax.spines[\"bottom\"].set_linewidth(1.5)\n",
    "plt.plot(x, s1_fitness, \"k-\", label=\"S16\", color=nature_blue)\n",
    "plt.plot(x, s2_fitness, \"k-\", label=\"S24\", color=nature_green)\n",
    "plt.plot(x, s3_fitness, \"k-\", label=\"S32\", color=nature_orange)\n",
    "plt.plot(x, s4_fitness, \"k-\", label=\"S40\", color=morandi_pink)\n",
    "\n",
    "plt.xlabel('K', fontweight='bold', fontsize=12)\n",
    "plt.ylabel('Performance', fontweight='bold', fontsize=12)\n",
    "# plt.xticks(x)\n",
    "plt.legend(frameon=False, ncol=1, fontsize=12)\n",
    "plt.savefig(data_folder + r\"\\Gs_performance.png\", transparent=True, dpi=300)\n",
    "plt.show()\n",
    "# plt.clf()"
   ],
   "metadata": {
    "collapsed": false,
    "ExecuteTime": {
     "end_time": "2023-07-11T09:27:00.854768600Z",
     "start_time": "2023-07-11T09:27:00.520502800Z"
    }
   }
  },
  {
   "cell_type": "code",
   "execution_count": 6,
   "outputs": [
    {
     "name": "stderr",
     "output_type": "stream",
     "text": [
      "<ipython-input-6-449d716a2cfc>:12: UserWarning: color is redundantly defined by the 'color' keyword argument and the fmt string \"k-\" (-> color='k'). The keyword argument will take precedence.\n",
      "  plt.plot(x, s1_fitness_norm, \"k-\", label=\"S16\", color=nature_blue)\n",
      "<ipython-input-6-449d716a2cfc>:13: UserWarning: color is redundantly defined by the 'color' keyword argument and the fmt string \"k-\" (-> color='k'). The keyword argument will take precedence.\n",
      "  plt.plot(x, s2_fitness_norm, \"k-\", label=\"S24\", color=nature_green)\n",
      "<ipython-input-6-449d716a2cfc>:14: UserWarning: color is redundantly defined by the 'color' keyword argument and the fmt string \"k-\" (-> color='k'). The keyword argument will take precedence.\n",
      "  plt.plot(x, s3_fitness_norm, \"k-\", label=\"S32\", color=nature_orange)\n",
      "<ipython-input-6-449d716a2cfc>:15: UserWarning: color is redundantly defined by the 'color' keyword argument and the fmt string \"k-\" (-> color='k'). The keyword argument will take precedence.\n",
      "  plt.plot(x, s4_fitness_norm, \"k-\", label=\"S40\", color=morandi_pink)\n"
     ]
    },
    {
     "data": {
      "text/plain": "<Figure size 432x288 with 1 Axes>",
      "image/png": "[encoded data removed]"
     },
     "metadata": {
      "needs_background": "light"
     },
     "output_type": "display_data"
    }
   ],
   "source": [
    "# S Fitness / Knowledge\n",
    "x = range(len(s1_fitness))\n",
    "fig, ax = plt.subplots()\n",
    "ax.spines[\"left\"].set_linewidth(1.5)\n",
    "ax.spines[\"right\"].set_linewidth(1.5)\n",
    "ax.spines[\"top\"].set_linewidth(1.5)\n",
    "ax.spines[\"bottom\"].set_linewidth(1.5)\n",
    "s1_fitness_norm = [each / 4 for each in s1_fitness]\n",
    "s2_fitness_norm = [each / 6 for each in s2_fitness]\n",
    "s3_fitness_norm = [each / 8 for each in s3_fitness]\n",
    "s4_fitness_norm = [each / 10 for each in s4_fitness]\n",
    "plt.plot(x, s1_fitness_norm, \"k-\", label=\"S16\", color=nature_blue)\n",
    "plt.plot(x, s2_fitness_norm, \"k-\", label=\"S24\", color=nature_green)\n",
    "plt.plot(x, s3_fitness_norm, \"k-\", label=\"S32\", color=nature_orange)\n",
    "plt.plot(x, s4_fitness_norm, \"k-\", label=\"S40\", color=morandi_pink)\n",
    "\n",
    "plt.xlabel('K', fontweight='bold', fontsize=12)\n",
    "plt.ylabel('Performance', fontweight='bold', fontsize=12)\n",
    "# plt.xticks(x)\n",
    "plt.legend(frameon=False, ncol=1, fontsize=12)\n",
    "plt.savefig(data_folder + r\"\\Gs_performance_normalized.png\", transparent=True, dpi=300)\n",
    "plt.show()\n",
    "# plt.clf()"
   ],
   "metadata": {
    "collapsed": false,
    "ExecuteTime": {
     "end_time": "2023-07-11T09:27:19.790458700Z",
     "start_time": "2023-07-11T09:27:19.493586900Z"
    }
   }
  },
  {
   "cell_type": "code",
   "execution_count": null,
   "outputs": [],
   "source": [
    "# # GST Variance\n",
    "# x = range(len(s1_variance))\n",
    "# fig, ax = plt.subplots()\n",
    "# ax.spines[\"left\"].set_linewidth(1.5)\n",
    "# ax.spines[\"right\"].set_linewidth(1.5)\n",
    "# ax.spines[\"top\"].set_linewidth(1.5)\n",
    "# ax.spines[\"bottom\"].set_linewidth(1.5)\n",
    "# plt.plot(x, s1_variance, \"k-\", label=\"S28\", color=nature_blue)\n",
    "# plt.plot(x, s2_variance, \"k-\", label=\"S32\", color=nature_green)\n",
    "# plt.plot(x, s3_variance, \"k-\", label=\"S36\", color=nature_orange)\n",
    "# plt.plot(x, s4_variance, \"k-\", label=\"S40\", color=morandi_pink)\n",
    "#\n",
    "# plt.xlabel('K', fontweight='bold', fontsize=12)\n",
    "# plt.ylabel('Variance', fontweight='bold', fontsize=12)\n",
    "# # plt.xticks(x)\n",
    "# plt.legend(frameon=False, ncol=1, fontsize=12)\n",
    "# plt.savefig(data_folder + r\"\\Ss_variance.png\", transparent=True, dpi=300)\n",
    "# plt.show()\n",
    "# # plt.clf()"
   ],
   "metadata": {
    "collapsed": false
   }
  },
  {
   "cell_type": "code",
   "execution_count": null,
   "outputs": [],
   "source": [
    "# # GST First Quantile Fitness\n",
    "# x = range(len(s1_first))\n",
    "# fig, ax = plt.subplots()\n",
    "# ax.spines[\"left\"].set_linewidth(1.5)\n",
    "# ax.spines[\"right\"].set_linewidth(1.5)\n",
    "# ax.spines[\"top\"].set_linewidth(1.5)\n",
    "# ax.spines[\"bottom\"].set_linewidth(1.5)\n",
    "# plt.plot(x, s1_first, \"k--\", label=\"S16_first\", color=nature_blue)\n",
    "# plt.plot(x, s1_fitness, \"k-\", label=\"S16_mean\", color=nature_blue)\n",
    "# plt.plot(x, s1_last, \"k:\", label=\"S16_last\", color=nature_blue)\n",
    "# plt.plot(x, s2_first, \"k-\", label=\"S24\", color=nature_green)\n",
    "# plt.plot(x, s3_first, \"k-\", label=\"S32\", color=nature_orange)\n",
    "# plt.plot(x, s4_first, \"k-\", label=\"S40\", color=morandi_pink)\n",
    "#\n",
    "# plt.xlabel('K', fontweight='bold', fontsize=12)\n",
    "# plt.ylabel('Performance', fontweight='bold', fontsize=12)\n",
    "# # plt.xticks(x)\n",
    "# plt.legend(frameon=False, ncol=1, fontsize=12)\n",
    "# plt.savefig(data_folder + r\"\\Ss_first_quantile.png\", transparent=True, dpi=300)\n",
    "# plt.show()\n",
    "# # plt.clf()"
   ],
   "metadata": {
    "collapsed": false
   }
  },
  {
   "cell_type": "code",
   "execution_count": null,
   "outputs": [],
   "source": [
    "# # GST Last Quantile Fitness\n",
    "# x = range(len(s1_last))\n",
    "# fig, ax = plt.subplots()\n",
    "# ax.spines[\"left\"].set_linewidth(1.5)\n",
    "# ax.spines[\"right\"].set_linewidth(1.5)\n",
    "# ax.spines[\"top\"].set_linewidth(1.5)\n",
    "# ax.spines[\"bottom\"].set_linewidth(1.5)\n",
    "# plt.plot(x, s1_last, \"k-\", label=\"S16\", color=nature_blue)\n",
    "# plt.plot(x, s2_last, \"k-\", label=\"S24\", color=nature_green)\n",
    "# plt.plot(x, s3_last, \"k-\", label=\"S32\", color=nature_orange)\n",
    "# plt.plot(x, s4_last, \"k-\", label=\"S40\", color=morandi_pink)\n",
    "#\n",
    "# plt.xlabel('K', fontweight='bold', fontsize=12)\n",
    "# plt.ylabel('Performance', fontweight='bold', fontsize=12)\n",
    "# # plt.xticks(x)\n",
    "# plt.legend(frameon=False, ncol=1, fontsize=12)\n",
    "# plt.savefig(data_folder + r\"\\Ss_last_quantile.png\", transparent=True, dpi=300)\n",
    "# plt.show()\n",
    "# # plt.clf()"
   ],
   "metadata": {
    "collapsed": false
   }
  },
  {
   "cell_type": "code",
   "execution_count": null,
   "outputs": [],
   "source": [],
   "metadata": {
    "collapsed": false
   }
  }
 ],
 "metadata": {
  "kernelspec": {
   "display_name": "Python 3",
   "language": "python",
   "name": "python3"
  },
  "language_info": {
   "codemirror_mode": {
    "name": "ipython",
    "version": 2
   },
   "file_extension": ".py",
   "mimetype": "text/x-python",
   "name": "python",
   "nbconvert_exporter": "python",
   "pygments_lexer": "ipython2",
   "version": "2.7.6"
  }
 },
 "nbformat": 4,
 "nbformat_minor": 0
}
