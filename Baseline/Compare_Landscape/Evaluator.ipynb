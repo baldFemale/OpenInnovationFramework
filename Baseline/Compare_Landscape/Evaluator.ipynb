{
 "cells": [
  {
   "cell_type": "code",
   "execution_count": 1,
   "metadata": {
    "collapsed": true,
    "ExecuteTime": {
     "end_time": "2023-08-20T12:43:25.996183900Z",
     "start_time": "2023-08-20T12:43:23.052096600Z"
    }
   },
   "outputs": [],
   "source": [
    "import matplotlib.pyplot as plt\n",
    "# plt.interactive(False)\n",
    "from scipy.stats import gaussian_kde\n",
    "from scipy.special import kl_div\n",
    "import numpy as np\n",
    "import pickle\n",
    "legend_properties = {'weight':'bold'}\n",
    "nus_blue = \"#003D7C\"\n",
    "nus_orange = \"#EF7C00\"\n",
    "# Nature three colors\n",
    "nature_orange = \"#F16C23\"\n",
    "nature_blue = \"#2B6A99\"\n",
    "nature_green = \"#1B7C3D\"\n",
    "# Morandi six colors\n",
    "morandi_blue = \"#046586\"\n",
    "morandi_green =  \"#28A9A1\"\n",
    "morandi_yellow = \"#C9A77C\"\n",
    "morandi_orange = \"#F4A016\"\n",
    "morandi_pink = \"#F6BBC6\"\n",
    "morandi_red = \"#E71F19\"\n",
    "morandi_purple = \"#B08BEB\"\n",
    "# Others\n",
    "shallow_grey = \"#D3D4D3\"\n",
    "deep_grey = \"#A6ABB6\"\n",
    "# Red and Blue\n",
    "strong_red = \"#A61C5D\"\n",
    "strong_blue = \"#1B64A4\"\n",
    "\n",
    "# Shallow-deep pair\n",
    "shallow_purple = \"#EAD7EA\"\n",
    "deep_purple = \"#BA9DB9\"\n",
    "shallow_cyan = \"#A9D5E0\"\n",
    "deep_cyan = \"#48C0BF\"\n",
    "shallow_blue = \"#B6DAEC\"\n",
    "deep_blue = \"#98CFE4\"\n",
    "shallow_pink = \"#F5E0E5\"\n",
    "deep_pink = \"#E5A7B6\"\n",
    "shallow_green = \"#C2DED0\"\n",
    "deep_green = \"#A5C6B1\"\n",
    "\n",
    "color_pairs = [[shallow_purple, deep_purple],  [shallow_green, deep_green],\n",
    "               [shallow_blue, deep_blue], [shallow_pink, deep_pink], [shallow_cyan, deep_cyan],\n",
    "               [shallow_grey, deep_grey]]\n",
    "morandi_colors = [morandi_blue, morandi_green, morandi_yellow, morandi_orange, morandi_pink, morandi_red, morandi_purple]\n"
   ]
  },
  {
   "cell_type": "code",
   "execution_count": 2,
   "outputs": [
    {
     "name": "stdout",
     "output_type": "stream",
     "text": [
      "LandScape shape of N=10, K=1\n",
      "Influential Matrix: \n",
      " [[1. 0. 0. 0. 0. 0. 1. 0. 0. 0.]\n",
      " [0. 1. 1. 0. 0. 0. 0. 0. 0. 0.]\n",
      " [0. 0. 1. 0. 0. 0. 0. 0. 0. 1.]\n",
      " [0. 0. 0. 1. 0. 1. 0. 0. 0. 0.]\n",
      " [0. 0. 0. 0. 1. 0. 0. 0. 1. 0.]\n",
      " [0. 1. 0. 0. 0. 1. 0. 0. 0. 0.]\n",
      " [1. 0. 0. 0. 0. 0. 1. 0. 0. 0.]\n",
      " [0. 0. 0. 1. 0. 0. 0. 1. 0. 0.]\n",
      " [0. 0. 1. 0. 0. 0. 0. 0. 1. 0.]\n",
      " [0. 0. 0. 0. 0. 0. 0. 1. 0. 1.]]\n",
      "Influential Dependency Map:  [[6], [2], [9], [5], [8], [1], [0], [3], [2], [7]]\n",
      "Cache Samples:\n",
      "AAAAAAAAAA 0.8060128675745063\n",
      "0000000000 0.8313647226173116\n",
      "00:00:08\n"
     ]
    }
   ],
   "source": [
    "from Landscape import Landscape\n",
    "import numpy as np\n",
    "# Test Example\n",
    "import time\n",
    "t0 = time.time()\n",
    "N = 10\n",
    "K = 1\n",
    "state_num = 4\n",
    "np.random.seed(1000)\n",
    "landscape = Landscape(N=N, K=K, state_num=state_num, norm=\"MaxMin\", alpha=0.25)\n",
    "landscape.describe()\n",
    "t1 = time.time()\n",
    "print(time.strftime(\"%H:%M:%S\", time.gmtime(t1-t0)))"
   ],
   "metadata": {
    "collapsed": false,
    "ExecuteTime": {
     "end_time": "2023-08-20T12:43:50.669770Z",
     "start_time": "2023-08-20T12:43:41.836527Z"
    }
   }
  },
  {
   "cell_type": "code",
   "execution_count": 3,
   "outputs": [
    {
     "data": {
      "text/plain": "<Figure size 432x288 with 1 Axes>",
      "image/png": "[encoded data removed]"
     },
     "metadata": {
      "needs_background": "light"
     },
     "output_type": "display_data"
    },
    {
     "data": {
      "text/plain": "<Figure size 432x288 with 1 Axes>",
      "image/png": "[encoded data removed]"
     },
     "metadata": {
      "needs_background": "light"
     },
     "output_type": "display_data"
    }
   ],
   "source": [
    "import matplotlib.pyplot as plt\n",
    "\n",
    "plt.hist(landscape.first_cache.values(), bins=40, facecolor=\"blue\", edgecolor=\"black\", alpha=0.7)\n",
    "plt.title(\"First Cache\")\n",
    "plt.xlabel(\"Range\")\n",
    "plt.ylabel(\"Count\")\n",
    "plt.show()\n",
    "\n",
    "plt.hist(landscape.second_cache.values(), bins=40, facecolor=\"blue\", edgecolor=\"black\", alpha=0.7)\n",
    "plt.title(\"Second Cache\")\n",
    "plt.xlabel(\"Range\")\n",
    "plt.ylabel(\"Count\")\n",
    "plt.show()"
   ],
   "metadata": {
    "collapsed": false,
    "ExecuteTime": {
     "end_time": "2023-08-20T12:44:09.088748400Z",
     "start_time": "2023-08-20T12:44:05.730399200Z"
    }
   }
  },
  {
   "cell_type": "code",
   "execution_count": 5,
   "outputs": [
    {
     "ename": "AttributeError",
     "evalue": "'Landscape' object has no attribute 'count_first_local_optima'",
     "output_type": "error",
     "traceback": [
      "\u001B[1;31m---------------------------------------------------------------------------\u001B[0m",
      "\u001B[1;31mAttributeError\u001B[0m                            Traceback (most recent call last)",
      "\u001B[1;32m<ipython-input-5-bb759d77e48d>\u001B[0m in \u001B[0;36m<module>\u001B[1;34m\u001B[0m\n\u001B[0;32m      2\u001B[0m \u001B[1;31m# landscape.create_first_fitness_rank()\u001B[0m\u001B[1;33m\u001B[0m\u001B[1;33m\u001B[0m\u001B[1;33m\u001B[0m\u001B[0m\n\u001B[0;32m      3\u001B[0m \u001B[1;31m# landscape.create_second_fitness_rank()\u001B[0m\u001B[1;33m\u001B[0m\u001B[1;33m\u001B[0m\u001B[1;33m\u001B[0m\u001B[0m\n\u001B[1;32m----> 4\u001B[1;33m \u001B[0mlandscape\u001B[0m\u001B[1;33m.\u001B[0m\u001B[0mcount_first_local_optima\u001B[0m\u001B[1;33m(\u001B[0m\u001B[1;33m)\u001B[0m\u001B[1;33m\u001B[0m\u001B[1;33m\u001B[0m\u001B[0m\n\u001B[0m\u001B[0;32m      5\u001B[0m \u001B[0mlandscape\u001B[0m\u001B[1;33m.\u001B[0m\u001B[0mcount_second_local_optima\u001B[0m\u001B[1;33m(\u001B[0m\u001B[1;33m)\u001B[0m\u001B[1;33m\u001B[0m\u001B[1;33m\u001B[0m\u001B[0m\n\u001B[0;32m      6\u001B[0m \u001B[0mfirst_ave_distance\u001B[0m \u001B[1;33m=\u001B[0m \u001B[0mlandscape\u001B[0m\u001B[1;33m.\u001B[0m\u001B[0mcalculate_first_avg_fitness_distance\u001B[0m\u001B[1;33m(\u001B[0m\u001B[1;33m)\u001B[0m\u001B[1;33m\u001B[0m\u001B[1;33m\u001B[0m\u001B[0m\n",
      "\u001B[1;31mAttributeError\u001B[0m: 'Landscape' object has no attribute 'count_first_local_optima'"
     ]
    }
   ],
   "source": [
    "# Local Optima\n",
    "# landscape.create_first_fitness_rank()\n",
    "# landscape.create_second_fitness_rank()\n",
    "landscape.count_first_local_optima()\n",
    "landscape.count_second_local_optima()\n",
    "first_ave_distance = landscape.calculate_first_avg_fitness_distance()\n",
    "first_ave_distance = round(first_ave_distance, 4)\n",
    "second_ave_distance = landscape.calculate_second_avg_fitness_distance()\n",
    "second_ave_distance = round(second_ave_distance, 4)\n",
    "print(landscape.first_local_optima)\n",
    "print(\"Number of Local Optima: \", len(landscape.first_local_optima.keys()))\n",
    "print(\"First Average Distance: \", first_ave_distance)\n",
    "print(\"Second Average Distance: \", second_ave_distance)"
   ],
   "metadata": {
    "collapsed": false,
    "ExecuteTime": {
     "end_time": "2023-08-20T12:44:42.416066700Z",
     "start_time": "2023-08-20T12:44:42.402067900Z"
    }
   }
  },
  {
   "cell_type": "code",
   "execution_count": 7,
   "outputs": [
    {
     "name": "stdout",
     "output_type": "stream",
     "text": [
      "['BABB', 'ABBB', 'AAAB', 'AABA']\n"
     ]
    }
   ],
   "source": [
    "def get_first_neighbor_list(key: str) -> list:\n",
    "    \"\"\"\n",
    "    This is also for the Coarse Landscape\n",
    "    :param key: string from the coarse landscape cache dict, e.g., \"AABB\"\n",
    "    :return:list of the neighbor state, e.g., [[\"0\", \"0\", \"1\", \"2\"], [\"0\", \"0\", \"1\", \"3\"]]\n",
    "    \"\"\"\n",
    "    neighbor_states = []\n",
    "    for i, char in enumerate(key):\n",
    "        for bit in [\"A\", \"B\"]:\n",
    "            if bit != char:\n",
    "                new_state = key[:i] + str(bit) + key[i + 1:]\n",
    "                neighbor_states.append(new_state)\n",
    "    return neighbor_states\n",
    "\n",
    "state = \"AABB\"\n",
    "neighbors = get_first_neighbor_list(key=state)\n",
    "print(neighbors)"
   ],
   "metadata": {
    "collapsed": false,
    "ExecuteTime": {
     "end_time": "2023-08-20T12:53:38.347819400Z",
     "start_time": "2023-08-20T12:53:38.334793100Z"
    }
   }
  },
  {
   "cell_type": "code",
   "execution_count": null,
   "outputs": [],
   "source": [],
   "metadata": {
    "collapsed": false
   }
  }
 ],
 "metadata": {
  "kernelspec": {
   "display_name": "Python 3",
   "language": "python",
   "name": "python3"
  },
  "language_info": {
   "codemirror_mode": {
    "name": "ipython",
    "version": 2
   },
   "file_extension": ".py",
   "mimetype": "text/x-python",
   "name": "python",
   "nbconvert_exporter": "python",
   "pygments_lexer": "ipython2",
   "version": "2.7.6"
  }
 },
 "nbformat": 4,
 "nbformat_minor": 0
}
