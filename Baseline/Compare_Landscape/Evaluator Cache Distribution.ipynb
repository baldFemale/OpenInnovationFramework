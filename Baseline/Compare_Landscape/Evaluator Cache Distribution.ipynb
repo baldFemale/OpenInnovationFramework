{
 "cells": [
  {
   "cell_type": "code",
   "execution_count": 6,
   "metadata": {
    "collapsed": true,
    "ExecuteTime": {
     "end_time": "2023-11-30T13:11:35.351945200Z",
     "start_time": "2023-11-30T13:11:35.341459400Z"
    }
   },
   "outputs": [],
   "source": [
    "import matplotlib.pyplot as plt\n",
    "from scipy.stats import gaussian_kde\n",
    "from scipy.special import kl_div\n",
    "import numpy as np\n",
    "import pickle\n",
    "legend_properties = {'weight':'bold'}\n",
    "nus_blue = \"#003D7C\"\n",
    "nus_orange = \"#EF7C00\"\n",
    "# Nature three colors\n",
    "nature_orange = \"#F16C23\"\n",
    "nature_blue = \"#2B6A99\"\n",
    "nature_green = \"#1B7C3D\"\n",
    "# Morandi six colors\n",
    "morandi_blue = \"#046586\"\n",
    "morandi_green =  \"#28A9A1\"\n",
    "morandi_yellow = \"#C9A77C\"\n",
    "morandi_orange = \"#F4A016\"\n",
    "morandi_pink = \"#F6BBC6\"\n",
    "morandi_red = \"#E71F19\"\n",
    "morandi_purple = \"#B08BEB\"\n",
    "# Others\n",
    "shallow_grey = \"#D3D4D3\"\n",
    "deep_grey = \"#A6ABB6\"\n",
    "# Red and Blue\n",
    "strong_red = \"#A61C5D\"\n",
    "strong_blue = \"#1B64A4\"\n",
    "\n",
    "# Shallow-deep pair\n",
    "shallow_purple = \"#EAD7EA\"\n",
    "deep_purple = \"#BA9DB9\"\n",
    "shallow_cyan = \"#A9D5E0\"\n",
    "deep_cyan = \"#48C0BF\"\n",
    "shallow_blue = \"#B6DAEC\"\n",
    "deep_blue = \"#98CFE4\"\n",
    "shallow_pink = \"#F5E0E5\"\n",
    "deep_pink = \"#E5A7B6\"\n",
    "shallow_green = \"#C2DED0\"\n",
    "deep_green = \"#A5C6B1\"\n",
    "\n",
    "color_pairs = [[shallow_purple, deep_purple],  [shallow_green, deep_green],\n",
    "               [shallow_blue, deep_blue], [shallow_pink, deep_pink], [shallow_cyan, deep_cyan],\n",
    "               [shallow_grey, deep_grey]]\n",
    "morandi_colors = [morandi_blue, morandi_green, morandi_yellow, morandi_orange, morandi_pink, morandi_red, morandi_purple]"
   ]
  },
  {
   "cell_type": "code",
   "execution_count": 7,
   "outputs": [
    {
     "name": "stdout",
     "output_type": "stream",
     "text": [
      "The distributions are not significantly different (fail to reject the null hypothesis)\n",
      "t-statistic: 0.1811\n",
      "p-value: 0.8564\n"
     ]
    }
   ],
   "source": [
    "from scipy import stats\n",
    "import numpy as np\n",
    "\n",
    "# Generate two sets of fitness values with different sizes (for demonstration purposes)\n",
    "fitness_values_1 = np.random.normal(loc=10, scale=2, size=100)  # Sample 1 with 100 values\n",
    "fitness_values_2 = np.random.normal(loc=10, scale=2, size=150)  # Sample 2 with 150 values\n",
    "\n",
    "# Perform t-test\n",
    "t_statistic, p_value = stats.ttest_ind(fitness_values_1, fitness_values_2)\n",
    "\n",
    "# Check the p-value to determine significance\n",
    "alpha = 0.05  # Set your desired significance level (commonly 0.05)\n",
    "if p_value < alpha:\n",
    "    print(\"The distributions are significantly different (reject the null hypothesis)\")\n",
    "else:\n",
    "    print(\"The distributions are not significantly different (fail to reject the null hypothesis)\")\n",
    "\n",
    "# Optionally, print t-statistic and p-value\n",
    "print(f\"t-statistic: {t_statistic:.4f}\")\n",
    "print(f\"p-value: {p_value:.4f}\")\n"
   ],
   "metadata": {
    "collapsed": false,
    "ExecuteTime": {
     "end_time": "2023-11-30T13:11:46.271417400Z",
     "start_time": "2023-11-30T13:11:46.232655900Z"
    }
   }
  },
  {
   "cell_type": "code",
   "execution_count": 3,
   "outputs": [
    {
     "name": "stdout",
     "output_type": "stream",
     "text": [
      "51200\n",
      "26214400\n"
     ]
    }
   ],
   "source": [
    "from scipy import stats\n",
    "import numpy as np\n",
    "data_folder = r\"E:\\data\\gst-0815-23\\Pre-Test\\Compare_Landscape_cache\"\n",
    "first_cache_file = data_folder + r\"\\first_cache_alpha_0.1\"\n",
    "with open(first_cache_file, 'rb') as infile:\n",
    "    fitness_values_1 = pickle.load(infile)\n",
    "second_cache_file = data_folder + r\"\\second_local_peak_across_K_alpha_0.1\"  # file name typo\n",
    "with open(second_cache_file, 'rb') as infile:\n",
    "    fitness_values_2 = pickle.load(infile)\n",
    "print(len(fitness_values_1[0]))\n",
    "print(len(fitness_values_2[0]))\n"
   ],
   "metadata": {
    "collapsed": false,
    "ExecuteTime": {
     "end_time": "2023-11-18T13:04:03.396608200Z",
     "start_time": "2023-11-18T13:02:49.799952200Z"
    }
   }
  },
  {
   "cell_type": "code",
   "execution_count": null,
   "outputs": [],
   "source": [
    "# Perform t-test\n",
    "t_statistic, p_value = stats.ttest_ind(fitness_values_1[0], fitness_values_2[0])\n",
    "\n",
    "# Check the p-value to determine significance\n",
    "alpha = 0.05  # Set your desired significance level (commonly 0.05)\n",
    "if p_value < alpha:\n",
    "    print(\"The distributions are significantly different (reject the null hypothesis)\")\n",
    "else:\n",
    "    print(\"The distributions are not significantly different (fail to reject the null hypothesis)\")\n",
    "\n",
    "# Optionally, print t-statistic and p-value\n",
    "print(f\"t-statistic: {t_statistic:.4f}\")\n",
    "print(f\"p-value: {p_value:.4f}\")"
   ],
   "metadata": {
    "collapsed": false,
    "ExecuteTime": {
     "end_time": "2023-11-18T12:47:47.889702Z",
     "start_time": "2023-11-18T12:47:47.883717100Z"
    }
   }
  },
  {
   "cell_type": "code",
   "execution_count": 5,
   "outputs": [
    {
     "data": {
      "text/plain": "<Figure size 432x288 with 1 Axes>",
      "image/png": "[encoded data removed]"
     },
     "metadata": {
      "needs_background": "light"
     },
     "output_type": "display_data"
    }
   ],
   "source": [
    "fig, ax = plt.subplots()\n",
    "ax.spines[\"left\"].set_linewidth(1.5)\n",
    "ax.spines[\"right\"].set_linewidth(1.5)\n",
    "ax.spines[\"top\"].set_linewidth(1.5)\n",
    "ax.spines[\"bottom\"].set_linewidth(1.5)\n",
    "plt.hist(fitness_values_1[0], bins=40, facecolor=\"blue\", edgecolor=\"black\", alpha=0.7)\n",
    "# plt.title(\"First Cache N{0}_K{1}_alpha_{2}.png\".format(N, K, alpha))\n",
    "# Calculate mean and standard deviation using NumPy\n",
    "mean_fitness = np.mean(fitness_values_1[0])\n",
    "std_dev_fitness = np.std(fitness_values_1[0])\n",
    "# Annotate the plot with mean and standard deviation information\n",
    "plt.text(0.95, 0.95, f\"Mean: {mean_fitness:.2f}\\nStd Dev: {std_dev_fitness:.2f}\",\n",
    "         horizontalalignment='right', verticalalignment='top', transform=ax.transAxes,\n",
    "         bbox=dict(facecolor='white', alpha=0.8))\n",
    "plt.xlabel(\"Fitness Value\")\n",
    "plt.ylabel(\"Count\")\n",
    "plt.show()"
   ],
   "metadata": {
    "collapsed": false,
    "ExecuteTime": {
     "end_time": "2023-11-18T13:04:57.926677500Z",
     "start_time": "2023-11-18T13:04:57.293044500Z"
    }
   }
  },
  {
   "cell_type": "code",
   "execution_count": 33,
   "outputs": [
    {
     "name": "stdout",
     "output_type": "stream",
     "text": [
      "(10, 9)\n",
      "(10, 9)\n"
     ]
    }
   ],
   "source": [
    "# T-test\n",
    "data_folder = r\"E:\\data\\gst-0815-23\\Pre-Test\\Compare_Landscape_cache_6\"\n",
    "alpha_list = [1, 2, 3]\n",
    "p_value_list = []\n",
    "mean_diff_list = []\n",
    "for alpha in alpha_list:\n",
    "    p_value_file = data_folder + r\"\\p_value_across_K_alpha_{0}\".format(alpha)\n",
    "    mean_diff_file = data_folder + r\"\\mean_diff_across_K_alpha_{0}\".format(alpha)\n",
    "\n",
    "    with open(p_value_file, 'rb') as infile:\n",
    "        p_value = pickle.load(infile)\n",
    "    with open(mean_diff_file, 'rb') as infile:\n",
    "        mean_diff = pickle.load(infile)\n",
    "    p_value_list.extend(p_value)\n",
    "    mean_diff_list.extend(mean_diff)\n",
    "print(np.array(p_value_list).shape)\n",
    "print(np.array(mean_diff_list).shape)\n",
    "\n",
    "# print(p_value_list)"
   ],
   "metadata": {
    "collapsed": false,
    "ExecuteTime": {
     "end_time": "2023-11-30T13:38:52.291369300Z",
     "start_time": "2023-11-30T13:38:52.278378700Z"
    }
   }
  },
  {
   "cell_type": "code",
   "execution_count": 51,
   "outputs": [
    {
     "name": "stdout",
     "output_type": "stream",
     "text": [
      "(10, 9)\n"
     ]
    },
    {
     "data": {
      "text/plain": "<Figure size 576x432 with 2 Axes>",
      "image/png": "[encoded data removed]"
     },
     "metadata": {
      "needs_background": "light"
     },
     "output_type": "display_data"
    }
   ],
   "source": [
    "import matplotlib.pyplot as plt\n",
    "import numpy as np\n",
    "\n",
    "# Sample data (replace this with your actual data)\n",
    "# Creating random data for illustration purposes\n",
    "# Replace this with your actual data\n",
    "K_list = [0, 1, 2, 3, 4, 5, 6, 7, 8]\n",
    "alpha_list = [0.05, 0.10, 0.15, 0.20, 0.25, 0.30, 0.35, 0.40, 0.45, 0.50]\n",
    "X_values = alpha_list  # Replace with your X values\n",
    "Y_values = K_list  # Replace with your Y values\n",
    "\n",
    "mean_diff_matrix = np.array(mean_diff_list)\n",
    "p_value_matrix = np.array(p_value_list)\n",
    "# Setting the threshold for p-value\n",
    "p_value_threshold = 0.01\n",
    "\n",
    "# Creating the heatmap\n",
    "plt.figure(figsize=(8, 6))\n",
    "\n",
    "# Plotting the heatmap with mean differences as color intensity and p-values as marker size\n",
    "plt.imshow(mean_diff_matrix, cmap='viridis', interpolation='nearest', vmin=mean_diff_matrix.min(), vmax=mean_diff_matrix.max())\n",
    "# Adding color bar for mean differences\n",
    "plt.colorbar(label='Mean Difference')\n",
    "\n",
    "print(p_value_matrix.shape)\n",
    "# Adding markers for p-values as marker size with different sizes based on the threshold (inverted relationship)\n",
    "for i in range(len(X_values)):\n",
    "    for j in range(len(Y_values)):\n",
    "        marker_size = 1 / (p_value_matrix[i, j] + 0.01)  # Invert relationship for marker size\n",
    "        if p_value_matrix[i, j] < p_value_threshold:\n",
    "            plt.scatter(j, i, s=marker_size, c='red', marker='o', alpha=0.7)\n",
    "        else:\n",
    "            plt.scatter(j, i, s=marker_size, c='black', marker='o', alpha=0.5)\n",
    "\n",
    "\n",
    "# Setting X and Y axis labels\n",
    "plt.xticks(np.arange(len(Y_values)), Y_values)\n",
    "plt.yticks(np.arange(len(X_values)), X_values)\n",
    "plt.xlabel('$K$')\n",
    "plt.ylabel('$\\\\alpha$')\n",
    "\n",
    "# Adding legend or description for marker color based on threshold\n",
    "plt.scatter([], [], s=100*0.1, c='red', marker='o', label='p-value < 0.01')\n",
    "plt.scatter([], [], s=100*0.1, c='black', marker='o', label='p-value >= 0.01')\n",
    "# plt.legend(title='P-value Color', labelspacing=1.2, loc='upper right')\n",
    "legend = plt.legend(frameon=True, ncol=1, fontsize=12, loc='upper right')\n",
    "legend.get_frame().set_facecolor('lightgrey')  # Set legend background color\n",
    "legend.get_frame().set_alpha(0.3)  # Set legend transparency\n",
    "# Adding title and displaying the plot\n",
    "# plt.title('T-test Between Fine and Coarse Landscape Fitness Values')\n",
    "plt.savefig(data_folder + r\"\\t_test.png\", transparent=True, dpi=300)\n",
    "plt.show()\n"
   ],
   "metadata": {
    "collapsed": false,
    "ExecuteTime": {
     "end_time": "2023-11-30T13:53:27.147056900Z",
     "start_time": "2023-11-30T13:53:25.207722900Z"
    }
   }
  },
  {
   "cell_type": "code",
   "execution_count": null,
   "outputs": [],
   "source": [],
   "metadata": {
    "collapsed": false
   }
  }
 ],
 "metadata": {
  "kernelspec": {
   "display_name": "Python 3",
   "language": "python",
   "name": "python3"
  },
  "language_info": {
   "codemirror_mode": {
    "name": "ipython",
    "version": 2
   },
   "file_extension": ".py",
   "mimetype": "text/x-python",
   "name": "python",
   "nbconvert_exporter": "python",
   "pygments_lexer": "ipython2",
   "version": "2.7.6"
  }
 },
 "nbformat": 4,
 "nbformat_minor": 0
}
