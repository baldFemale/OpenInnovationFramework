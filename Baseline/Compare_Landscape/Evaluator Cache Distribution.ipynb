{
 "cells": [
  {
   "cell_type": "code",
   "execution_count": 4,
   "metadata": {
    "collapsed": true,
    "ExecuteTime": {
     "end_time": "2023-11-17T11:10:03.750248Z",
     "start_time": "2023-11-17T11:10:03.742250100Z"
    }
   },
   "outputs": [],
   "source": [
    "import matplotlib.pyplot as plt\n",
    "# plt.interactive(False)\n",
    "from scipy.stats import gaussian_kde\n",
    "from scipy.special import kl_div\n",
    "import numpy as np\n",
    "import pickle\n",
    "legend_properties = {'weight':'bold'}\n",
    "nus_blue = \"#003D7C\"\n",
    "nus_orange = \"#EF7C00\"\n",
    "# Nature three colors\n",
    "nature_orange = \"#F16C23\"\n",
    "nature_blue = \"#2B6A99\"\n",
    "nature_green = \"#1B7C3D\"\n",
    "# Morandi six colors\n",
    "morandi_blue = \"#046586\"\n",
    "morandi_green =  \"#28A9A1\"\n",
    "morandi_yellow = \"#C9A77C\"\n",
    "morandi_orange = \"#F4A016\"\n",
    "morandi_pink = \"#F6BBC6\"\n",
    "morandi_red = \"#E71F19\"\n",
    "morandi_purple = \"#B08BEB\"\n",
    "# Others\n",
    "shallow_grey = \"#D3D4D3\"\n",
    "deep_grey = \"#A6ABB6\"\n",
    "# Red and Blue\n",
    "strong_red = \"#A61C5D\"\n",
    "strong_blue = \"#1B64A4\"\n",
    "\n",
    "# Shallow-deep pair\n",
    "shallow_purple = \"#EAD7EA\"\n",
    "deep_purple = \"#BA9DB9\"\n",
    "shallow_cyan = \"#A9D5E0\"\n",
    "deep_cyan = \"#48C0BF\"\n",
    "shallow_blue = \"#B6DAEC\"\n",
    "deep_blue = \"#98CFE4\"\n",
    "shallow_pink = \"#F5E0E5\"\n",
    "deep_pink = \"#E5A7B6\"\n",
    "shallow_green = \"#C2DED0\"\n",
    "deep_green = \"#A5C6B1\"\n",
    "\n",
    "color_pairs = [[shallow_purple, deep_purple],  [shallow_green, deep_green],\n",
    "               [shallow_blue, deep_blue], [shallow_pink, deep_pink], [shallow_cyan, deep_cyan],\n",
    "               [shallow_grey, deep_grey]]\n",
    "morandi_colors = [morandi_blue, morandi_green, morandi_yellow, morandi_orange, morandi_pink, morandi_red, morandi_purple]"
   ]
  },
  {
   "cell_type": "code",
   "execution_count": 7,
   "outputs": [
    {
     "name": "stdout",
     "output_type": "stream",
     "text": [
      "The distributions are not significantly different (fail to reject the null hypothesis)\n",
      "t-statistic: -0.1279\n",
      "p-value: 0.8983\n"
     ]
    }
   ],
   "source": [
    "from scipy import stats\n",
    "import numpy as np\n",
    "\n",
    "# Generate two sets of fitness values with different sizes (for demonstration purposes)\n",
    "fitness_values_1 = np.random.normal(loc=10, scale=2, size=100)  # Sample 1 with 100 values\n",
    "fitness_values_2 = np.random.normal(loc=10, scale=2, size=150)  # Sample 2 with 150 values\n",
    "\n",
    "# Perform t-test\n",
    "t_statistic, p_value = stats.ttest_ind(fitness_values_1, fitness_values_2)\n",
    "\n",
    "# Check the p-value to determine significance\n",
    "alpha = 0.05  # Set your desired significance level (commonly 0.05)\n",
    "if p_value < alpha:\n",
    "    print(\"The distributions are significantly different (reject the null hypothesis)\")\n",
    "else:\n",
    "    print(\"The distributions are not significantly different (fail to reject the null hypothesis)\")\n",
    "\n",
    "# Optionally, print t-statistic and p-value\n",
    "print(f\"t-statistic: {t_statistic:.4f}\")\n",
    "print(f\"p-value: {p_value:.4f}\")\n"
   ],
   "metadata": {
    "collapsed": false,
    "ExecuteTime": {
     "end_time": "2023-11-18T12:41:52.646393400Z",
     "start_time": "2023-11-18T12:41:52.623365300Z"
    }
   }
  },
  {
   "cell_type": "code",
   "execution_count": null,
   "outputs": [],
   "source": [
    "from scipy import stats\n",
    "import numpy as np\n",
    "data_folder = r\"E:\\data\\gst-0815-23\\Pre-Test\\Compare_Landscape_cache\"\n",
    "first_cache_file = data_folder + r\"\\first_cache_alpha_0.1\"\n",
    "with open(first_cache_file, 'rb') as infile:\n",
    "    fitness_values_1 = pickle.load(infile)\n",
    "second_cache_file = data_folder + r\"\\second_local_peak_across_K_alpha_0.1\"  # file name typo\n",
    "with open(second_cache_file, 'rb') as infile:\n",
    "    fitness_values_2 = pickle.load(infile)\n",
    "print(len(fitness_values_1[0]))\n",
    "print(len(fitness_values_2[0]))\n",
    "# Perform t-test\n",
    "# t_statistic, p_value = stats.ttest_ind(fitness_values_1, fitness_values_2)\n",
    "# \n",
    "# # Check the p-value to determine significance\n",
    "# alpha = 0.05  # Set your desired significance level (commonly 0.05)\n",
    "# if p_value < alpha:\n",
    "#     print(\"The distributions are significantly different (reject the null hypothesis)\")\n",
    "# else:\n",
    "#     print(\"The distributions are not significantly different (fail to reject the null hypothesis)\")\n",
    "# \n",
    "# # Optionally, print t-statistic and p-value\n",
    "# print(f\"t-statistic: {t_statistic:.4f}\")\n",
    "# print(f\"p-value: {p_value:.4f}\")\n"
   ],
   "metadata": {
    "collapsed": false,
    "is_executing": true,
    "ExecuteTime": {
     "start_time": "2023-11-18T12:45:47.884147700Z"
    }
   }
  },
  {
   "cell_type": "code",
   "execution_count": null,
   "outputs": [],
   "source": [],
   "metadata": {
    "collapsed": false
   }
  }
 ],
 "metadata": {
  "kernelspec": {
   "display_name": "Python 3",
   "language": "python",
   "name": "python3"
  },
  "language_info": {
   "codemirror_mode": {
    "name": "ipython",
    "version": 2
   },
   "file_extension": ".py",
   "mimetype": "text/x-python",
   "name": "python",
   "nbconvert_exporter": "python",
   "pygments_lexer": "ipython2",
   "version": "2.7.6"
  }
 },
 "nbformat": 4,
 "nbformat_minor": 0
}
