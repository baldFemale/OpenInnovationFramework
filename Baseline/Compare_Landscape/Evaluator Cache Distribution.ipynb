{
 "cells": [
  {
   "cell_type": "code",
   "execution_count": 1,
   "metadata": {
    "collapsed": true,
    "ExecuteTime": {
     "end_time": "2023-11-18T13:02:40.299620Z",
     "start_time": "2023-11-18T13:02:37.322642800Z"
    }
   },
   "outputs": [],
   "source": [
    "import matplotlib.pyplot as plt\n",
    "# plt.interactive(False)\n",
    "from scipy.stats import gaussian_kde\n",
    "from scipy.special import kl_div\n",
    "import numpy as np\n",
    "import pickle\n",
    "legend_properties = {'weight':'bold'}\n",
    "nus_blue = \"#003D7C\"\n",
    "nus_orange = \"#EF7C00\"\n",
    "# Nature three colors\n",
    "nature_orange = \"#F16C23\"\n",
    "nature_blue = \"#2B6A99\"\n",
    "nature_green = \"#1B7C3D\"\n",
    "# Morandi six colors\n",
    "morandi_blue = \"#046586\"\n",
    "morandi_green =  \"#28A9A1\"\n",
    "morandi_yellow = \"#C9A77C\"\n",
    "morandi_orange = \"#F4A016\"\n",
    "morandi_pink = \"#F6BBC6\"\n",
    "morandi_red = \"#E71F19\"\n",
    "morandi_purple = \"#B08BEB\"\n",
    "# Others\n",
    "shallow_grey = \"#D3D4D3\"\n",
    "deep_grey = \"#A6ABB6\"\n",
    "# Red and Blue\n",
    "strong_red = \"#A61C5D\"\n",
    "strong_blue = \"#1B64A4\"\n",
    "\n",
    "# Shallow-deep pair\n",
    "shallow_purple = \"#EAD7EA\"\n",
    "deep_purple = \"#BA9DB9\"\n",
    "shallow_cyan = \"#A9D5E0\"\n",
    "deep_cyan = \"#48C0BF\"\n",
    "shallow_blue = \"#B6DAEC\"\n",
    "deep_blue = \"#98CFE4\"\n",
    "shallow_pink = \"#F5E0E5\"\n",
    "deep_pink = \"#E5A7B6\"\n",
    "shallow_green = \"#C2DED0\"\n",
    "deep_green = \"#A5C6B1\"\n",
    "\n",
    "color_pairs = [[shallow_purple, deep_purple],  [shallow_green, deep_green],\n",
    "               [shallow_blue, deep_blue], [shallow_pink, deep_pink], [shallow_cyan, deep_cyan],\n",
    "               [shallow_grey, deep_grey]]\n",
    "morandi_colors = [morandi_blue, morandi_green, morandi_yellow, morandi_orange, morandi_pink, morandi_red, morandi_purple]"
   ]
  },
  {
   "cell_type": "code",
   "execution_count": 2,
   "outputs": [
    {
     "name": "stdout",
     "output_type": "stream",
     "text": [
      "The distributions are not significantly different (fail to reject the null hypothesis)\n",
      "t-statistic: -0.7779\n",
      "p-value: 0.4374\n"
     ]
    }
   ],
   "source": [
    "from scipy import stats\n",
    "import numpy as np\n",
    "\n",
    "# Generate two sets of fitness values with different sizes (for demonstration purposes)\n",
    "fitness_values_1 = np.random.normal(loc=10, scale=2, size=100)  # Sample 1 with 100 values\n",
    "fitness_values_2 = np.random.normal(loc=10, scale=2, size=150)  # Sample 2 with 150 values\n",
    "\n",
    "# Perform t-test\n",
    "t_statistic, p_value = stats.ttest_ind(fitness_values_1, fitness_values_2)\n",
    "\n",
    "# Check the p-value to determine significance\n",
    "alpha = 0.05  # Set your desired significance level (commonly 0.05)\n",
    "if p_value < alpha:\n",
    "    print(\"The distributions are significantly different (reject the null hypothesis)\")\n",
    "else:\n",
    "    print(\"The distributions are not significantly different (fail to reject the null hypothesis)\")\n",
    "\n",
    "# Optionally, print t-statistic and p-value\n",
    "print(f\"t-statistic: {t_statistic:.4f}\")\n",
    "print(f\"p-value: {p_value:.4f}\")\n"
   ],
   "metadata": {
    "collapsed": false,
    "ExecuteTime": {
     "end_time": "2023-11-18T13:02:44.837902100Z",
     "start_time": "2023-11-18T13:02:44.811901800Z"
    }
   }
  },
  {
   "cell_type": "code",
   "execution_count": 3,
   "outputs": [
    {
     "name": "stdout",
     "output_type": "stream",
     "text": [
      "51200\n",
      "26214400\n"
     ]
    }
   ],
   "source": [
    "from scipy import stats\n",
    "import numpy as np\n",
    "data_folder = r\"E:\\data\\gst-0815-23\\Pre-Test\\Compare_Landscape_cache\"\n",
    "first_cache_file = data_folder + r\"\\first_cache_alpha_0.1\"\n",
    "with open(first_cache_file, 'rb') as infile:\n",
    "    fitness_values_1 = pickle.load(infile)\n",
    "second_cache_file = data_folder + r\"\\second_local_peak_across_K_alpha_0.1\"  # file name typo\n",
    "with open(second_cache_file, 'rb') as infile:\n",
    "    fitness_values_2 = pickle.load(infile)\n",
    "print(len(fitness_values_1[0]))\n",
    "print(len(fitness_values_2[0]))\n"
   ],
   "metadata": {
    "collapsed": false,
    "ExecuteTime": {
     "end_time": "2023-11-18T13:04:03.396608200Z",
     "start_time": "2023-11-18T13:02:49.799952200Z"
    }
   }
  },
  {
   "cell_type": "code",
   "execution_count": null,
   "outputs": [],
   "source": [
    "# Perform t-test\n",
    "t_statistic, p_value = stats.ttest_ind(fitness_values_1[0], fitness_values_2[0])\n",
    "\n",
    "# Check the p-value to determine significance\n",
    "alpha = 0.05  # Set your desired significance level (commonly 0.05)\n",
    "if p_value < alpha:\n",
    "    print(\"The distributions are significantly different (reject the null hypothesis)\")\n",
    "else:\n",
    "    print(\"The distributions are not significantly different (fail to reject the null hypothesis)\")\n",
    "\n",
    "# Optionally, print t-statistic and p-value\n",
    "print(f\"t-statistic: {t_statistic:.4f}\")\n",
    "print(f\"p-value: {p_value:.4f}\")"
   ],
   "metadata": {
    "collapsed": false,
    "ExecuteTime": {
     "end_time": "2023-11-18T12:47:47.889702Z",
     "start_time": "2023-11-18T12:47:47.883717100Z"
    }
   }
  },
  {
   "cell_type": "code",
   "execution_count": 5,
   "outputs": [
    {
     "data": {
      "text/plain": "<Figure size 432x288 with 1 Axes>",
      "image/png": "[encoded data removed]"
     },
     "metadata": {
      "needs_background": "light"
     },
     "output_type": "display_data"
    }
   ],
   "source": [
    "fig, ax = plt.subplots()\n",
    "ax.spines[\"left\"].set_linewidth(1.5)\n",
    "ax.spines[\"right\"].set_linewidth(1.5)\n",
    "ax.spines[\"top\"].set_linewidth(1.5)\n",
    "ax.spines[\"bottom\"].set_linewidth(1.5)\n",
    "plt.hist(fitness_values_1[0], bins=40, facecolor=\"blue\", edgecolor=\"black\", alpha=0.7)\n",
    "# plt.title(\"First Cache N{0}_K{1}_alpha_{2}.png\".format(N, K, alpha))\n",
    "# Calculate mean and standard deviation using NumPy\n",
    "mean_fitness = np.mean(fitness_values_1[0])\n",
    "std_dev_fitness = np.std(fitness_values_1[0])\n",
    "# Annotate the plot with mean and standard deviation information\n",
    "plt.text(0.95, 0.95, f\"Mean: {mean_fitness:.2f}\\nStd Dev: {std_dev_fitness:.2f}\",\n",
    "         horizontalalignment='right', verticalalignment='top', transform=ax.transAxes,\n",
    "         bbox=dict(facecolor='white', alpha=0.8))\n",
    "plt.xlabel(\"Fitness Value\")\n",
    "plt.ylabel(\"Count\")\n",
    "plt.show()"
   ],
   "metadata": {
    "collapsed": false,
    "ExecuteTime": {
     "end_time": "2023-11-18T13:04:57.926677500Z",
     "start_time": "2023-11-18T13:04:57.293044500Z"
    }
   }
  },
  {
   "cell_type": "code",
   "execution_count": null,
   "outputs": [],
   "source": [],
   "metadata": {
    "collapsed": false
   }
  }
 ],
 "metadata": {
  "kernelspec": {
   "display_name": "Python 3",
   "language": "python",
   "name": "python3"
  },
  "language_info": {
   "codemirror_mode": {
    "name": "ipython",
    "version": 2
   },
   "file_extension": ".py",
   "mimetype": "text/x-python",
   "name": "python",
   "nbconvert_exporter": "python",
   "pygments_lexer": "ipython2",
   "version": "2.7.6"
  }
 },
 "nbformat": 4,
 "nbformat_minor": 0
}
