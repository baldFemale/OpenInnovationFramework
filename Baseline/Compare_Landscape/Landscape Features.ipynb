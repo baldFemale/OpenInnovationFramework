{
 "cells": [
  {
   "cell_type": "code",
   "execution_count": 1,
   "metadata": {
    "collapsed": true,
    "ExecuteTime": {
     "end_time": "2023-08-28T13:34:17.359816700Z",
     "start_time": "2023-08-28T13:34:14.521113800Z"
    }
   },
   "outputs": [],
   "source": [
    "import matplotlib.pyplot as plt\n",
    "# plt.interactive(False)\n",
    "from scipy.stats import gaussian_kde\n",
    "from scipy.special import kl_div\n",
    "import numpy as np\n",
    "import pickle\n",
    "legend_properties = {'weight':'bold'}\n",
    "nus_blue = \"#003D7C\"\n",
    "nus_orange = \"#EF7C00\"\n",
    "# Nature three colors\n",
    "nature_orange = \"#F16C23\"\n",
    "nature_blue = \"#2B6A99\"\n",
    "nature_green = \"#1B7C3D\"\n",
    "# Morandi six colors\n",
    "morandi_blue = \"#046586\"\n",
    "morandi_green =  \"#28A9A1\"\n",
    "morandi_yellow = \"#C9A77C\"\n",
    "morandi_orange = \"#F4A016\"\n",
    "morandi_pink = \"#F6BBC6\"\n",
    "morandi_red = \"#E71F19\"\n",
    "morandi_purple = \"#B08BEB\"\n",
    "# Others\n",
    "shallow_grey = \"#D3D4D3\"\n",
    "deep_grey = \"#A6ABB6\"\n",
    "# Red and Blue\n",
    "strong_red = \"#A61C5D\"\n",
    "strong_blue = \"#1B64A4\"\n",
    "\n",
    "# Shallow-deep pair\n",
    "shallow_purple = \"#EAD7EA\"\n",
    "deep_purple = \"#BA9DB9\"\n",
    "shallow_cyan = \"#A9D5E0\"\n",
    "deep_cyan = \"#48C0BF\"\n",
    "shallow_blue = \"#B6DAEC\"\n",
    "deep_blue = \"#98CFE4\"\n",
    "shallow_pink = \"#F5E0E5\"\n",
    "deep_pink = \"#E5A7B6\"\n",
    "shallow_green = \"#C2DED0\"\n",
    "deep_green = \"#A5C6B1\"\n",
    "\n",
    "color_pairs = [[shallow_purple, deep_purple],  [shallow_green, deep_green],\n",
    "               [shallow_blue, deep_blue], [shallow_pink, deep_pink], [shallow_cyan, deep_cyan],\n",
    "               [shallow_grey, deep_grey]]\n",
    "morandi_colors = [morandi_blue, morandi_green, morandi_yellow, morandi_orange, morandi_pink, morandi_red, morandi_purple]\n"
   ]
  },
  {
   "cell_type": "code",
   "execution_count": 2,
   "outputs": [],
   "source": [
    "data_folder = r\"E:\\data\\gst-0815-23\\N10E16\\Compare_Landscape_Local_Peak\"\n",
    "alpha_list = [0.05, 0.10, 0.15, 0.20, 0.25, 0.30, 0.35, 0.40, 0.45, 0.50]\n",
    "K_list = [0, 1, 2, 3, 4, 5, 6, 7, 8, 9]\n",
    "first_distance_K_alpha = []\n",
    "first_local_peak_K_alpha = []\n",
    "second_distance_K_alpha = []\n",
    "second_local_peak_K_alpha = []\n",
    "for alpha in alpha_list:\n",
    "    first_distance_file = data_folder + r\"\\first_distance_K_alpha_{0}\".format(alpha)\n",
    "    first_local_peak_file = data_folder + r\"\\first_local_peak_across_K_alpha_{0}\".format(alpha)\n",
    "    second_distance_file = data_folder + r\"\\second_distance_K_alpha_{0}\".format(alpha)\n",
    "    second_local_peak_file = data_folder + r\"\\second_local_peak_across_K_alpha_{0}\".format(alpha)\n",
    "    \n",
    "    with open(first_distance_file, 'rb') as infile:\n",
    "        first_distance = pickle.load(infile)\n",
    "    with open(first_local_peak_file, 'rb') as infile:\n",
    "        first_local_peak = pickle.load(infile)\n",
    "    with open(second_distance_file, 'rb') as infile:\n",
    "        second_distance = pickle.load(infile)\n",
    "    with open(second_local_peak_file, 'rb') as infile:\n",
    "        second_local_peak = pickle.load(infile)\n",
    "    \n",
    "    first_distance_K_alpha.append(first_distance)\n",
    "    first_local_peak_K_alpha.append(first_local_peak)\n",
    "    second_distance_K_alpha.append(second_distance)\n",
    "    second_local_peak_K_alpha.append(second_local_peak)\n",
    "    "
   ],
   "metadata": {
    "collapsed": false,
    "ExecuteTime": {
     "end_time": "2023-08-28T13:34:20.520805800Z",
     "start_time": "2023-08-28T13:34:20.464638500Z"
    }
   }
  },
  {
   "cell_type": "code",
   "execution_count": 23,
   "outputs": [
    {
     "data": {
      "text/plain": "<Figure size 432x288 with 1 Axes>",
      "image/png": "[encoded data removed]"
     },
     "metadata": {
      "needs_background": "light"
     },
     "output_type": "display_data"
    }
   ],
   "source": [
    "import matplotlib.pyplot as plt\n",
    "\n",
    "# Sample data\n",
    "x_values = [1, 2, 3, 4, 5]\n",
    "y_values = [5, 8, 3, 6, 2]\n",
    "y_values = np.array(y_values)\n",
    "# Create a figure and axis\n",
    "fig, ax = plt.subplots()\n",
    "\n",
    "# Plot the data with solid line and downward triangle markers\n",
    "ax.plot(x_values, y_values - 1, marker='v', linestyle='-', color='k', label='1')\n",
    "ax.plot(x_values, y_values, marker='v', linestyle='--', color='k', label='1')\n",
    "ax.plot(x_values, y_values + 1, marker='o', linestyle='-', color='k', label='2')\n",
    "ax.plot(x_values, y_values + 2, marker='o', linestyle='--', color='k', label='3')\n",
    "# Customize plot elements\n",
    "ax.set_xlabel('X-axis')\n",
    "ax.set_ylabel('Y-axis')\n",
    "ax.set_title('Line Plot with Downward Triangles')\n",
    "ax.legend()\n",
    "\n",
    "# Show the plot\n",
    "plt.show()\n"
   ],
   "metadata": {
    "collapsed": false,
    "ExecuteTime": {
     "end_time": "2023-08-21T12:04:34.892933800Z",
     "start_time": "2023-08-21T12:04:34.713767100Z"
    }
   }
  },
  {
   "cell_type": "code",
   "execution_count": 7,
   "outputs": [
    {
     "name": "stdout",
     "output_type": "stream",
     "text": [
      "['BABB', 'ABBB', 'AAAB', 'AABA']\n"
     ]
    }
   ],
   "source": [
    "# "
   ],
   "metadata": {
    "collapsed": false,
    "ExecuteTime": {
     "end_time": "2023-08-20T12:53:38.347819400Z",
     "start_time": "2023-08-20T12:53:38.334793100Z"
    }
   }
  },
  {
   "cell_type": "code",
   "execution_count": null,
   "outputs": [],
   "source": [],
   "metadata": {
    "collapsed": false
   }
  }
 ],
 "metadata": {
  "kernelspec": {
   "display_name": "Python 3",
   "language": "python",
   "name": "python3"
  },
  "language_info": {
   "codemirror_mode": {
    "name": "ipython",
    "version": 2
   },
   "file_extension": ".py",
   "mimetype": "text/x-python",
   "name": "python",
   "nbconvert_exporter": "python",
   "pygments_lexer": "ipython2",
   "version": "2.7.6"
  }
 },
 "nbformat": 4,
 "nbformat_minor": 0
}
