{
 "cells": [
  {
   "cell_type": "code",
   "execution_count": 7,
   "metadata": {
    "collapsed": true
   },
   "outputs": [],
   "source": [
    "import matplotlib.pyplot as plt\n",
    "import pickle\n",
    "import numpy as np\n",
    "from matplotlib import container"
   ]
  },
  {
   "cell_type": "code",
   "execution_count": 8,
   "outputs": [
    {
     "name": "stdout",
     "output_type": "stream",
     "text": [
      "gg_average:  0.6254628800649752\n",
      "gg_average_across_K:  [0.7943729682248162, 0.7053300942656365, 0.6557715958057633, 0.6294138258071892, 0.6154804652330493, 0.6047403689696644, 0.5957194104552659, 0.590423591844879, 0.5836741780601895, 0.5798588762235763, 0.5771246363391953, 0.5736445495504784]\n"
     ]
    }
   ],
   "source": [
    "data_folder = r\"F:\\data\\gst-1112\\Priority\"\n",
    "# g1_performance_0_file = data_folder + r\"\\gg\\g1_performance_across_K_0\"\n",
    "# g1_performance_2_file = data_folder + r\"\\gg\\g1_performance_across_K_2\"\n",
    "# g1_performance_4_file = data_folder + r\"\\gg\\g1_performance_across_K_4\"\n",
    "# g1_performance_6_file = data_folder + r\"\\gg\\g1_performance_across_K_6\"\n",
    "# with open(g1_performance_0_file, 'rb') as infile:\n",
    "#     g1_performance_0 = pickle.load(infile)\n",
    "# with open(g1_performance_2_file, 'rb') as infile:\n",
    "#     g1_performance_2 = pickle.load(infile)\n",
    "# with open(g1_performance_4_file, 'rb') as infile:\n",
    "#     g1_performance_4 = pickle.load(infile)\n",
    "# with open(g1_performance_6_file, 'rb') as infile:\n",
    "#     g1_performance_6 = pickle.load(infile)\n",
    "# For priority setting, only calculate the second agent who benefits from the teaming-up\n",
    "g2_performance_0_file = data_folder + r\"\\gg\\g2_performance_across_K_0\"\n",
    "g2_performance_2_file = data_folder + r\"\\gg\\g2_performance_across_K_2\"\n",
    "g2_performance_4_file = data_folder + r\"\\gg\\g2_performance_across_K_4\"\n",
    "g2_performance_6_file = data_folder + r\"\\gg\\g2_performance_across_K_6\"\n",
    "with open(g2_performance_0_file, 'rb') as infile:\n",
    "    g2_performance_0 = pickle.load(infile)\n",
    "with open(g2_performance_2_file, 'rb') as infile:\n",
    "    g2_performance_2 = pickle.load(infile)\n",
    "with open(g2_performance_4_file, 'rb') as infile:\n",
    "    g2_performance_4 = pickle.load(infile)\n",
    "with open(g2_performance_6_file, 'rb') as infile:\n",
    "    g2_performance_6 = pickle.load(infile)\n",
    "\n",
    "# GG - take an average\n",
    "gg_average = (sum(g2_performance_0) + sum(g2_performance_2) + sum(g2_performance_4) + sum(g2_performance_6)) / len(g2_performance_0) / 4\n",
    "print(\"gg_average: \", gg_average)\n",
    "gg_performance_data = [g2_performance_0, g2_performance_2, g2_performance_4, g2_performance_6]\n",
    "K_list = [0, 1, 2, 3, 4, 5, 6, 7, 8, 9, 10, 11]\n",
    "gg_average_across_K = []\n",
    "for index, K in enumerate(K_list):\n",
    "    temp = [performance_list[index] for performance_list in gg_performance_data]\n",
    "    gg_average_across_K.append(sum(temp) / len(temp))\n",
    "print(\"gg_average_across_K: \", gg_average_across_K)"
   ],
   "metadata": {
    "collapsed": false
   }
  },
  {
   "cell_type": "code",
   "execution_count": 9,
   "outputs": [
    {
     "name": "stdout",
     "output_type": "stream",
     "text": [
      "gs_s_average:  0.6176834779213528\n",
      "gs_s_average_across_K:  [0.7484027907145597, 0.6711494547215509, 0.6324537774451299, 0.6146202903046972, 0.6059069036805107, 0.599906227678479, 0.5959823867271619, 0.5931817765766453, 0.590722605618723, 0.5884264676236483, 0.5873951602640118, 0.5840538937011153]\n"
     ]
    }
   ],
   "source": [
    "# GS - take an average\n",
    "# g_performance_0_file = data_folder + r\"\\gs\\g_performance_across_K_0\"\n",
    "# g_performance_1_file = data_folder + r\"\\gs\\g_performance_across_K_1\"\n",
    "# g_performance_2_file = data_folder + r\"\\gs\\g_performance_across_K_2\"\n",
    "# g_performance_3_file = data_folder + r\"\\gs\\g_performance_across_K_3\"\n",
    "# with open(g_performance_0_file, 'rb') as infile:\n",
    "#     g_performance_0 = pickle.load(infile)\n",
    "# with open(g_performance_1_file, 'rb') as infile:\n",
    "#     g_performance_1 = pickle.load(infile)\n",
    "# with open(g_performance_2_file, 'rb') as infile:\n",
    "#     g_performance_2 = pickle.load(infile)\n",
    "# with open(g_performance_3_file, 'rb') as infile:\n",
    "#     g_performance_3 = pickle.load(infile)\n",
    "\n",
    "s_performance_0_file = data_folder + r\"\\gs\\s_performance_across_K_0\"\n",
    "s_performance_1_file = data_folder + r\"\\gs\\s_performance_across_K_1\"\n",
    "s_performance_2_file = data_folder + r\"\\gs\\s_performance_across_K_2\"\n",
    "s_performance_3_file = data_folder + r\"\\gs\\s_performance_across_K_3\"\n",
    "with open(s_performance_0_file, 'rb') as infile:\n",
    "    s_performance_0 = pickle.load(infile)\n",
    "with open(s_performance_1_file, 'rb') as infile:\n",
    "    s_performance_1 = pickle.load(infile)\n",
    "with open(s_performance_2_file, 'rb') as infile:\n",
    "    s_performance_2 = pickle.load(infile)\n",
    "with open(s_performance_3_file, 'rb') as infile:\n",
    "    s_performance_3 = pickle.load(infile)\n",
    "\n",
    "# GS - take an average\n",
    "gs_s_average = (sum(s_performance_0) + sum(s_performance_1) + sum(s_performance_2) +\n",
    "              sum(s_performance_3)) / len(s_performance_0) / 4\n",
    "print(\"gs_s_average: \", gs_s_average)\n",
    "gs_s_performance_data = [s_performance_0, s_performance_1, s_performance_2, s_performance_3]\n",
    "K_list = [0, 1, 2, 3, 4, 5, 6, 7, 8, 9, 10, 11]\n",
    "gs_s_average_across_K = []\n",
    "for index, K in enumerate(K_list):\n",
    "    temp = [performance_list[index] for performance_list in gs_s_performance_data]\n",
    "    gs_s_average_across_K.append(sum(temp) / len(temp))\n",
    "print(\"gs_s_average_across_K: \", gs_s_average_across_K)"
   ],
   "metadata": {
    "collapsed": false
   }
  },
  {
   "cell_type": "code",
   "execution_count": 10,
   "outputs": [
    {
     "name": "stdout",
     "output_type": "stream",
     "text": [
      "sg_g_average:  0.6924315156514086\n",
      "sg_s_average_across_K:  [0.840768068987102, 0.7429177910384275, 0.7016465528290248, 0.6864128495387046, 0.6793791054238691, 0.6755450887810363, 0.6722890148181953, 0.6694203618174948, 0.6652822465443526, 0.662126565219461, 0.6587649687202606, 0.6546255740989738]\n"
     ]
    }
   ],
   "source": [
    "# SG - take an average\n",
    "g_performance_0_file = data_folder + r\"\\sg\\g_performance_across_K_0\"\n",
    "g_performance_1_file = data_folder + r\"\\sg\\g_performance_across_K_1\"\n",
    "g_performance_2_file = data_folder + r\"\\sg\\g_performance_across_K_2\"\n",
    "g_performance_3_file = data_folder + r\"\\sg\\g_performance_across_K_3\"\n",
    "with open(g_performance_0_file, 'rb') as infile:\n",
    "    g_performance_0 = pickle.load(infile)\n",
    "with open(g_performance_1_file, 'rb') as infile:\n",
    "    g_performance_1 = pickle.load(infile)\n",
    "with open(g_performance_2_file, 'rb') as infile:\n",
    "    g_performance_2 = pickle.load(infile)\n",
    "with open(g_performance_3_file, 'rb') as infile:\n",
    "    g_performance_3 = pickle.load(infile)\n",
    "\n",
    "# s_performance_0_file = data_folder + r\"\\sg\\s_performance_across_K_0\"\n",
    "# s_performance_1_file = data_folder + r\"\\sg\\s_performance_across_K_1\"\n",
    "# s_performance_2_file = data_folder + r\"\\sg\\s_performance_across_K_2\"\n",
    "# s_performance_3_file = data_folder + r\"\\sg\\s_performance_across_K_3\"\n",
    "# with open(s_performance_0_file, 'rb') as infile:\n",
    "#     s_performance_0 = pickle.load(infile)\n",
    "# with open(s_performance_1_file, 'rb') as infile:\n",
    "#     s_performance_1 = pickle.load(infile)\n",
    "# with open(s_performance_2_file, 'rb') as infile:\n",
    "#     s_performance_2 = pickle.load(infile)\n",
    "# with open(s_performance_3_file, 'rb') as infile:\n",
    "#     s_performance_3 = pickle.load(infile)\n",
    "\n",
    "# SG - take an average\n",
    "sg_g_average = (sum(g_performance_0) + sum(g_performance_1) + sum(g_performance_2) +\n",
    "              sum(g_performance_3)) / len(g_performance_0) / 4\n",
    "print(\"sg_g_average: \", sg_g_average)\n",
    "sg_g_performance_data = [g_performance_0, g_performance_1, g_performance_2,\n",
    "                       g_performance_3]\n",
    "K_list = [0, 1, 2, 3, 4, 5, 6, 7, 8, 9, 10, 11]\n",
    "sg_g_average_across_K = []\n",
    "for index, K in enumerate(K_list):\n",
    "    temp = [performance_list[index] for performance_list in sg_g_performance_data]\n",
    "    sg_g_average_across_K.append(sum(temp) / len(temp))\n",
    "print(\"sg_s_average_across_K: \", sg_g_average_across_K)"
   ],
   "metadata": {
    "collapsed": false
   }
  },
  {
   "cell_type": "code",
   "execution_count": 11,
   "outputs": [
    {
     "name": "stdout",
     "output_type": "stream",
     "text": [
      "ss_average:  0.32562388531589603\n",
      "ss_average_across_K:  [0.7559865504012453, 0.6785376014178182, 0.6488480739678134, 0.639380753961575, 0.6369263866281085, 0.6358103666566229, 0.6350670878514337, 0.6361882308440225, 0.6381991996607135, 0.6349464708263611, 0.6373082760807547, 0.6377742492850356]\n"
     ]
    }
   ],
   "source": [
    "# SS\n",
    "# ss_s1_performance_0_file = data_folder + r\"\\ss\\s1_performance_across_K_0\"\n",
    "# ss_s1_performance_1_file = data_folder + r\"\\ss\\s1_performance_across_K_1\"\n",
    "# ss_s1_performance_2_file = data_folder + r\"\\ss\\s1_performance_across_K_2\"\n",
    "# ss_s1_performance_3_file = data_folder + r\"\\ss\\s1_performance_across_K_3\"\n",
    "# with open(ss_s1_performance_0_file, 'rb') as infile:\n",
    "#     ss_s1_performance_0 = pickle.load(infile)\n",
    "# with open(ss_s1_performance_1_file, 'rb') as infile:\n",
    "#     ss_s1_performance_1 = pickle.load(infile)\n",
    "# with open(ss_s1_performance_2_file, 'rb') as infile:\n",
    "#     ss_s1_performance_2 = pickle.load(infile)\n",
    "# with open(ss_s1_performance_3_file, 'rb') as infile:\n",
    "#     ss_s1_performance_3 = pickle.load(infile)\n",
    "\n",
    "ss_s2_performance_0_file = data_folder + r\"\\ss\\s2_performance_across_K_0\"\n",
    "ss_s2_performance_1_file = data_folder + r\"\\ss\\s2_performance_across_K_1\"\n",
    "ss_s2_performance_2_file = data_folder + r\"\\ss\\s2_performance_across_K_2\"\n",
    "ss_s2_performance_3_file = data_folder + r\"\\ss\\s2_performance_across_K_3\"\n",
    "with open(ss_s2_performance_0_file, 'rb') as infile:\n",
    "    ss_s2_performance_0 = pickle.load(infile)\n",
    "with open(ss_s2_performance_1_file, 'rb') as infile:\n",
    "    ss_s2_performance_1 = pickle.load(infile)\n",
    "with open(ss_s2_performance_2_file, 'rb') as infile:\n",
    "    ss_s2_performance_2 = pickle.load(infile)\n",
    "with open(ss_s2_performance_3_file, 'rb') as infile:\n",
    "    ss_s2_performance_3 = pickle.load(infile)\n",
    "\n",
    "# SS - take an average\n",
    "ss_average = (sum(ss_s2_performance_0) + sum(ss_s2_performance_1) + sum(ss_s2_performance_2) + sum(ss_s2_performance_3)) / len(ss_s2_performance_0) / 8\n",
    "print(\"ss_average: \", ss_average)\n",
    "ss_performance_data = [ss_s2_performance_0, ss_s2_performance_1, ss_s2_performance_2, ss_s2_performance_3]\n",
    "K_list = [0, 1, 2, 3, 4, 5, 6, 7, 8, 9, 10, 11]\n",
    "ss_average_across_K = []\n",
    "for index, K in enumerate(K_list):\n",
    "    temp = [performance_list[index] for performance_list in ss_performance_data]\n",
    "    ss_average_across_K.append(sum(temp) / len(temp))\n",
    "print(\"ss_average_across_K: \", ss_average_across_K)"
   ],
   "metadata": {
    "collapsed": false
   }
  },
  {
   "cell_type": "code",
   "execution_count": 12,
   "outputs": [
    {
     "data": {
      "text/plain": "<Figure size 432x288 with 1 Axes>",
      "image/png": "[encoded data removed]"
     },
     "metadata": {
      "needs_background": "light"
     },
     "output_type": "display_data"
    },
    {
     "data": {
      "text/plain": "<Figure size 432x288 with 1 Axes>",
      "image/png": "[encoded data removed]"
     },
     "metadata": {
      "needs_background": "light"
     },
     "output_type": "display_data"
    },
    {
     "data": {
      "text/plain": "<Figure size 432x288 with 0 Axes>"
     },
     "metadata": {},
     "output_type": "display_data"
    }
   ],
   "source": [
    "# The baseline of N12\n",
    "baseline_folder = r\"F:\\data\\gst-1112\\N12\\GST_mid\"\n",
    "g_baseline_file = baseline_folder + r\"\\g_performance_across_K\"\n",
    "s_baseline_file = baseline_folder + r\"\\s_performance_across_K\"\n",
    "with open(g_baseline_file, 'rb') as infile:\n",
    "    g_baseline = pickle.load(infile)\n",
    "with open(s_baseline_file, 'rb') as infile:\n",
    "    s_baseline = pickle.load(infile)\n",
    "\n",
    "# The marginal benefit from teaming-up: G\n",
    "x = [0, 1, 2, 3, 4, 5, 6, 7, 8, 9, 10, 11]\n",
    "plt.plot(x, g_baseline, \"k:\", label=\"G alone\")\n",
    "plt.plot(x, gg_average_across_K, \"k--\", label=\"GG\")\n",
    "plt.plot(x, sg_g_average_across_K, \"k-\", label=\"G in GS\")\n",
    "plt.xlabel('K', fontweight='bold', fontsize=10)\n",
    "plt.ylabel('Performance', fontweight='bold', fontsize=10)\n",
    "plt.xticks(x)\n",
    "plt.title(\"Generalists under Circulation\", fontweight=\"bold\")\n",
    "plt.legend(frameon=False, fontsize=10)\n",
    "plt.savefig(data_folder + r\"\\G_under_circulation.png\", transparent=True, dpi=400)\n",
    "plt.show()\n",
    "plt.clf()\n",
    "# The marginal benefit from teaming-up: S\n",
    "x = [0, 1, 2, 3, 4, 5, 6, 7, 8, 9, 10, 11]\n",
    "plt.plot(x, s_baseline, \"k:\", label=\"S alone\")\n",
    "plt.plot(x, ss_average_across_K, \"k--\", label=\"SS\")\n",
    "plt.plot(x, gs_s_average_across_K, \"k-\", label=\"S in GS\")\n",
    "plt.xlabel('K', fontweight='bold', fontsize=10)\n",
    "plt.ylabel('Performance', fontweight='bold', fontsize=10)\n",
    "plt.xticks(x)\n",
    "plt.title(\"Specialists under Circulation\", fontweight=\"bold\")\n",
    "plt.legend(frameon=False, fontsize=10)\n",
    "plt.savefig(data_folder + r\"\\S_under_circulation.png\", transparent=True, dpi=400)\n",
    "plt.show()\n",
    "plt.clf()"
   ],
   "metadata": {
    "collapsed": false
   }
  },
  {
   "cell_type": "code",
   "execution_count": 12,
   "outputs": [],
   "source": [],
   "metadata": {
    "collapsed": false
   }
  }
 ],
 "metadata": {
  "kernelspec": {
   "display_name": "Python 3",
   "language": "python",
   "name": "python3"
  },
  "language_info": {
   "codemirror_mode": {
    "name": "ipython",
    "version": 2
   },
   "file_extension": ".py",
   "mimetype": "text/x-python",
   "name": "python",
   "nbconvert_exporter": "python",
   "pygments_lexer": "ipython2",
   "version": "2.7.6"
  }
 },
 "nbformat": 4,
 "nbformat_minor": 0
}
