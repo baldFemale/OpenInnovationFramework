{
 "cells": [
  {
   "cell_type": "code",
   "execution_count": 3,
   "metadata": {
    "collapsed": true,
    "ExecuteTime": {
     "end_time": "2023-07-11T09:07:27.189360600Z",
     "start_time": "2023-07-11T09:07:27.155360800Z"
    }
   },
   "outputs": [],
   "source": [
    "import matplotlib.pyplot as plt\n",
    "# plt.interactive(False)\n",
    "from scipy.stats import gaussian_kde\n",
    "from scipy.special import kl_div\n",
    "import numpy as np\n",
    "import pickle\n",
    "legend_properties = {'weight':'bold'}\n",
    "nus_blue = \"#003D7C\"\n",
    "nus_orange = \"#EF7C00\"\n",
    "# Nature three colors\n",
    "nature_orange = \"#F16C23\"\n",
    "nature_blue = \"#2B6A99\"\n",
    "nature_green = \"#1B7C3D\"\n",
    "# Morandi six colors\n",
    "morandi_blue = \"#046586\"\n",
    "morandi_green =  \"#28A9A1\"\n",
    "morandi_yellow = \"#C9A77C\"\n",
    "morandi_orange = \"#F4A016\"\n",
    "morandi_pink = \"#F6BBC6\"\n",
    "morandi_red = \"#E71F19\"\n",
    "morandi_purple = \"#B08BEB\"\n",
    "# Others\n",
    "shallow_grey = \"#D3D4D3\"\n",
    "deep_grey = \"#A6ABB6\"\n",
    "# Red and Blue\n",
    "strong_red = \"#A61C5D\"\n",
    "strong_blue = \"#1B64A4\"\n",
    "\n",
    "# Shallow-deep pair\n",
    "shallow_purple = \"#EAD7EA\"\n",
    "deep_purple = \"#BA9DB9\"\n",
    "shallow_cyan = \"#A9D5E0\"\n",
    "deep_cyan = \"#48C0BF\"\n",
    "shallow_blue = \"#B6DAEC\"\n",
    "deep_blue = \"#98CFE4\"\n",
    "shallow_pink = \"#F5E0E5\"\n",
    "deep_pink = \"#E5A7B6\"\n",
    "shallow_green = \"#C2DED0\"\n",
    "deep_green = \"#A5C6B1\"\n",
    "\n",
    "color_pairs = [[shallow_purple, deep_purple],  [shallow_green, deep_green],\n",
    "               [shallow_blue, deep_blue], [shallow_pink, deep_pink], [shallow_cyan, deep_cyan],\n",
    "               [shallow_grey, deep_grey]]\n",
    "morandi_colors = [morandi_blue, morandi_green, morandi_yellow, morandi_orange, morandi_pink, morandi_red, morandi_purple]\n"
   ]
  },
  {
   "cell_type": "code",
   "execution_count": 4,
   "outputs": [],
   "source": [
    "data_folder = r\"E:\\data\\gst-0723-23\\EvaluatingWhen\\Evaluating\"\n",
    "# GG\n",
    "gg_performance_file = data_folder + r\"\\gg_performance_across_K\"\n",
    "gg_first_quantile_file = data_folder + r\"\\gg_first_quantile_across_K\"\n",
    "gg_last_quantile_file = data_folder + r\"\\gg_last_quantile_across_K\"\n",
    "gg_cog_performance_file = data_folder + r\"\\gg_cog_performance_across_K_time\"\n",
    "gg_variance_file = data_folder + r\"\\gg_variance_across_K\"\n",
    "gg_performance_time_file = data_folder + r\"\\gg_performance_across_K_time\"\n",
    "# GS\n",
    "gs_performance_file = data_folder + r\"\\gs_performance_across_K\"\n",
    "gs_first_quantile_file = data_folder + r\"\\gs_first_quantile_across_K\"\n",
    "gs_last_quantile_file = data_folder + r\"\\gs_last_quantile_across_K\"\n",
    "gs_cog_performance_file = data_folder + r\"\\gs_cog_performance_across_K_time\"\n",
    "gs_variance_file = data_folder + r\"\\gs_variance_across_K\"\n",
    "gs_performance_time_file = data_folder + r\"\\gs_performance_across_K_time\"\n",
    "# SS\n",
    "ss_performance_file = data_folder + r\"\\ss_performance_across_K\"\n",
    "ss_first_quantile_file = data_folder + r\"\\ss_first_quantile_across_K\"\n",
    "ss_last_quantile_file = data_folder + r\"\\ss_last_quantile_across_K\"\n",
    "ss_cog_performance_file = data_folder + r\"\\ss_cog_performance_across_K_time\"\n",
    "ss_variance_file = data_folder + r\"\\ss_variance_across_K\"\n",
    "ss_performance_time_file = data_folder + r\"\\ss_performance_across_K_time\"\n",
    "# SG\n",
    "sg_performance_file = data_folder + r\"\\sg_performance_across_K\"\n",
    "sg_first_quantile_file = data_folder + r\"\\sg_first_quantile_across_K\"\n",
    "sg_last_quantile_file = data_folder + r\"\\sg_last_quantile_across_K\"\n",
    "sg_cog_performance_file = data_folder + r\"\\sg_cog_performance_across_K_time\"\n",
    "sg_variance_file = data_folder + r\"\\sg_variance_across_K\"\n",
    "sg_performance_time_file = data_folder + r\"\\sg_performance_across_K_time\"\n",
    "\n",
    "# GG\n",
    "with open(gg_performance_file, 'rb') as infile:\n",
    "    gg_fitness = pickle.load(infile)\n",
    "with open(gg_first_quantile_file, 'rb') as infile:\n",
    "    gg_first = pickle.load(infile)\n",
    "with open(gg_last_quantile_file, 'rb') as infile:\n",
    "    gg_last = pickle.load(infile)\n",
    "with open(gg_cog_performance_file, 'rb') as infile:\n",
    "    gg_cog_fitness = pickle.load(infile)\n",
    "with open(gg_variance_file, 'rb') as infile:\n",
    "    gg_variance = pickle.load(infile)\n",
    "with open(gg_performance_time_file, 'rb') as infile:\n",
    "    gg_performance_time = pickle.load(infile)\n",
    "# GS\n",
    "with open(gs_performance_file, 'rb') as infile:\n",
    "    gs_fitness = pickle.load(infile)\n",
    "with open(gs_first_quantile_file, 'rb') as infile:\n",
    "    gs_first = pickle.load(infile)\n",
    "with open(gs_last_quantile_file, 'rb') as infile:\n",
    "    gs_last = pickle.load(infile)\n",
    "with open(gs_cog_performance_file, 'rb') as infile:\n",
    "    gs_cog_fitness = pickle.load(infile)\n",
    "with open(gs_variance_file, 'rb') as infile:\n",
    "    gs_variance = pickle.load(infile)\n",
    "with open(gs_performance_time_file, 'rb') as infile:\n",
    "    gs_performance_time = pickle.load(infile)\n",
    "# SS\n",
    "with open(ss_performance_file, 'rb') as infile:\n",
    "    ss_fitness = pickle.load(infile)\n",
    "with open(ss_first_quantile_file, 'rb') as infile:\n",
    "    ss_first = pickle.load(infile)\n",
    "with open(ss_last_quantile_file, 'rb') as infile:\n",
    "    ss_last = pickle.load(infile)\n",
    "with open(ss_cog_performance_file, 'rb') as infile:\n",
    "    ss_cog_fitness = pickle.load(infile)\n",
    "with open(ss_variance_file, 'rb') as infile:\n",
    "    ss_variance = pickle.load(infile)\n",
    "with open(ss_performance_time_file, 'rb') as infile:\n",
    "    ss_performance_time = pickle.load(infile)\n",
    "# SG\n",
    "with open(sg_performance_file, 'rb') as infile:\n",
    "    sg_fitness = pickle.load(infile)\n",
    "with open(sg_first_quantile_file, 'rb') as infile:\n",
    "    sg_first = pickle.load(infile)\n",
    "with open(sg_last_quantile_file, 'rb') as infile:\n",
    "    sg_last = pickle.load(infile)\n",
    "with open(sg_cog_performance_file, 'rb') as infile:\n",
    "    sg_cog_fitness = pickle.load(infile)\n",
    "with open(sg_variance_file, 'rb') as infile:\n",
    "    sg_variance = pickle.load(infile)\n",
    "with open(sg_performance_time_file, 'rb') as infile:\n",
    "    sg_performance_time = pickle.load(infile)"
   ],
   "metadata": {
    "collapsed": false,
    "ExecuteTime": {
     "end_time": "2023-07-11T09:07:27.266362300Z",
     "start_time": "2023-07-11T09:07:27.203360500Z"
    }
   }
  },
  {
   "cell_type": "code",
   "execution_count": 6,
   "outputs": [
    {
     "name": "stdout",
     "output_type": "stream",
     "text": [
      "(10, 400)\n",
      "[0.7152643586989593, 0.7050298222586862, 0.6940540032540344, 0.6859945114931795, 0.6763627077065751, 0.6699782461751644, 0.6600182947995531, 0.6531018845266701, 0.645362933810894, 0.636720321087895]\n"
     ]
    }
   ],
   "source": [
    "# Baseline: independent search\n",
    "baseline_folder = r\"E:\\data\\gst-0610-23\\MaxMin\\full_20\"\n",
    "g_performance_file = baseline_folder + r\"\\g_performance_across_K\"\n",
    "s_performance_file = baseline_folder + r\"\\s_performance_across_K\"\n",
    "# t_performance_file = data_folder + r\"\\t_performance_across_K\"\n",
    "\n",
    "g_first_quantile_file = baseline_folder + r\"\\g_first_quantile_across_K\"\n",
    "s_first_quantile_file = baseline_folder + r\"\\s_first_quantile_across_K\"\n",
    "# t_first_quantile_file = data_folder + r\"\\t_first_quantile_across_K\"\n",
    "\n",
    "g_last_quantile_file = baseline_folder + r\"\\g_last_quantile_across_K\"\n",
    "s_last_quantile_file = baseline_folder + r\"\\s_last_quantile_across_K\"\n",
    "# t_last_quantile_file = data_folder + r\"\\t_last_quantile_across_K\"\n",
    "\n",
    "g_cog_performance_file = baseline_folder + r\"\\g_cog_performance_across_K_time\"\n",
    "s_cog_performance_file = baseline_folder + r\"\\s_cog_performance_across_K_time\"\n",
    "# t_cog_performance_file = data_folder + r\"\\t_cog_performance_across_K_time\"\n",
    "\n",
    "g_variance_file = baseline_folder + r\"\\g_variance_across_K\"\n",
    "s_variance_file = baseline_folder + r\"\\s_variance_across_K\"\n",
    "# t_variance_file = data_folder + r\"\\t_variance_across_K\"\n",
    "\n",
    "g_performance_time_file = baseline_folder + r\"\\g_performance_across_K_time\"\n",
    "s_performance_time_file = baseline_folder + r\"\\s_performance_across_K_time\"\n",
    "# t_performance_time_file = data_folder + r\"\\t_performance_across_K_time\"\n",
    "\n",
    "with open(g_performance_file, 'rb') as infile:\n",
    "    g_fitness = pickle.load(infile)\n",
    "with open(s_performance_file, 'rb') as infile:\n",
    "    s_fitness = pickle.load(infile)\n",
    "# with open(t_performance_file, 'rb') as infile:\n",
    "#     t_fitness = pickle.load(infile)\n",
    "\n",
    "with open(g_first_quantile_file, 'rb') as infile:\n",
    "    g_first = pickle.load(infile)\n",
    "with open(s_first_quantile_file, 'rb') as infile:\n",
    "    s_first = pickle.load(infile)\n",
    "# with open(t_first_quantile_file, 'rb') as infile:\n",
    "#     t_first = pickle.load(infile)\n",
    "\n",
    "with open(g_last_quantile_file, 'rb') as infile:\n",
    "    g_last = pickle.load(infile)\n",
    "with open(s_last_quantile_file, 'rb') as infile:\n",
    "    s_last = pickle.load(infile)\n",
    "# with open(t_last_quantile_file, 'rb') as infile:\n",
    "#     t_last = pickle.load(infile)\n",
    "\n",
    "with open(g_cog_performance_file, 'rb') as infile:\n",
    "    g_cog_fitness = pickle.load(infile)\n",
    "with open(s_cog_performance_file, 'rb') as infile:\n",
    "    s_cog_fitness = pickle.load(infile)\n",
    "# with open(t_performance_file, 'rb') as infile:\n",
    "#     t_cog_fitness = pickle.load(infile)\n",
    "\n",
    "with open(g_variance_file, 'rb') as infile:\n",
    "    g_variance = pickle.load(infile)\n",
    "with open(s_variance_file, 'rb') as infile:\n",
    "    s_variance = pickle.load(infile)\n",
    "# with open(t_variance_file, 'rb') as infile:\n",
    "#     t_variance = pickle.load(infile)\n",
    "\n",
    "with open(g_performance_time_file, 'rb') as infile:\n",
    "    g_performance_time = pickle.load(infile)\n",
    "with open(s_performance_time_file, 'rb') as infile:\n",
    "    s_performance_time = pickle.load(infile)\n",
    "# with open(t_performance_time_file, 'rb') as infile:\n",
    "#     t_performance_time = pickle.load(infile)\n",
    "print(np.array(g_performance_time).shape)\n",
    "print(g_fitness)"
   ],
   "metadata": {
    "collapsed": false,
    "ExecuteTime": {
     "end_time": "2023-07-11T09:07:43.230910900Z",
     "start_time": "2023-07-11T09:07:43.209911100Z"
    }
   }
  },
  {
   "cell_type": "code",
   "execution_count": 7,
   "outputs": [
    {
     "name": "stderr",
     "output_type": "stream",
     "text": [
      "<ipython-input-7-505f5f2558c6>:8: UserWarning: color is redundantly defined by the 'color' keyword argument and the fmt string \"k-\" (-> color='k'). The keyword argument will take precedence.\n",
      "  plt.plot(x, ss_fitness, \"k-\", label=\"SS\", color=nature_orange)\n",
      "<ipython-input-7-505f5f2558c6>:9: UserWarning: color is redundantly defined by the 'color' keyword argument and the fmt string \"k-\" (-> color='k'). The keyword argument will take precedence.\n",
      "  plt.plot(x, gs_fitness, \"k-\", label=\"GS\", color=nature_green)\n",
      "<ipython-input-7-505f5f2558c6>:10: UserWarning: color is redundantly defined by the 'color' keyword argument and the fmt string \"k-\" (-> color='k'). The keyword argument will take precedence.\n",
      "  plt.plot(x, s_fitness, \"k-\", label=\"S\", color=nature_blue)\n"
     ]
    },
    {
     "data": {
      "text/plain": "<Figure size 432x288 with 1 Axes>",
      "image/png": "[encoded data removed]"
     },
     "metadata": {
      "needs_background": "light"
     },
     "output_type": "display_data"
    }
   ],
   "source": [
    "# S Fitness\n",
    "x = range(len(gs_fitness))\n",
    "fig, ax = plt.subplots()\n",
    "ax.spines[\"left\"].set_linewidth(1.5)\n",
    "ax.spines[\"right\"].set_linewidth(1.5)\n",
    "ax.spines[\"top\"].set_linewidth(1.5)\n",
    "ax.spines[\"bottom\"].set_linewidth(1.5)\n",
    "plt.plot(x, ss_fitness, \"k-\", label=\"SS\", color=nature_orange)\n",
    "plt.plot(x, gs_fitness, \"k-\", label=\"GS\", color=nature_green)\n",
    "plt.plot(x, s_fitness, \"k-\", label=\"S\", color=nature_blue)\n",
    "plt.xlabel('K', fontweight='bold', fontsize=12)\n",
    "plt.ylabel('Performance', fontweight='bold', fontsize=12)\n",
    "plt.xticks(x)\n",
    "plt.legend(frameon=False, ncol=1, fontsize=12)\n",
    "plt.savefig(data_folder + r\"\\S_performance.png\", transparent=True, dpi=300)\n",
    "plt.show()\n",
    "# plt.clf()"
   ],
   "metadata": {
    "collapsed": false,
    "ExecuteTime": {
     "end_time": "2023-07-11T09:07:44.399906200Z",
     "start_time": "2023-07-11T09:07:44.010903900Z"
    }
   }
  },
  {
   "cell_type": "code",
   "execution_count": 8,
   "outputs": [
    {
     "name": "stderr",
     "output_type": "stream",
     "text": [
      "<ipython-input-8-39bf4aba1a16>:8: UserWarning: color is redundantly defined by the 'color' keyword argument and the fmt string \"k-\" (-> color='k'). The keyword argument will take precedence.\n",
      "  plt.plot(x, gg_fitness, \"k-\", label=\"GG\", color=nature_orange)\n",
      "<ipython-input-8-39bf4aba1a16>:9: UserWarning: color is redundantly defined by the 'color' keyword argument and the fmt string \"k-\" (-> color='k'). The keyword argument will take precedence.\n",
      "  plt.plot(x, sg_fitness, \"k-\", label=\"SG\", color=nature_green)\n",
      "<ipython-input-8-39bf4aba1a16>:10: UserWarning: color is redundantly defined by the 'color' keyword argument and the fmt string \"k-\" (-> color='k'). The keyword argument will take precedence.\n",
      "  plt.plot(x, g_fitness, \"k-\", label=\"G\", color=nature_blue)\n"
     ]
    },
    {
     "data": {
      "text/plain": "<Figure size 432x288 with 1 Axes>",
      "image/png": "[encoded data removed]"
     },
     "metadata": {
      "needs_background": "light"
     },
     "output_type": "display_data"
    }
   ],
   "source": [
    "# G Fitness\n",
    "x = range(len(gs_fitness))\n",
    "fig, ax = plt.subplots()\n",
    "ax.spines[\"left\"].set_linewidth(1.5)\n",
    "ax.spines[\"right\"].set_linewidth(1.5)\n",
    "ax.spines[\"top\"].set_linewidth(1.5)\n",
    "ax.spines[\"bottom\"].set_linewidth(1.5)\n",
    "plt.plot(x, gg_fitness, \"k-\", label=\"GG\", color=nature_orange)\n",
    "plt.plot(x, sg_fitness, \"k-\", label=\"SG\", color=nature_green)\n",
    "plt.plot(x, g_fitness, \"k-\", label=\"G\", color=nature_blue)\n",
    "plt.xlabel('K', fontweight='bold', fontsize=12)\n",
    "plt.ylabel('Performance', fontweight='bold', fontsize=12)\n",
    "plt.xticks(x)\n",
    "plt.legend(frameon=False, ncol=1, fontsize=12)\n",
    "plt.savefig(data_folder + r\"\\G_performance.png\", transparent=True, dpi=300)\n",
    "plt.show()\n",
    "# plt.clf()"
   ],
   "metadata": {
    "collapsed": false,
    "ExecuteTime": {
     "end_time": "2023-07-11T09:07:45.683764800Z",
     "start_time": "2023-07-11T09:07:45.386107900Z"
    }
   }
  },
  {
   "cell_type": "code",
   "execution_count": 9,
   "outputs": [
    {
     "name": "stderr",
     "output_type": "stream",
     "text": [
      "<ipython-input-9-e955180bf6d4>:8: UserWarning: color is redundantly defined by the 'color' keyword argument and the fmt string \"k-\" (-> color='k'). The keyword argument will take precedence.\n",
      "  plt.plot(x, gg_variance, \"k-\", label=\"GG\", color=nature_orange)\n",
      "<ipython-input-9-e955180bf6d4>:9: UserWarning: color is redundantly defined by the 'color' keyword argument and the fmt string \"k-\" (-> color='k'). The keyword argument will take precedence.\n",
      "  plt.plot(x, sg_variance, \"k-\", label=\"SG\", color=nature_green)\n",
      "<ipython-input-9-e955180bf6d4>:10: UserWarning: color is redundantly defined by the 'color' keyword argument and the fmt string \"k-\" (-> color='k'). The keyword argument will take precedence.\n",
      "  plt.plot(x, g_variance, \"k-\", label=\"G\", color=nature_blue)\n"
     ]
    },
    {
     "data": {
      "text/plain": "<Figure size 432x288 with 1 Axes>",
      "image/png": "[encoded data removed]"
     },
     "metadata": {
      "needs_background": "light"
     },
     "output_type": "display_data"
    }
   ],
   "source": [
    "# GST Variance\n",
    "x = range(len(g_variance))\n",
    "fig, ax = plt.subplots()\n",
    "ax.spines[\"left\"].set_linewidth(1.5)\n",
    "ax.spines[\"right\"].set_linewidth(1.5)\n",
    "ax.spines[\"top\"].set_linewidth(1.5)\n",
    "ax.spines[\"bottom\"].set_linewidth(1.5)\n",
    "plt.plot(x, gg_variance, \"k-\", label=\"GG\", color=nature_orange)\n",
    "plt.plot(x, sg_variance, \"k-\", label=\"SG\", color=nature_green)\n",
    "plt.plot(x, g_variance, \"k-\", label=\"G\", color=nature_blue)\n",
    "# plt.plot(x, t_variance, \"k-\", label=\"T\", color=nature_orange)\n",
    "\n",
    "plt.xlabel('K', fontweight='bold', fontsize=12)\n",
    "plt.ylabel('Variance', fontweight='bold', fontsize=12)\n",
    "plt.xticks(x)\n",
    "plt.legend(frameon=False, ncol=1, fontsize=12)\n",
    "plt.savefig(data_folder + r\"\\G_variance.png\", transparent=True, dpi=300)\n",
    "plt.show()\n",
    "# plt.clf()"
   ],
   "metadata": {
    "collapsed": false,
    "ExecuteTime": {
     "end_time": "2023-07-11T09:07:46.835310200Z",
     "start_time": "2023-07-11T09:07:46.515017Z"
    }
   }
  },
  {
   "cell_type": "code",
   "execution_count": null,
   "outputs": [],
   "source": [
    "# Assess the time dimension\n",
    "x = range(len(gg_performance_time[0]))\n",
    "fig, ax = plt.subplots()\n",
    "ax.spines[\"left\"].set_linewidth(1.5)\n",
    "ax.spines[\"right\"].set_linewidth(1.5)\n",
    "ax.spines[\"top\"].set_linewidth(1.5)\n",
    "ax.spines[\"bottom\"].set_linewidth(1.5)\n",
    "plt.plot(x, gg_performance_time[0], \"k-\", label=\"K=0\", color=morandi_green)\n",
    "plt.plot(x, gg_performance_time[1], \"k-\", label=\"K=1\", color=morandi_orange)\n",
    "plt.plot(x, gg_performance_time[2], \"k-\", label=\"K=2\", color=morandi_red)\n",
    "plt.plot(x, gg_performance_time[3], \"k-\", label=\"K=3\", color=morandi_purple)\n",
    "plt.plot(x, gg_performance_time[-1], \"k-\", label=\"K=9\", color=deep_grey)\n",
    "plt.xlabel('K', fontweight='bold', fontsize=12)\n",
    "plt.ylabel('Performance', fontweight='bold', fontsize=12)\n",
    "# plt.xticks(x)\n",
    "plt.legend(frameon=False, ncol=1, fontsize=12)\n",
    "plt.savefig(data_folder + r\"\\GG_performance_time.png\", transparent=True, dpi=300)\n",
    "plt.show()\n",
    "# plt.clf()"
   ],
   "metadata": {
    "collapsed": false
   }
  },
  {
   "cell_type": "code",
   "execution_count": null,
   "outputs": [],
   "source": [
    "# Assess the time dimension\n",
    "x = range(len(sg_performance_time[0]))\n",
    "fig, ax = plt.subplots()\n",
    "ax.spines[\"left\"].set_linewidth(1.5)\n",
    "ax.spines[\"right\"].set_linewidth(1.5)\n",
    "ax.spines[\"top\"].set_linewidth(1.5)\n",
    "ax.spines[\"bottom\"].set_linewidth(1.5)\n",
    "plt.plot(x, sg_performance_time[0], \"k-\", label=\"K=0\", color=morandi_green)\n",
    "plt.plot(x, sg_performance_time[1], \"k-\", label=\"K=1\", color=morandi_orange)\n",
    "plt.plot(x, sg_performance_time[2], \"k-\", label=\"K=2\", color=morandi_red)\n",
    "plt.plot(x, sg_performance_time[3], \"k-\", label=\"K=3\", color=morandi_purple)\n",
    "plt.plot(x, sg_performance_time[-1], \"k-\", label=\"K=9\", color=deep_grey)\n",
    "plt.xlabel('K', fontweight='bold', fontsize=12)\n",
    "plt.ylabel('Performance', fontweight='bold', fontsize=12)\n",
    "# plt.xticks(x)\n",
    "plt.legend(frameon=False, ncol=1, fontsize=12)\n",
    "plt.savefig(data_folder + r\"\\SG_performance_time.png\", transparent=True, dpi=300)\n",
    "plt.show()\n",
    "# plt.clf()"
   ],
   "metadata": {
    "collapsed": false
   }
  },
  {
   "cell_type": "code",
   "execution_count": null,
   "outputs": [],
   "source": [
    "# Assess the time dimension\n",
    "x = range(len(gs_performance_time[0]))\n",
    "fig, ax = plt.subplots()\n",
    "ax.spines[\"left\"].set_linewidth(1.5)\n",
    "ax.spines[\"right\"].set_linewidth(1.5)\n",
    "ax.spines[\"top\"].set_linewidth(1.5)\n",
    "ax.spines[\"bottom\"].set_linewidth(1.5)\n",
    "plt.plot(range(len(s_performance_time[-1])), s_performance_time[0], \"k--\", label=\"K=0\", color=deep_grey)\n",
    "plt.plot(x, gs_performance_time[0], \"k-\", label=\"K=0\", color=morandi_green)\n",
    "plt.plot(x, gs_performance_time[1], \"k-\", label=\"K=1\", color=morandi_orange)\n",
    "plt.plot(x, gs_performance_time[2], \"k-\", label=\"K=2\", color=morandi_red)\n",
    "plt.plot(x, gs_performance_time[3], \"k-\", label=\"K=3\", color=morandi_purple)\n",
    "plt.plot(x, gs_performance_time[-1], \"k-\", label=\"K=9\", color=deep_grey)\n",
    "plt.xlabel('K', fontweight='bold', fontsize=12)\n",
    "plt.ylabel('Performance', fontweight='bold', fontsize=12)\n",
    "# plt.xticks(x)\n",
    "plt.legend(frameon=False, ncol=1, fontsize=12)\n",
    "plt.savefig(data_folder + r\"\\GS_performance_time.png\", transparent=True, dpi=300)\n",
    "plt.show()\n",
    "# plt.clf()"
   ],
   "metadata": {
    "collapsed": false
   }
  },
  {
   "cell_type": "code",
   "execution_count": null,
   "outputs": [],
   "source": [
    "# Assess the time dimension\n",
    "x = range(len(ss_performance_time[0]))\n",
    "fig, ax = plt.subplots()\n",
    "ax.spines[\"left\"].set_linewidth(1.5)\n",
    "ax.spines[\"right\"].set_linewidth(1.5)\n",
    "ax.spines[\"top\"].set_linewidth(1.5)\n",
    "ax.spines[\"bottom\"].set_linewidth(1.5)\n",
    "plt.plot(x, ss_performance_time[0], \"k-\", label=\"K=0\", color=morandi_green)\n",
    "plt.plot(x, ss_performance_time[1], \"k-\", label=\"K=1\", color=morandi_orange)\n",
    "plt.plot(x, ss_performance_time[2], \"k-\", label=\"K=2\", color=morandi_red)\n",
    "plt.plot(x, ss_performance_time[3], \"k-\", label=\"K=3\", color=morandi_purple)\n",
    "plt.plot(x, ss_performance_time[-1], \"k-\", label=\"K=9\", color=deep_grey)\n",
    "plt.xlabel('K', fontweight='bold', fontsize=12)\n",
    "plt.ylabel('Performance', fontweight='bold', fontsize=12)\n",
    "# plt.xticks(x)\n",
    "plt.legend(frameon=False, ncol=1, fontsize=12)\n",
    "plt.savefig(data_folder + r\"\\SS_performance_time.png\", transparent=True, dpi=300)\n",
    "plt.show()\n",
    "# plt.clf()"
   ],
   "metadata": {
    "collapsed": false
   }
  },
  {
   "cell_type": "code",
   "execution_count": null,
   "outputs": [],
   "source": [],
   "metadata": {
    "collapsed": false
   }
  }
 ],
 "metadata": {
  "kernelspec": {
   "display_name": "Python 3",
   "language": "python",
   "name": "python3"
  },
  "language_info": {
   "codemirror_mode": {
    "name": "ipython",
    "version": 2
   },
   "file_extension": ".py",
   "mimetype": "text/x-python",
   "name": "python",
   "nbconvert_exporter": "python",
   "pygments_lexer": "ipython2",
   "version": "2.7.6"
  }
 },
 "nbformat": 4,
 "nbformat_minor": 0
}
