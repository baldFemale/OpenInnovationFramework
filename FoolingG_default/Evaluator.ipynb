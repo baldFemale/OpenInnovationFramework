{
 "cells": [
  {
   "cell_type": "code",
   "execution_count": 1,
   "metadata": {
    "collapsed": true,
    "ExecuteTime": {
     "end_time": "2023-06-13T12:36:14.124772200Z",
     "start_time": "2023-06-13T12:36:11.383107100Z"
    }
   },
   "outputs": [],
   "source": [
    "import matplotlib.pyplot as plt\n",
    "# plt.interactive(False)\n",
    "from scipy.stats import gaussian_kde\n",
    "from scipy.special import kl_div\n",
    "import numpy as np\n",
    "import pickle\n",
    "legend_properties = {'weight':'bold'}\n",
    "nus_blue = \"#003D7C\"\n",
    "nus_orange = \"#EF7C00\"\n",
    "# Nature three colors\n",
    "nature_orange = \"#F16C23\"\n",
    "nature_blue = \"#2B6A99\"\n",
    "nature_green = \"#1B7C3D\"\n",
    "# Morandi six colors\n",
    "morandi_blue = \"#046586\"\n",
    "morandi_green =  \"#28A9A1\"\n",
    "morandi_yellow = \"#C9A77C\"\n",
    "morandi_orange = \"#F4A016\"\n",
    "morandi_pink = \"#F6BBC6\"\n",
    "morandi_red = \"#E71F19\"\n",
    "morandi_purple = \"#B08BEB\"\n",
    "# Others\n",
    "shallow_grey = \"#D3D4D3\"\n",
    "deep_grey = \"#A6ABB6\"\n",
    "# Red and Blue\n",
    "strong_red = \"#A61C5D\"\n",
    "strong_blue = \"#1B64A4\"\n",
    "\n",
    "# Shallow-deep pair\n",
    "shallow_purple = \"#EAD7EA\"\n",
    "deep_purple = \"#BA9DB9\"\n",
    "shallow_cyan = \"#A9D5E0\"\n",
    "deep_cyan = \"#48C0BF\"\n",
    "shallow_blue = \"#B6DAEC\"\n",
    "deep_blue = \"#98CFE4\"\n",
    "shallow_pink = \"#F5E0E5\"\n",
    "deep_pink = \"#E5A7B6\"\n",
    "shallow_green = \"#C2DED0\"\n",
    "deep_green = \"#A5C6B1\"\n",
    "\n",
    "color_pairs = [[shallow_purple, deep_purple],  [shallow_green, deep_green],\n",
    "               [shallow_blue, deep_blue], [shallow_pink, deep_pink], [shallow_cyan, deep_cyan],\n",
    "               [shallow_grey, deep_grey]]\n",
    "morandi_colors = [morandi_blue, morandi_green, morandi_yellow, morandi_orange, morandi_pink, morandi_red, morandi_purple]\n"
   ]
  },
  {
   "cell_type": "code",
   "execution_count": 2,
   "outputs": [
    {
     "ename": "FileNotFoundError",
     "evalue": "[Errno 2] No such file or directory: 'E:\\\\data\\\\gst-0610\\\\Wander\\\\FoolingT_default\\\\s_performance_across_K_16'",
     "output_type": "error",
     "traceback": [
      "\u001B[1;31m---------------------------------------------------------------------------\u001B[0m",
      "\u001B[1;31mFileNotFoundError\u001B[0m                         Traceback (most recent call last)",
      "\u001B[1;32m<ipython-input-2-f18a56e09ea2>\u001B[0m in \u001B[0;36m<module>\u001B[1;34m\u001B[0m\n\u001B[0;32m     29\u001B[0m \u001B[0ms4_last_quantile_file\u001B[0m \u001B[1;33m=\u001B[0m \u001B[0mdata_folder\u001B[0m \u001B[1;33m+\u001B[0m \u001B[1;34mr\"\\s_last_quantile_across_K_40\"\u001B[0m\u001B[1;33m\u001B[0m\u001B[1;33m\u001B[0m\u001B[0m\n\u001B[0;32m     30\u001B[0m \u001B[1;33m\u001B[0m\u001B[0m\n\u001B[1;32m---> 31\u001B[1;33m \u001B[1;32mwith\u001B[0m \u001B[0mopen\u001B[0m\u001B[1;33m(\u001B[0m\u001B[0ms1_performance_file\u001B[0m\u001B[1;33m,\u001B[0m \u001B[1;34m'rb'\u001B[0m\u001B[1;33m)\u001B[0m \u001B[1;32mas\u001B[0m \u001B[0minfile\u001B[0m\u001B[1;33m:\u001B[0m\u001B[1;33m\u001B[0m\u001B[1;33m\u001B[0m\u001B[0m\n\u001B[0m\u001B[0;32m     32\u001B[0m     \u001B[0ms1_fitness\u001B[0m \u001B[1;33m=\u001B[0m \u001B[0mpickle\u001B[0m\u001B[1;33m.\u001B[0m\u001B[0mload\u001B[0m\u001B[1;33m(\u001B[0m\u001B[0minfile\u001B[0m\u001B[1;33m)\u001B[0m\u001B[1;33m\u001B[0m\u001B[1;33m\u001B[0m\u001B[0m\n\u001B[0;32m     33\u001B[0m \u001B[1;32mwith\u001B[0m \u001B[0mopen\u001B[0m\u001B[1;33m(\u001B[0m\u001B[0ms1_cog_performance_file\u001B[0m\u001B[1;33m,\u001B[0m \u001B[1;34m'rb'\u001B[0m\u001B[1;33m)\u001B[0m \u001B[1;32mas\u001B[0m \u001B[0minfile\u001B[0m\u001B[1;33m:\u001B[0m\u001B[1;33m\u001B[0m\u001B[1;33m\u001B[0m\u001B[0m\n",
      "\u001B[1;31mFileNotFoundError\u001B[0m: [Errno 2] No such file or directory: 'E:\\\\data\\\\gst-0610\\\\Wander\\\\FoolingT_default\\\\s_performance_across_K_16'"
     ]
    }
   ],
   "source": [
    "data_folder = r\"E:\\data\\gst-0610\\Wander\\FoolingT_default\"\n",
    "\n",
    "s1_performance_file = data_folder + r\"\\s_performance_across_K_16\"\n",
    "s1_cog_performance_file = data_folder + r\"\\s_cog_performance_across_K_time_16\"\n",
    "s1_variance_file = data_folder + r\"\\s_variance_across_K_16\"\n",
    "s1_performance_time_file = data_folder + r\"\\s_performance_across_K_time_16\"\n",
    "s1_first_quantile_file = data_folder + r\"\\s_first_quantile_across_K_16\"\n",
    "s1_last_quantile_file = data_folder + r\"\\s_last_quantile_across_K_16\"\n",
    "\n",
    "s2_performance_file = data_folder + r\"\\s_performance_across_K_24\"\n",
    "s2_cog_performance_file = data_folder + r\"\\s_cog_performance_across_K_time_24\"\n",
    "s2_variance_file = data_folder + r\"\\s_variance_across_K_24\"\n",
    "s2_performance_time_file = data_folder + r\"\\s_performance_across_K_time_24\"\n",
    "s2_first_quantile_file = data_folder + r\"\\s_first_quantile_across_K_24\"\n",
    "s2_last_quantile_file = data_folder + r\"\\s_last_quantile_across_K_24\"\n",
    "\n",
    "s3_performance_file = data_folder + r\"\\s_performance_across_K_32\"\n",
    "s3_cog_performance_file = data_folder + r\"\\s_cog_performance_across_K_time_32\"\n",
    "s3_variance_file = data_folder + r\"\\s_variance_across_K_32\"\n",
    "s3_performance_time_file = data_folder + r\"\\s_performance_across_K_time_32\"\n",
    "s3_first_quantile_file = data_folder + r\"\\s_first_quantile_across_K_32\"\n",
    "s3_last_quantile_file = data_folder + r\"\\s_last_quantile_across_K_32\"\n",
    "\n",
    "s4_performance_file = data_folder + r\"\\s_performance_across_K_40\"\n",
    "s4_cog_performance_file = data_folder + r\"\\s_cog_performance_across_K_time_40\"\n",
    "s4_variance_file = data_folder + r\"\\s_variance_across_K_40\"\n",
    "s4_performance_time_file = data_folder + r\"\\s_performance_across_K_time_40\"\n",
    "s4_first_quantile_file = data_folder + r\"\\s_first_quantile_across_K_40\"\n",
    "s4_last_quantile_file = data_folder + r\"\\s_last_quantile_across_K_40\"\n",
    "\n",
    "with open(s1_performance_file, 'rb') as infile:\n",
    "    s1_fitness = pickle.load(infile)\n",
    "with open(s1_cog_performance_file, 'rb') as infile:\n",
    "    s1_cog_fitness = pickle.load(infile)\n",
    "with open(s1_variance_file, 'rb') as infile:\n",
    "    s1_variance = pickle.load(infile)\n",
    "with open(s1_performance_time_file, 'rb') as infile:\n",
    "    s1_performance_time = pickle.load(infile)\n",
    "with open(s1_first_quantile_file, 'rb') as infile:\n",
    "    s1_first = pickle.load(infile)\n",
    "with open(s1_last_quantile_file, 'rb') as infile:\n",
    "    s1_last = pickle.load(infile)\n",
    "\n",
    "with open(s2_performance_file, 'rb') as infile:\n",
    "    s2_fitness = pickle.load(infile)\n",
    "with open(s2_cog_performance_file, 'rb') as infile:\n",
    "    s2_cog_fitness = pickle.load(infile)\n",
    "with open(s2_variance_file, 'rb') as infile:\n",
    "    s2_variance = pickle.load(infile)\n",
    "with open(s2_performance_time_file, 'rb') as infile:\n",
    "    s2_performance_time = pickle.load(infile)\n",
    "with open(s2_first_quantile_file, 'rb') as infile:\n",
    "    s2_first = pickle.load(infile)\n",
    "with open(s2_last_quantile_file, 'rb') as infile:\n",
    "    s2_last = pickle.load(infile)\n",
    "\n",
    "with open(s3_performance_file, 'rb') as infile:\n",
    "    s3_fitness = pickle.load(infile)\n",
    "with open(s3_cog_performance_file, 'rb') as infile:\n",
    "    s3_cog_fitness = pickle.load(infile)\n",
    "with open(s3_variance_file, 'rb') as infile:\n",
    "    s3_variance = pickle.load(infile)\n",
    "with open(s3_performance_time_file, 'rb') as infile:\n",
    "    s3_performance_time = pickle.load(infile)\n",
    "with open(s3_first_quantile_file, 'rb') as infile:\n",
    "    s3_first = pickle.load(infile)\n",
    "with open(s3_last_quantile_file, 'rb') as infile:\n",
    "    s3_last = pickle.load(infile)\n",
    "\n",
    "with open(s4_performance_file, 'rb') as infile:\n",
    "    s4_fitness = pickle.load(infile)\n",
    "with open(s4_cog_performance_file, 'rb') as infile:\n",
    "    s4_cog_fitness = pickle.load(infile)\n",
    "with open(s4_variance_file, 'rb') as infile:\n",
    "    s4_variance = pickle.load(infile)\n",
    "with open(s4_performance_time_file, 'rb') as infile:\n",
    "    s4_performance_time = pickle.load(infile)\n",
    "with open(s4_first_quantile_file, 'rb') as infile:\n",
    "    s4_first = pickle.load(infile)\n",
    "with open(s4_last_quantile_file, 'rb') as infile:\n",
    "    s4_last = pickle.load(infile)"
   ],
   "metadata": {
    "collapsed": false,
    "ExecuteTime": {
     "end_time": "2023-06-13T12:36:14.361510700Z",
     "start_time": "2023-06-13T12:36:14.130797900Z"
    }
   }
  },
  {
   "cell_type": "code",
   "execution_count": null,
   "outputs": [],
   "source": [
    "# GST Fitness\n",
    "x = range(len(s1_fitness))\n",
    "fig, ax = plt.subplots()\n",
    "ax.spines[\"left\"].set_linewidth(1.5)\n",
    "ax.spines[\"right\"].set_linewidth(1.5)\n",
    "ax.spines[\"top\"].set_linewidth(1.5)\n",
    "ax.spines[\"bottom\"].set_linewidth(1.5)\n",
    "plt.plot(x, s1_fitness, \"k-\", label=\"S16\", color=nature_blue)\n",
    "plt.plot(x, s2_fitness, \"k-\", label=\"S24\", color=nature_green)\n",
    "plt.plot(x, s3_fitness, \"k-\", label=\"S32\", color=nature_orange)\n",
    "plt.plot(x, s4_fitness, \"k-\", label=\"S40\", color=morandi_pink)\n",
    "\n",
    "plt.xlabel('K', fontweight='bold', fontsize=12)\n",
    "plt.ylabel('Performance', fontweight='bold', fontsize=12)\n",
    "# plt.xticks(x)\n",
    "plt.legend(frameon=False, ncol=1, fontsize=12)\n",
    "plt.savefig(data_folder + r\"\\Ss_performance.png\", transparent=True, dpi=300)\n",
    "plt.show()\n",
    "# plt.clf()"
   ],
   "metadata": {
    "collapsed": false,
    "ExecuteTime": {
     "start_time": "2023-06-13T12:36:14.359511700Z"
    }
   }
  },
  {
   "cell_type": "code",
   "execution_count": null,
   "outputs": [],
   "source": [
    "# GST Variance\n",
    "x = range(len(s1_variance))\n",
    "fig, ax = plt.subplots()\n",
    "ax.spines[\"left\"].set_linewidth(1.5)\n",
    "ax.spines[\"right\"].set_linewidth(1.5)\n",
    "ax.spines[\"top\"].set_linewidth(1.5)\n",
    "ax.spines[\"bottom\"].set_linewidth(1.5)\n",
    "plt.plot(x, s1_variance, \"k-\", label=\"S28\", color=nature_blue)\n",
    "plt.plot(x, s2_variance, \"k-\", label=\"S32\", color=nature_green)\n",
    "plt.plot(x, s3_variance, \"k-\", label=\"S36\", color=nature_orange)\n",
    "plt.plot(x, s4_variance, \"k-\", label=\"S40\", color=morandi_pink)\n",
    "\n",
    "plt.xlabel('K', fontweight='bold', fontsize=12)\n",
    "plt.ylabel('Variance', fontweight='bold', fontsize=12)\n",
    "# plt.xticks(x)\n",
    "plt.legend(frameon=False, ncol=1, fontsize=12)\n",
    "plt.savefig(data_folder + r\"\\Ss_variance.png\", transparent=True, dpi=300)\n",
    "plt.show()\n",
    "# plt.clf()"
   ],
   "metadata": {
    "collapsed": false,
    "ExecuteTime": {
     "start_time": "2023-06-13T12:36:14.361510700Z"
    }
   }
  },
  {
   "cell_type": "code",
   "execution_count": null,
   "outputs": [],
   "source": [
    "# GST First Quantile Fitness\n",
    "x = range(len(s1_first))\n",
    "fig, ax = plt.subplots()\n",
    "ax.spines[\"left\"].set_linewidth(1.5)\n",
    "ax.spines[\"right\"].set_linewidth(1.5)\n",
    "ax.spines[\"top\"].set_linewidth(1.5)\n",
    "ax.spines[\"bottom\"].set_linewidth(1.5)\n",
    "plt.plot(x, s1_first, \"k-\", label=\"S16\", color=nature_blue)\n",
    "plt.plot(x, s1_fitness, \"k--\", label=\"S16\", color=nature_blue)\n",
    "plt.plot(x, s1_last, \"k:\", label=\"S16\", color=nature_blue)\n",
    "plt.plot(x, s2_first, \"k-\", label=\"S24\", color=nature_green)\n",
    "plt.plot(x, s3_first, \"k-\", label=\"S32\", color=nature_orange)\n",
    "plt.plot(x, s4_first, \"k-\", label=\"S40\", color=morandi_pink)\n",
    "\n",
    "plt.xlabel('K', fontweight='bold', fontsize=12)\n",
    "plt.ylabel('Performance', fontweight='bold', fontsize=12)\n",
    "# plt.xticks(x)\n",
    "plt.legend(frameon=False, ncol=1, fontsize=12)\n",
    "plt.savefig(data_folder + r\"\\Ss_first_quantile.png\", transparent=True, dpi=300)\n",
    "plt.show()\n",
    "# plt.clf()"
   ],
   "metadata": {
    "collapsed": false
   }
  },
  {
   "cell_type": "code",
   "execution_count": null,
   "outputs": [],
   "source": [
    "# GST Last Quantile Fitness\n",
    "x = range(len(s1_last))\n",
    "fig, ax = plt.subplots()\n",
    "ax.spines[\"left\"].set_linewidth(1.5)\n",
    "ax.spines[\"right\"].set_linewidth(1.5)\n",
    "ax.spines[\"top\"].set_linewidth(1.5)\n",
    "ax.spines[\"bottom\"].set_linewidth(1.5)\n",
    "plt.plot(x, s1_last, \"k-\", label=\"S16\", color=nature_blue)\n",
    "plt.plot(x, s2_last, \"k-\", label=\"S24\", color=nature_green)\n",
    "plt.plot(x, s3_last, \"k-\", label=\"S32\", color=nature_orange)\n",
    "plt.plot(x, s4_last, \"k-\", label=\"S40\", color=morandi_pink)\n",
    "\n",
    "plt.xlabel('K', fontweight='bold', fontsize=12)\n",
    "plt.ylabel('Performance', fontweight='bold', fontsize=12)\n",
    "# plt.xticks(x)\n",
    "plt.legend(frameon=False, ncol=1, fontsize=12)\n",
    "plt.savefig(data_folder + r\"\\Ss_last_quantile.png\", transparent=True, dpi=300)\n",
    "plt.show()\n",
    "# plt.clf()"
   ],
   "metadata": {
    "collapsed": false
   }
  },
  {
   "cell_type": "code",
   "execution_count": null,
   "outputs": [],
   "source": [],
   "metadata": {
    "collapsed": false
   }
  }
 ],
 "metadata": {
  "kernelspec": {
   "display_name": "Python 3",
   "language": "python",
   "name": "python3"
  },
  "language_info": {
   "codemirror_mode": {
    "name": "ipython",
    "version": 2
   },
   "file_extension": ".py",
   "mimetype": "text/x-python",
   "name": "python",
   "nbconvert_exporter": "python",
   "pygments_lexer": "ipython2",
   "version": "2.7.6"
  }
 },
 "nbformat": 4,
 "nbformat_minor": 0
}
