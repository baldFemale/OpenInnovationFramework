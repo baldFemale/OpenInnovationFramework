{
 "cells": [
  {
   "cell_type": "code",
   "execution_count": 1,
   "metadata": {
    "collapsed": true,
    "ExecuteTime": {
     "end_time": "2023-05-17T09:19:04.560970300Z",
     "start_time": "2023-05-17T09:19:02.764719Z"
    }
   },
   "outputs": [],
   "source": [
    "from Landscape import Landscape\n",
    "from CogLandscape import CogLandscape\n",
    "from BinaryLandscape import BinaryLandscape\n",
    "import matplotlib.pyplot as plt\n",
    "# plt.interactive(False)\n",
    "from scipy.stats import gaussian_kde\n",
    "from scipy.special import kl_div\n",
    "import numpy as np\n",
    "import pickle\n",
    "legend_properties = {'weight':'bold'}\n",
    "nus_blue = \"#003D7C\"\n",
    "nus_orange = \"#EF7C00\"\n",
    "# Nature three colors\n",
    "nature_orange = \"#F16C23\"\n",
    "nature_blue = \"#2B6A99\"\n",
    "nature_green = \"#1B7C3D\"\n",
    "# Morandi six colors\n",
    "morandi_blue = \"#046586\"\n",
    "morandi_green =  \"#28A9A1\"\n",
    "morandi_yellow = \"#C9A77C\"\n",
    "morandi_orange = \"#F4A016\"\n",
    "morandi_pink = \"#F6BBC6\"\n",
    "morandi_red = \"#E71F19\"\n",
    "morandi_purple = \"#B08BEB\"\n",
    "# Others\n",
    "shallow_grey = \"#D3D4D3\"\n",
    "deep_grey = \"#A6ABB6\"\n",
    "\n",
    "# Shallow-deep pair\n",
    "shallow_purple = \"#EAD7EA\"\n",
    "deep_purple = \"#BA9DB9\"\n",
    "shallow_cyan = \"#A9D5E0\"\n",
    "deep_cyan = \"#48C0BF\"\n",
    "shallow_blue = \"#B6DAEC\"\n",
    "deep_blue = \"#98CFE4\"\n",
    "shallow_pink = \"#F5E0E5\"\n",
    "deep_pink = \"#E5A7B6\"\n",
    "shallow_green = \"#C2DED0\"\n",
    "deep_green = \"#A5C6B1\"\n",
    "\n",
    "color_pairs = [[shallow_purple, deep_purple],  [shallow_green, deep_green],\n",
    "               [shallow_blue, deep_blue], [shallow_pink, deep_pink], [shallow_cyan, deep_cyan],\n",
    "               [shallow_grey, deep_grey]]\n",
    "morandi_colors = [morandi_blue, morandi_green, morandi_yellow, morandi_orange, morandi_pink, morandi_red, morandi_purple]\n"
   ]
  },
  {
   "cell_type": "code",
   "execution_count": 10,
   "outputs": [
    {
     "data": {
      "text/plain": "<Figure size 432x288 with 1 Axes>",
      "image/png": "[encoded data removed]"
     },
     "metadata": {
      "needs_background": "light"
     },
     "output_type": "display_data"
    }
   ],
   "source": [
    "data_folder = r\"E:\\data\\gst-0512\\Landscapes\"\n",
    "N = 9\n",
    "K = 0\n",
    "state_num = 4\n",
    "norm = \"None\"\n",
    "np.random.seed(1024)\n",
    "landscape = Landscape(N=N, K=K, state_num=state_num, norm=norm)  # 4^9\n",
    "cog_landscape = CogLandscape(landscape=landscape, expertise_domain=list(range(N)),\n",
    "                             expertise_representation=[\"A\", \"B\"], norm=norm)  # 2^9\n",
    "binary_landscape = BinaryLandscape(N=N, K=K, K_within=None, K_between=None, norm=norm)  # 2^9\n",
    "data = list(landscape.cache.values())\n",
    "cog_data = list(cog_landscape.cache.values())\n",
    "bin_data = list(binary_landscape.cache.values())\n",
    "# The density exceed 1 because the length of x-axis is 1 (too small); the area below the density curve must be 1\n",
    "bins = 40\n",
    "alpha = 0.4\n",
    "# Hist 1: Multi-State Landscape\n",
    "plt.hist(data, bins=bins, color=nature_orange, alpha=alpha, density=True)\n",
    "kde1 = gaussian_kde(data)\n",
    "x_values1 = np.linspace(min(data), max(data), bins)\n",
    "pdf1 = kde1(x_values1)\n",
    "plt.plot(x_values1, pdf1, '-', color=nature_orange,\n",
    "         label='Fine, $\\mu=${0}, $\\sigma=${1}'.format(round(sum(data) / len(data), 2), round(float(np.std(data)), 2)))\n",
    "\n",
    "# Hist 2: Cognitive Landscape\n",
    "plt.hist(cog_data, bins=bins, color=nature_green, alpha=alpha, density=True)\n",
    "kde2 = gaussian_kde(cog_data)\n",
    "x_values2 = np.linspace(min(cog_data), max(cog_data), bins)\n",
    "pdf2 = kde2(x_values2)\n",
    "plt.plot(x_values2, pdf2, '-', color=nature_green,\n",
    "         label='Coarse, $\\mu=${0}, $\\sigma=${1}'.format(round(sum(cog_data) / len(cog_data), 2), round(float(np.std(cog_data)), 2)))\n",
    "\n",
    "# Hist 3: Binary Landscape\n",
    "plt.hist(bin_data, bins=bins, alpha=alpha, color=nature_blue, density=True)\n",
    "kde3 = gaussian_kde(bin_data)\n",
    "x_values3 = np.linspace(min(bin_data), max(bin_data), bins)\n",
    "pdf3 = kde3(x_values3)\n",
    "plt.plot(x_values3, pdf3, '-', color=nature_blue,\n",
    "         label='Binary, $\\mu=${0}, $\\sigma=${1}'.format(round(sum(bin_data) / len(bin_data), 2), round(float(np.std(bin_data)), 2)))\n",
    "\n",
    "# Add labels and legend\n",
    "plt.xlabel('Values')\n",
    "plt.ylabel('Density')\n",
    "plt.xticks(np.arange(-0.2, 1.1, 0.1))\n",
    "# plt.title('Landscape Distribution')\n",
    "plt.legend(frameon=False, fontsize=10, loc='upper left')\n",
    "plt.savefig(data_folder + r\"\\{2}_N{0}_K{1}.png\".format(N, K, norm), transparent=True, dpi=300)\n",
    "# Show the plot\n",
    "plt.show()\n",
    "# plt.clf()"
   ],
   "metadata": {
    "collapsed": false,
    "ExecuteTime": {
     "end_time": "2023-05-17T12:08:07.047900600Z",
     "start_time": "2023-05-17T12:08:01.365504300Z"
    }
   }
  },
  {
   "cell_type": "code",
   "execution_count": null,
   "outputs": [],
   "source": [
    "# Sample data for two distributions\n",
    "data1 = [1, 2, 2, 3, 4, 4, 4, 5, 5, 6]\n",
    "data2 = [2, 3, 3, 4, 5, 5, 6, 6, 7, 8, 8, 8, 9, 9]\n",
    "\n",
    "# Estimating the probability density functions (PDFs)\n",
    "pdf1 = gaussian_kde(data1)\n",
    "pdf2 = gaussian_kde(data2)\n",
    "\n",
    "# Creating a common support grid\n",
    "x = np.linspace(min(min(data1), min(data2)), max(max(data1), max(data2)), num=100)\n",
    "\n",
    "# Evaluating the PDFs on the common support grid\n",
    "pdf1_vals = pdf1(x)\n",
    "pdf2_vals = pdf2(x)\n",
    "\n",
    "# Calculating the KL divergence\n",
    "kl_divergence = kl_div(pdf1_vals, pdf2_vals).sum()\n",
    "\n",
    "print(f\"KL Divergence: {kl_divergence}\")\n"
   ],
   "metadata": {
    "collapsed": false
   }
  },
  {
   "cell_type": "code",
   "execution_count": null,
   "outputs": [],
   "source": [
    "\n",
    "K_list = [0, 1, 2, 3, 4, 5, 6, 7, 8]\n",
    "expertise_domain_list = [18, 12, 6]\n",
    "for K in K_list:\n",
    "    index = 0\n",
    "    fig, ax = plt.subplots()\n",
    "    for expertise_domain in expertise_domain_list:\n",
    "        index += 1\n",
    "        data_file = data_folder + r\"\\landscape_K_{0}_E_{1}\".format(K, expertise_domain)\n",
    "        with open(data_file, \"rb\") as infile:\n",
    "            data = pickle.load(infile)\n",
    "        plt.hist(data[0], bins=40, color=color_pairs[index][0], alpha=0.5, density=True, label='K{0}_E_{1}'.format(K, expertise_domain))\n",
    "        kde_1 = gaussian_kde(data[0])\n",
    "        x_values_1 = np.linspace(min(data[0]), max(data[0]), 40)\n",
    "        pdf_1 = kde_1(x_values_1)\n",
    "        plt.plot(x_values_1, pdf_1, '-', color=color_pairs[index][0])\n",
    "        plt.hist(data[1], bins=40, color=color_pairs[index][1], alpha=0.5, density=True, label='Cog_K{0}_E_{1}'.format(K, expertise_domain))\n",
    "        kde_2 = gaussian_kde(data[1])\n",
    "        x_values_2 = np.linspace(min(data[1]), max(data[1]), 40)\n",
    "        pdf_2 = kde_2(x_values_2)\n",
    "        plt.plot(x_values_2, pdf_2, '-', color=color_pairs[index][1])\n",
    "    # Add labels and legend\n",
    "    plt.xlabel('Values')\n",
    "    plt.ylabel('Density')\n",
    "    plt.title('Landscape Distribution')\n",
    "    plt.legend(frameon=False, prop=legend_properties)\n",
    "    plt.savefig(data_folder + r\"\\landscape_distributionK_{0}.png\".format(K), transparent=True, dpi=300)\n",
    "    plt.show()\n",
    "    # plt.clf()"
   ],
   "metadata": {
    "collapsed": false
   }
  },
  {
   "cell_type": "code",
   "execution_count": null,
   "outputs": [],
   "source": [],
   "metadata": {
    "collapsed": false
   }
  }
 ],
 "metadata": {
  "kernelspec": {
   "display_name": "Python 3",
   "language": "python",
   "name": "python3"
  },
  "language_info": {
   "codemirror_mode": {
    "name": "ipython",
    "version": 2
   },
   "file_extension": ".py",
   "mimetype": "text/x-python",
   "name": "python",
   "nbconvert_exporter": "python",
   "pygments_lexer": "ipython2",
   "version": "2.7.6"
  }
 },
 "nbformat": 4,
 "nbformat_minor": 0
}
